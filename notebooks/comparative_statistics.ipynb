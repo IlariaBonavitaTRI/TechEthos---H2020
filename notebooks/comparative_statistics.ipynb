{
 "cells": [
  {
   "cell_type": "code",
   "execution_count": 1,
   "id": "3d3c051e",
   "metadata": {},
   "outputs": [],
   "source": [
    "import pandas as pd\n",
    "import numpy as np\n",
    "import re\n",
    "from matplotlib import pyplot as plt\n",
    "from wordcloud import WordCloud, STOPWORDS, ImageColorGenerator\n",
    "import copy\n",
    "from collections import Counter\n",
    "import plotly.express as px\n",
    "import plotly.graph_objects as go"
   ]
  },
  {
   "cell_type": "code",
   "execution_count": 11,
   "id": "0c0229c5",
   "metadata": {},
   "outputs": [
    {
     "name": "stdout",
     "output_type": "stream",
     "text": [
      "5.5.0\n"
     ]
    }
   ],
   "source": [
    "import plotly\n",
    "print(plotly.__version__)"
   ]
  },
  {
   "cell_type": "code",
   "execution_count": 2,
   "id": "772bc578",
   "metadata": {},
   "outputs": [],
   "source": [
    "PATH_MAIN =\"/Users/ilariabonavitacorp/Library/CloudStorage/OneDrive-TrilateralResearchLtd/trilateralResearch/TechEthos/media_analysis/analysis/\"\n",
    "PATH_KW = \"/Users/ilariabonavitacorp/Library/CloudStorage/OneDrive-TrilateralResearchLtd/trilateralResearch/TechEthos/media_analysis/resources/list_of_keywords_final.xlsx\"\n",
    "\n"
   ]
  },
  {
   "cell_type": "code",
   "execution_count": 3,
   "id": "9e2ce26b",
   "metadata": {},
   "outputs": [],
   "source": [
    "countries = ['at','cz','de','es','fr','gb','ie','it','nl','ro','rs','se','us']"
   ]
  },
  {
   "cell_type": "code",
   "execution_count": 4,
   "id": "f78e3648",
   "metadata": {},
   "outputs": [],
   "source": [
    "countries_dict ={ 'at':{'lang':'GERMAN_AT','lang_code':'de','name':'Austria'},\n",
    "                  'cz':{'lang':'CZECH','lang_code':'cs','name':'Czech Republic'},\n",
    "                  'de':{'lang':'GERMAN_DE','lang_code':'de','name':'Germany'},\n",
    "                  'es':{'lang':'SPANISH','lang_code':'es','name':'Spain'},\n",
    "                  'fr':{'lang':'FRENCH','lang_code':'fr','name':'France'},\n",
    "                  'gb':{'lang':'ENGLISH','lang_code':'en','name':'United Kindgdom'},\n",
    "                  'ie':{'lang':'ENGLISH','lang_code':'en','name':'Ireland'},\n",
    "                  'it':{'lang':'ITALIAN','lang_code':'it','name':'Italy'},\n",
    "                  'nl':{'lang':'DUTCH','lang_code':'nl','name':'The Netherlands'},\n",
    "                  'ro':{'lang':'ROMANIAN','lang_code':'ro','name':'Romania'},\n",
    "                  'rs':{'lang':'SERBIAN','lang_code':'rs','name':'Serbia'},\n",
    "                  'se':{'lang':'SWEDISH','lang_code':'se','name':'Sweden'},\n",
    "                  'us':{'lang':'ENGLISH','lang_code':'en','name':'United States'},\n",
    "                }"
   ]
  },
  {
   "cell_type": "code",
   "execution_count": 5,
   "id": "b4539bf1",
   "metadata": {},
   "outputs": [],
   "source": [
    "topics = ['climate', 'digitalxr','neurotech']"
   ]
  },
  {
   "cell_type": "code",
   "execution_count": 6,
   "id": "d804f611",
   "metadata": {
    "scrolled": true
   },
   "outputs": [
    {
     "ename": "NameError",
     "evalue": "name 'get_keywords_country_topic_list' is not defined",
     "output_type": "error",
     "traceback": [
      "\u001b[0;31m---------------------------------------------------------------------------\u001b[0m",
      "\u001b[0;31mNameError\u001b[0m                                 Traceback (most recent call last)",
      "\u001b[0;32m/var/folders/cw/z25zs10n3hz8h_wt72p3ybgc0000gq/T/ipykernel_4405/2237033438.py\u001b[0m in \u001b[0;36m<module>\u001b[0;34m\u001b[0m\n\u001b[1;32m      7\u001b[0m         \u001b[0mkw_dict\u001b[0m\u001b[0;34m[\u001b[0m\u001b[0mt\u001b[0m\u001b[0;34m]\u001b[0m \u001b[0;34m=\u001b[0m \u001b[0mpd\u001b[0m\u001b[0;34m.\u001b[0m\u001b[0mread_excel\u001b[0m\u001b[0;34m(\u001b[0m\u001b[0mPATH_KW\u001b[0m\u001b[0;34m,\u001b[0m\u001b[0msheet_name\u001b[0m\u001b[0;34m=\u001b[0m\u001b[0mt\u001b[0m\u001b[0;34m)\u001b[0m\u001b[0;34m\u001b[0m\u001b[0;34m\u001b[0m\u001b[0m\n\u001b[1;32m      8\u001b[0m \u001b[0;34m\u001b[0m\u001b[0m\n\u001b[0;32m----> 9\u001b[0;31m     topic_kw = {\"climate\": get_keywords_country_topic_list(kw_dict, 'climate', language),\n\u001b[0m\u001b[1;32m     10\u001b[0m \u001b[0;34m\u001b[0m\u001b[0m\n\u001b[1;32m     11\u001b[0m                 \u001b[0;34m\"digitalxr\"\u001b[0m \u001b[0;34m:\u001b[0m \u001b[0mget_keywords_country_topic_list\u001b[0m\u001b[0;34m(\u001b[0m\u001b[0mkw_dict\u001b[0m\u001b[0;34m,\u001b[0m \u001b[0;34m'digitalxr'\u001b[0m\u001b[0;34m,\u001b[0m \u001b[0mlanguage\u001b[0m\u001b[0;34m)\u001b[0m\u001b[0;34m,\u001b[0m\u001b[0;34m\u001b[0m\u001b[0;34m\u001b[0m\u001b[0m\n",
      "\u001b[0;31mNameError\u001b[0m: name 'get_keywords_country_topic_list' is not defined"
     ]
    }
   ],
   "source": [
    "# load the keywords per topic and country in a dict\n",
    "main_kw_dict = dict.fromkeys(countries_dict.keys())\n",
    "for c in countries_dict.keys():\n",
    "    language = countries_dict[c]['lang']\n",
    "    kw_dict = dict.fromkeys(topics + ['ethics'])\n",
    "    for t in topics + ['ethics']:\n",
    "        kw_dict[t] = pd.read_excel(PATH_KW,sheet_name=t)\n",
    "    \n",
    "    topic_kw = {\"climate\": get_keywords_country_topic_list(kw_dict, 'climate', language),\n",
    "            \n",
    "                \"digitalxr\" : get_keywords_country_topic_list(kw_dict, 'digitalxr', language),\n",
    "            \n",
    "                \"neurotech\" : get_keywords_country_topic_list(kw_dict, 'neurotech', language),\n",
    "           \n",
    "            \"ethics\" :  get_keywords_country_topic_list(kw_dict, 'ethics', language) }\n",
    "    \n",
    "    main_kw_dict[c] = topic_kw\n",
    "        "
   ]
  },
  {
   "cell_type": "code",
   "execution_count": 8,
   "id": "d174c985",
   "metadata": {},
   "outputs": [
    {
     "name": "stdout",
     "output_type": "stream",
     "text": [
      "at\n",
      "(173, 37)\n",
      "cz\n",
      "(203, 37)\n",
      "de\n",
      "(1195, 39)\n",
      "es\n",
      "(489, 39)\n",
      "fr\n",
      "(2091, 39)\n",
      "gb\n",
      "(1651, 45)\n",
      "ie\n",
      "(940, 39)\n",
      "it\n",
      "(1879, 45)\n",
      "nl\n",
      "(246, 45)\n",
      "ro\n",
      "(617, 48)\n",
      "rs\n",
      "(311, 37)\n",
      "se\n",
      "(334, 37)\n",
      "us\n",
      "(3423, 39)\n"
     ]
    }
   ],
   "source": [
    "dfs = []\n",
    "for c in countries:\n",
    "    PATH_FILE = PATH_MAIN + c + '/data_processed/df_all_final.xlsx'\n",
    "    df_tmp = pd.read_excel(PATH_FILE,index_col=0)\n",
    "    if c== 'ro':\n",
    "        df_tmp['kw_matches'] = df_tmp['kw_matches_merged']\n",
    "    print(c)\n",
    "    print(df_tmp.shape)\n",
    "    dfs.append(df_tmp)"
   ]
  },
  {
   "cell_type": "code",
   "execution_count": 9,
   "id": "dac2c441",
   "metadata": {},
   "outputs": [],
   "source": [
    "df_all = pd.concat(dfs)"
   ]
  },
  {
   "cell_type": "code",
   "execution_count": 10,
   "id": "e44715d3",
   "metadata": {},
   "outputs": [
    {
     "data": {
      "text/plain": [
       "(13552, 56)"
      ]
     },
     "execution_count": 10,
     "metadata": {},
     "output_type": "execute_result"
    }
   ],
   "source": [
    "df_all.shape"
   ]
  },
  {
   "cell_type": "code",
   "execution_count": 11,
   "id": "650c8efd",
   "metadata": {},
   "outputs": [],
   "source": [
    "df_all = df_all[df_all.columns[df_all.columns.isin(['topic', 'title', 'url', 'date', 'text', 'country', 'year', 'month',\n",
    "       'day', 'domain', 'section', 'kw_matches', 'kw_matches_count',\n",
    "                                                    'kw_unique', 'kw_unique_count','ethics_matches'])]]\n"
   ]
  },
  {
   "cell_type": "code",
   "execution_count": 12,
   "id": "e21680d9",
   "metadata": {},
   "outputs": [],
   "source": [
    "df_all = df_all.reset_index(drop=True)"
   ]
  },
  {
   "cell_type": "code",
   "execution_count": 13,
   "id": "82ceb915",
   "metadata": {},
   "outputs": [
    {
     "data": {
      "text/plain": [
       "14"
      ]
     },
     "execution_count": 13,
     "metadata": {},
     "output_type": "execute_result"
    }
   ],
   "source": [
    "len(df_all[(df_all['date'].dt.month==1) & (df_all['date'].dt.year==2020)])"
   ]
  },
  {
   "cell_type": "code",
   "execution_count": 302,
   "id": "705dd43b",
   "metadata": {},
   "outputs": [
    {
     "data": {
      "application/vnd.plotly.v1+json": {
       "config": {
        "plotlyServerURL": "https://plot.ly"
       },
       "data": [
        {
         "marker": {
          "color": "rgb(115, 175, 72)"
         },
         "name": "climate",
         "type": "bar",
         "x": [
          "2020-01-01",
          "2020-02-01",
          "2020-03-01",
          "2020-04-01",
          "2020-05-01",
          "2020-06-01",
          "2020-07-01",
          "2020-08-01",
          "2020-09-01",
          "2020-10-01",
          "2020-11-01",
          "2020-12-01",
          "2021-01-01",
          "2021-02-01",
          "2021-03-01",
          "2021-04-01",
          "2021-05-01",
          "2021-06-01",
          "2021-07-01",
          "2021-08-01",
          "2021-09-01",
          "2021-10-01",
          "2021-11-01",
          "2021-12-01"
         ],
         "y": [
          7,
          4,
          8,
          2,
          5,
          5,
          11,
          7,
          208,
          175,
          205,
          255,
          147,
          196,
          324,
          306,
          246,
          285,
          348,
          314,
          375,
          546,
          461,
          309
         ]
        },
        {
         "marker": {
          "color": "rgb(29, 105, 150)"
         },
         "name": "digitalxr",
         "type": "bar",
         "x": [
          "2020-01-01",
          "2020-02-01",
          "2020-03-01",
          "2020-04-01",
          "2020-05-01",
          "2020-06-01",
          "2020-07-01",
          "2020-08-01",
          "2020-09-01",
          "2020-10-01",
          "2020-11-01",
          "2020-12-01",
          "2021-01-01",
          "2021-02-01",
          "2021-03-01",
          "2021-04-01",
          "2021-05-01",
          "2021-06-01",
          "2021-07-01",
          "2021-08-01",
          "2021-09-01",
          "2021-10-01",
          "2021-11-01",
          "2021-12-01"
         ],
         "y": [
          6,
          5,
          8,
          7,
          9,
          4,
          2,
          7,
          435,
          612,
          735,
          1195,
          110,
          108,
          178,
          157,
          174,
          210,
          152,
          147,
          293,
          923,
          1004,
          1634
         ]
        },
        {
         "marker": {
          "color": "rgb(225, 124, 5)"
         },
         "name": "neurotech",
         "type": "bar",
         "x": [
          "2020-01-01",
          "2020-02-01",
          "2020-03-01",
          "2020-04-01",
          "2020-05-01",
          "2020-06-01",
          "2020-07-01",
          "2020-08-01",
          "2020-09-01",
          "2020-10-01",
          "2020-11-01",
          "2020-12-01",
          "2021-01-01",
          "2021-02-01",
          "2021-03-01",
          "2021-04-01",
          "2021-05-01",
          "2021-06-01",
          "2021-07-01",
          "2021-08-01",
          "2021-09-01",
          "2021-10-01",
          "2021-11-01",
          "2021-12-01"
         ],
         "y": [
          1,
          1,
          1,
          1,
          2,
          3,
          3,
          8,
          40,
          13,
          17,
          43,
          30,
          36,
          43,
          79,
          54,
          25,
          51,
          36,
          45,
          50,
          32,
          74
         ]
        }
       ],
       "layout": {
        "barmode": "stack",
        "template": {
         "data": {
          "bar": [
           {
            "error_x": {
             "color": "#2a3f5f"
            },
            "error_y": {
             "color": "#2a3f5f"
            },
            "marker": {
             "line": {
              "color": "#E5ECF6",
              "width": 0.5
             },
             "pattern": {
              "fillmode": "overlay",
              "size": 10,
              "solidity": 0.2
             }
            },
            "type": "bar"
           }
          ],
          "barpolar": [
           {
            "marker": {
             "line": {
              "color": "#E5ECF6",
              "width": 0.5
             },
             "pattern": {
              "fillmode": "overlay",
              "size": 10,
              "solidity": 0.2
             }
            },
            "type": "barpolar"
           }
          ],
          "carpet": [
           {
            "aaxis": {
             "endlinecolor": "#2a3f5f",
             "gridcolor": "white",
             "linecolor": "white",
             "minorgridcolor": "white",
             "startlinecolor": "#2a3f5f"
            },
            "baxis": {
             "endlinecolor": "#2a3f5f",
             "gridcolor": "white",
             "linecolor": "white",
             "minorgridcolor": "white",
             "startlinecolor": "#2a3f5f"
            },
            "type": "carpet"
           }
          ],
          "choropleth": [
           {
            "colorbar": {
             "outlinewidth": 0,
             "ticks": ""
            },
            "type": "choropleth"
           }
          ],
          "contour": [
           {
            "colorbar": {
             "outlinewidth": 0,
             "ticks": ""
            },
            "colorscale": [
             [
              0,
              "#0d0887"
             ],
             [
              0.1111111111111111,
              "#46039f"
             ],
             [
              0.2222222222222222,
              "#7201a8"
             ],
             [
              0.3333333333333333,
              "#9c179e"
             ],
             [
              0.4444444444444444,
              "#bd3786"
             ],
             [
              0.5555555555555556,
              "#d8576b"
             ],
             [
              0.6666666666666666,
              "#ed7953"
             ],
             [
              0.7777777777777778,
              "#fb9f3a"
             ],
             [
              0.8888888888888888,
              "#fdca26"
             ],
             [
              1,
              "#f0f921"
             ]
            ],
            "type": "contour"
           }
          ],
          "contourcarpet": [
           {
            "colorbar": {
             "outlinewidth": 0,
             "ticks": ""
            },
            "type": "contourcarpet"
           }
          ],
          "heatmap": [
           {
            "colorbar": {
             "outlinewidth": 0,
             "ticks": ""
            },
            "colorscale": [
             [
              0,
              "#0d0887"
             ],
             [
              0.1111111111111111,
              "#46039f"
             ],
             [
              0.2222222222222222,
              "#7201a8"
             ],
             [
              0.3333333333333333,
              "#9c179e"
             ],
             [
              0.4444444444444444,
              "#bd3786"
             ],
             [
              0.5555555555555556,
              "#d8576b"
             ],
             [
              0.6666666666666666,
              "#ed7953"
             ],
             [
              0.7777777777777778,
              "#fb9f3a"
             ],
             [
              0.8888888888888888,
              "#fdca26"
             ],
             [
              1,
              "#f0f921"
             ]
            ],
            "type": "heatmap"
           }
          ],
          "heatmapgl": [
           {
            "colorbar": {
             "outlinewidth": 0,
             "ticks": ""
            },
            "colorscale": [
             [
              0,
              "#0d0887"
             ],
             [
              0.1111111111111111,
              "#46039f"
             ],
             [
              0.2222222222222222,
              "#7201a8"
             ],
             [
              0.3333333333333333,
              "#9c179e"
             ],
             [
              0.4444444444444444,
              "#bd3786"
             ],
             [
              0.5555555555555556,
              "#d8576b"
             ],
             [
              0.6666666666666666,
              "#ed7953"
             ],
             [
              0.7777777777777778,
              "#fb9f3a"
             ],
             [
              0.8888888888888888,
              "#fdca26"
             ],
             [
              1,
              "#f0f921"
             ]
            ],
            "type": "heatmapgl"
           }
          ],
          "histogram": [
           {
            "marker": {
             "pattern": {
              "fillmode": "overlay",
              "size": 10,
              "solidity": 0.2
             }
            },
            "type": "histogram"
           }
          ],
          "histogram2d": [
           {
            "colorbar": {
             "outlinewidth": 0,
             "ticks": ""
            },
            "colorscale": [
             [
              0,
              "#0d0887"
             ],
             [
              0.1111111111111111,
              "#46039f"
             ],
             [
              0.2222222222222222,
              "#7201a8"
             ],
             [
              0.3333333333333333,
              "#9c179e"
             ],
             [
              0.4444444444444444,
              "#bd3786"
             ],
             [
              0.5555555555555556,
              "#d8576b"
             ],
             [
              0.6666666666666666,
              "#ed7953"
             ],
             [
              0.7777777777777778,
              "#fb9f3a"
             ],
             [
              0.8888888888888888,
              "#fdca26"
             ],
             [
              1,
              "#f0f921"
             ]
            ],
            "type": "histogram2d"
           }
          ],
          "histogram2dcontour": [
           {
            "colorbar": {
             "outlinewidth": 0,
             "ticks": ""
            },
            "colorscale": [
             [
              0,
              "#0d0887"
             ],
             [
              0.1111111111111111,
              "#46039f"
             ],
             [
              0.2222222222222222,
              "#7201a8"
             ],
             [
              0.3333333333333333,
              "#9c179e"
             ],
             [
              0.4444444444444444,
              "#bd3786"
             ],
             [
              0.5555555555555556,
              "#d8576b"
             ],
             [
              0.6666666666666666,
              "#ed7953"
             ],
             [
              0.7777777777777778,
              "#fb9f3a"
             ],
             [
              0.8888888888888888,
              "#fdca26"
             ],
             [
              1,
              "#f0f921"
             ]
            ],
            "type": "histogram2dcontour"
           }
          ],
          "mesh3d": [
           {
            "colorbar": {
             "outlinewidth": 0,
             "ticks": ""
            },
            "type": "mesh3d"
           }
          ],
          "parcoords": [
           {
            "line": {
             "colorbar": {
              "outlinewidth": 0,
              "ticks": ""
             }
            },
            "type": "parcoords"
           }
          ],
          "pie": [
           {
            "automargin": true,
            "type": "pie"
           }
          ],
          "scatter": [
           {
            "marker": {
             "colorbar": {
              "outlinewidth": 0,
              "ticks": ""
             }
            },
            "type": "scatter"
           }
          ],
          "scatter3d": [
           {
            "line": {
             "colorbar": {
              "outlinewidth": 0,
              "ticks": ""
             }
            },
            "marker": {
             "colorbar": {
              "outlinewidth": 0,
              "ticks": ""
             }
            },
            "type": "scatter3d"
           }
          ],
          "scattercarpet": [
           {
            "marker": {
             "colorbar": {
              "outlinewidth": 0,
              "ticks": ""
             }
            },
            "type": "scattercarpet"
           }
          ],
          "scattergeo": [
           {
            "marker": {
             "colorbar": {
              "outlinewidth": 0,
              "ticks": ""
             }
            },
            "type": "scattergeo"
           }
          ],
          "scattergl": [
           {
            "marker": {
             "colorbar": {
              "outlinewidth": 0,
              "ticks": ""
             }
            },
            "type": "scattergl"
           }
          ],
          "scattermapbox": [
           {
            "marker": {
             "colorbar": {
              "outlinewidth": 0,
              "ticks": ""
             }
            },
            "type": "scattermapbox"
           }
          ],
          "scatterpolar": [
           {
            "marker": {
             "colorbar": {
              "outlinewidth": 0,
              "ticks": ""
             }
            },
            "type": "scatterpolar"
           }
          ],
          "scatterpolargl": [
           {
            "marker": {
             "colorbar": {
              "outlinewidth": 0,
              "ticks": ""
             }
            },
            "type": "scatterpolargl"
           }
          ],
          "scatterternary": [
           {
            "marker": {
             "colorbar": {
              "outlinewidth": 0,
              "ticks": ""
             }
            },
            "type": "scatterternary"
           }
          ],
          "surface": [
           {
            "colorbar": {
             "outlinewidth": 0,
             "ticks": ""
            },
            "colorscale": [
             [
              0,
              "#0d0887"
             ],
             [
              0.1111111111111111,
              "#46039f"
             ],
             [
              0.2222222222222222,
              "#7201a8"
             ],
             [
              0.3333333333333333,
              "#9c179e"
             ],
             [
              0.4444444444444444,
              "#bd3786"
             ],
             [
              0.5555555555555556,
              "#d8576b"
             ],
             [
              0.6666666666666666,
              "#ed7953"
             ],
             [
              0.7777777777777778,
              "#fb9f3a"
             ],
             [
              0.8888888888888888,
              "#fdca26"
             ],
             [
              1,
              "#f0f921"
             ]
            ],
            "type": "surface"
           }
          ],
          "table": [
           {
            "cells": {
             "fill": {
              "color": "#EBF0F8"
             },
             "line": {
              "color": "white"
             }
            },
            "header": {
             "fill": {
              "color": "#C8D4E3"
             },
             "line": {
              "color": "white"
             }
            },
            "type": "table"
           }
          ]
         },
         "layout": {
          "annotationdefaults": {
           "arrowcolor": "#2a3f5f",
           "arrowhead": 0,
           "arrowwidth": 1
          },
          "autotypenumbers": "strict",
          "coloraxis": {
           "colorbar": {
            "outlinewidth": 0,
            "ticks": ""
           }
          },
          "colorscale": {
           "diverging": [
            [
             0,
             "#8e0152"
            ],
            [
             0.1,
             "#c51b7d"
            ],
            [
             0.2,
             "#de77ae"
            ],
            [
             0.3,
             "#f1b6da"
            ],
            [
             0.4,
             "#fde0ef"
            ],
            [
             0.5,
             "#f7f7f7"
            ],
            [
             0.6,
             "#e6f5d0"
            ],
            [
             0.7,
             "#b8e186"
            ],
            [
             0.8,
             "#7fbc41"
            ],
            [
             0.9,
             "#4d9221"
            ],
            [
             1,
             "#276419"
            ]
           ],
           "sequential": [
            [
             0,
             "#0d0887"
            ],
            [
             0.1111111111111111,
             "#46039f"
            ],
            [
             0.2222222222222222,
             "#7201a8"
            ],
            [
             0.3333333333333333,
             "#9c179e"
            ],
            [
             0.4444444444444444,
             "#bd3786"
            ],
            [
             0.5555555555555556,
             "#d8576b"
            ],
            [
             0.6666666666666666,
             "#ed7953"
            ],
            [
             0.7777777777777778,
             "#fb9f3a"
            ],
            [
             0.8888888888888888,
             "#fdca26"
            ],
            [
             1,
             "#f0f921"
            ]
           ],
           "sequentialminus": [
            [
             0,
             "#0d0887"
            ],
            [
             0.1111111111111111,
             "#46039f"
            ],
            [
             0.2222222222222222,
             "#7201a8"
            ],
            [
             0.3333333333333333,
             "#9c179e"
            ],
            [
             0.4444444444444444,
             "#bd3786"
            ],
            [
             0.5555555555555556,
             "#d8576b"
            ],
            [
             0.6666666666666666,
             "#ed7953"
            ],
            [
             0.7777777777777778,
             "#fb9f3a"
            ],
            [
             0.8888888888888888,
             "#fdca26"
            ],
            [
             1,
             "#f0f921"
            ]
           ]
          },
          "colorway": [
           "#636efa",
           "#EF553B",
           "#00cc96",
           "#ab63fa",
           "#FFA15A",
           "#19d3f3",
           "#FF6692",
           "#B6E880",
           "#FF97FF",
           "#FECB52"
          ],
          "font": {
           "color": "#2a3f5f"
          },
          "geo": {
           "bgcolor": "white",
           "lakecolor": "white",
           "landcolor": "#E5ECF6",
           "showlakes": true,
           "showland": true,
           "subunitcolor": "white"
          },
          "hoverlabel": {
           "align": "left"
          },
          "hovermode": "closest",
          "mapbox": {
           "style": "light"
          },
          "paper_bgcolor": "white",
          "plot_bgcolor": "#E5ECF6",
          "polar": {
           "angularaxis": {
            "gridcolor": "white",
            "linecolor": "white",
            "ticks": ""
           },
           "bgcolor": "#E5ECF6",
           "radialaxis": {
            "gridcolor": "white",
            "linecolor": "white",
            "ticks": ""
           }
          },
          "scene": {
           "xaxis": {
            "backgroundcolor": "#E5ECF6",
            "gridcolor": "white",
            "gridwidth": 2,
            "linecolor": "white",
            "showbackground": true,
            "ticks": "",
            "zerolinecolor": "white"
           },
           "yaxis": {
            "backgroundcolor": "#E5ECF6",
            "gridcolor": "white",
            "gridwidth": 2,
            "linecolor": "white",
            "showbackground": true,
            "ticks": "",
            "zerolinecolor": "white"
           },
           "zaxis": {
            "backgroundcolor": "#E5ECF6",
            "gridcolor": "white",
            "gridwidth": 2,
            "linecolor": "white",
            "showbackground": true,
            "ticks": "",
            "zerolinecolor": "white"
           }
          },
          "shapedefaults": {
           "line": {
            "color": "#2a3f5f"
           }
          },
          "ternary": {
           "aaxis": {
            "gridcolor": "white",
            "linecolor": "white",
            "ticks": ""
           },
           "baxis": {
            "gridcolor": "white",
            "linecolor": "white",
            "ticks": ""
           },
           "bgcolor": "#E5ECF6",
           "caxis": {
            "gridcolor": "white",
            "linecolor": "white",
            "ticks": ""
           }
          },
          "title": {
           "x": 0.05
          },
          "xaxis": {
           "automargin": true,
           "gridcolor": "white",
           "linecolor": "white",
           "ticks": "",
           "title": {
            "standoff": 15
           },
           "zerolinecolor": "white",
           "zerolinewidth": 2
          },
          "yaxis": {
           "automargin": true,
           "gridcolor": "white",
           "linecolor": "white",
           "ticks": "",
           "title": {
            "standoff": 15
           },
           "zerolinecolor": "white",
           "zerolinewidth": 2
          }
         }
        },
        "title": {
         "text": "Number news per topic",
         "x": 0.5,
         "xanchor": "center",
         "y": 0.9,
         "yanchor": "top"
        },
        "xaxis": {
         "tickangle": 90,
         "title": {
          "text": "Date"
         },
         "type": "category"
        },
        "yaxis": {
         "title": {
          "text": "N news stories"
         }
        }
       }
      },
      "text/html": [
       "<div>                            <div id=\"0cef4207-9304-4108-b6fc-05f83da81de8\" class=\"plotly-graph-div\" style=\"height:525px; width:100%;\"></div>            <script type=\"text/javascript\">                require([\"plotly\"], function(Plotly) {                    window.PLOTLYENV=window.PLOTLYENV || {};                                    if (document.getElementById(\"0cef4207-9304-4108-b6fc-05f83da81de8\")) {                    Plotly.newPlot(                        \"0cef4207-9304-4108-b6fc-05f83da81de8\",                        [{\"marker\":{\"color\":\"rgb(115, 175, 72)\"},\"name\":\"climate\",\"type\":\"bar\",\"x\":[\"2020-01-01\",\"2020-02-01\",\"2020-03-01\",\"2020-04-01\",\"2020-05-01\",\"2020-06-01\",\"2020-07-01\",\"2020-08-01\",\"2020-09-01\",\"2020-10-01\",\"2020-11-01\",\"2020-12-01\",\"2021-01-01\",\"2021-02-01\",\"2021-03-01\",\"2021-04-01\",\"2021-05-01\",\"2021-06-01\",\"2021-07-01\",\"2021-08-01\",\"2021-09-01\",\"2021-10-01\",\"2021-11-01\",\"2021-12-01\"],\"y\":[7,4,8,2,5,5,11,7,208,175,205,255,147,196,324,306,246,285,348,314,375,546,461,309]},{\"marker\":{\"color\":\"rgb(29, 105, 150)\"},\"name\":\"digitalxr\",\"type\":\"bar\",\"x\":[\"2020-01-01\",\"2020-02-01\",\"2020-03-01\",\"2020-04-01\",\"2020-05-01\",\"2020-06-01\",\"2020-07-01\",\"2020-08-01\",\"2020-09-01\",\"2020-10-01\",\"2020-11-01\",\"2020-12-01\",\"2021-01-01\",\"2021-02-01\",\"2021-03-01\",\"2021-04-01\",\"2021-05-01\",\"2021-06-01\",\"2021-07-01\",\"2021-08-01\",\"2021-09-01\",\"2021-10-01\",\"2021-11-01\",\"2021-12-01\"],\"y\":[6,5,8,7,9,4,2,7,435,612,735,1195,110,108,178,157,174,210,152,147,293,923,1004,1634]},{\"marker\":{\"color\":\"rgb(225, 124, 5)\"},\"name\":\"neurotech\",\"type\":\"bar\",\"x\":[\"2020-01-01\",\"2020-02-01\",\"2020-03-01\",\"2020-04-01\",\"2020-05-01\",\"2020-06-01\",\"2020-07-01\",\"2020-08-01\",\"2020-09-01\",\"2020-10-01\",\"2020-11-01\",\"2020-12-01\",\"2021-01-01\",\"2021-02-01\",\"2021-03-01\",\"2021-04-01\",\"2021-05-01\",\"2021-06-01\",\"2021-07-01\",\"2021-08-01\",\"2021-09-01\",\"2021-10-01\",\"2021-11-01\",\"2021-12-01\"],\"y\":[1,1,1,1,2,3,3,8,40,13,17,43,30,36,43,79,54,25,51,36,45,50,32,74]}],                        {\"barmode\":\"stack\",\"template\":{\"data\":{\"bar\":[{\"error_x\":{\"color\":\"#2a3f5f\"},\"error_y\":{\"color\":\"#2a3f5f\"},\"marker\":{\"line\":{\"color\":\"#E5ECF6\",\"width\":0.5},\"pattern\":{\"fillmode\":\"overlay\",\"size\":10,\"solidity\":0.2}},\"type\":\"bar\"}],\"barpolar\":[{\"marker\":{\"line\":{\"color\":\"#E5ECF6\",\"width\":0.5},\"pattern\":{\"fillmode\":\"overlay\",\"size\":10,\"solidity\":0.2}},\"type\":\"barpolar\"}],\"carpet\":[{\"aaxis\":{\"endlinecolor\":\"#2a3f5f\",\"gridcolor\":\"white\",\"linecolor\":\"white\",\"minorgridcolor\":\"white\",\"startlinecolor\":\"#2a3f5f\"},\"baxis\":{\"endlinecolor\":\"#2a3f5f\",\"gridcolor\":\"white\",\"linecolor\":\"white\",\"minorgridcolor\":\"white\",\"startlinecolor\":\"#2a3f5f\"},\"type\":\"carpet\"}],\"choropleth\":[{\"colorbar\":{\"outlinewidth\":0,\"ticks\":\"\"},\"type\":\"choropleth\"}],\"contour\":[{\"colorbar\":{\"outlinewidth\":0,\"ticks\":\"\"},\"colorscale\":[[0.0,\"#0d0887\"],[0.1111111111111111,\"#46039f\"],[0.2222222222222222,\"#7201a8\"],[0.3333333333333333,\"#9c179e\"],[0.4444444444444444,\"#bd3786\"],[0.5555555555555556,\"#d8576b\"],[0.6666666666666666,\"#ed7953\"],[0.7777777777777778,\"#fb9f3a\"],[0.8888888888888888,\"#fdca26\"],[1.0,\"#f0f921\"]],\"type\":\"contour\"}],\"contourcarpet\":[{\"colorbar\":{\"outlinewidth\":0,\"ticks\":\"\"},\"type\":\"contourcarpet\"}],\"heatmap\":[{\"colorbar\":{\"outlinewidth\":0,\"ticks\":\"\"},\"colorscale\":[[0.0,\"#0d0887\"],[0.1111111111111111,\"#46039f\"],[0.2222222222222222,\"#7201a8\"],[0.3333333333333333,\"#9c179e\"],[0.4444444444444444,\"#bd3786\"],[0.5555555555555556,\"#d8576b\"],[0.6666666666666666,\"#ed7953\"],[0.7777777777777778,\"#fb9f3a\"],[0.8888888888888888,\"#fdca26\"],[1.0,\"#f0f921\"]],\"type\":\"heatmap\"}],\"heatmapgl\":[{\"colorbar\":{\"outlinewidth\":0,\"ticks\":\"\"},\"colorscale\":[[0.0,\"#0d0887\"],[0.1111111111111111,\"#46039f\"],[0.2222222222222222,\"#7201a8\"],[0.3333333333333333,\"#9c179e\"],[0.4444444444444444,\"#bd3786\"],[0.5555555555555556,\"#d8576b\"],[0.6666666666666666,\"#ed7953\"],[0.7777777777777778,\"#fb9f3a\"],[0.8888888888888888,\"#fdca26\"],[1.0,\"#f0f921\"]],\"type\":\"heatmapgl\"}],\"histogram\":[{\"marker\":{\"pattern\":{\"fillmode\":\"overlay\",\"size\":10,\"solidity\":0.2}},\"type\":\"histogram\"}],\"histogram2d\":[{\"colorbar\":{\"outlinewidth\":0,\"ticks\":\"\"},\"colorscale\":[[0.0,\"#0d0887\"],[0.1111111111111111,\"#46039f\"],[0.2222222222222222,\"#7201a8\"],[0.3333333333333333,\"#9c179e\"],[0.4444444444444444,\"#bd3786\"],[0.5555555555555556,\"#d8576b\"],[0.6666666666666666,\"#ed7953\"],[0.7777777777777778,\"#fb9f3a\"],[0.8888888888888888,\"#fdca26\"],[1.0,\"#f0f921\"]],\"type\":\"histogram2d\"}],\"histogram2dcontour\":[{\"colorbar\":{\"outlinewidth\":0,\"ticks\":\"\"},\"colorscale\":[[0.0,\"#0d0887\"],[0.1111111111111111,\"#46039f\"],[0.2222222222222222,\"#7201a8\"],[0.3333333333333333,\"#9c179e\"],[0.4444444444444444,\"#bd3786\"],[0.5555555555555556,\"#d8576b\"],[0.6666666666666666,\"#ed7953\"],[0.7777777777777778,\"#fb9f3a\"],[0.8888888888888888,\"#fdca26\"],[1.0,\"#f0f921\"]],\"type\":\"histogram2dcontour\"}],\"mesh3d\":[{\"colorbar\":{\"outlinewidth\":0,\"ticks\":\"\"},\"type\":\"mesh3d\"}],\"parcoords\":[{\"line\":{\"colorbar\":{\"outlinewidth\":0,\"ticks\":\"\"}},\"type\":\"parcoords\"}],\"pie\":[{\"automargin\":true,\"type\":\"pie\"}],\"scatter\":[{\"marker\":{\"colorbar\":{\"outlinewidth\":0,\"ticks\":\"\"}},\"type\":\"scatter\"}],\"scatter3d\":[{\"line\":{\"colorbar\":{\"outlinewidth\":0,\"ticks\":\"\"}},\"marker\":{\"colorbar\":{\"outlinewidth\":0,\"ticks\":\"\"}},\"type\":\"scatter3d\"}],\"scattercarpet\":[{\"marker\":{\"colorbar\":{\"outlinewidth\":0,\"ticks\":\"\"}},\"type\":\"scattercarpet\"}],\"scattergeo\":[{\"marker\":{\"colorbar\":{\"outlinewidth\":0,\"ticks\":\"\"}},\"type\":\"scattergeo\"}],\"scattergl\":[{\"marker\":{\"colorbar\":{\"outlinewidth\":0,\"ticks\":\"\"}},\"type\":\"scattergl\"}],\"scattermapbox\":[{\"marker\":{\"colorbar\":{\"outlinewidth\":0,\"ticks\":\"\"}},\"type\":\"scattermapbox\"}],\"scatterpolar\":[{\"marker\":{\"colorbar\":{\"outlinewidth\":0,\"ticks\":\"\"}},\"type\":\"scatterpolar\"}],\"scatterpolargl\":[{\"marker\":{\"colorbar\":{\"outlinewidth\":0,\"ticks\":\"\"}},\"type\":\"scatterpolargl\"}],\"scatterternary\":[{\"marker\":{\"colorbar\":{\"outlinewidth\":0,\"ticks\":\"\"}},\"type\":\"scatterternary\"}],\"surface\":[{\"colorbar\":{\"outlinewidth\":0,\"ticks\":\"\"},\"colorscale\":[[0.0,\"#0d0887\"],[0.1111111111111111,\"#46039f\"],[0.2222222222222222,\"#7201a8\"],[0.3333333333333333,\"#9c179e\"],[0.4444444444444444,\"#bd3786\"],[0.5555555555555556,\"#d8576b\"],[0.6666666666666666,\"#ed7953\"],[0.7777777777777778,\"#fb9f3a\"],[0.8888888888888888,\"#fdca26\"],[1.0,\"#f0f921\"]],\"type\":\"surface\"}],\"table\":[{\"cells\":{\"fill\":{\"color\":\"#EBF0F8\"},\"line\":{\"color\":\"white\"}},\"header\":{\"fill\":{\"color\":\"#C8D4E3\"},\"line\":{\"color\":\"white\"}},\"type\":\"table\"}]},\"layout\":{\"annotationdefaults\":{\"arrowcolor\":\"#2a3f5f\",\"arrowhead\":0,\"arrowwidth\":1},\"autotypenumbers\":\"strict\",\"coloraxis\":{\"colorbar\":{\"outlinewidth\":0,\"ticks\":\"\"}},\"colorscale\":{\"diverging\":[[0,\"#8e0152\"],[0.1,\"#c51b7d\"],[0.2,\"#de77ae\"],[0.3,\"#f1b6da\"],[0.4,\"#fde0ef\"],[0.5,\"#f7f7f7\"],[0.6,\"#e6f5d0\"],[0.7,\"#b8e186\"],[0.8,\"#7fbc41\"],[0.9,\"#4d9221\"],[1,\"#276419\"]],\"sequential\":[[0.0,\"#0d0887\"],[0.1111111111111111,\"#46039f\"],[0.2222222222222222,\"#7201a8\"],[0.3333333333333333,\"#9c179e\"],[0.4444444444444444,\"#bd3786\"],[0.5555555555555556,\"#d8576b\"],[0.6666666666666666,\"#ed7953\"],[0.7777777777777778,\"#fb9f3a\"],[0.8888888888888888,\"#fdca26\"],[1.0,\"#f0f921\"]],\"sequentialminus\":[[0.0,\"#0d0887\"],[0.1111111111111111,\"#46039f\"],[0.2222222222222222,\"#7201a8\"],[0.3333333333333333,\"#9c179e\"],[0.4444444444444444,\"#bd3786\"],[0.5555555555555556,\"#d8576b\"],[0.6666666666666666,\"#ed7953\"],[0.7777777777777778,\"#fb9f3a\"],[0.8888888888888888,\"#fdca26\"],[1.0,\"#f0f921\"]]},\"colorway\":[\"#636efa\",\"#EF553B\",\"#00cc96\",\"#ab63fa\",\"#FFA15A\",\"#19d3f3\",\"#FF6692\",\"#B6E880\",\"#FF97FF\",\"#FECB52\"],\"font\":{\"color\":\"#2a3f5f\"},\"geo\":{\"bgcolor\":\"white\",\"lakecolor\":\"white\",\"landcolor\":\"#E5ECF6\",\"showlakes\":true,\"showland\":true,\"subunitcolor\":\"white\"},\"hoverlabel\":{\"align\":\"left\"},\"hovermode\":\"closest\",\"mapbox\":{\"style\":\"light\"},\"paper_bgcolor\":\"white\",\"plot_bgcolor\":\"#E5ECF6\",\"polar\":{\"angularaxis\":{\"gridcolor\":\"white\",\"linecolor\":\"white\",\"ticks\":\"\"},\"bgcolor\":\"#E5ECF6\",\"radialaxis\":{\"gridcolor\":\"white\",\"linecolor\":\"white\",\"ticks\":\"\"}},\"scene\":{\"xaxis\":{\"backgroundcolor\":\"#E5ECF6\",\"gridcolor\":\"white\",\"gridwidth\":2,\"linecolor\":\"white\",\"showbackground\":true,\"ticks\":\"\",\"zerolinecolor\":\"white\"},\"yaxis\":{\"backgroundcolor\":\"#E5ECF6\",\"gridcolor\":\"white\",\"gridwidth\":2,\"linecolor\":\"white\",\"showbackground\":true,\"ticks\":\"\",\"zerolinecolor\":\"white\"},\"zaxis\":{\"backgroundcolor\":\"#E5ECF6\",\"gridcolor\":\"white\",\"gridwidth\":2,\"linecolor\":\"white\",\"showbackground\":true,\"ticks\":\"\",\"zerolinecolor\":\"white\"}},\"shapedefaults\":{\"line\":{\"color\":\"#2a3f5f\"}},\"ternary\":{\"aaxis\":{\"gridcolor\":\"white\",\"linecolor\":\"white\",\"ticks\":\"\"},\"baxis\":{\"gridcolor\":\"white\",\"linecolor\":\"white\",\"ticks\":\"\"},\"bgcolor\":\"#E5ECF6\",\"caxis\":{\"gridcolor\":\"white\",\"linecolor\":\"white\",\"ticks\":\"\"}},\"title\":{\"x\":0.05},\"xaxis\":{\"automargin\":true,\"gridcolor\":\"white\",\"linecolor\":\"white\",\"ticks\":\"\",\"title\":{\"standoff\":15},\"zerolinecolor\":\"white\",\"zerolinewidth\":2},\"yaxis\":{\"automargin\":true,\"gridcolor\":\"white\",\"linecolor\":\"white\",\"ticks\":\"\",\"title\":{\"standoff\":15},\"zerolinecolor\":\"white\",\"zerolinewidth\":2}}},\"title\":{\"text\":\"Number news per topic\",\"x\":0.5,\"xanchor\":\"center\",\"y\":0.9,\"yanchor\":\"top\"},\"xaxis\":{\"tickangle\":90,\"title\":{\"text\":\"Date\"},\"type\":\"category\"},\"yaxis\":{\"title\":{\"text\":\"N news stories\"}}},                        {\"responsive\": true}                    ).then(function(){\n",
       "                            \n",
       "var gd = document.getElementById('0cef4207-9304-4108-b6fc-05f83da81de8');\n",
       "var x = new MutationObserver(function (mutations, observer) {{\n",
       "        var display = window.getComputedStyle(gd).display;\n",
       "        if (!display || display === 'none') {{\n",
       "            console.log([gd, 'removed!']);\n",
       "            Plotly.purge(gd);\n",
       "            observer.disconnect();\n",
       "        }}\n",
       "}});\n",
       "\n",
       "// Listen for the removal of the full notebook cells\n",
       "var notebookContainer = gd.closest('#notebook-container');\n",
       "if (notebookContainer) {{\n",
       "    x.observe(notebookContainer, {childList: true});\n",
       "}}\n",
       "\n",
       "// Listen for the clearing of the current output cell\n",
       "var outputEl = gd.closest('.output');\n",
       "if (outputEl) {{\n",
       "    x.observe(outputEl, {childList: true});\n",
       "}}\n",
       "\n",
       "                        })                };                });            </script>        </div>"
      ]
     },
     "metadata": {},
     "output_type": "display_data"
    }
   ],
   "source": [
    "df_topics_ym_count = df_all.groupby([df_all[\"date\"].dt.to_period('M'),\"topic\"]).size().unstack('topic', fill_value=0).reset_index()\n",
    "df_topics_ym_count_melt = df_topics_ym_count.melt(id_vars = 'date',value_vars =['climate','digitalxr','neurotech']\n",
    "                                                 )\n",
    "\n",
    "df_topics_ym_count_melt['datetransf'] = pd.to_datetime(df_topics_ym_count_melt.date.astype(str), format='%Y-%M')\n",
    "dtnp = list(df_topics_ym_count.date.values.astype('datetime64[M]'))\n",
    "dates = list(pd.to_datetime(df_topics_ym_count.date.astype(str), format='%Y-%M'))\n",
    "fig = go.Figure(data=[\n",
    "    go.Bar(name='climate', x= dtnp, y=list(df_topics_ym_count.climate), marker={'color': px.colors.qualitative.Prism[4]}),\n",
    "    go.Bar(name='digitalxr', x= dtnp, y=list(df_topics_ym_count.digitalxr), marker={'color': px.colors.qualitative.Prism[1]}),\n",
    "    go.Bar(name='neurotech', x= dtnp, y=list(df_topics_ym_count.neurotech),marker={'color': px.colors.qualitative.Prism[6]})])\n",
    "\n",
    "# Change the bar mode\n",
    "fig.update_layout(barmode='stack')\n",
    "fig.update_xaxes(type='category')\n",
    "fig.update_layout(\n",
    "            title={\n",
    "            'text': 'Number news per topic' ,\n",
    "            'y':0.9,\n",
    "            'x':0.5,\n",
    "            'xanchor': 'center',\n",
    "            'yanchor': 'top'},\n",
    "            xaxis_title=\"Date\",\n",
    "            yaxis_title=\"N news stories\" )\n",
    "fig.update_xaxes(tickangle=90)\n",
    "IMG_NAME = 'all_counts_bar_nodigitalxr.png'\n",
    "PATH_IMG = PATH_MAIN + '/plots_raw/' + IMG_NAME\n",
    "#fig.write_image(PATH_IMG)\n",
    "fig.show()"
   ]
  },
  {
   "cell_type": "code",
   "execution_count": 14,
   "id": "cc6ff720",
   "metadata": {},
   "outputs": [
    {
     "data": {
      "text/html": [
       "<div>\n",
       "<style scoped>\n",
       "    .dataframe tbody tr th:only-of-type {\n",
       "        vertical-align: middle;\n",
       "    }\n",
       "\n",
       "    .dataframe tbody tr th {\n",
       "        vertical-align: top;\n",
       "    }\n",
       "\n",
       "    .dataframe thead th {\n",
       "        text-align: right;\n",
       "    }\n",
       "</style>\n",
       "<table border=\"1\" class=\"dataframe\">\n",
       "  <thead>\n",
       "    <tr style=\"text-align: right;\">\n",
       "      <th></th>\n",
       "      <th>counts</th>\n",
       "      <th>topic</th>\n",
       "    </tr>\n",
       "    <tr>\n",
       "      <th>topic</th>\n",
       "      <th></th>\n",
       "      <th></th>\n",
       "    </tr>\n",
       "  </thead>\n",
       "  <tbody>\n",
       "    <tr>\n",
       "      <th>digitalxr</th>\n",
       "      <td>8115</td>\n",
       "      <td>digitalxr</td>\n",
       "    </tr>\n",
       "    <tr>\n",
       "      <th>climate</th>\n",
       "      <td>4749</td>\n",
       "      <td>climate</td>\n",
       "    </tr>\n",
       "    <tr>\n",
       "      <th>neurotech</th>\n",
       "      <td>688</td>\n",
       "      <td>neurotech</td>\n",
       "    </tr>\n",
       "  </tbody>\n",
       "</table>\n",
       "</div>"
      ],
      "text/plain": [
       "           counts      topic\n",
       "topic                       \n",
       "digitalxr    8115  digitalxr\n",
       "climate      4749    climate\n",
       "neurotech     688  neurotech"
      ]
     },
     "execution_count": 14,
     "metadata": {},
     "output_type": "execute_result"
    }
   ],
   "source": [
    "dfvc = df_all.topic.value_counts().rename_axis('topic').to_frame('counts')\n",
    "dfvc['topic'] = dfvc.index\n",
    "dfvc"
   ]
  },
  {
   "cell_type": "code",
   "execution_count": 332,
   "id": "dee8b1e0",
   "metadata": {},
   "outputs": [
    {
     "data": {
      "application/vnd.plotly.v1+json": {
       "config": {
        "plotlyServerURL": "https://plot.ly"
       },
       "data": [
        {
         "alignmentgroup": "True",
         "hovertemplate": "topic=%{x}<br>counts=%{text}<extra></extra>",
         "legendgroup": "digitalxr",
         "marker": {
          "color": "rgb(29, 105, 150)",
          "pattern": {
           "shape": ""
          }
         },
         "name": "digitalxr",
         "offsetgroup": "digitalxr",
         "orientation": "v",
         "showlegend": true,
         "text": [
          "8115"
         ],
         "textposition": "auto",
         "type": "bar",
         "x": [
          "digitalxr"
         ],
         "xaxis": "x",
         "y": [
          8115
         ],
         "yaxis": "y"
        },
        {
         "alignmentgroup": "True",
         "hovertemplate": "topic=%{x}<br>counts=%{text}<extra></extra>",
         "legendgroup": "climate",
         "marker": {
          "color": "rgb(115, 175, 72)",
          "pattern": {
           "shape": ""
          }
         },
         "name": "climate",
         "offsetgroup": "climate",
         "orientation": "v",
         "showlegend": true,
         "text": [
          "4749"
         ],
         "textposition": "auto",
         "type": "bar",
         "x": [
          "climate"
         ],
         "xaxis": "x",
         "y": [
          4749
         ],
         "yaxis": "y"
        },
        {
         "alignmentgroup": "True",
         "hovertemplate": "topic=%{x}<br>counts=%{text}<extra></extra>",
         "legendgroup": "neurotech",
         "marker": {
          "color": "rgb(225, 124, 5)",
          "pattern": {
           "shape": ""
          }
         },
         "name": "neurotech",
         "offsetgroup": "neurotech",
         "orientation": "v",
         "showlegend": true,
         "text": [
          "688"
         ],
         "textposition": "auto",
         "type": "bar",
         "x": [
          "neurotech"
         ],
         "xaxis": "x",
         "y": [
          688
         ],
         "yaxis": "y"
        }
       ],
       "layout": {
        "barmode": "stack",
        "legend": {
         "title": {
          "text": "topic"
         },
         "tracegroupgap": 0
        },
        "margin": {
         "t": 60
        },
        "template": {
         "data": {
          "bar": [
           {
            "error_x": {
             "color": "#2a3f5f"
            },
            "error_y": {
             "color": "#2a3f5f"
            },
            "marker": {
             "line": {
              "color": "#E5ECF6",
              "width": 0.5
             },
             "pattern": {
              "fillmode": "overlay",
              "size": 10,
              "solidity": 0.2
             }
            },
            "type": "bar"
           }
          ],
          "barpolar": [
           {
            "marker": {
             "line": {
              "color": "#E5ECF6",
              "width": 0.5
             },
             "pattern": {
              "fillmode": "overlay",
              "size": 10,
              "solidity": 0.2
             }
            },
            "type": "barpolar"
           }
          ],
          "carpet": [
           {
            "aaxis": {
             "endlinecolor": "#2a3f5f",
             "gridcolor": "white",
             "linecolor": "white",
             "minorgridcolor": "white",
             "startlinecolor": "#2a3f5f"
            },
            "baxis": {
             "endlinecolor": "#2a3f5f",
             "gridcolor": "white",
             "linecolor": "white",
             "minorgridcolor": "white",
             "startlinecolor": "#2a3f5f"
            },
            "type": "carpet"
           }
          ],
          "choropleth": [
           {
            "colorbar": {
             "outlinewidth": 0,
             "ticks": ""
            },
            "type": "choropleth"
           }
          ],
          "contour": [
           {
            "colorbar": {
             "outlinewidth": 0,
             "ticks": ""
            },
            "colorscale": [
             [
              0,
              "#0d0887"
             ],
             [
              0.1111111111111111,
              "#46039f"
             ],
             [
              0.2222222222222222,
              "#7201a8"
             ],
             [
              0.3333333333333333,
              "#9c179e"
             ],
             [
              0.4444444444444444,
              "#bd3786"
             ],
             [
              0.5555555555555556,
              "#d8576b"
             ],
             [
              0.6666666666666666,
              "#ed7953"
             ],
             [
              0.7777777777777778,
              "#fb9f3a"
             ],
             [
              0.8888888888888888,
              "#fdca26"
             ],
             [
              1,
              "#f0f921"
             ]
            ],
            "type": "contour"
           }
          ],
          "contourcarpet": [
           {
            "colorbar": {
             "outlinewidth": 0,
             "ticks": ""
            },
            "type": "contourcarpet"
           }
          ],
          "heatmap": [
           {
            "colorbar": {
             "outlinewidth": 0,
             "ticks": ""
            },
            "colorscale": [
             [
              0,
              "#0d0887"
             ],
             [
              0.1111111111111111,
              "#46039f"
             ],
             [
              0.2222222222222222,
              "#7201a8"
             ],
             [
              0.3333333333333333,
              "#9c179e"
             ],
             [
              0.4444444444444444,
              "#bd3786"
             ],
             [
              0.5555555555555556,
              "#d8576b"
             ],
             [
              0.6666666666666666,
              "#ed7953"
             ],
             [
              0.7777777777777778,
              "#fb9f3a"
             ],
             [
              0.8888888888888888,
              "#fdca26"
             ],
             [
              1,
              "#f0f921"
             ]
            ],
            "type": "heatmap"
           }
          ],
          "heatmapgl": [
           {
            "colorbar": {
             "outlinewidth": 0,
             "ticks": ""
            },
            "colorscale": [
             [
              0,
              "#0d0887"
             ],
             [
              0.1111111111111111,
              "#46039f"
             ],
             [
              0.2222222222222222,
              "#7201a8"
             ],
             [
              0.3333333333333333,
              "#9c179e"
             ],
             [
              0.4444444444444444,
              "#bd3786"
             ],
             [
              0.5555555555555556,
              "#d8576b"
             ],
             [
              0.6666666666666666,
              "#ed7953"
             ],
             [
              0.7777777777777778,
              "#fb9f3a"
             ],
             [
              0.8888888888888888,
              "#fdca26"
             ],
             [
              1,
              "#f0f921"
             ]
            ],
            "type": "heatmapgl"
           }
          ],
          "histogram": [
           {
            "marker": {
             "pattern": {
              "fillmode": "overlay",
              "size": 10,
              "solidity": 0.2
             }
            },
            "type": "histogram"
           }
          ],
          "histogram2d": [
           {
            "colorbar": {
             "outlinewidth": 0,
             "ticks": ""
            },
            "colorscale": [
             [
              0,
              "#0d0887"
             ],
             [
              0.1111111111111111,
              "#46039f"
             ],
             [
              0.2222222222222222,
              "#7201a8"
             ],
             [
              0.3333333333333333,
              "#9c179e"
             ],
             [
              0.4444444444444444,
              "#bd3786"
             ],
             [
              0.5555555555555556,
              "#d8576b"
             ],
             [
              0.6666666666666666,
              "#ed7953"
             ],
             [
              0.7777777777777778,
              "#fb9f3a"
             ],
             [
              0.8888888888888888,
              "#fdca26"
             ],
             [
              1,
              "#f0f921"
             ]
            ],
            "type": "histogram2d"
           }
          ],
          "histogram2dcontour": [
           {
            "colorbar": {
             "outlinewidth": 0,
             "ticks": ""
            },
            "colorscale": [
             [
              0,
              "#0d0887"
             ],
             [
              0.1111111111111111,
              "#46039f"
             ],
             [
              0.2222222222222222,
              "#7201a8"
             ],
             [
              0.3333333333333333,
              "#9c179e"
             ],
             [
              0.4444444444444444,
              "#bd3786"
             ],
             [
              0.5555555555555556,
              "#d8576b"
             ],
             [
              0.6666666666666666,
              "#ed7953"
             ],
             [
              0.7777777777777778,
              "#fb9f3a"
             ],
             [
              0.8888888888888888,
              "#fdca26"
             ],
             [
              1,
              "#f0f921"
             ]
            ],
            "type": "histogram2dcontour"
           }
          ],
          "mesh3d": [
           {
            "colorbar": {
             "outlinewidth": 0,
             "ticks": ""
            },
            "type": "mesh3d"
           }
          ],
          "parcoords": [
           {
            "line": {
             "colorbar": {
              "outlinewidth": 0,
              "ticks": ""
             }
            },
            "type": "parcoords"
           }
          ],
          "pie": [
           {
            "automargin": true,
            "type": "pie"
           }
          ],
          "scatter": [
           {
            "marker": {
             "colorbar": {
              "outlinewidth": 0,
              "ticks": ""
             }
            },
            "type": "scatter"
           }
          ],
          "scatter3d": [
           {
            "line": {
             "colorbar": {
              "outlinewidth": 0,
              "ticks": ""
             }
            },
            "marker": {
             "colorbar": {
              "outlinewidth": 0,
              "ticks": ""
             }
            },
            "type": "scatter3d"
           }
          ],
          "scattercarpet": [
           {
            "marker": {
             "colorbar": {
              "outlinewidth": 0,
              "ticks": ""
             }
            },
            "type": "scattercarpet"
           }
          ],
          "scattergeo": [
           {
            "marker": {
             "colorbar": {
              "outlinewidth": 0,
              "ticks": ""
             }
            },
            "type": "scattergeo"
           }
          ],
          "scattergl": [
           {
            "marker": {
             "colorbar": {
              "outlinewidth": 0,
              "ticks": ""
             }
            },
            "type": "scattergl"
           }
          ],
          "scattermapbox": [
           {
            "marker": {
             "colorbar": {
              "outlinewidth": 0,
              "ticks": ""
             }
            },
            "type": "scattermapbox"
           }
          ],
          "scatterpolar": [
           {
            "marker": {
             "colorbar": {
              "outlinewidth": 0,
              "ticks": ""
             }
            },
            "type": "scatterpolar"
           }
          ],
          "scatterpolargl": [
           {
            "marker": {
             "colorbar": {
              "outlinewidth": 0,
              "ticks": ""
             }
            },
            "type": "scatterpolargl"
           }
          ],
          "scatterternary": [
           {
            "marker": {
             "colorbar": {
              "outlinewidth": 0,
              "ticks": ""
             }
            },
            "type": "scatterternary"
           }
          ],
          "surface": [
           {
            "colorbar": {
             "outlinewidth": 0,
             "ticks": ""
            },
            "colorscale": [
             [
              0,
              "#0d0887"
             ],
             [
              0.1111111111111111,
              "#46039f"
             ],
             [
              0.2222222222222222,
              "#7201a8"
             ],
             [
              0.3333333333333333,
              "#9c179e"
             ],
             [
              0.4444444444444444,
              "#bd3786"
             ],
             [
              0.5555555555555556,
              "#d8576b"
             ],
             [
              0.6666666666666666,
              "#ed7953"
             ],
             [
              0.7777777777777778,
              "#fb9f3a"
             ],
             [
              0.8888888888888888,
              "#fdca26"
             ],
             [
              1,
              "#f0f921"
             ]
            ],
            "type": "surface"
           }
          ],
          "table": [
           {
            "cells": {
             "fill": {
              "color": "#EBF0F8"
             },
             "line": {
              "color": "white"
             }
            },
            "header": {
             "fill": {
              "color": "#C8D4E3"
             },
             "line": {
              "color": "white"
             }
            },
            "type": "table"
           }
          ]
         },
         "layout": {
          "annotationdefaults": {
           "arrowcolor": "#2a3f5f",
           "arrowhead": 0,
           "arrowwidth": 1
          },
          "autotypenumbers": "strict",
          "coloraxis": {
           "colorbar": {
            "outlinewidth": 0,
            "ticks": ""
           }
          },
          "colorscale": {
           "diverging": [
            [
             0,
             "#8e0152"
            ],
            [
             0.1,
             "#c51b7d"
            ],
            [
             0.2,
             "#de77ae"
            ],
            [
             0.3,
             "#f1b6da"
            ],
            [
             0.4,
             "#fde0ef"
            ],
            [
             0.5,
             "#f7f7f7"
            ],
            [
             0.6,
             "#e6f5d0"
            ],
            [
             0.7,
             "#b8e186"
            ],
            [
             0.8,
             "#7fbc41"
            ],
            [
             0.9,
             "#4d9221"
            ],
            [
             1,
             "#276419"
            ]
           ],
           "sequential": [
            [
             0,
             "#0d0887"
            ],
            [
             0.1111111111111111,
             "#46039f"
            ],
            [
             0.2222222222222222,
             "#7201a8"
            ],
            [
             0.3333333333333333,
             "#9c179e"
            ],
            [
             0.4444444444444444,
             "#bd3786"
            ],
            [
             0.5555555555555556,
             "#d8576b"
            ],
            [
             0.6666666666666666,
             "#ed7953"
            ],
            [
             0.7777777777777778,
             "#fb9f3a"
            ],
            [
             0.8888888888888888,
             "#fdca26"
            ],
            [
             1,
             "#f0f921"
            ]
           ],
           "sequentialminus": [
            [
             0,
             "#0d0887"
            ],
            [
             0.1111111111111111,
             "#46039f"
            ],
            [
             0.2222222222222222,
             "#7201a8"
            ],
            [
             0.3333333333333333,
             "#9c179e"
            ],
            [
             0.4444444444444444,
             "#bd3786"
            ],
            [
             0.5555555555555556,
             "#d8576b"
            ],
            [
             0.6666666666666666,
             "#ed7953"
            ],
            [
             0.7777777777777778,
             "#fb9f3a"
            ],
            [
             0.8888888888888888,
             "#fdca26"
            ],
            [
             1,
             "#f0f921"
            ]
           ]
          },
          "colorway": [
           "#636efa",
           "#EF553B",
           "#00cc96",
           "#ab63fa",
           "#FFA15A",
           "#19d3f3",
           "#FF6692",
           "#B6E880",
           "#FF97FF",
           "#FECB52"
          ],
          "font": {
           "color": "#2a3f5f"
          },
          "geo": {
           "bgcolor": "white",
           "lakecolor": "white",
           "landcolor": "#E5ECF6",
           "showlakes": true,
           "showland": true,
           "subunitcolor": "white"
          },
          "hoverlabel": {
           "align": "left"
          },
          "hovermode": "closest",
          "mapbox": {
           "style": "light"
          },
          "paper_bgcolor": "white",
          "plot_bgcolor": "#E5ECF6",
          "polar": {
           "angularaxis": {
            "gridcolor": "white",
            "linecolor": "white",
            "ticks": ""
           },
           "bgcolor": "#E5ECF6",
           "radialaxis": {
            "gridcolor": "white",
            "linecolor": "white",
            "ticks": ""
           }
          },
          "scene": {
           "xaxis": {
            "backgroundcolor": "#E5ECF6",
            "gridcolor": "white",
            "gridwidth": 2,
            "linecolor": "white",
            "showbackground": true,
            "ticks": "",
            "zerolinecolor": "white"
           },
           "yaxis": {
            "backgroundcolor": "#E5ECF6",
            "gridcolor": "white",
            "gridwidth": 2,
            "linecolor": "white",
            "showbackground": true,
            "ticks": "",
            "zerolinecolor": "white"
           },
           "zaxis": {
            "backgroundcolor": "#E5ECF6",
            "gridcolor": "white",
            "gridwidth": 2,
            "linecolor": "white",
            "showbackground": true,
            "ticks": "",
            "zerolinecolor": "white"
           }
          },
          "shapedefaults": {
           "line": {
            "color": "#2a3f5f"
           }
          },
          "ternary": {
           "aaxis": {
            "gridcolor": "white",
            "linecolor": "white",
            "ticks": ""
           },
           "baxis": {
            "gridcolor": "white",
            "linecolor": "white",
            "ticks": ""
           },
           "bgcolor": "#E5ECF6",
           "caxis": {
            "gridcolor": "white",
            "linecolor": "white",
            "ticks": ""
           }
          },
          "title": {
           "x": 0.05
          },
          "xaxis": {
           "automargin": true,
           "gridcolor": "white",
           "linecolor": "white",
           "ticks": "",
           "title": {
            "standoff": 15
           },
           "zerolinecolor": "white",
           "zerolinewidth": 2
          },
          "yaxis": {
           "automargin": true,
           "gridcolor": "white",
           "linecolor": "white",
           "ticks": "",
           "title": {
            "standoff": 15
           },
           "zerolinecolor": "white",
           "zerolinewidth": 2
          }
         }
        },
        "title": {
         "text": "Number news per topic",
         "x": 0.5,
         "xanchor": "center",
         "y": 0.95,
         "yanchor": "top"
        },
        "xaxis": {
         "anchor": "y",
         "categoryarray": [
          "digitalxr",
          "climate",
          "neurotech"
         ],
         "categoryorder": "array",
         "domain": [
          0,
          1
         ],
         "tickangle": 0,
         "title": {
          "text": "Date"
         },
         "type": "category"
        },
        "yaxis": {
         "anchor": "x",
         "domain": [
          0,
          1
         ],
         "title": {
          "text": "N news stories"
         }
        }
       }
      },
      "text/html": [
       "<div>                            <div id=\"42cf8904-e9f0-4e28-b147-7050031c6773\" class=\"plotly-graph-div\" style=\"height:525px; width:100%;\"></div>            <script type=\"text/javascript\">                require([\"plotly\"], function(Plotly) {                    window.PLOTLYENV=window.PLOTLYENV || {};                                    if (document.getElementById(\"42cf8904-e9f0-4e28-b147-7050031c6773\")) {                    Plotly.newPlot(                        \"42cf8904-e9f0-4e28-b147-7050031c6773\",                        [{\"alignmentgroup\":\"True\",\"hovertemplate\":\"topic=%{x}<br>counts=%{text}<extra></extra>\",\"legendgroup\":\"digitalxr\",\"marker\":{\"color\":\"rgb(29, 105, 150)\",\"pattern\":{\"shape\":\"\"}},\"name\":\"digitalxr\",\"offsetgroup\":\"digitalxr\",\"orientation\":\"v\",\"showlegend\":true,\"text\":[\"8115\"],\"textposition\":\"auto\",\"type\":\"bar\",\"x\":[\"digitalxr\"],\"xaxis\":\"x\",\"y\":[8115],\"yaxis\":\"y\"},{\"alignmentgroup\":\"True\",\"hovertemplate\":\"topic=%{x}<br>counts=%{text}<extra></extra>\",\"legendgroup\":\"climate\",\"marker\":{\"color\":\"rgb(115, 175, 72)\",\"pattern\":{\"shape\":\"\"}},\"name\":\"climate\",\"offsetgroup\":\"climate\",\"orientation\":\"v\",\"showlegend\":true,\"text\":[\"4749\"],\"textposition\":\"auto\",\"type\":\"bar\",\"x\":[\"climate\"],\"xaxis\":\"x\",\"y\":[4749],\"yaxis\":\"y\"},{\"alignmentgroup\":\"True\",\"hovertemplate\":\"topic=%{x}<br>counts=%{text}<extra></extra>\",\"legendgroup\":\"neurotech\",\"marker\":{\"color\":\"rgb(225, 124, 5)\",\"pattern\":{\"shape\":\"\"}},\"name\":\"neurotech\",\"offsetgroup\":\"neurotech\",\"orientation\":\"v\",\"showlegend\":true,\"text\":[\"688\"],\"textposition\":\"auto\",\"type\":\"bar\",\"x\":[\"neurotech\"],\"xaxis\":\"x\",\"y\":[688],\"yaxis\":\"y\"}],                        {\"barmode\":\"stack\",\"legend\":{\"title\":{\"text\":\"topic\"},\"tracegroupgap\":0},\"margin\":{\"t\":60},\"template\":{\"data\":{\"bar\":[{\"error_x\":{\"color\":\"#2a3f5f\"},\"error_y\":{\"color\":\"#2a3f5f\"},\"marker\":{\"line\":{\"color\":\"#E5ECF6\",\"width\":0.5},\"pattern\":{\"fillmode\":\"overlay\",\"size\":10,\"solidity\":0.2}},\"type\":\"bar\"}],\"barpolar\":[{\"marker\":{\"line\":{\"color\":\"#E5ECF6\",\"width\":0.5},\"pattern\":{\"fillmode\":\"overlay\",\"size\":10,\"solidity\":0.2}},\"type\":\"barpolar\"}],\"carpet\":[{\"aaxis\":{\"endlinecolor\":\"#2a3f5f\",\"gridcolor\":\"white\",\"linecolor\":\"white\",\"minorgridcolor\":\"white\",\"startlinecolor\":\"#2a3f5f\"},\"baxis\":{\"endlinecolor\":\"#2a3f5f\",\"gridcolor\":\"white\",\"linecolor\":\"white\",\"minorgridcolor\":\"white\",\"startlinecolor\":\"#2a3f5f\"},\"type\":\"carpet\"}],\"choropleth\":[{\"colorbar\":{\"outlinewidth\":0,\"ticks\":\"\"},\"type\":\"choropleth\"}],\"contour\":[{\"colorbar\":{\"outlinewidth\":0,\"ticks\":\"\"},\"colorscale\":[[0.0,\"#0d0887\"],[0.1111111111111111,\"#46039f\"],[0.2222222222222222,\"#7201a8\"],[0.3333333333333333,\"#9c179e\"],[0.4444444444444444,\"#bd3786\"],[0.5555555555555556,\"#d8576b\"],[0.6666666666666666,\"#ed7953\"],[0.7777777777777778,\"#fb9f3a\"],[0.8888888888888888,\"#fdca26\"],[1.0,\"#f0f921\"]],\"type\":\"contour\"}],\"contourcarpet\":[{\"colorbar\":{\"outlinewidth\":0,\"ticks\":\"\"},\"type\":\"contourcarpet\"}],\"heatmap\":[{\"colorbar\":{\"outlinewidth\":0,\"ticks\":\"\"},\"colorscale\":[[0.0,\"#0d0887\"],[0.1111111111111111,\"#46039f\"],[0.2222222222222222,\"#7201a8\"],[0.3333333333333333,\"#9c179e\"],[0.4444444444444444,\"#bd3786\"],[0.5555555555555556,\"#d8576b\"],[0.6666666666666666,\"#ed7953\"],[0.7777777777777778,\"#fb9f3a\"],[0.8888888888888888,\"#fdca26\"],[1.0,\"#f0f921\"]],\"type\":\"heatmap\"}],\"heatmapgl\":[{\"colorbar\":{\"outlinewidth\":0,\"ticks\":\"\"},\"colorscale\":[[0.0,\"#0d0887\"],[0.1111111111111111,\"#46039f\"],[0.2222222222222222,\"#7201a8\"],[0.3333333333333333,\"#9c179e\"],[0.4444444444444444,\"#bd3786\"],[0.5555555555555556,\"#d8576b\"],[0.6666666666666666,\"#ed7953\"],[0.7777777777777778,\"#fb9f3a\"],[0.8888888888888888,\"#fdca26\"],[1.0,\"#f0f921\"]],\"type\":\"heatmapgl\"}],\"histogram\":[{\"marker\":{\"pattern\":{\"fillmode\":\"overlay\",\"size\":10,\"solidity\":0.2}},\"type\":\"histogram\"}],\"histogram2d\":[{\"colorbar\":{\"outlinewidth\":0,\"ticks\":\"\"},\"colorscale\":[[0.0,\"#0d0887\"],[0.1111111111111111,\"#46039f\"],[0.2222222222222222,\"#7201a8\"],[0.3333333333333333,\"#9c179e\"],[0.4444444444444444,\"#bd3786\"],[0.5555555555555556,\"#d8576b\"],[0.6666666666666666,\"#ed7953\"],[0.7777777777777778,\"#fb9f3a\"],[0.8888888888888888,\"#fdca26\"],[1.0,\"#f0f921\"]],\"type\":\"histogram2d\"}],\"histogram2dcontour\":[{\"colorbar\":{\"outlinewidth\":0,\"ticks\":\"\"},\"colorscale\":[[0.0,\"#0d0887\"],[0.1111111111111111,\"#46039f\"],[0.2222222222222222,\"#7201a8\"],[0.3333333333333333,\"#9c179e\"],[0.4444444444444444,\"#bd3786\"],[0.5555555555555556,\"#d8576b\"],[0.6666666666666666,\"#ed7953\"],[0.7777777777777778,\"#fb9f3a\"],[0.8888888888888888,\"#fdca26\"],[1.0,\"#f0f921\"]],\"type\":\"histogram2dcontour\"}],\"mesh3d\":[{\"colorbar\":{\"outlinewidth\":0,\"ticks\":\"\"},\"type\":\"mesh3d\"}],\"parcoords\":[{\"line\":{\"colorbar\":{\"outlinewidth\":0,\"ticks\":\"\"}},\"type\":\"parcoords\"}],\"pie\":[{\"automargin\":true,\"type\":\"pie\"}],\"scatter\":[{\"marker\":{\"colorbar\":{\"outlinewidth\":0,\"ticks\":\"\"}},\"type\":\"scatter\"}],\"scatter3d\":[{\"line\":{\"colorbar\":{\"outlinewidth\":0,\"ticks\":\"\"}},\"marker\":{\"colorbar\":{\"outlinewidth\":0,\"ticks\":\"\"}},\"type\":\"scatter3d\"}],\"scattercarpet\":[{\"marker\":{\"colorbar\":{\"outlinewidth\":0,\"ticks\":\"\"}},\"type\":\"scattercarpet\"}],\"scattergeo\":[{\"marker\":{\"colorbar\":{\"outlinewidth\":0,\"ticks\":\"\"}},\"type\":\"scattergeo\"}],\"scattergl\":[{\"marker\":{\"colorbar\":{\"outlinewidth\":0,\"ticks\":\"\"}},\"type\":\"scattergl\"}],\"scattermapbox\":[{\"marker\":{\"colorbar\":{\"outlinewidth\":0,\"ticks\":\"\"}},\"type\":\"scattermapbox\"}],\"scatterpolar\":[{\"marker\":{\"colorbar\":{\"outlinewidth\":0,\"ticks\":\"\"}},\"type\":\"scatterpolar\"}],\"scatterpolargl\":[{\"marker\":{\"colorbar\":{\"outlinewidth\":0,\"ticks\":\"\"}},\"type\":\"scatterpolargl\"}],\"scatterternary\":[{\"marker\":{\"colorbar\":{\"outlinewidth\":0,\"ticks\":\"\"}},\"type\":\"scatterternary\"}],\"surface\":[{\"colorbar\":{\"outlinewidth\":0,\"ticks\":\"\"},\"colorscale\":[[0.0,\"#0d0887\"],[0.1111111111111111,\"#46039f\"],[0.2222222222222222,\"#7201a8\"],[0.3333333333333333,\"#9c179e\"],[0.4444444444444444,\"#bd3786\"],[0.5555555555555556,\"#d8576b\"],[0.6666666666666666,\"#ed7953\"],[0.7777777777777778,\"#fb9f3a\"],[0.8888888888888888,\"#fdca26\"],[1.0,\"#f0f921\"]],\"type\":\"surface\"}],\"table\":[{\"cells\":{\"fill\":{\"color\":\"#EBF0F8\"},\"line\":{\"color\":\"white\"}},\"header\":{\"fill\":{\"color\":\"#C8D4E3\"},\"line\":{\"color\":\"white\"}},\"type\":\"table\"}]},\"layout\":{\"annotationdefaults\":{\"arrowcolor\":\"#2a3f5f\",\"arrowhead\":0,\"arrowwidth\":1},\"autotypenumbers\":\"strict\",\"coloraxis\":{\"colorbar\":{\"outlinewidth\":0,\"ticks\":\"\"}},\"colorscale\":{\"diverging\":[[0,\"#8e0152\"],[0.1,\"#c51b7d\"],[0.2,\"#de77ae\"],[0.3,\"#f1b6da\"],[0.4,\"#fde0ef\"],[0.5,\"#f7f7f7\"],[0.6,\"#e6f5d0\"],[0.7,\"#b8e186\"],[0.8,\"#7fbc41\"],[0.9,\"#4d9221\"],[1,\"#276419\"]],\"sequential\":[[0.0,\"#0d0887\"],[0.1111111111111111,\"#46039f\"],[0.2222222222222222,\"#7201a8\"],[0.3333333333333333,\"#9c179e\"],[0.4444444444444444,\"#bd3786\"],[0.5555555555555556,\"#d8576b\"],[0.6666666666666666,\"#ed7953\"],[0.7777777777777778,\"#fb9f3a\"],[0.8888888888888888,\"#fdca26\"],[1.0,\"#f0f921\"]],\"sequentialminus\":[[0.0,\"#0d0887\"],[0.1111111111111111,\"#46039f\"],[0.2222222222222222,\"#7201a8\"],[0.3333333333333333,\"#9c179e\"],[0.4444444444444444,\"#bd3786\"],[0.5555555555555556,\"#d8576b\"],[0.6666666666666666,\"#ed7953\"],[0.7777777777777778,\"#fb9f3a\"],[0.8888888888888888,\"#fdca26\"],[1.0,\"#f0f921\"]]},\"colorway\":[\"#636efa\",\"#EF553B\",\"#00cc96\",\"#ab63fa\",\"#FFA15A\",\"#19d3f3\",\"#FF6692\",\"#B6E880\",\"#FF97FF\",\"#FECB52\"],\"font\":{\"color\":\"#2a3f5f\"},\"geo\":{\"bgcolor\":\"white\",\"lakecolor\":\"white\",\"landcolor\":\"#E5ECF6\",\"showlakes\":true,\"showland\":true,\"subunitcolor\":\"white\"},\"hoverlabel\":{\"align\":\"left\"},\"hovermode\":\"closest\",\"mapbox\":{\"style\":\"light\"},\"paper_bgcolor\":\"white\",\"plot_bgcolor\":\"#E5ECF6\",\"polar\":{\"angularaxis\":{\"gridcolor\":\"white\",\"linecolor\":\"white\",\"ticks\":\"\"},\"bgcolor\":\"#E5ECF6\",\"radialaxis\":{\"gridcolor\":\"white\",\"linecolor\":\"white\",\"ticks\":\"\"}},\"scene\":{\"xaxis\":{\"backgroundcolor\":\"#E5ECF6\",\"gridcolor\":\"white\",\"gridwidth\":2,\"linecolor\":\"white\",\"showbackground\":true,\"ticks\":\"\",\"zerolinecolor\":\"white\"},\"yaxis\":{\"backgroundcolor\":\"#E5ECF6\",\"gridcolor\":\"white\",\"gridwidth\":2,\"linecolor\":\"white\",\"showbackground\":true,\"ticks\":\"\",\"zerolinecolor\":\"white\"},\"zaxis\":{\"backgroundcolor\":\"#E5ECF6\",\"gridcolor\":\"white\",\"gridwidth\":2,\"linecolor\":\"white\",\"showbackground\":true,\"ticks\":\"\",\"zerolinecolor\":\"white\"}},\"shapedefaults\":{\"line\":{\"color\":\"#2a3f5f\"}},\"ternary\":{\"aaxis\":{\"gridcolor\":\"white\",\"linecolor\":\"white\",\"ticks\":\"\"},\"baxis\":{\"gridcolor\":\"white\",\"linecolor\":\"white\",\"ticks\":\"\"},\"bgcolor\":\"#E5ECF6\",\"caxis\":{\"gridcolor\":\"white\",\"linecolor\":\"white\",\"ticks\":\"\"}},\"title\":{\"x\":0.05},\"xaxis\":{\"automargin\":true,\"gridcolor\":\"white\",\"linecolor\":\"white\",\"ticks\":\"\",\"title\":{\"standoff\":15},\"zerolinecolor\":\"white\",\"zerolinewidth\":2},\"yaxis\":{\"automargin\":true,\"gridcolor\":\"white\",\"linecolor\":\"white\",\"ticks\":\"\",\"title\":{\"standoff\":15},\"zerolinecolor\":\"white\",\"zerolinewidth\":2}}},\"title\":{\"text\":\"Number news per topic\",\"x\":0.5,\"xanchor\":\"center\",\"y\":0.95,\"yanchor\":\"top\"},\"xaxis\":{\"anchor\":\"y\",\"categoryarray\":[\"digitalxr\",\"climate\",\"neurotech\"],\"categoryorder\":\"array\",\"domain\":[0.0,1.0],\"tickangle\":0,\"title\":{\"text\":\"Date\"},\"type\":\"category\"},\"yaxis\":{\"anchor\":\"x\",\"domain\":[0.0,1.0],\"title\":{\"text\":\"N news stories\"}}},                        {\"responsive\": true}                    ).then(function(){\n",
       "                            \n",
       "var gd = document.getElementById('42cf8904-e9f0-4e28-b147-7050031c6773');\n",
       "var x = new MutationObserver(function (mutations, observer) {{\n",
       "        var display = window.getComputedStyle(gd).display;\n",
       "        if (!display || display === 'none') {{\n",
       "            console.log([gd, 'removed!']);\n",
       "            Plotly.purge(gd);\n",
       "            observer.disconnect();\n",
       "        }}\n",
       "}});\n",
       "\n",
       "// Listen for the removal of the full notebook cells\n",
       "var notebookContainer = gd.closest('#notebook-container');\n",
       "if (notebookContainer) {{\n",
       "    x.observe(notebookContainer, {childList: true});\n",
       "}}\n",
       "\n",
       "// Listen for the clearing of the current output cell\n",
       "var outputEl = gd.closest('.output');\n",
       "if (outputEl) {{\n",
       "    x.observe(outputEl, {childList: true});\n",
       "}}\n",
       "\n",
       "                        })                };                });            </script>        </div>"
      ]
     },
     "metadata": {},
     "output_type": "display_data"
    }
   ],
   "source": [
    "fig = px.bar(dfvc, x=\"topic\", y=\"counts\",\n",
    "             color='topic',text='counts',color_discrete_map={'climate':px.colors.qualitative.Prism[4],\n",
    "                                                            'digitalxr': px.colors.qualitative.Prism[1],\n",
    "                                                            'neurotech': px.colors.qualitative.Prism[6]})\n",
    "# Change the bar mode\n",
    "fig.update_layout(barmode='stack')\n",
    "fig.update_xaxes(type='category')\n",
    "fig.update_layout(\n",
    "            title={\n",
    "            'text': 'Number news per topic' ,\n",
    "            'y':0.95,\n",
    "            'x':0.5,\n",
    "            'xanchor': 'center',\n",
    "            'yanchor': 'top'},\n",
    "            xaxis_title=\"Date\",\n",
    "            yaxis_title=\"N news stories\" )\n",
    "fig.update_xaxes(tickangle=0)\n",
    "IMG_NAME = 'all_counts_bar_nodigitalxr.png'\n",
    "PATH_IMG = PATH_MAIN + '/plots_raw/' + IMG_NAME\n",
    "#fig.write_image(PATH_IMG)\n",
    "fig.show()"
   ]
  },
  {
   "cell_type": "code",
   "execution_count": 15,
   "id": "165d61b1",
   "metadata": {},
   "outputs": [],
   "source": [
    "\n",
    "dfcc = df_all.groupby(['country']).size().rename_axis('country').to_frame('counts')\n",
    "dfcc['country'] = dfcc.index\n",
    "dfcc.index = list(range(len(dfcc)))\n",
    "dfccs = dfcc.sort_values(by='counts',ascending=False)"
   ]
  },
  {
   "cell_type": "code",
   "execution_count": 16,
   "id": "400d0ae9",
   "metadata": {},
   "outputs": [
    {
     "data": {
      "text/html": [
       "<div>\n",
       "<style scoped>\n",
       "    .dataframe tbody tr th:only-of-type {\n",
       "        vertical-align: middle;\n",
       "    }\n",
       "\n",
       "    .dataframe tbody tr th {\n",
       "        vertical-align: top;\n",
       "    }\n",
       "\n",
       "    .dataframe thead th {\n",
       "        text-align: right;\n",
       "    }\n",
       "</style>\n",
       "<table border=\"1\" class=\"dataframe\">\n",
       "  <thead>\n",
       "    <tr style=\"text-align: right;\">\n",
       "      <th></th>\n",
       "      <th>counts</th>\n",
       "      <th>country</th>\n",
       "    </tr>\n",
       "  </thead>\n",
       "  <tbody>\n",
       "    <tr>\n",
       "      <th>12</th>\n",
       "      <td>3423</td>\n",
       "      <td>us</td>\n",
       "    </tr>\n",
       "    <tr>\n",
       "      <th>4</th>\n",
       "      <td>2091</td>\n",
       "      <td>fr</td>\n",
       "    </tr>\n",
       "    <tr>\n",
       "      <th>7</th>\n",
       "      <td>1879</td>\n",
       "      <td>it</td>\n",
       "    </tr>\n",
       "    <tr>\n",
       "      <th>5</th>\n",
       "      <td>1651</td>\n",
       "      <td>gb</td>\n",
       "    </tr>\n",
       "    <tr>\n",
       "      <th>2</th>\n",
       "      <td>1195</td>\n",
       "      <td>de</td>\n",
       "    </tr>\n",
       "    <tr>\n",
       "      <th>6</th>\n",
       "      <td>940</td>\n",
       "      <td>ie</td>\n",
       "    </tr>\n",
       "    <tr>\n",
       "      <th>9</th>\n",
       "      <td>617</td>\n",
       "      <td>ro</td>\n",
       "    </tr>\n",
       "    <tr>\n",
       "      <th>3</th>\n",
       "      <td>489</td>\n",
       "      <td>es</td>\n",
       "    </tr>\n",
       "    <tr>\n",
       "      <th>11</th>\n",
       "      <td>334</td>\n",
       "      <td>se</td>\n",
       "    </tr>\n",
       "    <tr>\n",
       "      <th>10</th>\n",
       "      <td>311</td>\n",
       "      <td>rs</td>\n",
       "    </tr>\n",
       "    <tr>\n",
       "      <th>8</th>\n",
       "      <td>246</td>\n",
       "      <td>nl</td>\n",
       "    </tr>\n",
       "    <tr>\n",
       "      <th>1</th>\n",
       "      <td>203</td>\n",
       "      <td>cz</td>\n",
       "    </tr>\n",
       "    <tr>\n",
       "      <th>0</th>\n",
       "      <td>173</td>\n",
       "      <td>at</td>\n",
       "    </tr>\n",
       "  </tbody>\n",
       "</table>\n",
       "</div>"
      ],
      "text/plain": [
       "    counts country\n",
       "12    3423      us\n",
       "4     2091      fr\n",
       "7     1879      it\n",
       "5     1651      gb\n",
       "2     1195      de\n",
       "6      940      ie\n",
       "9      617      ro\n",
       "3      489      es\n",
       "11     334      se\n",
       "10     311      rs\n",
       "8      246      nl\n",
       "1      203      cz\n",
       "0      173      at"
      ]
     },
     "execution_count": 16,
     "metadata": {},
     "output_type": "execute_result"
    }
   ],
   "source": [
    "dfccs"
   ]
  },
  {
   "cell_type": "code",
   "execution_count": 391,
   "id": "8c76fbda",
   "metadata": {},
   "outputs": [
    {
     "data": {
      "application/vnd.plotly.v1+json": {
       "config": {
        "plotlyServerURL": "https://plot.ly"
       },
       "data": [
        {
         "marker": {
          "color": "rgb(102, 102, 102)"
         },
         "text": [
          "173",
          "203",
          "1195",
          "489",
          "2091",
          "1651",
          "940",
          "1879",
          "246",
          "617",
          "311",
          "334",
          "3423"
         ],
         "type": "bar",
         "x": [
          "at",
          "cz",
          "de",
          "es",
          "fr",
          "gb",
          "ie",
          "it",
          "nl",
          "ro",
          "rs",
          "se",
          "us"
         ],
         "y": [
          173,
          203,
          1195,
          489,
          2091,
          1651,
          940,
          1879,
          246,
          617,
          311,
          334,
          3423
         ]
        }
       ],
       "layout": {
        "template": {
         "data": {
          "bar": [
           {
            "error_x": {
             "color": "#2a3f5f"
            },
            "error_y": {
             "color": "#2a3f5f"
            },
            "marker": {
             "line": {
              "color": "#E5ECF6",
              "width": 0.5
             },
             "pattern": {
              "fillmode": "overlay",
              "size": 10,
              "solidity": 0.2
             }
            },
            "type": "bar"
           }
          ],
          "barpolar": [
           {
            "marker": {
             "line": {
              "color": "#E5ECF6",
              "width": 0.5
             },
             "pattern": {
              "fillmode": "overlay",
              "size": 10,
              "solidity": 0.2
             }
            },
            "type": "barpolar"
           }
          ],
          "carpet": [
           {
            "aaxis": {
             "endlinecolor": "#2a3f5f",
             "gridcolor": "white",
             "linecolor": "white",
             "minorgridcolor": "white",
             "startlinecolor": "#2a3f5f"
            },
            "baxis": {
             "endlinecolor": "#2a3f5f",
             "gridcolor": "white",
             "linecolor": "white",
             "minorgridcolor": "white",
             "startlinecolor": "#2a3f5f"
            },
            "type": "carpet"
           }
          ],
          "choropleth": [
           {
            "colorbar": {
             "outlinewidth": 0,
             "ticks": ""
            },
            "type": "choropleth"
           }
          ],
          "contour": [
           {
            "colorbar": {
             "outlinewidth": 0,
             "ticks": ""
            },
            "colorscale": [
             [
              0,
              "#0d0887"
             ],
             [
              0.1111111111111111,
              "#46039f"
             ],
             [
              0.2222222222222222,
              "#7201a8"
             ],
             [
              0.3333333333333333,
              "#9c179e"
             ],
             [
              0.4444444444444444,
              "#bd3786"
             ],
             [
              0.5555555555555556,
              "#d8576b"
             ],
             [
              0.6666666666666666,
              "#ed7953"
             ],
             [
              0.7777777777777778,
              "#fb9f3a"
             ],
             [
              0.8888888888888888,
              "#fdca26"
             ],
             [
              1,
              "#f0f921"
             ]
            ],
            "type": "contour"
           }
          ],
          "contourcarpet": [
           {
            "colorbar": {
             "outlinewidth": 0,
             "ticks": ""
            },
            "type": "contourcarpet"
           }
          ],
          "heatmap": [
           {
            "colorbar": {
             "outlinewidth": 0,
             "ticks": ""
            },
            "colorscale": [
             [
              0,
              "#0d0887"
             ],
             [
              0.1111111111111111,
              "#46039f"
             ],
             [
              0.2222222222222222,
              "#7201a8"
             ],
             [
              0.3333333333333333,
              "#9c179e"
             ],
             [
              0.4444444444444444,
              "#bd3786"
             ],
             [
              0.5555555555555556,
              "#d8576b"
             ],
             [
              0.6666666666666666,
              "#ed7953"
             ],
             [
              0.7777777777777778,
              "#fb9f3a"
             ],
             [
              0.8888888888888888,
              "#fdca26"
             ],
             [
              1,
              "#f0f921"
             ]
            ],
            "type": "heatmap"
           }
          ],
          "heatmapgl": [
           {
            "colorbar": {
             "outlinewidth": 0,
             "ticks": ""
            },
            "colorscale": [
             [
              0,
              "#0d0887"
             ],
             [
              0.1111111111111111,
              "#46039f"
             ],
             [
              0.2222222222222222,
              "#7201a8"
             ],
             [
              0.3333333333333333,
              "#9c179e"
             ],
             [
              0.4444444444444444,
              "#bd3786"
             ],
             [
              0.5555555555555556,
              "#d8576b"
             ],
             [
              0.6666666666666666,
              "#ed7953"
             ],
             [
              0.7777777777777778,
              "#fb9f3a"
             ],
             [
              0.8888888888888888,
              "#fdca26"
             ],
             [
              1,
              "#f0f921"
             ]
            ],
            "type": "heatmapgl"
           }
          ],
          "histogram": [
           {
            "marker": {
             "pattern": {
              "fillmode": "overlay",
              "size": 10,
              "solidity": 0.2
             }
            },
            "type": "histogram"
           }
          ],
          "histogram2d": [
           {
            "colorbar": {
             "outlinewidth": 0,
             "ticks": ""
            },
            "colorscale": [
             [
              0,
              "#0d0887"
             ],
             [
              0.1111111111111111,
              "#46039f"
             ],
             [
              0.2222222222222222,
              "#7201a8"
             ],
             [
              0.3333333333333333,
              "#9c179e"
             ],
             [
              0.4444444444444444,
              "#bd3786"
             ],
             [
              0.5555555555555556,
              "#d8576b"
             ],
             [
              0.6666666666666666,
              "#ed7953"
             ],
             [
              0.7777777777777778,
              "#fb9f3a"
             ],
             [
              0.8888888888888888,
              "#fdca26"
             ],
             [
              1,
              "#f0f921"
             ]
            ],
            "type": "histogram2d"
           }
          ],
          "histogram2dcontour": [
           {
            "colorbar": {
             "outlinewidth": 0,
             "ticks": ""
            },
            "colorscale": [
             [
              0,
              "#0d0887"
             ],
             [
              0.1111111111111111,
              "#46039f"
             ],
             [
              0.2222222222222222,
              "#7201a8"
             ],
             [
              0.3333333333333333,
              "#9c179e"
             ],
             [
              0.4444444444444444,
              "#bd3786"
             ],
             [
              0.5555555555555556,
              "#d8576b"
             ],
             [
              0.6666666666666666,
              "#ed7953"
             ],
             [
              0.7777777777777778,
              "#fb9f3a"
             ],
             [
              0.8888888888888888,
              "#fdca26"
             ],
             [
              1,
              "#f0f921"
             ]
            ],
            "type": "histogram2dcontour"
           }
          ],
          "mesh3d": [
           {
            "colorbar": {
             "outlinewidth": 0,
             "ticks": ""
            },
            "type": "mesh3d"
           }
          ],
          "parcoords": [
           {
            "line": {
             "colorbar": {
              "outlinewidth": 0,
              "ticks": ""
             }
            },
            "type": "parcoords"
           }
          ],
          "pie": [
           {
            "automargin": true,
            "type": "pie"
           }
          ],
          "scatter": [
           {
            "marker": {
             "colorbar": {
              "outlinewidth": 0,
              "ticks": ""
             }
            },
            "type": "scatter"
           }
          ],
          "scatter3d": [
           {
            "line": {
             "colorbar": {
              "outlinewidth": 0,
              "ticks": ""
             }
            },
            "marker": {
             "colorbar": {
              "outlinewidth": 0,
              "ticks": ""
             }
            },
            "type": "scatter3d"
           }
          ],
          "scattercarpet": [
           {
            "marker": {
             "colorbar": {
              "outlinewidth": 0,
              "ticks": ""
             }
            },
            "type": "scattercarpet"
           }
          ],
          "scattergeo": [
           {
            "marker": {
             "colorbar": {
              "outlinewidth": 0,
              "ticks": ""
             }
            },
            "type": "scattergeo"
           }
          ],
          "scattergl": [
           {
            "marker": {
             "colorbar": {
              "outlinewidth": 0,
              "ticks": ""
             }
            },
            "type": "scattergl"
           }
          ],
          "scattermapbox": [
           {
            "marker": {
             "colorbar": {
              "outlinewidth": 0,
              "ticks": ""
             }
            },
            "type": "scattermapbox"
           }
          ],
          "scatterpolar": [
           {
            "marker": {
             "colorbar": {
              "outlinewidth": 0,
              "ticks": ""
             }
            },
            "type": "scatterpolar"
           }
          ],
          "scatterpolargl": [
           {
            "marker": {
             "colorbar": {
              "outlinewidth": 0,
              "ticks": ""
             }
            },
            "type": "scatterpolargl"
           }
          ],
          "scatterternary": [
           {
            "marker": {
             "colorbar": {
              "outlinewidth": 0,
              "ticks": ""
             }
            },
            "type": "scatterternary"
           }
          ],
          "surface": [
           {
            "colorbar": {
             "outlinewidth": 0,
             "ticks": ""
            },
            "colorscale": [
             [
              0,
              "#0d0887"
             ],
             [
              0.1111111111111111,
              "#46039f"
             ],
             [
              0.2222222222222222,
              "#7201a8"
             ],
             [
              0.3333333333333333,
              "#9c179e"
             ],
             [
              0.4444444444444444,
              "#bd3786"
             ],
             [
              0.5555555555555556,
              "#d8576b"
             ],
             [
              0.6666666666666666,
              "#ed7953"
             ],
             [
              0.7777777777777778,
              "#fb9f3a"
             ],
             [
              0.8888888888888888,
              "#fdca26"
             ],
             [
              1,
              "#f0f921"
             ]
            ],
            "type": "surface"
           }
          ],
          "table": [
           {
            "cells": {
             "fill": {
              "color": "#EBF0F8"
             },
             "line": {
              "color": "white"
             }
            },
            "header": {
             "fill": {
              "color": "#C8D4E3"
             },
             "line": {
              "color": "white"
             }
            },
            "type": "table"
           }
          ]
         },
         "layout": {
          "annotationdefaults": {
           "arrowcolor": "#2a3f5f",
           "arrowhead": 0,
           "arrowwidth": 1
          },
          "autotypenumbers": "strict",
          "coloraxis": {
           "colorbar": {
            "outlinewidth": 0,
            "ticks": ""
           }
          },
          "colorscale": {
           "diverging": [
            [
             0,
             "#8e0152"
            ],
            [
             0.1,
             "#c51b7d"
            ],
            [
             0.2,
             "#de77ae"
            ],
            [
             0.3,
             "#f1b6da"
            ],
            [
             0.4,
             "#fde0ef"
            ],
            [
             0.5,
             "#f7f7f7"
            ],
            [
             0.6,
             "#e6f5d0"
            ],
            [
             0.7,
             "#b8e186"
            ],
            [
             0.8,
             "#7fbc41"
            ],
            [
             0.9,
             "#4d9221"
            ],
            [
             1,
             "#276419"
            ]
           ],
           "sequential": [
            [
             0,
             "#0d0887"
            ],
            [
             0.1111111111111111,
             "#46039f"
            ],
            [
             0.2222222222222222,
             "#7201a8"
            ],
            [
             0.3333333333333333,
             "#9c179e"
            ],
            [
             0.4444444444444444,
             "#bd3786"
            ],
            [
             0.5555555555555556,
             "#d8576b"
            ],
            [
             0.6666666666666666,
             "#ed7953"
            ],
            [
             0.7777777777777778,
             "#fb9f3a"
            ],
            [
             0.8888888888888888,
             "#fdca26"
            ],
            [
             1,
             "#f0f921"
            ]
           ],
           "sequentialminus": [
            [
             0,
             "#0d0887"
            ],
            [
             0.1111111111111111,
             "#46039f"
            ],
            [
             0.2222222222222222,
             "#7201a8"
            ],
            [
             0.3333333333333333,
             "#9c179e"
            ],
            [
             0.4444444444444444,
             "#bd3786"
            ],
            [
             0.5555555555555556,
             "#d8576b"
            ],
            [
             0.6666666666666666,
             "#ed7953"
            ],
            [
             0.7777777777777778,
             "#fb9f3a"
            ],
            [
             0.8888888888888888,
             "#fdca26"
            ],
            [
             1,
             "#f0f921"
            ]
           ]
          },
          "colorway": [
           "#636efa",
           "#EF553B",
           "#00cc96",
           "#ab63fa",
           "#FFA15A",
           "#19d3f3",
           "#FF6692",
           "#B6E880",
           "#FF97FF",
           "#FECB52"
          ],
          "font": {
           "color": "#2a3f5f"
          },
          "geo": {
           "bgcolor": "white",
           "lakecolor": "white",
           "landcolor": "#E5ECF6",
           "showlakes": true,
           "showland": true,
           "subunitcolor": "white"
          },
          "hoverlabel": {
           "align": "left"
          },
          "hovermode": "closest",
          "mapbox": {
           "style": "light"
          },
          "paper_bgcolor": "white",
          "plot_bgcolor": "#E5ECF6",
          "polar": {
           "angularaxis": {
            "gridcolor": "white",
            "linecolor": "white",
            "ticks": ""
           },
           "bgcolor": "#E5ECF6",
           "radialaxis": {
            "gridcolor": "white",
            "linecolor": "white",
            "ticks": ""
           }
          },
          "scene": {
           "xaxis": {
            "backgroundcolor": "#E5ECF6",
            "gridcolor": "white",
            "gridwidth": 2,
            "linecolor": "white",
            "showbackground": true,
            "ticks": "",
            "zerolinecolor": "white"
           },
           "yaxis": {
            "backgroundcolor": "#E5ECF6",
            "gridcolor": "white",
            "gridwidth": 2,
            "linecolor": "white",
            "showbackground": true,
            "ticks": "",
            "zerolinecolor": "white"
           },
           "zaxis": {
            "backgroundcolor": "#E5ECF6",
            "gridcolor": "white",
            "gridwidth": 2,
            "linecolor": "white",
            "showbackground": true,
            "ticks": "",
            "zerolinecolor": "white"
           }
          },
          "shapedefaults": {
           "line": {
            "color": "#2a3f5f"
           }
          },
          "ternary": {
           "aaxis": {
            "gridcolor": "white",
            "linecolor": "white",
            "ticks": ""
           },
           "baxis": {
            "gridcolor": "white",
            "linecolor": "white",
            "ticks": ""
           },
           "bgcolor": "#E5ECF6",
           "caxis": {
            "gridcolor": "white",
            "linecolor": "white",
            "ticks": ""
           }
          },
          "title": {
           "x": 0.05
          },
          "xaxis": {
           "automargin": true,
           "gridcolor": "white",
           "linecolor": "white",
           "ticks": "",
           "title": {
            "standoff": 15
           },
           "zerolinecolor": "white",
           "zerolinewidth": 2
          },
          "yaxis": {
           "automargin": true,
           "gridcolor": "white",
           "linecolor": "white",
           "ticks": "",
           "title": {
            "standoff": 15
           },
           "zerolinecolor": "white",
           "zerolinewidth": 2
          }
         }
        },
        "title": {
         "text": "Number news stories per country",
         "x": 0.5,
         "xanchor": "center",
         "y": 0.9,
         "yanchor": "top"
        },
        "xaxis": {
         "tickangle": 0,
         "title": {
          "text": "Country"
         }
        },
        "yaxis": {
         "title": {
          "text": "N news stories"
         }
        }
       }
      },
      "text/html": [
       "<div>                            <div id=\"dec69c1e-d9f7-4a3f-b1bc-88792eb03654\" class=\"plotly-graph-div\" style=\"height:525px; width:100%;\"></div>            <script type=\"text/javascript\">                require([\"plotly\"], function(Plotly) {                    window.PLOTLYENV=window.PLOTLYENV || {};                                    if (document.getElementById(\"dec69c1e-d9f7-4a3f-b1bc-88792eb03654\")) {                    Plotly.newPlot(                        \"dec69c1e-d9f7-4a3f-b1bc-88792eb03654\",                        [{\"marker\":{\"color\":\"rgb(102, 102, 102)\"},\"text\":[\"173\",\"203\",\"1195\",\"489\",\"2091\",\"1651\",\"940\",\"1879\",\"246\",\"617\",\"311\",\"334\",\"3423\"],\"type\":\"bar\",\"x\":[\"at\",\"cz\",\"de\",\"es\",\"fr\",\"gb\",\"ie\",\"it\",\"nl\",\"ro\",\"rs\",\"se\",\"us\"],\"y\":[173,203,1195,489,2091,1651,940,1879,246,617,311,334,3423]}],                        {\"template\":{\"data\":{\"bar\":[{\"error_x\":{\"color\":\"#2a3f5f\"},\"error_y\":{\"color\":\"#2a3f5f\"},\"marker\":{\"line\":{\"color\":\"#E5ECF6\",\"width\":0.5},\"pattern\":{\"fillmode\":\"overlay\",\"size\":10,\"solidity\":0.2}},\"type\":\"bar\"}],\"barpolar\":[{\"marker\":{\"line\":{\"color\":\"#E5ECF6\",\"width\":0.5},\"pattern\":{\"fillmode\":\"overlay\",\"size\":10,\"solidity\":0.2}},\"type\":\"barpolar\"}],\"carpet\":[{\"aaxis\":{\"endlinecolor\":\"#2a3f5f\",\"gridcolor\":\"white\",\"linecolor\":\"white\",\"minorgridcolor\":\"white\",\"startlinecolor\":\"#2a3f5f\"},\"baxis\":{\"endlinecolor\":\"#2a3f5f\",\"gridcolor\":\"white\",\"linecolor\":\"white\",\"minorgridcolor\":\"white\",\"startlinecolor\":\"#2a3f5f\"},\"type\":\"carpet\"}],\"choropleth\":[{\"colorbar\":{\"outlinewidth\":0,\"ticks\":\"\"},\"type\":\"choropleth\"}],\"contour\":[{\"colorbar\":{\"outlinewidth\":0,\"ticks\":\"\"},\"colorscale\":[[0.0,\"#0d0887\"],[0.1111111111111111,\"#46039f\"],[0.2222222222222222,\"#7201a8\"],[0.3333333333333333,\"#9c179e\"],[0.4444444444444444,\"#bd3786\"],[0.5555555555555556,\"#d8576b\"],[0.6666666666666666,\"#ed7953\"],[0.7777777777777778,\"#fb9f3a\"],[0.8888888888888888,\"#fdca26\"],[1.0,\"#f0f921\"]],\"type\":\"contour\"}],\"contourcarpet\":[{\"colorbar\":{\"outlinewidth\":0,\"ticks\":\"\"},\"type\":\"contourcarpet\"}],\"heatmap\":[{\"colorbar\":{\"outlinewidth\":0,\"ticks\":\"\"},\"colorscale\":[[0.0,\"#0d0887\"],[0.1111111111111111,\"#46039f\"],[0.2222222222222222,\"#7201a8\"],[0.3333333333333333,\"#9c179e\"],[0.4444444444444444,\"#bd3786\"],[0.5555555555555556,\"#d8576b\"],[0.6666666666666666,\"#ed7953\"],[0.7777777777777778,\"#fb9f3a\"],[0.8888888888888888,\"#fdca26\"],[1.0,\"#f0f921\"]],\"type\":\"heatmap\"}],\"heatmapgl\":[{\"colorbar\":{\"outlinewidth\":0,\"ticks\":\"\"},\"colorscale\":[[0.0,\"#0d0887\"],[0.1111111111111111,\"#46039f\"],[0.2222222222222222,\"#7201a8\"],[0.3333333333333333,\"#9c179e\"],[0.4444444444444444,\"#bd3786\"],[0.5555555555555556,\"#d8576b\"],[0.6666666666666666,\"#ed7953\"],[0.7777777777777778,\"#fb9f3a\"],[0.8888888888888888,\"#fdca26\"],[1.0,\"#f0f921\"]],\"type\":\"heatmapgl\"}],\"histogram\":[{\"marker\":{\"pattern\":{\"fillmode\":\"overlay\",\"size\":10,\"solidity\":0.2}},\"type\":\"histogram\"}],\"histogram2d\":[{\"colorbar\":{\"outlinewidth\":0,\"ticks\":\"\"},\"colorscale\":[[0.0,\"#0d0887\"],[0.1111111111111111,\"#46039f\"],[0.2222222222222222,\"#7201a8\"],[0.3333333333333333,\"#9c179e\"],[0.4444444444444444,\"#bd3786\"],[0.5555555555555556,\"#d8576b\"],[0.6666666666666666,\"#ed7953\"],[0.7777777777777778,\"#fb9f3a\"],[0.8888888888888888,\"#fdca26\"],[1.0,\"#f0f921\"]],\"type\":\"histogram2d\"}],\"histogram2dcontour\":[{\"colorbar\":{\"outlinewidth\":0,\"ticks\":\"\"},\"colorscale\":[[0.0,\"#0d0887\"],[0.1111111111111111,\"#46039f\"],[0.2222222222222222,\"#7201a8\"],[0.3333333333333333,\"#9c179e\"],[0.4444444444444444,\"#bd3786\"],[0.5555555555555556,\"#d8576b\"],[0.6666666666666666,\"#ed7953\"],[0.7777777777777778,\"#fb9f3a\"],[0.8888888888888888,\"#fdca26\"],[1.0,\"#f0f921\"]],\"type\":\"histogram2dcontour\"}],\"mesh3d\":[{\"colorbar\":{\"outlinewidth\":0,\"ticks\":\"\"},\"type\":\"mesh3d\"}],\"parcoords\":[{\"line\":{\"colorbar\":{\"outlinewidth\":0,\"ticks\":\"\"}},\"type\":\"parcoords\"}],\"pie\":[{\"automargin\":true,\"type\":\"pie\"}],\"scatter\":[{\"marker\":{\"colorbar\":{\"outlinewidth\":0,\"ticks\":\"\"}},\"type\":\"scatter\"}],\"scatter3d\":[{\"line\":{\"colorbar\":{\"outlinewidth\":0,\"ticks\":\"\"}},\"marker\":{\"colorbar\":{\"outlinewidth\":0,\"ticks\":\"\"}},\"type\":\"scatter3d\"}],\"scattercarpet\":[{\"marker\":{\"colorbar\":{\"outlinewidth\":0,\"ticks\":\"\"}},\"type\":\"scattercarpet\"}],\"scattergeo\":[{\"marker\":{\"colorbar\":{\"outlinewidth\":0,\"ticks\":\"\"}},\"type\":\"scattergeo\"}],\"scattergl\":[{\"marker\":{\"colorbar\":{\"outlinewidth\":0,\"ticks\":\"\"}},\"type\":\"scattergl\"}],\"scattermapbox\":[{\"marker\":{\"colorbar\":{\"outlinewidth\":0,\"ticks\":\"\"}},\"type\":\"scattermapbox\"}],\"scatterpolar\":[{\"marker\":{\"colorbar\":{\"outlinewidth\":0,\"ticks\":\"\"}},\"type\":\"scatterpolar\"}],\"scatterpolargl\":[{\"marker\":{\"colorbar\":{\"outlinewidth\":0,\"ticks\":\"\"}},\"type\":\"scatterpolargl\"}],\"scatterternary\":[{\"marker\":{\"colorbar\":{\"outlinewidth\":0,\"ticks\":\"\"}},\"type\":\"scatterternary\"}],\"surface\":[{\"colorbar\":{\"outlinewidth\":0,\"ticks\":\"\"},\"colorscale\":[[0.0,\"#0d0887\"],[0.1111111111111111,\"#46039f\"],[0.2222222222222222,\"#7201a8\"],[0.3333333333333333,\"#9c179e\"],[0.4444444444444444,\"#bd3786\"],[0.5555555555555556,\"#d8576b\"],[0.6666666666666666,\"#ed7953\"],[0.7777777777777778,\"#fb9f3a\"],[0.8888888888888888,\"#fdca26\"],[1.0,\"#f0f921\"]],\"type\":\"surface\"}],\"table\":[{\"cells\":{\"fill\":{\"color\":\"#EBF0F8\"},\"line\":{\"color\":\"white\"}},\"header\":{\"fill\":{\"color\":\"#C8D4E3\"},\"line\":{\"color\":\"white\"}},\"type\":\"table\"}]},\"layout\":{\"annotationdefaults\":{\"arrowcolor\":\"#2a3f5f\",\"arrowhead\":0,\"arrowwidth\":1},\"autotypenumbers\":\"strict\",\"coloraxis\":{\"colorbar\":{\"outlinewidth\":0,\"ticks\":\"\"}},\"colorscale\":{\"diverging\":[[0,\"#8e0152\"],[0.1,\"#c51b7d\"],[0.2,\"#de77ae\"],[0.3,\"#f1b6da\"],[0.4,\"#fde0ef\"],[0.5,\"#f7f7f7\"],[0.6,\"#e6f5d0\"],[0.7,\"#b8e186\"],[0.8,\"#7fbc41\"],[0.9,\"#4d9221\"],[1,\"#276419\"]],\"sequential\":[[0.0,\"#0d0887\"],[0.1111111111111111,\"#46039f\"],[0.2222222222222222,\"#7201a8\"],[0.3333333333333333,\"#9c179e\"],[0.4444444444444444,\"#bd3786\"],[0.5555555555555556,\"#d8576b\"],[0.6666666666666666,\"#ed7953\"],[0.7777777777777778,\"#fb9f3a\"],[0.8888888888888888,\"#fdca26\"],[1.0,\"#f0f921\"]],\"sequentialminus\":[[0.0,\"#0d0887\"],[0.1111111111111111,\"#46039f\"],[0.2222222222222222,\"#7201a8\"],[0.3333333333333333,\"#9c179e\"],[0.4444444444444444,\"#bd3786\"],[0.5555555555555556,\"#d8576b\"],[0.6666666666666666,\"#ed7953\"],[0.7777777777777778,\"#fb9f3a\"],[0.8888888888888888,\"#fdca26\"],[1.0,\"#f0f921\"]]},\"colorway\":[\"#636efa\",\"#EF553B\",\"#00cc96\",\"#ab63fa\",\"#FFA15A\",\"#19d3f3\",\"#FF6692\",\"#B6E880\",\"#FF97FF\",\"#FECB52\"],\"font\":{\"color\":\"#2a3f5f\"},\"geo\":{\"bgcolor\":\"white\",\"lakecolor\":\"white\",\"landcolor\":\"#E5ECF6\",\"showlakes\":true,\"showland\":true,\"subunitcolor\":\"white\"},\"hoverlabel\":{\"align\":\"left\"},\"hovermode\":\"closest\",\"mapbox\":{\"style\":\"light\"},\"paper_bgcolor\":\"white\",\"plot_bgcolor\":\"#E5ECF6\",\"polar\":{\"angularaxis\":{\"gridcolor\":\"white\",\"linecolor\":\"white\",\"ticks\":\"\"},\"bgcolor\":\"#E5ECF6\",\"radialaxis\":{\"gridcolor\":\"white\",\"linecolor\":\"white\",\"ticks\":\"\"}},\"scene\":{\"xaxis\":{\"backgroundcolor\":\"#E5ECF6\",\"gridcolor\":\"white\",\"gridwidth\":2,\"linecolor\":\"white\",\"showbackground\":true,\"ticks\":\"\",\"zerolinecolor\":\"white\"},\"yaxis\":{\"backgroundcolor\":\"#E5ECF6\",\"gridcolor\":\"white\",\"gridwidth\":2,\"linecolor\":\"white\",\"showbackground\":true,\"ticks\":\"\",\"zerolinecolor\":\"white\"},\"zaxis\":{\"backgroundcolor\":\"#E5ECF6\",\"gridcolor\":\"white\",\"gridwidth\":2,\"linecolor\":\"white\",\"showbackground\":true,\"ticks\":\"\",\"zerolinecolor\":\"white\"}},\"shapedefaults\":{\"line\":{\"color\":\"#2a3f5f\"}},\"ternary\":{\"aaxis\":{\"gridcolor\":\"white\",\"linecolor\":\"white\",\"ticks\":\"\"},\"baxis\":{\"gridcolor\":\"white\",\"linecolor\":\"white\",\"ticks\":\"\"},\"bgcolor\":\"#E5ECF6\",\"caxis\":{\"gridcolor\":\"white\",\"linecolor\":\"white\",\"ticks\":\"\"}},\"title\":{\"x\":0.05},\"xaxis\":{\"automargin\":true,\"gridcolor\":\"white\",\"linecolor\":\"white\",\"ticks\":\"\",\"title\":{\"standoff\":15},\"zerolinecolor\":\"white\",\"zerolinewidth\":2},\"yaxis\":{\"automargin\":true,\"gridcolor\":\"white\",\"linecolor\":\"white\",\"ticks\":\"\",\"title\":{\"standoff\":15},\"zerolinecolor\":\"white\",\"zerolinewidth\":2}}},\"title\":{\"text\":\"Number news stories per country\",\"x\":0.5,\"xanchor\":\"center\",\"y\":0.9,\"yanchor\":\"top\"},\"xaxis\":{\"tickangle\":0,\"title\":{\"text\":\"Country\"}},\"yaxis\":{\"title\":{\"text\":\"N news stories\"}}},                        {\"responsive\": true}                    ).then(function(){\n",
       "                            \n",
       "var gd = document.getElementById('dec69c1e-d9f7-4a3f-b1bc-88792eb03654');\n",
       "var x = new MutationObserver(function (mutations, observer) {{\n",
       "        var display = window.getComputedStyle(gd).display;\n",
       "        if (!display || display === 'none') {{\n",
       "            console.log([gd, 'removed!']);\n",
       "            Plotly.purge(gd);\n",
       "            observer.disconnect();\n",
       "        }}\n",
       "}});\n",
       "\n",
       "// Listen for the removal of the full notebook cells\n",
       "var notebookContainer = gd.closest('#notebook-container');\n",
       "if (notebookContainer) {{\n",
       "    x.observe(notebookContainer, {childList: true});\n",
       "}}\n",
       "\n",
       "// Listen for the clearing of the current output cell\n",
       "var outputEl = gd.closest('.output');\n",
       "if (outputEl) {{\n",
       "    x.observe(outputEl, {childList: true});\n",
       "}}\n",
       "\n",
       "                        })                };                });            </script>        </div>"
      ]
     },
     "metadata": {},
     "output_type": "display_data"
    }
   ],
   "source": [
    "\n",
    "\n",
    "\n",
    "fig = go.Figure(data=[\n",
    "    go.Bar( x= list(dfcc['country']), y=list(dfcc['counts']),\n",
    "           marker={'color': px.colors.qualitative.Prism[10]}, text=list(dfcc['counts']))])\n",
    "   \n",
    "# Change the bar mode\n",
    "\n",
    "fig.update_layout(\n",
    "            title={\n",
    "            'text': 'Number news stories per country' ,\n",
    "            'y':0.9,\n",
    "            'x':0.5,\n",
    "            'xanchor': 'center',\n",
    "            'yanchor': 'top'},\n",
    "            xaxis_title=\"Country\",\n",
    "            yaxis_title=\"N news stories\" )\n",
    "fig.update_xaxes(tickangle=0)\n",
    "IMG_NAME = 'all_counts_bar_nodigitalxr.png'\n",
    "fig.show()"
   ]
  },
  {
   "cell_type": "code",
   "execution_count": 17,
   "id": "cecf0973",
   "metadata": {},
   "outputs": [
    {
     "ename": "NameError",
     "evalue": "name 'dfp' is not defined",
     "output_type": "error",
     "traceback": [
      "\u001b[0;31m---------------------------------------------------------------------------\u001b[0m",
      "\u001b[0;31mNameError\u001b[0m                                 Traceback (most recent call last)",
      "\u001b[0;32m/var/folders/cw/z25zs10n3hz8h_wt72p3ybgc0000gq/T/ipykernel_4405/3134510842.py\u001b[0m in \u001b[0;36m<module>\u001b[0;34m\u001b[0m\n\u001b[0;32m----> 1\u001b[0;31m \u001b[0mdfo\u001b[0m \u001b[0;34m=\u001b[0m \u001b[0mdfp\u001b[0m\u001b[0;34m.\u001b[0m\u001b[0msort_values\u001b[0m\u001b[0;34m(\u001b[0m\u001b[0mby\u001b[0m\u001b[0;34m=\u001b[0m\u001b[0;34m'n_outlets'\u001b[0m\u001b[0;34m,\u001b[0m\u001b[0mascending\u001b[0m\u001b[0;34m=\u001b[0m\u001b[0;32mFalse\u001b[0m\u001b[0;34m)\u001b[0m\u001b[0;34m\u001b[0m\u001b[0;34m\u001b[0m\u001b[0m\n\u001b[0m\u001b[1;32m      2\u001b[0m fig = go.Figure(data=[\n\u001b[1;32m      3\u001b[0m     go.Bar( x= list(dfo['country']), y= list(dfo['n_outlets']),\n\u001b[1;32m      4\u001b[0m            marker={'color': px.colors.qualitative.Prism[10]}, text= list(dfo['n_outlets']))])\n\u001b[1;32m      5\u001b[0m \u001b[0;34m\u001b[0m\u001b[0m\n",
      "\u001b[0;31mNameError\u001b[0m: name 'dfp' is not defined"
     ]
    }
   ],
   "source": [
    "dfo = dfp.sort_values(by='n_outlets',ascending=False)\n",
    "fig = go.Figure(data=[\n",
    "    go.Bar( x= list(dfo['country']), y= list(dfo['n_outlets']),\n",
    "           marker={'color': px.colors.qualitative.Prism[10]}, text= list(dfo['n_outlets']))])\n",
    "   \n",
    "# Change the bar mode\n",
    "\n",
    "fig.update_layout(\n",
    "            title={\n",
    "            'text': 'Number of different outlet per country' ,\n",
    "            'y':0.9,\n",
    "            'x':0.5,\n",
    "            'xanchor': 'center',\n",
    "            'yanchor': 'top'},\n",
    "            xaxis_title=\"Country\",\n",
    "            yaxis_title=\"N outlets\" )\n",
    "fig.update_xaxes(tickangle=0)\n",
    "IMG_NAME = 'all_counts_bar_nodigitalxr.png'\n",
    "fig.show()"
   ]
  },
  {
   "cell_type": "code",
   "execution_count": null,
   "id": "b9bb421c",
   "metadata": {},
   "outputs": [],
   "source": []
  },
  {
   "cell_type": "code",
   "execution_count": 18,
   "id": "d8c22079",
   "metadata": {},
   "outputs": [],
   "source": [
    "n_outlets=[]\n",
    "n_news = []\n",
    "c =[]\n",
    "for i,d in df_all.groupby(['country']):\n",
    "    c.append(i)\n",
    "    n_outlets.append(int(len(list(set(d['domain'])))))\n",
    "    n_news.append(int(len(d)))"
   ]
  },
  {
   "cell_type": "code",
   "execution_count": 19,
   "id": "2a9a1d07",
   "metadata": {},
   "outputs": [],
   "source": [
    "dfp = pd.DataFrame(np.transpose([c, n_news, n_outlets]), columns=['country','n_news','n_outlets'])\n",
    "dfp['n_news'] = dfp['n_news'].astype('int')\n",
    "dfp['n_outlets'] = dfp['n_outlets'].astype('int')"
   ]
  },
  {
   "cell_type": "code",
   "execution_count": 406,
   "id": "5916d168",
   "metadata": {},
   "outputs": [
    {
     "data": {
      "application/vnd.plotly.v1+json": {
       "config": {
        "plotlyServerURL": "https://plot.ly"
       },
       "data": [
        {
         "hovertemplate": "n_news=%{marker.size}<br>n_outlets=%{y}<br>country=%{text}<extra></extra>",
         "legendgroup": "",
         "marker": {
          "color": "#636efa",
          "size": [
           173,
           203,
           1195,
           489,
           2091,
           1651,
           940,
           1879,
           246,
           617,
           311,
           334,
           3423
          ],
          "sizemode": "area",
          "sizeref": 8.5575,
          "symbol": "circle"
         },
         "mode": "markers+text",
         "name": "",
         "orientation": "v",
         "showlegend": false,
         "text": [
          "at",
          "cz",
          "de",
          "es",
          "fr",
          "gb",
          "ie",
          "it",
          "nl",
          "ro",
          "rs",
          "se",
          "us"
         ],
         "textposition": "bottom right",
         "type": "scatter",
         "x": [
          173,
          203,
          1195,
          489,
          2091,
          1651,
          940,
          1879,
          246,
          617,
          311,
          334,
          3423
         ],
         "xaxis": "x",
         "y": [
          9,
          36,
          29,
          3,
          23,
          27,
          12,
          34,
          9,
          14,
          37,
          12,
          91
         ],
         "yaxis": "y"
        }
       ],
       "layout": {
        "legend": {
         "itemsizing": "constant",
         "tracegroupgap": 0
        },
        "margin": {
         "t": 60
        },
        "template": {
         "data": {
          "bar": [
           {
            "error_x": {
             "color": "#2a3f5f"
            },
            "error_y": {
             "color": "#2a3f5f"
            },
            "marker": {
             "line": {
              "color": "#E5ECF6",
              "width": 0.5
             },
             "pattern": {
              "fillmode": "overlay",
              "size": 10,
              "solidity": 0.2
             }
            },
            "type": "bar"
           }
          ],
          "barpolar": [
           {
            "marker": {
             "line": {
              "color": "#E5ECF6",
              "width": 0.5
             },
             "pattern": {
              "fillmode": "overlay",
              "size": 10,
              "solidity": 0.2
             }
            },
            "type": "barpolar"
           }
          ],
          "carpet": [
           {
            "aaxis": {
             "endlinecolor": "#2a3f5f",
             "gridcolor": "white",
             "linecolor": "white",
             "minorgridcolor": "white",
             "startlinecolor": "#2a3f5f"
            },
            "baxis": {
             "endlinecolor": "#2a3f5f",
             "gridcolor": "white",
             "linecolor": "white",
             "minorgridcolor": "white",
             "startlinecolor": "#2a3f5f"
            },
            "type": "carpet"
           }
          ],
          "choropleth": [
           {
            "colorbar": {
             "outlinewidth": 0,
             "ticks": ""
            },
            "type": "choropleth"
           }
          ],
          "contour": [
           {
            "colorbar": {
             "outlinewidth": 0,
             "ticks": ""
            },
            "colorscale": [
             [
              0,
              "#0d0887"
             ],
             [
              0.1111111111111111,
              "#46039f"
             ],
             [
              0.2222222222222222,
              "#7201a8"
             ],
             [
              0.3333333333333333,
              "#9c179e"
             ],
             [
              0.4444444444444444,
              "#bd3786"
             ],
             [
              0.5555555555555556,
              "#d8576b"
             ],
             [
              0.6666666666666666,
              "#ed7953"
             ],
             [
              0.7777777777777778,
              "#fb9f3a"
             ],
             [
              0.8888888888888888,
              "#fdca26"
             ],
             [
              1,
              "#f0f921"
             ]
            ],
            "type": "contour"
           }
          ],
          "contourcarpet": [
           {
            "colorbar": {
             "outlinewidth": 0,
             "ticks": ""
            },
            "type": "contourcarpet"
           }
          ],
          "heatmap": [
           {
            "colorbar": {
             "outlinewidth": 0,
             "ticks": ""
            },
            "colorscale": [
             [
              0,
              "#0d0887"
             ],
             [
              0.1111111111111111,
              "#46039f"
             ],
             [
              0.2222222222222222,
              "#7201a8"
             ],
             [
              0.3333333333333333,
              "#9c179e"
             ],
             [
              0.4444444444444444,
              "#bd3786"
             ],
             [
              0.5555555555555556,
              "#d8576b"
             ],
             [
              0.6666666666666666,
              "#ed7953"
             ],
             [
              0.7777777777777778,
              "#fb9f3a"
             ],
             [
              0.8888888888888888,
              "#fdca26"
             ],
             [
              1,
              "#f0f921"
             ]
            ],
            "type": "heatmap"
           }
          ],
          "heatmapgl": [
           {
            "colorbar": {
             "outlinewidth": 0,
             "ticks": ""
            },
            "colorscale": [
             [
              0,
              "#0d0887"
             ],
             [
              0.1111111111111111,
              "#46039f"
             ],
             [
              0.2222222222222222,
              "#7201a8"
             ],
             [
              0.3333333333333333,
              "#9c179e"
             ],
             [
              0.4444444444444444,
              "#bd3786"
             ],
             [
              0.5555555555555556,
              "#d8576b"
             ],
             [
              0.6666666666666666,
              "#ed7953"
             ],
             [
              0.7777777777777778,
              "#fb9f3a"
             ],
             [
              0.8888888888888888,
              "#fdca26"
             ],
             [
              1,
              "#f0f921"
             ]
            ],
            "type": "heatmapgl"
           }
          ],
          "histogram": [
           {
            "marker": {
             "pattern": {
              "fillmode": "overlay",
              "size": 10,
              "solidity": 0.2
             }
            },
            "type": "histogram"
           }
          ],
          "histogram2d": [
           {
            "colorbar": {
             "outlinewidth": 0,
             "ticks": ""
            },
            "colorscale": [
             [
              0,
              "#0d0887"
             ],
             [
              0.1111111111111111,
              "#46039f"
             ],
             [
              0.2222222222222222,
              "#7201a8"
             ],
             [
              0.3333333333333333,
              "#9c179e"
             ],
             [
              0.4444444444444444,
              "#bd3786"
             ],
             [
              0.5555555555555556,
              "#d8576b"
             ],
             [
              0.6666666666666666,
              "#ed7953"
             ],
             [
              0.7777777777777778,
              "#fb9f3a"
             ],
             [
              0.8888888888888888,
              "#fdca26"
             ],
             [
              1,
              "#f0f921"
             ]
            ],
            "type": "histogram2d"
           }
          ],
          "histogram2dcontour": [
           {
            "colorbar": {
             "outlinewidth": 0,
             "ticks": ""
            },
            "colorscale": [
             [
              0,
              "#0d0887"
             ],
             [
              0.1111111111111111,
              "#46039f"
             ],
             [
              0.2222222222222222,
              "#7201a8"
             ],
             [
              0.3333333333333333,
              "#9c179e"
             ],
             [
              0.4444444444444444,
              "#bd3786"
             ],
             [
              0.5555555555555556,
              "#d8576b"
             ],
             [
              0.6666666666666666,
              "#ed7953"
             ],
             [
              0.7777777777777778,
              "#fb9f3a"
             ],
             [
              0.8888888888888888,
              "#fdca26"
             ],
             [
              1,
              "#f0f921"
             ]
            ],
            "type": "histogram2dcontour"
           }
          ],
          "mesh3d": [
           {
            "colorbar": {
             "outlinewidth": 0,
             "ticks": ""
            },
            "type": "mesh3d"
           }
          ],
          "parcoords": [
           {
            "line": {
             "colorbar": {
              "outlinewidth": 0,
              "ticks": ""
             }
            },
            "type": "parcoords"
           }
          ],
          "pie": [
           {
            "automargin": true,
            "type": "pie"
           }
          ],
          "scatter": [
           {
            "marker": {
             "colorbar": {
              "outlinewidth": 0,
              "ticks": ""
             }
            },
            "type": "scatter"
           }
          ],
          "scatter3d": [
           {
            "line": {
             "colorbar": {
              "outlinewidth": 0,
              "ticks": ""
             }
            },
            "marker": {
             "colorbar": {
              "outlinewidth": 0,
              "ticks": ""
             }
            },
            "type": "scatter3d"
           }
          ],
          "scattercarpet": [
           {
            "marker": {
             "colorbar": {
              "outlinewidth": 0,
              "ticks": ""
             }
            },
            "type": "scattercarpet"
           }
          ],
          "scattergeo": [
           {
            "marker": {
             "colorbar": {
              "outlinewidth": 0,
              "ticks": ""
             }
            },
            "type": "scattergeo"
           }
          ],
          "scattergl": [
           {
            "marker": {
             "colorbar": {
              "outlinewidth": 0,
              "ticks": ""
             }
            },
            "type": "scattergl"
           }
          ],
          "scattermapbox": [
           {
            "marker": {
             "colorbar": {
              "outlinewidth": 0,
              "ticks": ""
             }
            },
            "type": "scattermapbox"
           }
          ],
          "scatterpolar": [
           {
            "marker": {
             "colorbar": {
              "outlinewidth": 0,
              "ticks": ""
             }
            },
            "type": "scatterpolar"
           }
          ],
          "scatterpolargl": [
           {
            "marker": {
             "colorbar": {
              "outlinewidth": 0,
              "ticks": ""
             }
            },
            "type": "scatterpolargl"
           }
          ],
          "scatterternary": [
           {
            "marker": {
             "colorbar": {
              "outlinewidth": 0,
              "ticks": ""
             }
            },
            "type": "scatterternary"
           }
          ],
          "surface": [
           {
            "colorbar": {
             "outlinewidth": 0,
             "ticks": ""
            },
            "colorscale": [
             [
              0,
              "#0d0887"
             ],
             [
              0.1111111111111111,
              "#46039f"
             ],
             [
              0.2222222222222222,
              "#7201a8"
             ],
             [
              0.3333333333333333,
              "#9c179e"
             ],
             [
              0.4444444444444444,
              "#bd3786"
             ],
             [
              0.5555555555555556,
              "#d8576b"
             ],
             [
              0.6666666666666666,
              "#ed7953"
             ],
             [
              0.7777777777777778,
              "#fb9f3a"
             ],
             [
              0.8888888888888888,
              "#fdca26"
             ],
             [
              1,
              "#f0f921"
             ]
            ],
            "type": "surface"
           }
          ],
          "table": [
           {
            "cells": {
             "fill": {
              "color": "#EBF0F8"
             },
             "line": {
              "color": "white"
             }
            },
            "header": {
             "fill": {
              "color": "#C8D4E3"
             },
             "line": {
              "color": "white"
             }
            },
            "type": "table"
           }
          ]
         },
         "layout": {
          "annotationdefaults": {
           "arrowcolor": "#2a3f5f",
           "arrowhead": 0,
           "arrowwidth": 1
          },
          "autotypenumbers": "strict",
          "coloraxis": {
           "colorbar": {
            "outlinewidth": 0,
            "ticks": ""
           }
          },
          "colorscale": {
           "diverging": [
            [
             0,
             "#8e0152"
            ],
            [
             0.1,
             "#c51b7d"
            ],
            [
             0.2,
             "#de77ae"
            ],
            [
             0.3,
             "#f1b6da"
            ],
            [
             0.4,
             "#fde0ef"
            ],
            [
             0.5,
             "#f7f7f7"
            ],
            [
             0.6,
             "#e6f5d0"
            ],
            [
             0.7,
             "#b8e186"
            ],
            [
             0.8,
             "#7fbc41"
            ],
            [
             0.9,
             "#4d9221"
            ],
            [
             1,
             "#276419"
            ]
           ],
           "sequential": [
            [
             0,
             "#0d0887"
            ],
            [
             0.1111111111111111,
             "#46039f"
            ],
            [
             0.2222222222222222,
             "#7201a8"
            ],
            [
             0.3333333333333333,
             "#9c179e"
            ],
            [
             0.4444444444444444,
             "#bd3786"
            ],
            [
             0.5555555555555556,
             "#d8576b"
            ],
            [
             0.6666666666666666,
             "#ed7953"
            ],
            [
             0.7777777777777778,
             "#fb9f3a"
            ],
            [
             0.8888888888888888,
             "#fdca26"
            ],
            [
             1,
             "#f0f921"
            ]
           ],
           "sequentialminus": [
            [
             0,
             "#0d0887"
            ],
            [
             0.1111111111111111,
             "#46039f"
            ],
            [
             0.2222222222222222,
             "#7201a8"
            ],
            [
             0.3333333333333333,
             "#9c179e"
            ],
            [
             0.4444444444444444,
             "#bd3786"
            ],
            [
             0.5555555555555556,
             "#d8576b"
            ],
            [
             0.6666666666666666,
             "#ed7953"
            ],
            [
             0.7777777777777778,
             "#fb9f3a"
            ],
            [
             0.8888888888888888,
             "#fdca26"
            ],
            [
             1,
             "#f0f921"
            ]
           ]
          },
          "colorway": [
           "#636efa",
           "#EF553B",
           "#00cc96",
           "#ab63fa",
           "#FFA15A",
           "#19d3f3",
           "#FF6692",
           "#B6E880",
           "#FF97FF",
           "#FECB52"
          ],
          "font": {
           "color": "#2a3f5f"
          },
          "geo": {
           "bgcolor": "white",
           "lakecolor": "white",
           "landcolor": "#E5ECF6",
           "showlakes": true,
           "showland": true,
           "subunitcolor": "white"
          },
          "hoverlabel": {
           "align": "left"
          },
          "hovermode": "closest",
          "mapbox": {
           "style": "light"
          },
          "paper_bgcolor": "white",
          "plot_bgcolor": "#E5ECF6",
          "polar": {
           "angularaxis": {
            "gridcolor": "white",
            "linecolor": "white",
            "ticks": ""
           },
           "bgcolor": "#E5ECF6",
           "radialaxis": {
            "gridcolor": "white",
            "linecolor": "white",
            "ticks": ""
           }
          },
          "scene": {
           "xaxis": {
            "backgroundcolor": "#E5ECF6",
            "gridcolor": "white",
            "gridwidth": 2,
            "linecolor": "white",
            "showbackground": true,
            "ticks": "",
            "zerolinecolor": "white"
           },
           "yaxis": {
            "backgroundcolor": "#E5ECF6",
            "gridcolor": "white",
            "gridwidth": 2,
            "linecolor": "white",
            "showbackground": true,
            "ticks": "",
            "zerolinecolor": "white"
           },
           "zaxis": {
            "backgroundcolor": "#E5ECF6",
            "gridcolor": "white",
            "gridwidth": 2,
            "linecolor": "white",
            "showbackground": true,
            "ticks": "",
            "zerolinecolor": "white"
           }
          },
          "shapedefaults": {
           "line": {
            "color": "#2a3f5f"
           }
          },
          "ternary": {
           "aaxis": {
            "gridcolor": "white",
            "linecolor": "white",
            "ticks": ""
           },
           "baxis": {
            "gridcolor": "white",
            "linecolor": "white",
            "ticks": ""
           },
           "bgcolor": "#E5ECF6",
           "caxis": {
            "gridcolor": "white",
            "linecolor": "white",
            "ticks": ""
           }
          },
          "title": {
           "x": 0.05
          },
          "xaxis": {
           "automargin": true,
           "gridcolor": "white",
           "linecolor": "white",
           "ticks": "",
           "title": {
            "standoff": 15
           },
           "zerolinecolor": "white",
           "zerolinewidth": 2
          },
          "yaxis": {
           "automargin": true,
           "gridcolor": "white",
           "linecolor": "white",
           "ticks": "",
           "title": {
            "standoff": 15
           },
           "zerolinecolor": "white",
           "zerolinewidth": 2
          }
         }
        },
        "title": {
         "text": "Number of news stories vs Number of different outlets per country",
         "x": 0.5,
         "xanchor": "center",
         "y": 0.95,
         "yanchor": "top"
        },
        "xaxis": {
         "anchor": "y",
         "domain": [
          0,
          1
         ],
         "tickangle": 0,
         "title": {
          "text": "N news stories"
         }
        },
        "yaxis": {
         "anchor": "x",
         "domain": [
          0,
          1
         ],
         "title": {
          "text": "N different outlets"
         }
        }
       }
      },
      "text/html": [
       "<div>                            <div id=\"78749f37-eaa7-4d68-ae7c-a25abfa718b5\" class=\"plotly-graph-div\" style=\"height:525px; width:100%;\"></div>            <script type=\"text/javascript\">                require([\"plotly\"], function(Plotly) {                    window.PLOTLYENV=window.PLOTLYENV || {};                                    if (document.getElementById(\"78749f37-eaa7-4d68-ae7c-a25abfa718b5\")) {                    Plotly.newPlot(                        \"78749f37-eaa7-4d68-ae7c-a25abfa718b5\",                        [{\"hovertemplate\":\"n_news=%{marker.size}<br>n_outlets=%{y}<br>country=%{text}<extra></extra>\",\"legendgroup\":\"\",\"marker\":{\"color\":\"#636efa\",\"size\":[173,203,1195,489,2091,1651,940,1879,246,617,311,334,3423],\"sizemode\":\"area\",\"sizeref\":8.5575,\"symbol\":\"circle\"},\"mode\":\"markers+text\",\"name\":\"\",\"orientation\":\"v\",\"showlegend\":false,\"text\":[\"at\",\"cz\",\"de\",\"es\",\"fr\",\"gb\",\"ie\",\"it\",\"nl\",\"ro\",\"rs\",\"se\",\"us\"],\"textposition\":\"bottom right\",\"type\":\"scatter\",\"x\":[173,203,1195,489,2091,1651,940,1879,246,617,311,334,3423],\"xaxis\":\"x\",\"y\":[9,36,29,3,23,27,12,34,9,14,37,12,91],\"yaxis\":\"y\"}],                        {\"legend\":{\"itemsizing\":\"constant\",\"tracegroupgap\":0},\"margin\":{\"t\":60},\"template\":{\"data\":{\"bar\":[{\"error_x\":{\"color\":\"#2a3f5f\"},\"error_y\":{\"color\":\"#2a3f5f\"},\"marker\":{\"line\":{\"color\":\"#E5ECF6\",\"width\":0.5},\"pattern\":{\"fillmode\":\"overlay\",\"size\":10,\"solidity\":0.2}},\"type\":\"bar\"}],\"barpolar\":[{\"marker\":{\"line\":{\"color\":\"#E5ECF6\",\"width\":0.5},\"pattern\":{\"fillmode\":\"overlay\",\"size\":10,\"solidity\":0.2}},\"type\":\"barpolar\"}],\"carpet\":[{\"aaxis\":{\"endlinecolor\":\"#2a3f5f\",\"gridcolor\":\"white\",\"linecolor\":\"white\",\"minorgridcolor\":\"white\",\"startlinecolor\":\"#2a3f5f\"},\"baxis\":{\"endlinecolor\":\"#2a3f5f\",\"gridcolor\":\"white\",\"linecolor\":\"white\",\"minorgridcolor\":\"white\",\"startlinecolor\":\"#2a3f5f\"},\"type\":\"carpet\"}],\"choropleth\":[{\"colorbar\":{\"outlinewidth\":0,\"ticks\":\"\"},\"type\":\"choropleth\"}],\"contour\":[{\"colorbar\":{\"outlinewidth\":0,\"ticks\":\"\"},\"colorscale\":[[0.0,\"#0d0887\"],[0.1111111111111111,\"#46039f\"],[0.2222222222222222,\"#7201a8\"],[0.3333333333333333,\"#9c179e\"],[0.4444444444444444,\"#bd3786\"],[0.5555555555555556,\"#d8576b\"],[0.6666666666666666,\"#ed7953\"],[0.7777777777777778,\"#fb9f3a\"],[0.8888888888888888,\"#fdca26\"],[1.0,\"#f0f921\"]],\"type\":\"contour\"}],\"contourcarpet\":[{\"colorbar\":{\"outlinewidth\":0,\"ticks\":\"\"},\"type\":\"contourcarpet\"}],\"heatmap\":[{\"colorbar\":{\"outlinewidth\":0,\"ticks\":\"\"},\"colorscale\":[[0.0,\"#0d0887\"],[0.1111111111111111,\"#46039f\"],[0.2222222222222222,\"#7201a8\"],[0.3333333333333333,\"#9c179e\"],[0.4444444444444444,\"#bd3786\"],[0.5555555555555556,\"#d8576b\"],[0.6666666666666666,\"#ed7953\"],[0.7777777777777778,\"#fb9f3a\"],[0.8888888888888888,\"#fdca26\"],[1.0,\"#f0f921\"]],\"type\":\"heatmap\"}],\"heatmapgl\":[{\"colorbar\":{\"outlinewidth\":0,\"ticks\":\"\"},\"colorscale\":[[0.0,\"#0d0887\"],[0.1111111111111111,\"#46039f\"],[0.2222222222222222,\"#7201a8\"],[0.3333333333333333,\"#9c179e\"],[0.4444444444444444,\"#bd3786\"],[0.5555555555555556,\"#d8576b\"],[0.6666666666666666,\"#ed7953\"],[0.7777777777777778,\"#fb9f3a\"],[0.8888888888888888,\"#fdca26\"],[1.0,\"#f0f921\"]],\"type\":\"heatmapgl\"}],\"histogram\":[{\"marker\":{\"pattern\":{\"fillmode\":\"overlay\",\"size\":10,\"solidity\":0.2}},\"type\":\"histogram\"}],\"histogram2d\":[{\"colorbar\":{\"outlinewidth\":0,\"ticks\":\"\"},\"colorscale\":[[0.0,\"#0d0887\"],[0.1111111111111111,\"#46039f\"],[0.2222222222222222,\"#7201a8\"],[0.3333333333333333,\"#9c179e\"],[0.4444444444444444,\"#bd3786\"],[0.5555555555555556,\"#d8576b\"],[0.6666666666666666,\"#ed7953\"],[0.7777777777777778,\"#fb9f3a\"],[0.8888888888888888,\"#fdca26\"],[1.0,\"#f0f921\"]],\"type\":\"histogram2d\"}],\"histogram2dcontour\":[{\"colorbar\":{\"outlinewidth\":0,\"ticks\":\"\"},\"colorscale\":[[0.0,\"#0d0887\"],[0.1111111111111111,\"#46039f\"],[0.2222222222222222,\"#7201a8\"],[0.3333333333333333,\"#9c179e\"],[0.4444444444444444,\"#bd3786\"],[0.5555555555555556,\"#d8576b\"],[0.6666666666666666,\"#ed7953\"],[0.7777777777777778,\"#fb9f3a\"],[0.8888888888888888,\"#fdca26\"],[1.0,\"#f0f921\"]],\"type\":\"histogram2dcontour\"}],\"mesh3d\":[{\"colorbar\":{\"outlinewidth\":0,\"ticks\":\"\"},\"type\":\"mesh3d\"}],\"parcoords\":[{\"line\":{\"colorbar\":{\"outlinewidth\":0,\"ticks\":\"\"}},\"type\":\"parcoords\"}],\"pie\":[{\"automargin\":true,\"type\":\"pie\"}],\"scatter\":[{\"marker\":{\"colorbar\":{\"outlinewidth\":0,\"ticks\":\"\"}},\"type\":\"scatter\"}],\"scatter3d\":[{\"line\":{\"colorbar\":{\"outlinewidth\":0,\"ticks\":\"\"}},\"marker\":{\"colorbar\":{\"outlinewidth\":0,\"ticks\":\"\"}},\"type\":\"scatter3d\"}],\"scattercarpet\":[{\"marker\":{\"colorbar\":{\"outlinewidth\":0,\"ticks\":\"\"}},\"type\":\"scattercarpet\"}],\"scattergeo\":[{\"marker\":{\"colorbar\":{\"outlinewidth\":0,\"ticks\":\"\"}},\"type\":\"scattergeo\"}],\"scattergl\":[{\"marker\":{\"colorbar\":{\"outlinewidth\":0,\"ticks\":\"\"}},\"type\":\"scattergl\"}],\"scattermapbox\":[{\"marker\":{\"colorbar\":{\"outlinewidth\":0,\"ticks\":\"\"}},\"type\":\"scattermapbox\"}],\"scatterpolar\":[{\"marker\":{\"colorbar\":{\"outlinewidth\":0,\"ticks\":\"\"}},\"type\":\"scatterpolar\"}],\"scatterpolargl\":[{\"marker\":{\"colorbar\":{\"outlinewidth\":0,\"ticks\":\"\"}},\"type\":\"scatterpolargl\"}],\"scatterternary\":[{\"marker\":{\"colorbar\":{\"outlinewidth\":0,\"ticks\":\"\"}},\"type\":\"scatterternary\"}],\"surface\":[{\"colorbar\":{\"outlinewidth\":0,\"ticks\":\"\"},\"colorscale\":[[0.0,\"#0d0887\"],[0.1111111111111111,\"#46039f\"],[0.2222222222222222,\"#7201a8\"],[0.3333333333333333,\"#9c179e\"],[0.4444444444444444,\"#bd3786\"],[0.5555555555555556,\"#d8576b\"],[0.6666666666666666,\"#ed7953\"],[0.7777777777777778,\"#fb9f3a\"],[0.8888888888888888,\"#fdca26\"],[1.0,\"#f0f921\"]],\"type\":\"surface\"}],\"table\":[{\"cells\":{\"fill\":{\"color\":\"#EBF0F8\"},\"line\":{\"color\":\"white\"}},\"header\":{\"fill\":{\"color\":\"#C8D4E3\"},\"line\":{\"color\":\"white\"}},\"type\":\"table\"}]},\"layout\":{\"annotationdefaults\":{\"arrowcolor\":\"#2a3f5f\",\"arrowhead\":0,\"arrowwidth\":1},\"autotypenumbers\":\"strict\",\"coloraxis\":{\"colorbar\":{\"outlinewidth\":0,\"ticks\":\"\"}},\"colorscale\":{\"diverging\":[[0,\"#8e0152\"],[0.1,\"#c51b7d\"],[0.2,\"#de77ae\"],[0.3,\"#f1b6da\"],[0.4,\"#fde0ef\"],[0.5,\"#f7f7f7\"],[0.6,\"#e6f5d0\"],[0.7,\"#b8e186\"],[0.8,\"#7fbc41\"],[0.9,\"#4d9221\"],[1,\"#276419\"]],\"sequential\":[[0.0,\"#0d0887\"],[0.1111111111111111,\"#46039f\"],[0.2222222222222222,\"#7201a8\"],[0.3333333333333333,\"#9c179e\"],[0.4444444444444444,\"#bd3786\"],[0.5555555555555556,\"#d8576b\"],[0.6666666666666666,\"#ed7953\"],[0.7777777777777778,\"#fb9f3a\"],[0.8888888888888888,\"#fdca26\"],[1.0,\"#f0f921\"]],\"sequentialminus\":[[0.0,\"#0d0887\"],[0.1111111111111111,\"#46039f\"],[0.2222222222222222,\"#7201a8\"],[0.3333333333333333,\"#9c179e\"],[0.4444444444444444,\"#bd3786\"],[0.5555555555555556,\"#d8576b\"],[0.6666666666666666,\"#ed7953\"],[0.7777777777777778,\"#fb9f3a\"],[0.8888888888888888,\"#fdca26\"],[1.0,\"#f0f921\"]]},\"colorway\":[\"#636efa\",\"#EF553B\",\"#00cc96\",\"#ab63fa\",\"#FFA15A\",\"#19d3f3\",\"#FF6692\",\"#B6E880\",\"#FF97FF\",\"#FECB52\"],\"font\":{\"color\":\"#2a3f5f\"},\"geo\":{\"bgcolor\":\"white\",\"lakecolor\":\"white\",\"landcolor\":\"#E5ECF6\",\"showlakes\":true,\"showland\":true,\"subunitcolor\":\"white\"},\"hoverlabel\":{\"align\":\"left\"},\"hovermode\":\"closest\",\"mapbox\":{\"style\":\"light\"},\"paper_bgcolor\":\"white\",\"plot_bgcolor\":\"#E5ECF6\",\"polar\":{\"angularaxis\":{\"gridcolor\":\"white\",\"linecolor\":\"white\",\"ticks\":\"\"},\"bgcolor\":\"#E5ECF6\",\"radialaxis\":{\"gridcolor\":\"white\",\"linecolor\":\"white\",\"ticks\":\"\"}},\"scene\":{\"xaxis\":{\"backgroundcolor\":\"#E5ECF6\",\"gridcolor\":\"white\",\"gridwidth\":2,\"linecolor\":\"white\",\"showbackground\":true,\"ticks\":\"\",\"zerolinecolor\":\"white\"},\"yaxis\":{\"backgroundcolor\":\"#E5ECF6\",\"gridcolor\":\"white\",\"gridwidth\":2,\"linecolor\":\"white\",\"showbackground\":true,\"ticks\":\"\",\"zerolinecolor\":\"white\"},\"zaxis\":{\"backgroundcolor\":\"#E5ECF6\",\"gridcolor\":\"white\",\"gridwidth\":2,\"linecolor\":\"white\",\"showbackground\":true,\"ticks\":\"\",\"zerolinecolor\":\"white\"}},\"shapedefaults\":{\"line\":{\"color\":\"#2a3f5f\"}},\"ternary\":{\"aaxis\":{\"gridcolor\":\"white\",\"linecolor\":\"white\",\"ticks\":\"\"},\"baxis\":{\"gridcolor\":\"white\",\"linecolor\":\"white\",\"ticks\":\"\"},\"bgcolor\":\"#E5ECF6\",\"caxis\":{\"gridcolor\":\"white\",\"linecolor\":\"white\",\"ticks\":\"\"}},\"title\":{\"x\":0.05},\"xaxis\":{\"automargin\":true,\"gridcolor\":\"white\",\"linecolor\":\"white\",\"ticks\":\"\",\"title\":{\"standoff\":15},\"zerolinecolor\":\"white\",\"zerolinewidth\":2},\"yaxis\":{\"automargin\":true,\"gridcolor\":\"white\",\"linecolor\":\"white\",\"ticks\":\"\",\"title\":{\"standoff\":15},\"zerolinecolor\":\"white\",\"zerolinewidth\":2}}},\"title\":{\"text\":\"Number of news stories vs Number of different outlets per country\",\"x\":0.5,\"xanchor\":\"center\",\"y\":0.95,\"yanchor\":\"top\"},\"xaxis\":{\"anchor\":\"y\",\"domain\":[0.0,1.0],\"tickangle\":0,\"title\":{\"text\":\"N news stories\"}},\"yaxis\":{\"anchor\":\"x\",\"domain\":[0.0,1.0],\"title\":{\"text\":\"N different outlets\"}}},                        {\"responsive\": true}                    ).then(function(){\n",
       "                            \n",
       "var gd = document.getElementById('78749f37-eaa7-4d68-ae7c-a25abfa718b5');\n",
       "var x = new MutationObserver(function (mutations, observer) {{\n",
       "        var display = window.getComputedStyle(gd).display;\n",
       "        if (!display || display === 'none') {{\n",
       "            console.log([gd, 'removed!']);\n",
       "            Plotly.purge(gd);\n",
       "            observer.disconnect();\n",
       "        }}\n",
       "}});\n",
       "\n",
       "// Listen for the removal of the full notebook cells\n",
       "var notebookContainer = gd.closest('#notebook-container');\n",
       "if (notebookContainer) {{\n",
       "    x.observe(notebookContainer, {childList: true});\n",
       "}}\n",
       "\n",
       "// Listen for the clearing of the current output cell\n",
       "var outputEl = gd.closest('.output');\n",
       "if (outputEl) {{\n",
       "    x.observe(outputEl, {childList: true});\n",
       "}}\n",
       "\n",
       "                        })                };                });            </script>        </div>"
      ]
     },
     "metadata": {},
     "output_type": "display_data"
    }
   ],
   "source": [
    "fig = px.scatter(dfp, x=\"n_news\", y=\"n_outlets\", \n",
    "                 size='n_news', text='country')\n",
    "fig.update_traces(textposition=\"bottom right\")\n",
    "fig.update_layout(\n",
    "            title={\n",
    "            'text': 'Number of news stories vs Number of different outlets per country' ,\n",
    "            'y':0.95,\n",
    "            'x':0.5,\n",
    "            'xanchor': 'center',\n",
    "            'yanchor': 'top'},\n",
    "            yaxis_title=\"N different outlets\",\n",
    "            xaxis_title=\"N news stories\" )\n",
    "fig.update_xaxes(tickangle=0)\n",
    "\n",
    "fig.show()"
   ]
  },
  {
   "cell_type": "code",
   "execution_count": 389,
   "id": "608c6d18",
   "metadata": {},
   "outputs": [
    {
     "data": {
      "application/vnd.plotly.v1+json": {
       "config": {
        "plotlyServerURL": "https://plot.ly"
       },
       "data": [
        {
         "base": 0,
         "marker": {
          "color": "rgb(158,202,225)",
          "line": {
           "color": "rgb(8,48,107)",
           "width": 1.5
          }
         },
         "name": "Revenue",
         "opacity": 0.7,
         "text": [
          "173",
          "203",
          "1195",
          "489",
          "2091",
          "1651",
          "940",
          "1879",
          "246",
          "617",
          "311",
          "334",
          "3423"
         ],
         "textposition": "outside",
         "type": "bar",
         "x": [
          "at",
          "cz",
          "de",
          "es",
          "fr",
          "gb",
          "ie",
          "it",
          "nl",
          "ro",
          "rs",
          "se",
          "us"
         ],
         "y": [
          173,
          203,
          1195,
          489,
          2091,
          1651,
          940,
          1879,
          246,
          617,
          311,
          334,
          3423
         ]
        },
        {
         "base": [
          -9,
          -36,
          -29,
          -3,
          -23,
          -27,
          -12,
          -34,
          -9,
          -14,
          -37,
          -12,
          -91
         ],
         "marker": {
          "color": "crimson",
          "line": {
           "color": "red",
           "width": 1.5
          }
         },
         "name": "COGS<br>(Cost of Goods Sold)",
         "opacity": 0.7,
         "text": [
          "-9",
          "-36",
          "-29",
          "-3",
          "-23",
          "-27",
          "-12",
          "-34",
          "-9",
          "-14",
          "-37",
          "-12",
          "-91"
         ],
         "textposition": "auto",
         "type": "bar",
         "x": [
          "at",
          "cz",
          "de",
          "es",
          "fr",
          "gb",
          "ie",
          "it",
          "nl",
          "ro",
          "rs",
          "se",
          "us"
         ],
         "y": [
          9,
          36,
          29,
          3,
          23,
          27,
          12,
          34,
          9,
          14,
          37,
          12,
          91
         ]
        }
       ],
       "layout": {
        "height": 500,
        "template": {
         "data": {
          "bar": [
           {
            "error_x": {
             "color": "#2a3f5f"
            },
            "error_y": {
             "color": "#2a3f5f"
            },
            "marker": {
             "line": {
              "color": "#E5ECF6",
              "width": 0.5
             },
             "pattern": {
              "fillmode": "overlay",
              "size": 10,
              "solidity": 0.2
             }
            },
            "type": "bar"
           }
          ],
          "barpolar": [
           {
            "marker": {
             "line": {
              "color": "#E5ECF6",
              "width": 0.5
             },
             "pattern": {
              "fillmode": "overlay",
              "size": 10,
              "solidity": 0.2
             }
            },
            "type": "barpolar"
           }
          ],
          "carpet": [
           {
            "aaxis": {
             "endlinecolor": "#2a3f5f",
             "gridcolor": "white",
             "linecolor": "white",
             "minorgridcolor": "white",
             "startlinecolor": "#2a3f5f"
            },
            "baxis": {
             "endlinecolor": "#2a3f5f",
             "gridcolor": "white",
             "linecolor": "white",
             "minorgridcolor": "white",
             "startlinecolor": "#2a3f5f"
            },
            "type": "carpet"
           }
          ],
          "choropleth": [
           {
            "colorbar": {
             "outlinewidth": 0,
             "ticks": ""
            },
            "type": "choropleth"
           }
          ],
          "contour": [
           {
            "colorbar": {
             "outlinewidth": 0,
             "ticks": ""
            },
            "colorscale": [
             [
              0,
              "#0d0887"
             ],
             [
              0.1111111111111111,
              "#46039f"
             ],
             [
              0.2222222222222222,
              "#7201a8"
             ],
             [
              0.3333333333333333,
              "#9c179e"
             ],
             [
              0.4444444444444444,
              "#bd3786"
             ],
             [
              0.5555555555555556,
              "#d8576b"
             ],
             [
              0.6666666666666666,
              "#ed7953"
             ],
             [
              0.7777777777777778,
              "#fb9f3a"
             ],
             [
              0.8888888888888888,
              "#fdca26"
             ],
             [
              1,
              "#f0f921"
             ]
            ],
            "type": "contour"
           }
          ],
          "contourcarpet": [
           {
            "colorbar": {
             "outlinewidth": 0,
             "ticks": ""
            },
            "type": "contourcarpet"
           }
          ],
          "heatmap": [
           {
            "colorbar": {
             "outlinewidth": 0,
             "ticks": ""
            },
            "colorscale": [
             [
              0,
              "#0d0887"
             ],
             [
              0.1111111111111111,
              "#46039f"
             ],
             [
              0.2222222222222222,
              "#7201a8"
             ],
             [
              0.3333333333333333,
              "#9c179e"
             ],
             [
              0.4444444444444444,
              "#bd3786"
             ],
             [
              0.5555555555555556,
              "#d8576b"
             ],
             [
              0.6666666666666666,
              "#ed7953"
             ],
             [
              0.7777777777777778,
              "#fb9f3a"
             ],
             [
              0.8888888888888888,
              "#fdca26"
             ],
             [
              1,
              "#f0f921"
             ]
            ],
            "type": "heatmap"
           }
          ],
          "heatmapgl": [
           {
            "colorbar": {
             "outlinewidth": 0,
             "ticks": ""
            },
            "colorscale": [
             [
              0,
              "#0d0887"
             ],
             [
              0.1111111111111111,
              "#46039f"
             ],
             [
              0.2222222222222222,
              "#7201a8"
             ],
             [
              0.3333333333333333,
              "#9c179e"
             ],
             [
              0.4444444444444444,
              "#bd3786"
             ],
             [
              0.5555555555555556,
              "#d8576b"
             ],
             [
              0.6666666666666666,
              "#ed7953"
             ],
             [
              0.7777777777777778,
              "#fb9f3a"
             ],
             [
              0.8888888888888888,
              "#fdca26"
             ],
             [
              1,
              "#f0f921"
             ]
            ],
            "type": "heatmapgl"
           }
          ],
          "histogram": [
           {
            "marker": {
             "pattern": {
              "fillmode": "overlay",
              "size": 10,
              "solidity": 0.2
             }
            },
            "type": "histogram"
           }
          ],
          "histogram2d": [
           {
            "colorbar": {
             "outlinewidth": 0,
             "ticks": ""
            },
            "colorscale": [
             [
              0,
              "#0d0887"
             ],
             [
              0.1111111111111111,
              "#46039f"
             ],
             [
              0.2222222222222222,
              "#7201a8"
             ],
             [
              0.3333333333333333,
              "#9c179e"
             ],
             [
              0.4444444444444444,
              "#bd3786"
             ],
             [
              0.5555555555555556,
              "#d8576b"
             ],
             [
              0.6666666666666666,
              "#ed7953"
             ],
             [
              0.7777777777777778,
              "#fb9f3a"
             ],
             [
              0.8888888888888888,
              "#fdca26"
             ],
             [
              1,
              "#f0f921"
             ]
            ],
            "type": "histogram2d"
           }
          ],
          "histogram2dcontour": [
           {
            "colorbar": {
             "outlinewidth": 0,
             "ticks": ""
            },
            "colorscale": [
             [
              0,
              "#0d0887"
             ],
             [
              0.1111111111111111,
              "#46039f"
             ],
             [
              0.2222222222222222,
              "#7201a8"
             ],
             [
              0.3333333333333333,
              "#9c179e"
             ],
             [
              0.4444444444444444,
              "#bd3786"
             ],
             [
              0.5555555555555556,
              "#d8576b"
             ],
             [
              0.6666666666666666,
              "#ed7953"
             ],
             [
              0.7777777777777778,
              "#fb9f3a"
             ],
             [
              0.8888888888888888,
              "#fdca26"
             ],
             [
              1,
              "#f0f921"
             ]
            ],
            "type": "histogram2dcontour"
           }
          ],
          "mesh3d": [
           {
            "colorbar": {
             "outlinewidth": 0,
             "ticks": ""
            },
            "type": "mesh3d"
           }
          ],
          "parcoords": [
           {
            "line": {
             "colorbar": {
              "outlinewidth": 0,
              "ticks": ""
             }
            },
            "type": "parcoords"
           }
          ],
          "pie": [
           {
            "automargin": true,
            "type": "pie"
           }
          ],
          "scatter": [
           {
            "marker": {
             "colorbar": {
              "outlinewidth": 0,
              "ticks": ""
             }
            },
            "type": "scatter"
           }
          ],
          "scatter3d": [
           {
            "line": {
             "colorbar": {
              "outlinewidth": 0,
              "ticks": ""
             }
            },
            "marker": {
             "colorbar": {
              "outlinewidth": 0,
              "ticks": ""
             }
            },
            "type": "scatter3d"
           }
          ],
          "scattercarpet": [
           {
            "marker": {
             "colorbar": {
              "outlinewidth": 0,
              "ticks": ""
             }
            },
            "type": "scattercarpet"
           }
          ],
          "scattergeo": [
           {
            "marker": {
             "colorbar": {
              "outlinewidth": 0,
              "ticks": ""
             }
            },
            "type": "scattergeo"
           }
          ],
          "scattergl": [
           {
            "marker": {
             "colorbar": {
              "outlinewidth": 0,
              "ticks": ""
             }
            },
            "type": "scattergl"
           }
          ],
          "scattermapbox": [
           {
            "marker": {
             "colorbar": {
              "outlinewidth": 0,
              "ticks": ""
             }
            },
            "type": "scattermapbox"
           }
          ],
          "scatterpolar": [
           {
            "marker": {
             "colorbar": {
              "outlinewidth": 0,
              "ticks": ""
             }
            },
            "type": "scatterpolar"
           }
          ],
          "scatterpolargl": [
           {
            "marker": {
             "colorbar": {
              "outlinewidth": 0,
              "ticks": ""
             }
            },
            "type": "scatterpolargl"
           }
          ],
          "scatterternary": [
           {
            "marker": {
             "colorbar": {
              "outlinewidth": 0,
              "ticks": ""
             }
            },
            "type": "scatterternary"
           }
          ],
          "surface": [
           {
            "colorbar": {
             "outlinewidth": 0,
             "ticks": ""
            },
            "colorscale": [
             [
              0,
              "#0d0887"
             ],
             [
              0.1111111111111111,
              "#46039f"
             ],
             [
              0.2222222222222222,
              "#7201a8"
             ],
             [
              0.3333333333333333,
              "#9c179e"
             ],
             [
              0.4444444444444444,
              "#bd3786"
             ],
             [
              0.5555555555555556,
              "#d8576b"
             ],
             [
              0.6666666666666666,
              "#ed7953"
             ],
             [
              0.7777777777777778,
              "#fb9f3a"
             ],
             [
              0.8888888888888888,
              "#fdca26"
             ],
             [
              1,
              "#f0f921"
             ]
            ],
            "type": "surface"
           }
          ],
          "table": [
           {
            "cells": {
             "fill": {
              "color": "#EBF0F8"
             },
             "line": {
              "color": "white"
             }
            },
            "header": {
             "fill": {
              "color": "#C8D4E3"
             },
             "line": {
              "color": "white"
             }
            },
            "type": "table"
           }
          ]
         },
         "layout": {
          "annotationdefaults": {
           "arrowcolor": "#2a3f5f",
           "arrowhead": 0,
           "arrowwidth": 1
          },
          "autotypenumbers": "strict",
          "coloraxis": {
           "colorbar": {
            "outlinewidth": 0,
            "ticks": ""
           }
          },
          "colorscale": {
           "diverging": [
            [
             0,
             "#8e0152"
            ],
            [
             0.1,
             "#c51b7d"
            ],
            [
             0.2,
             "#de77ae"
            ],
            [
             0.3,
             "#f1b6da"
            ],
            [
             0.4,
             "#fde0ef"
            ],
            [
             0.5,
             "#f7f7f7"
            ],
            [
             0.6,
             "#e6f5d0"
            ],
            [
             0.7,
             "#b8e186"
            ],
            [
             0.8,
             "#7fbc41"
            ],
            [
             0.9,
             "#4d9221"
            ],
            [
             1,
             "#276419"
            ]
           ],
           "sequential": [
            [
             0,
             "#0d0887"
            ],
            [
             0.1111111111111111,
             "#46039f"
            ],
            [
             0.2222222222222222,
             "#7201a8"
            ],
            [
             0.3333333333333333,
             "#9c179e"
            ],
            [
             0.4444444444444444,
             "#bd3786"
            ],
            [
             0.5555555555555556,
             "#d8576b"
            ],
            [
             0.6666666666666666,
             "#ed7953"
            ],
            [
             0.7777777777777778,
             "#fb9f3a"
            ],
            [
             0.8888888888888888,
             "#fdca26"
            ],
            [
             1,
             "#f0f921"
            ]
           ],
           "sequentialminus": [
            [
             0,
             "#0d0887"
            ],
            [
             0.1111111111111111,
             "#46039f"
            ],
            [
             0.2222222222222222,
             "#7201a8"
            ],
            [
             0.3333333333333333,
             "#9c179e"
            ],
            [
             0.4444444444444444,
             "#bd3786"
            ],
            [
             0.5555555555555556,
             "#d8576b"
            ],
            [
             0.6666666666666666,
             "#ed7953"
            ],
            [
             0.7777777777777778,
             "#fb9f3a"
            ],
            [
             0.8888888888888888,
             "#fdca26"
            ],
            [
             1,
             "#f0f921"
            ]
           ]
          },
          "colorway": [
           "#636efa",
           "#EF553B",
           "#00cc96",
           "#ab63fa",
           "#FFA15A",
           "#19d3f3",
           "#FF6692",
           "#B6E880",
           "#FF97FF",
           "#FECB52"
          ],
          "font": {
           "color": "#2a3f5f"
          },
          "geo": {
           "bgcolor": "white",
           "lakecolor": "white",
           "landcolor": "#E5ECF6",
           "showlakes": true,
           "showland": true,
           "subunitcolor": "white"
          },
          "hoverlabel": {
           "align": "left"
          },
          "hovermode": "closest",
          "mapbox": {
           "style": "light"
          },
          "paper_bgcolor": "white",
          "plot_bgcolor": "#E5ECF6",
          "polar": {
           "angularaxis": {
            "gridcolor": "white",
            "linecolor": "white",
            "ticks": ""
           },
           "bgcolor": "#E5ECF6",
           "radialaxis": {
            "gridcolor": "white",
            "linecolor": "white",
            "ticks": ""
           }
          },
          "scene": {
           "xaxis": {
            "backgroundcolor": "#E5ECF6",
            "gridcolor": "white",
            "gridwidth": 2,
            "linecolor": "white",
            "showbackground": true,
            "ticks": "",
            "zerolinecolor": "white"
           },
           "yaxis": {
            "backgroundcolor": "#E5ECF6",
            "gridcolor": "white",
            "gridwidth": 2,
            "linecolor": "white",
            "showbackground": true,
            "ticks": "",
            "zerolinecolor": "white"
           },
           "zaxis": {
            "backgroundcolor": "#E5ECF6",
            "gridcolor": "white",
            "gridwidth": 2,
            "linecolor": "white",
            "showbackground": true,
            "ticks": "",
            "zerolinecolor": "white"
           }
          },
          "shapedefaults": {
           "line": {
            "color": "#2a3f5f"
           }
          },
          "ternary": {
           "aaxis": {
            "gridcolor": "white",
            "linecolor": "white",
            "ticks": ""
           },
           "baxis": {
            "gridcolor": "white",
            "linecolor": "white",
            "ticks": ""
           },
           "bgcolor": "#E5ECF6",
           "caxis": {
            "gridcolor": "white",
            "linecolor": "white",
            "ticks": ""
           }
          },
          "title": {
           "x": 0.05
          },
          "xaxis": {
           "automargin": true,
           "gridcolor": "white",
           "linecolor": "white",
           "ticks": "",
           "title": {
            "standoff": 15
           },
           "zerolinecolor": "white",
           "zerolinewidth": 2
          },
          "yaxis": {
           "automargin": true,
           "gridcolor": "white",
           "linecolor": "white",
           "ticks": "",
           "title": {
            "standoff": 15
           },
           "zerolinecolor": "white",
           "zerolinewidth": 2
          }
         }
        },
        "title": {
         "text": "Apple Inc Revenue & Expense from 2017 to 2021"
        }
       }
      },
      "text/html": [
       "<div>                            <div id=\"f68058a9-665a-4631-8179-c7b198d7ae76\" class=\"plotly-graph-div\" style=\"height:500px; width:100%;\"></div>            <script type=\"text/javascript\">                require([\"plotly\"], function(Plotly) {                    window.PLOTLYENV=window.PLOTLYENV || {};                                    if (document.getElementById(\"f68058a9-665a-4631-8179-c7b198d7ae76\")) {                    Plotly.newPlot(                        \"f68058a9-665a-4631-8179-c7b198d7ae76\",                        [{\"base\":0,\"marker\":{\"color\":\"rgb(158,202,225)\",\"line\":{\"color\":\"rgb(8,48,107)\",\"width\":1.5}},\"name\":\"Revenue\",\"opacity\":0.7,\"text\":[\"173\",\"203\",\"1195\",\"489\",\"2091\",\"1651\",\"940\",\"1879\",\"246\",\"617\",\"311\",\"334\",\"3423\"],\"textposition\":\"outside\",\"type\":\"bar\",\"x\":[\"at\",\"cz\",\"de\",\"es\",\"fr\",\"gb\",\"ie\",\"it\",\"nl\",\"ro\",\"rs\",\"se\",\"us\"],\"y\":[173,203,1195,489,2091,1651,940,1879,246,617,311,334,3423]},{\"base\":[-9,-36,-29,-3,-23,-27,-12,-34,-9,-14,-37,-12,-91],\"marker\":{\"color\":\"crimson\",\"line\":{\"color\":\"red\",\"width\":1.5}},\"name\":\"COGS<br>(Cost of Goods Sold)\",\"opacity\":0.7,\"text\":[\"-9\",\"-36\",\"-29\",\"-3\",\"-23\",\"-27\",\"-12\",\"-34\",\"-9\",\"-14\",\"-37\",\"-12\",\"-91\"],\"textposition\":\"auto\",\"type\":\"bar\",\"x\":[\"at\",\"cz\",\"de\",\"es\",\"fr\",\"gb\",\"ie\",\"it\",\"nl\",\"ro\",\"rs\",\"se\",\"us\"],\"y\":[9,36,29,3,23,27,12,34,9,14,37,12,91]}],                        {\"height\":500,\"template\":{\"data\":{\"bar\":[{\"error_x\":{\"color\":\"#2a3f5f\"},\"error_y\":{\"color\":\"#2a3f5f\"},\"marker\":{\"line\":{\"color\":\"#E5ECF6\",\"width\":0.5},\"pattern\":{\"fillmode\":\"overlay\",\"size\":10,\"solidity\":0.2}},\"type\":\"bar\"}],\"barpolar\":[{\"marker\":{\"line\":{\"color\":\"#E5ECF6\",\"width\":0.5},\"pattern\":{\"fillmode\":\"overlay\",\"size\":10,\"solidity\":0.2}},\"type\":\"barpolar\"}],\"carpet\":[{\"aaxis\":{\"endlinecolor\":\"#2a3f5f\",\"gridcolor\":\"white\",\"linecolor\":\"white\",\"minorgridcolor\":\"white\",\"startlinecolor\":\"#2a3f5f\"},\"baxis\":{\"endlinecolor\":\"#2a3f5f\",\"gridcolor\":\"white\",\"linecolor\":\"white\",\"minorgridcolor\":\"white\",\"startlinecolor\":\"#2a3f5f\"},\"type\":\"carpet\"}],\"choropleth\":[{\"colorbar\":{\"outlinewidth\":0,\"ticks\":\"\"},\"type\":\"choropleth\"}],\"contour\":[{\"colorbar\":{\"outlinewidth\":0,\"ticks\":\"\"},\"colorscale\":[[0.0,\"#0d0887\"],[0.1111111111111111,\"#46039f\"],[0.2222222222222222,\"#7201a8\"],[0.3333333333333333,\"#9c179e\"],[0.4444444444444444,\"#bd3786\"],[0.5555555555555556,\"#d8576b\"],[0.6666666666666666,\"#ed7953\"],[0.7777777777777778,\"#fb9f3a\"],[0.8888888888888888,\"#fdca26\"],[1.0,\"#f0f921\"]],\"type\":\"contour\"}],\"contourcarpet\":[{\"colorbar\":{\"outlinewidth\":0,\"ticks\":\"\"},\"type\":\"contourcarpet\"}],\"heatmap\":[{\"colorbar\":{\"outlinewidth\":0,\"ticks\":\"\"},\"colorscale\":[[0.0,\"#0d0887\"],[0.1111111111111111,\"#46039f\"],[0.2222222222222222,\"#7201a8\"],[0.3333333333333333,\"#9c179e\"],[0.4444444444444444,\"#bd3786\"],[0.5555555555555556,\"#d8576b\"],[0.6666666666666666,\"#ed7953\"],[0.7777777777777778,\"#fb9f3a\"],[0.8888888888888888,\"#fdca26\"],[1.0,\"#f0f921\"]],\"type\":\"heatmap\"}],\"heatmapgl\":[{\"colorbar\":{\"outlinewidth\":0,\"ticks\":\"\"},\"colorscale\":[[0.0,\"#0d0887\"],[0.1111111111111111,\"#46039f\"],[0.2222222222222222,\"#7201a8\"],[0.3333333333333333,\"#9c179e\"],[0.4444444444444444,\"#bd3786\"],[0.5555555555555556,\"#d8576b\"],[0.6666666666666666,\"#ed7953\"],[0.7777777777777778,\"#fb9f3a\"],[0.8888888888888888,\"#fdca26\"],[1.0,\"#f0f921\"]],\"type\":\"heatmapgl\"}],\"histogram\":[{\"marker\":{\"pattern\":{\"fillmode\":\"overlay\",\"size\":10,\"solidity\":0.2}},\"type\":\"histogram\"}],\"histogram2d\":[{\"colorbar\":{\"outlinewidth\":0,\"ticks\":\"\"},\"colorscale\":[[0.0,\"#0d0887\"],[0.1111111111111111,\"#46039f\"],[0.2222222222222222,\"#7201a8\"],[0.3333333333333333,\"#9c179e\"],[0.4444444444444444,\"#bd3786\"],[0.5555555555555556,\"#d8576b\"],[0.6666666666666666,\"#ed7953\"],[0.7777777777777778,\"#fb9f3a\"],[0.8888888888888888,\"#fdca26\"],[1.0,\"#f0f921\"]],\"type\":\"histogram2d\"}],\"histogram2dcontour\":[{\"colorbar\":{\"outlinewidth\":0,\"ticks\":\"\"},\"colorscale\":[[0.0,\"#0d0887\"],[0.1111111111111111,\"#46039f\"],[0.2222222222222222,\"#7201a8\"],[0.3333333333333333,\"#9c179e\"],[0.4444444444444444,\"#bd3786\"],[0.5555555555555556,\"#d8576b\"],[0.6666666666666666,\"#ed7953\"],[0.7777777777777778,\"#fb9f3a\"],[0.8888888888888888,\"#fdca26\"],[1.0,\"#f0f921\"]],\"type\":\"histogram2dcontour\"}],\"mesh3d\":[{\"colorbar\":{\"outlinewidth\":0,\"ticks\":\"\"},\"type\":\"mesh3d\"}],\"parcoords\":[{\"line\":{\"colorbar\":{\"outlinewidth\":0,\"ticks\":\"\"}},\"type\":\"parcoords\"}],\"pie\":[{\"automargin\":true,\"type\":\"pie\"}],\"scatter\":[{\"marker\":{\"colorbar\":{\"outlinewidth\":0,\"ticks\":\"\"}},\"type\":\"scatter\"}],\"scatter3d\":[{\"line\":{\"colorbar\":{\"outlinewidth\":0,\"ticks\":\"\"}},\"marker\":{\"colorbar\":{\"outlinewidth\":0,\"ticks\":\"\"}},\"type\":\"scatter3d\"}],\"scattercarpet\":[{\"marker\":{\"colorbar\":{\"outlinewidth\":0,\"ticks\":\"\"}},\"type\":\"scattercarpet\"}],\"scattergeo\":[{\"marker\":{\"colorbar\":{\"outlinewidth\":0,\"ticks\":\"\"}},\"type\":\"scattergeo\"}],\"scattergl\":[{\"marker\":{\"colorbar\":{\"outlinewidth\":0,\"ticks\":\"\"}},\"type\":\"scattergl\"}],\"scattermapbox\":[{\"marker\":{\"colorbar\":{\"outlinewidth\":0,\"ticks\":\"\"}},\"type\":\"scattermapbox\"}],\"scatterpolar\":[{\"marker\":{\"colorbar\":{\"outlinewidth\":0,\"ticks\":\"\"}},\"type\":\"scatterpolar\"}],\"scatterpolargl\":[{\"marker\":{\"colorbar\":{\"outlinewidth\":0,\"ticks\":\"\"}},\"type\":\"scatterpolargl\"}],\"scatterternary\":[{\"marker\":{\"colorbar\":{\"outlinewidth\":0,\"ticks\":\"\"}},\"type\":\"scatterternary\"}],\"surface\":[{\"colorbar\":{\"outlinewidth\":0,\"ticks\":\"\"},\"colorscale\":[[0.0,\"#0d0887\"],[0.1111111111111111,\"#46039f\"],[0.2222222222222222,\"#7201a8\"],[0.3333333333333333,\"#9c179e\"],[0.4444444444444444,\"#bd3786\"],[0.5555555555555556,\"#d8576b\"],[0.6666666666666666,\"#ed7953\"],[0.7777777777777778,\"#fb9f3a\"],[0.8888888888888888,\"#fdca26\"],[1.0,\"#f0f921\"]],\"type\":\"surface\"}],\"table\":[{\"cells\":{\"fill\":{\"color\":\"#EBF0F8\"},\"line\":{\"color\":\"white\"}},\"header\":{\"fill\":{\"color\":\"#C8D4E3\"},\"line\":{\"color\":\"white\"}},\"type\":\"table\"}]},\"layout\":{\"annotationdefaults\":{\"arrowcolor\":\"#2a3f5f\",\"arrowhead\":0,\"arrowwidth\":1},\"autotypenumbers\":\"strict\",\"coloraxis\":{\"colorbar\":{\"outlinewidth\":0,\"ticks\":\"\"}},\"colorscale\":{\"diverging\":[[0,\"#8e0152\"],[0.1,\"#c51b7d\"],[0.2,\"#de77ae\"],[0.3,\"#f1b6da\"],[0.4,\"#fde0ef\"],[0.5,\"#f7f7f7\"],[0.6,\"#e6f5d0\"],[0.7,\"#b8e186\"],[0.8,\"#7fbc41\"],[0.9,\"#4d9221\"],[1,\"#276419\"]],\"sequential\":[[0.0,\"#0d0887\"],[0.1111111111111111,\"#46039f\"],[0.2222222222222222,\"#7201a8\"],[0.3333333333333333,\"#9c179e\"],[0.4444444444444444,\"#bd3786\"],[0.5555555555555556,\"#d8576b\"],[0.6666666666666666,\"#ed7953\"],[0.7777777777777778,\"#fb9f3a\"],[0.8888888888888888,\"#fdca26\"],[1.0,\"#f0f921\"]],\"sequentialminus\":[[0.0,\"#0d0887\"],[0.1111111111111111,\"#46039f\"],[0.2222222222222222,\"#7201a8\"],[0.3333333333333333,\"#9c179e\"],[0.4444444444444444,\"#bd3786\"],[0.5555555555555556,\"#d8576b\"],[0.6666666666666666,\"#ed7953\"],[0.7777777777777778,\"#fb9f3a\"],[0.8888888888888888,\"#fdca26\"],[1.0,\"#f0f921\"]]},\"colorway\":[\"#636efa\",\"#EF553B\",\"#00cc96\",\"#ab63fa\",\"#FFA15A\",\"#19d3f3\",\"#FF6692\",\"#B6E880\",\"#FF97FF\",\"#FECB52\"],\"font\":{\"color\":\"#2a3f5f\"},\"geo\":{\"bgcolor\":\"white\",\"lakecolor\":\"white\",\"landcolor\":\"#E5ECF6\",\"showlakes\":true,\"showland\":true,\"subunitcolor\":\"white\"},\"hoverlabel\":{\"align\":\"left\"},\"hovermode\":\"closest\",\"mapbox\":{\"style\":\"light\"},\"paper_bgcolor\":\"white\",\"plot_bgcolor\":\"#E5ECF6\",\"polar\":{\"angularaxis\":{\"gridcolor\":\"white\",\"linecolor\":\"white\",\"ticks\":\"\"},\"bgcolor\":\"#E5ECF6\",\"radialaxis\":{\"gridcolor\":\"white\",\"linecolor\":\"white\",\"ticks\":\"\"}},\"scene\":{\"xaxis\":{\"backgroundcolor\":\"#E5ECF6\",\"gridcolor\":\"white\",\"gridwidth\":2,\"linecolor\":\"white\",\"showbackground\":true,\"ticks\":\"\",\"zerolinecolor\":\"white\"},\"yaxis\":{\"backgroundcolor\":\"#E5ECF6\",\"gridcolor\":\"white\",\"gridwidth\":2,\"linecolor\":\"white\",\"showbackground\":true,\"ticks\":\"\",\"zerolinecolor\":\"white\"},\"zaxis\":{\"backgroundcolor\":\"#E5ECF6\",\"gridcolor\":\"white\",\"gridwidth\":2,\"linecolor\":\"white\",\"showbackground\":true,\"ticks\":\"\",\"zerolinecolor\":\"white\"}},\"shapedefaults\":{\"line\":{\"color\":\"#2a3f5f\"}},\"ternary\":{\"aaxis\":{\"gridcolor\":\"white\",\"linecolor\":\"white\",\"ticks\":\"\"},\"baxis\":{\"gridcolor\":\"white\",\"linecolor\":\"white\",\"ticks\":\"\"},\"bgcolor\":\"#E5ECF6\",\"caxis\":{\"gridcolor\":\"white\",\"linecolor\":\"white\",\"ticks\":\"\"}},\"title\":{\"x\":0.05},\"xaxis\":{\"automargin\":true,\"gridcolor\":\"white\",\"linecolor\":\"white\",\"ticks\":\"\",\"title\":{\"standoff\":15},\"zerolinecolor\":\"white\",\"zerolinewidth\":2},\"yaxis\":{\"automargin\":true,\"gridcolor\":\"white\",\"linecolor\":\"white\",\"ticks\":\"\",\"title\":{\"standoff\":15},\"zerolinecolor\":\"white\",\"zerolinewidth\":2}}},\"title\":{\"text\":\"Apple Inc Revenue & Expense from 2017 to 2021\"}},                        {\"responsive\": true}                    ).then(function(){\n",
       "                            \n",
       "var gd = document.getElementById('f68058a9-665a-4631-8179-c7b198d7ae76');\n",
       "var x = new MutationObserver(function (mutations, observer) {{\n",
       "        var display = window.getComputedStyle(gd).display;\n",
       "        if (!display || display === 'none') {{\n",
       "            console.log([gd, 'removed!']);\n",
       "            Plotly.purge(gd);\n",
       "            observer.disconnect();\n",
       "        }}\n",
       "}});\n",
       "\n",
       "// Listen for the removal of the full notebook cells\n",
       "var notebookContainer = gd.closest('#notebook-container');\n",
       "if (notebookContainer) {{\n",
       "    x.observe(notebookContainer, {childList: true});\n",
       "}}\n",
       "\n",
       "// Listen for the clearing of the current output cell\n",
       "var outputEl = gd.closest('.output');\n",
       "if (outputEl) {{\n",
       "    x.observe(outputEl, {childList: true});\n",
       "}}\n",
       "\n",
       "                        })                };                });            </script>        </div>"
      ]
     },
     "metadata": {},
     "output_type": "display_data"
    }
   ],
   "source": [
    "years = list(dfp['country'])\n",
    "sr1 = list(dfp['n_news'])\n",
    "sr2= list(dfp['n_outlets'])\n",
    "#convert sr1\n",
    "fig = go.Figure()\n",
    "fig.add_trace(go.Bar(x=years, y=sr1,\n",
    "                base=0,\n",
    "                marker_color='rgb(158,202,225)',\n",
    "                name='Revenue',\n",
    "                marker_line_color='rgb(8,48,107)',\n",
    "                marker_line_width=1.5,\n",
    "                opacity= 0.7,\n",
    "                text = sr1,\n",
    "                textposition='outside'\n",
    "                ))\n",
    "fig.add_trace(go.Bar(x=years, y=sr2,\n",
    "                base=sr3,\n",
    "                marker_color='crimson',\n",
    "                name='COGS<br>(Cost of Goods Sold)',\n",
    "                marker_line_color='red',\n",
    "                marker_line_width=1.5,\n",
    "                opacity= 0.7,\n",
    "                text = sr3,\n",
    "                textposition='auto'\n",
    "                ))\n",
    "fig.update_layout(\n",
    "    height=500,\n",
    "    title_text='Apple Inc Revenue & Expense from 2017 to 2021'\n",
    "    )\n",
    "fig.show()"
   ]
  },
  {
   "cell_type": "code",
   "execution_count": null,
   "id": "e0ece8e3",
   "metadata": {},
   "outputs": [],
   "source": [
    "fig = px.bar(dfvc, x=\"topic\", y=\"counts\",\n",
    "             color='topic',text='counts',color_discrete_map={'climate':px.colors.qualitative.Prism[4],\n",
    "                                                            'digitalxr': px.colors.qualitative.Prism[1],\n",
    "                                                            'neurotech': px.colors.qualitative.Prism[6]})\n"
   ]
  },
  {
   "cell_type": "code",
   "execution_count": 503,
   "id": "2d9efe3c",
   "metadata": {},
   "outputs": [
    {
     "data": {
      "text/plain": [
       "(13552, 16)"
      ]
     },
     "execution_count": 503,
     "metadata": {},
     "output_type": "execute_result"
    }
   ],
   "source": [
    "df_all.shape"
   ]
  },
  {
   "cell_type": "code",
   "execution_count": 25,
   "id": "3139855a",
   "metadata": {},
   "outputs": [],
   "source": [
    "xdata = []\n",
    "ydata = [c.upper() for c in countries]\n",
    "for c in countries:\n",
    "    dfc = df_all[df_all.country==c]\n",
    "    xdata.append(list(df_all[df_all.country==c]['topic'].value_counts(normalize=True, sort=False).values*100))\n",
    "    "
   ]
  },
  {
   "cell_type": "code",
   "execution_count": 508,
   "id": "3a7767d2",
   "metadata": {},
   "outputs": [
    {
     "data": {
      "application/vnd.plotly.v1+json": {
       "config": {
        "plotlyServerURL": "https://plot.ly"
       },
       "data": [
        {
         "marker": {
          "color": "rgb(115, 175, 72)",
          "line": {
           "color": "rgb(248, 248, 249)",
           "width": 1
          }
         },
         "orientation": "h",
         "type": "bar",
         "x": [
          52.601156069364166
         ],
         "y": [
          "AT"
         ]
        },
        {
         "marker": {
          "color": "rgb(115, 175, 72)",
          "line": {
           "color": "rgb(248, 248, 249)",
           "width": 1
          }
         },
         "orientation": "h",
         "type": "bar",
         "x": [
          31.527093596059114
         ],
         "y": [
          "CZ"
         ]
        },
        {
         "marker": {
          "color": "rgb(115, 175, 72)",
          "line": {
           "color": "rgb(248, 248, 249)",
           "width": 1
          }
         },
         "orientation": "h",
         "type": "bar",
         "x": [
          62.42677824267783
         ],
         "y": [
          "DE"
         ]
        },
        {
         "marker": {
          "color": "rgb(115, 175, 72)",
          "line": {
           "color": "rgb(248, 248, 249)",
           "width": 1
          }
         },
         "orientation": "h",
         "type": "bar",
         "x": [
          17.791411042944784
         ],
         "y": [
          "ES"
         ]
        },
        {
         "marker": {
          "color": "rgb(115, 175, 72)",
          "line": {
           "color": "rgb(248, 248, 249)",
           "width": 1
          }
         },
         "orientation": "h",
         "type": "bar",
         "x": [
          35.9636537541846
         ],
         "y": [
          "FR"
         ]
        },
        {
         "marker": {
          "color": "rgb(115, 175, 72)",
          "line": {
           "color": "rgb(248, 248, 249)",
           "width": 1
          }
         },
         "orientation": "h",
         "type": "bar",
         "x": [
          24.83343428225318
         ],
         "y": [
          "GB"
         ]
        },
        {
         "marker": {
          "color": "rgb(115, 175, 72)",
          "line": {
           "color": "rgb(248, 248, 249)",
           "width": 1
          }
         },
         "orientation": "h",
         "type": "bar",
         "x": [
          26.80851063829787
         ],
         "y": [
          "IE"
         ]
        },
        {
         "marker": {
          "color": "rgb(115, 175, 72)",
          "line": {
           "color": "rgb(248, 248, 249)",
           "width": 1
          }
         },
         "orientation": "h",
         "type": "bar",
         "x": [
          20.54284193720064
         ],
         "y": [
          "IT"
         ]
        },
        {
         "marker": {
          "color": "rgb(115, 175, 72)",
          "line": {
           "color": "rgb(248, 248, 249)",
           "width": 1
          }
         },
         "orientation": "h",
         "type": "bar",
         "x": [
          16.260162601626014
         ],
         "y": [
          "NL"
         ]
        },
        {
         "marker": {
          "color": "rgb(115, 175, 72)",
          "line": {
           "color": "rgb(248, 248, 249)",
           "width": 1
          }
         },
         "orientation": "h",
         "type": "bar",
         "x": [
          25.283630470016206
         ],
         "y": [
          "RO"
         ]
        },
        {
         "marker": {
          "color": "rgb(115, 175, 72)",
          "line": {
           "color": "rgb(248, 248, 249)",
           "width": 1
          }
         },
         "orientation": "h",
         "type": "bar",
         "x": [
          34.726688102893895
         ],
         "y": [
          "RS"
         ]
        },
        {
         "marker": {
          "color": "rgb(115, 175, 72)",
          "line": {
           "color": "rgb(248, 248, 249)",
           "width": 1
          }
         },
         "orientation": "h",
         "type": "bar",
         "x": [
          29.34131736526946
         ],
         "y": [
          "SE"
         ]
        },
        {
         "marker": {
          "color": "rgb(115, 175, 72)",
          "line": {
           "color": "rgb(248, 248, 249)",
           "width": 1
          }
         },
         "orientation": "h",
         "type": "bar",
         "x": [
          45.54484370435291
         ],
         "y": [
          "US"
         ]
        },
        {
         "marker": {
          "color": "rgb(29, 105, 150)",
          "line": {
           "color": "rgb(248, 248, 249)",
           "width": 1
          }
         },
         "orientation": "h",
         "type": "bar",
         "x": [
          41.61849710982659
         ],
         "y": [
          "AT"
         ]
        },
        {
         "marker": {
          "color": "rgb(29, 105, 150)",
          "line": {
           "color": "rgb(248, 248, 249)",
           "width": 1
          }
         },
         "orientation": "h",
         "type": "bar",
         "x": [
          55.66502463054187
         ],
         "y": [
          "CZ"
         ]
        },
        {
         "marker": {
          "color": "rgb(29, 105, 150)",
          "line": {
           "color": "rgb(248, 248, 249)",
           "width": 1
          }
         },
         "orientation": "h",
         "type": "bar",
         "x": [
          33.55648535564853
         ],
         "y": [
          "DE"
         ]
        },
        {
         "marker": {
          "color": "rgb(29, 105, 150)",
          "line": {
           "color": "rgb(248, 248, 249)",
           "width": 1
          }
         },
         "orientation": "h",
         "type": "bar",
         "x": [
          79.14110429447852
         ],
         "y": [
          "ES"
         ]
        },
        {
         "marker": {
          "color": "rgb(29, 105, 150)",
          "line": {
           "color": "rgb(248, 248, 249)",
           "width": 1
          }
         },
         "orientation": "h",
         "type": "bar",
         "x": [
          61.26255380200861
         ],
         "y": [
          "FR"
         ]
        },
        {
         "marker": {
          "color": "rgb(29, 105, 150)",
          "line": {
           "color": "rgb(248, 248, 249)",
           "width": 1
          }
         },
         "orientation": "h",
         "type": "bar",
         "x": [
          68.07995154451847
         ],
         "y": [
          "GB"
         ]
        },
        {
         "marker": {
          "color": "rgb(29, 105, 150)",
          "line": {
           "color": "rgb(248, 248, 249)",
           "width": 1
          }
         },
         "orientation": "h",
         "type": "bar",
         "x": [
          70.53191489361701
         ],
         "y": [
          "IE"
         ]
        },
        {
         "marker": {
          "color": "rgb(29, 105, 150)",
          "line": {
           "color": "rgb(248, 248, 249)",
           "width": 1
          }
         },
         "orientation": "h",
         "type": "bar",
         "x": [
          76.8493879723257
         ],
         "y": [
          "IT"
         ]
        },
        {
         "marker": {
          "color": "rgb(29, 105, 150)",
          "line": {
           "color": "rgb(248, 248, 249)",
           "width": 1
          }
         },
         "orientation": "h",
         "type": "bar",
         "x": [
          82.52032520325203
         ],
         "y": [
          "NL"
         ]
        },
        {
         "marker": {
          "color": "rgb(29, 105, 150)",
          "line": {
           "color": "rgb(248, 248, 249)",
           "width": 1
          }
         },
         "orientation": "h",
         "type": "bar",
         "x": [
          67.58508914100486
         ],
         "y": [
          "RO"
         ]
        },
        {
         "marker": {
          "color": "rgb(29, 105, 150)",
          "line": {
           "color": "rgb(248, 248, 249)",
           "width": 1
          }
         },
         "orientation": "h",
         "type": "bar",
         "x": [
          56.27009646302251
         ],
         "y": [
          "RS"
         ]
        },
        {
         "marker": {
          "color": "rgb(29, 105, 150)",
          "line": {
           "color": "rgb(248, 248, 249)",
           "width": 1
          }
         },
         "orientation": "h",
         "type": "bar",
         "x": [
          66.46706586826348
         ],
         "y": [
          "SE"
         ]
        },
        {
         "marker": {
          "color": "rgb(29, 105, 150)",
          "line": {
           "color": "rgb(248, 248, 249)",
           "width": 1
          }
         },
         "orientation": "h",
         "type": "bar",
         "x": [
          47.12240724510663
         ],
         "y": [
          "US"
         ]
        },
        {
         "marker": {
          "color": "rgb(225, 124, 5)",
          "line": {
           "color": "rgb(248, 248, 249)",
           "width": 1
          }
         },
         "orientation": "h",
         "type": "bar",
         "x": [
          5.780346820809249
         ],
         "y": [
          "AT"
         ]
        },
        {
         "marker": {
          "color": "rgb(225, 124, 5)",
          "line": {
           "color": "rgb(248, 248, 249)",
           "width": 1
          }
         },
         "orientation": "h",
         "type": "bar",
         "x": [
          12.807881773399016
         ],
         "y": [
          "CZ"
         ]
        },
        {
         "marker": {
          "color": "rgb(225, 124, 5)",
          "line": {
           "color": "rgb(248, 248, 249)",
           "width": 1
          }
         },
         "orientation": "h",
         "type": "bar",
         "x": [
          4.01673640167364
         ],
         "y": [
          "DE"
         ]
        },
        {
         "marker": {
          "color": "rgb(225, 124, 5)",
          "line": {
           "color": "rgb(248, 248, 249)",
           "width": 1
          }
         },
         "orientation": "h",
         "type": "bar",
         "x": [
          3.067484662576687
         ],
         "y": [
          "ES"
         ]
        },
        {
         "marker": {
          "color": "rgb(225, 124, 5)",
          "line": {
           "color": "rgb(248, 248, 249)",
           "width": 1
          }
         },
         "orientation": "h",
         "type": "bar",
         "x": [
          2.7737924438067907
         ],
         "y": [
          "FR"
         ]
        },
        {
         "marker": {
          "color": "rgb(225, 124, 5)",
          "line": {
           "color": "rgb(248, 248, 249)",
           "width": 1
          }
         },
         "orientation": "h",
         "type": "bar",
         "x": [
          7.086614173228346
         ],
         "y": [
          "GB"
         ]
        },
        {
         "marker": {
          "color": "rgb(225, 124, 5)",
          "line": {
           "color": "rgb(248, 248, 249)",
           "width": 1
          }
         },
         "orientation": "h",
         "type": "bar",
         "x": [
          2.6595744680851063
         ],
         "y": [
          "IE"
         ]
        },
        {
         "marker": {
          "color": "rgb(225, 124, 5)",
          "line": {
           "color": "rgb(248, 248, 249)",
           "width": 1
          }
         },
         "orientation": "h",
         "type": "bar",
         "x": [
          2.607770090473656
         ],
         "y": [
          "IT"
         ]
        },
        {
         "marker": {
          "color": "rgb(225, 124, 5)",
          "line": {
           "color": "rgb(248, 248, 249)",
           "width": 1
          }
         },
         "orientation": "h",
         "type": "bar",
         "x": [
          1.2195121951219512
         ],
         "y": [
          "NL"
         ]
        },
        {
         "marker": {
          "color": "rgb(225, 124, 5)",
          "line": {
           "color": "rgb(248, 248, 249)",
           "width": 1
          }
         },
         "orientation": "h",
         "type": "bar",
         "x": [
          7.13128038897893
         ],
         "y": [
          "RO"
         ]
        },
        {
         "marker": {
          "color": "rgb(225, 124, 5)",
          "line": {
           "color": "rgb(248, 248, 249)",
           "width": 1
          }
         },
         "orientation": "h",
         "type": "bar",
         "x": [
          9.003215434083602
         ],
         "y": [
          "RS"
         ]
        },
        {
         "marker": {
          "color": "rgb(225, 124, 5)",
          "line": {
           "color": "rgb(248, 248, 249)",
           "width": 1
          }
         },
         "orientation": "h",
         "type": "bar",
         "x": [
          4.191616766467066
         ],
         "y": [
          "SE"
         ]
        },
        {
         "marker": {
          "color": "rgb(225, 124, 5)",
          "line": {
           "color": "rgb(248, 248, 249)",
           "width": 1
          }
         },
         "orientation": "h",
         "type": "bar",
         "x": [
          7.332749050540461
         ],
         "y": [
          "US"
         ]
        }
       ],
       "layout": {
        "annotations": [
         {
          "align": "right",
          "font": {
           "color": "rgb(67, 67, 67)",
           "family": "Arial",
           "size": 14
          },
          "showarrow": false,
          "text": "AT",
          "x": 0.14,
          "xanchor": "right",
          "xref": "paper",
          "y": "AT",
          "yref": "y"
         },
         {
          "font": {
           "color": "rgb(248, 248, 255)",
           "family": "Arial",
           "size": 12
          },
          "showarrow": false,
          "text": "52.6%",
          "x": 26.300578034682083,
          "xref": "x",
          "y": "AT",
          "yref": "y"
         },
         {
          "font": {
           "color": "rgb(248, 248, 255)",
           "family": "Arial",
           "size": 12
          },
          "showarrow": false,
          "text": "41.6%",
          "x": 73.41040462427746,
          "xref": "x",
          "y": "AT",
          "yref": "y"
         },
         {
          "font": {
           "color": "rgb(248, 248, 255)",
           "family": "Arial",
           "size": 12
          },
          "showarrow": false,
          "text": "5.8%",
          "x": 97.10982658959539,
          "xref": "x",
          "y": "AT",
          "yref": "y"
         },
         {
          "align": "right",
          "font": {
           "color": "rgb(67, 67, 67)",
           "family": "Arial",
           "size": 14
          },
          "showarrow": false,
          "text": "CZ",
          "x": 0.14,
          "xanchor": "right",
          "xref": "paper",
          "y": "CZ",
          "yref": "y"
         },
         {
          "font": {
           "color": "rgb(248, 248, 255)",
           "family": "Arial",
           "size": 12
          },
          "showarrow": false,
          "text": "31.5%",
          "x": 15.763546798029557,
          "xref": "x",
          "y": "CZ",
          "yref": "y"
         },
         {
          "font": {
           "color": "rgb(248, 248, 255)",
           "family": "Arial",
           "size": 12
          },
          "showarrow": false,
          "text": "55.7%",
          "x": 59.35960591133005,
          "xref": "x",
          "y": "CZ",
          "yref": "y"
         },
         {
          "font": {
           "color": "rgb(248, 248, 255)",
           "family": "Arial",
           "size": 12
          },
          "showarrow": false,
          "text": "12.8%",
          "x": 93.59605911330048,
          "xref": "x",
          "y": "CZ",
          "yref": "y"
         },
         {
          "align": "right",
          "font": {
           "color": "rgb(67, 67, 67)",
           "family": "Arial",
           "size": 14
          },
          "showarrow": false,
          "text": "DE",
          "x": 0.14,
          "xanchor": "right",
          "xref": "paper",
          "y": "DE",
          "yref": "y"
         },
         {
          "font": {
           "color": "rgb(248, 248, 255)",
           "family": "Arial",
           "size": 12
          },
          "showarrow": false,
          "text": "62.4%",
          "x": 31.213389121338913,
          "xref": "x",
          "y": "DE",
          "yref": "y"
         },
         {
          "font": {
           "color": "rgb(248, 248, 255)",
           "family": "Arial",
           "size": 12
          },
          "showarrow": false,
          "text": "33.6%",
          "x": 79.2050209205021,
          "xref": "x",
          "y": "DE",
          "yref": "y"
         },
         {
          "font": {
           "color": "rgb(248, 248, 255)",
           "family": "Arial",
           "size": 12
          },
          "showarrow": false,
          "text": "4.0%",
          "x": 97.99163179916317,
          "xref": "x",
          "y": "DE",
          "yref": "y"
         },
         {
          "align": "right",
          "font": {
           "color": "rgb(67, 67, 67)",
           "family": "Arial",
           "size": 14
          },
          "showarrow": false,
          "text": "ES",
          "x": 0.14,
          "xanchor": "right",
          "xref": "paper",
          "y": "ES",
          "yref": "y"
         },
         {
          "font": {
           "color": "rgb(248, 248, 255)",
           "family": "Arial",
           "size": 12
          },
          "showarrow": false,
          "text": "17.8%",
          "x": 8.895705521472392,
          "xref": "x",
          "y": "ES",
          "yref": "y"
         },
         {
          "font": {
           "color": "rgb(248, 248, 255)",
           "family": "Arial",
           "size": 12
          },
          "showarrow": false,
          "text": "79.1%",
          "x": 57.36196319018404,
          "xref": "x",
          "y": "ES",
          "yref": "y"
         },
         {
          "font": {
           "color": "rgb(248, 248, 255)",
           "family": "Arial",
           "size": 12
          },
          "showarrow": false,
          "text": "3.1%",
          "x": 98.46625766871165,
          "xref": "x",
          "y": "ES",
          "yref": "y"
         },
         {
          "align": "right",
          "font": {
           "color": "rgb(67, 67, 67)",
           "family": "Arial",
           "size": 14
          },
          "showarrow": false,
          "text": "FR",
          "x": 0.14,
          "xanchor": "right",
          "xref": "paper",
          "y": "FR",
          "yref": "y"
         },
         {
          "font": {
           "color": "rgb(248, 248, 255)",
           "family": "Arial",
           "size": 12
          },
          "showarrow": false,
          "text": "36.0%",
          "x": 17.9818268770923,
          "xref": "x",
          "y": "FR",
          "yref": "y"
         },
         {
          "font": {
           "color": "rgb(248, 248, 255)",
           "family": "Arial",
           "size": 12
          },
          "showarrow": false,
          "text": "61.3%",
          "x": 66.5949306551889,
          "xref": "x",
          "y": "FR",
          "yref": "y"
         },
         {
          "font": {
           "color": "rgb(248, 248, 255)",
           "family": "Arial",
           "size": 12
          },
          "showarrow": false,
          "text": "2.8%",
          "x": 98.6131037780966,
          "xref": "x",
          "y": "FR",
          "yref": "y"
         },
         {
          "align": "right",
          "font": {
           "color": "rgb(67, 67, 67)",
           "family": "Arial",
           "size": 14
          },
          "showarrow": false,
          "text": "GB",
          "x": 0.14,
          "xanchor": "right",
          "xref": "paper",
          "y": "GB",
          "yref": "y"
         },
         {
          "font": {
           "color": "rgb(248, 248, 255)",
           "family": "Arial",
           "size": 12
          },
          "showarrow": false,
          "text": "24.8%",
          "x": 12.41671714112659,
          "xref": "x",
          "y": "GB",
          "yref": "y"
         },
         {
          "font": {
           "color": "rgb(248, 248, 255)",
           "family": "Arial",
           "size": 12
          },
          "showarrow": false,
          "text": "68.1%",
          "x": 58.87341005451241,
          "xref": "x",
          "y": "GB",
          "yref": "y"
         },
         {
          "font": {
           "color": "rgb(248, 248, 255)",
           "family": "Arial",
           "size": 12
          },
          "showarrow": false,
          "text": "7.1%",
          "x": 96.45669291338582,
          "xref": "x",
          "y": "GB",
          "yref": "y"
         },
         {
          "align": "right",
          "font": {
           "color": "rgb(67, 67, 67)",
           "family": "Arial",
           "size": 14
          },
          "showarrow": false,
          "text": "IE",
          "x": 0.14,
          "xanchor": "right",
          "xref": "paper",
          "y": "IE",
          "yref": "y"
         },
         {
          "font": {
           "color": "rgb(248, 248, 255)",
           "family": "Arial",
           "size": 12
          },
          "showarrow": false,
          "text": "26.8%",
          "x": 13.404255319148936,
          "xref": "x",
          "y": "IE",
          "yref": "y"
         },
         {
          "font": {
           "color": "rgb(248, 248, 255)",
           "family": "Arial",
           "size": 12
          },
          "showarrow": false,
          "text": "70.5%",
          "x": 62.074468085106375,
          "xref": "x",
          "y": "IE",
          "yref": "y"
         },
         {
          "font": {
           "color": "rgb(248, 248, 255)",
           "family": "Arial",
           "size": 12
          },
          "showarrow": false,
          "text": "2.7%",
          "x": 98.67021276595744,
          "xref": "x",
          "y": "IE",
          "yref": "y"
         },
         {
          "align": "right",
          "font": {
           "color": "rgb(67, 67, 67)",
           "family": "Arial",
           "size": 14
          },
          "showarrow": false,
          "text": "IT",
          "x": 0.14,
          "xanchor": "right",
          "xref": "paper",
          "y": "IT",
          "yref": "y"
         },
         {
          "font": {
           "color": "rgb(248, 248, 255)",
           "family": "Arial",
           "size": 12
          },
          "showarrow": false,
          "text": "20.5%",
          "x": 10.27142096860032,
          "xref": "x",
          "y": "IT",
          "yref": "y"
         },
         {
          "font": {
           "color": "rgb(248, 248, 255)",
           "family": "Arial",
           "size": 12
          },
          "showarrow": false,
          "text": "76.8%",
          "x": 58.96753592336349,
          "xref": "x",
          "y": "IT",
          "yref": "y"
         },
         {
          "font": {
           "color": "rgb(248, 248, 255)",
           "family": "Arial",
           "size": 12
          },
          "showarrow": false,
          "text": "2.6%",
          "x": 98.69611495476317,
          "xref": "x",
          "y": "IT",
          "yref": "y"
         },
         {
          "align": "right",
          "font": {
           "color": "rgb(67, 67, 67)",
           "family": "Arial",
           "size": 14
          },
          "showarrow": false,
          "text": "NL",
          "x": 0.14,
          "xanchor": "right",
          "xref": "paper",
          "y": "NL",
          "yref": "y"
         },
         {
          "font": {
           "color": "rgb(248, 248, 255)",
           "family": "Arial",
           "size": 12
          },
          "showarrow": false,
          "text": "16.3%",
          "x": 8.130081300813007,
          "xref": "x",
          "y": "NL",
          "yref": "y"
         },
         {
          "font": {
           "color": "rgb(248, 248, 255)",
           "family": "Arial",
           "size": 12
          },
          "showarrow": false,
          "text": "82.5%",
          "x": 57.52032520325203,
          "xref": "x",
          "y": "NL",
          "yref": "y"
         },
         {
          "font": {
           "color": "rgb(248, 248, 255)",
           "family": "Arial",
           "size": 12
          },
          "showarrow": false,
          "text": "1.2%",
          "x": 99.39024390243902,
          "xref": "x",
          "y": "NL",
          "yref": "y"
         },
         {
          "align": "right",
          "font": {
           "color": "rgb(67, 67, 67)",
           "family": "Arial",
           "size": 14
          },
          "showarrow": false,
          "text": "RO",
          "x": 0.14,
          "xanchor": "right",
          "xref": "paper",
          "y": "RO",
          "yref": "y"
         },
         {
          "font": {
           "color": "rgb(248, 248, 255)",
           "family": "Arial",
           "size": 12
          },
          "showarrow": false,
          "text": "25.3%",
          "x": 12.641815235008103,
          "xref": "x",
          "y": "RO",
          "yref": "y"
         },
         {
          "font": {
           "color": "rgb(248, 248, 255)",
           "family": "Arial",
           "size": 12
          },
          "showarrow": false,
          "text": "67.6%",
          "x": 59.076175040518635,
          "xref": "x",
          "y": "RO",
          "yref": "y"
         },
         {
          "font": {
           "color": "rgb(248, 248, 255)",
           "family": "Arial",
           "size": 12
          },
          "showarrow": false,
          "text": "7.1%",
          "x": 96.43435980551052,
          "xref": "x",
          "y": "RO",
          "yref": "y"
         },
         {
          "align": "right",
          "font": {
           "color": "rgb(67, 67, 67)",
           "family": "Arial",
           "size": 14
          },
          "showarrow": false,
          "text": "RS",
          "x": 0.14,
          "xanchor": "right",
          "xref": "paper",
          "y": "RS",
          "yref": "y"
         },
         {
          "font": {
           "color": "rgb(248, 248, 255)",
           "family": "Arial",
           "size": 12
          },
          "showarrow": false,
          "text": "34.7%",
          "x": 17.363344051446948,
          "xref": "x",
          "y": "RS",
          "yref": "y"
         },
         {
          "font": {
           "color": "rgb(248, 248, 255)",
           "family": "Arial",
           "size": 12
          },
          "showarrow": false,
          "text": "56.3%",
          "x": 62.86173633440515,
          "xref": "x",
          "y": "RS",
          "yref": "y"
         },
         {
          "font": {
           "color": "rgb(248, 248, 255)",
           "family": "Arial",
           "size": 12
          },
          "showarrow": false,
          "text": "9.0%",
          "x": 95.49839228295822,
          "xref": "x",
          "y": "RS",
          "yref": "y"
         },
         {
          "align": "right",
          "font": {
           "color": "rgb(67, 67, 67)",
           "family": "Arial",
           "size": 14
          },
          "showarrow": false,
          "text": "SE",
          "x": 0.14,
          "xanchor": "right",
          "xref": "paper",
          "y": "SE",
          "yref": "y"
         },
         {
          "font": {
           "color": "rgb(248, 248, 255)",
           "family": "Arial",
           "size": 12
          },
          "showarrow": false,
          "text": "29.3%",
          "x": 14.67065868263473,
          "xref": "x",
          "y": "SE",
          "yref": "y"
         },
         {
          "font": {
           "color": "rgb(248, 248, 255)",
           "family": "Arial",
           "size": 12
          },
          "showarrow": false,
          "text": "66.5%",
          "x": 62.5748502994012,
          "xref": "x",
          "y": "SE",
          "yref": "y"
         },
         {
          "font": {
           "color": "rgb(248, 248, 255)",
           "family": "Arial",
           "size": 12
          },
          "showarrow": false,
          "text": "4.2%",
          "x": 97.90419161676647,
          "xref": "x",
          "y": "SE",
          "yref": "y"
         },
         {
          "align": "right",
          "font": {
           "color": "rgb(67, 67, 67)",
           "family": "Arial",
           "size": 14
          },
          "showarrow": false,
          "text": "US",
          "x": 0.14,
          "xanchor": "right",
          "xref": "paper",
          "y": "US",
          "yref": "y"
         },
         {
          "font": {
           "color": "rgb(248, 248, 255)",
           "family": "Arial",
           "size": 12
          },
          "showarrow": false,
          "text": "45.5%",
          "x": 22.772421852176453,
          "xref": "x",
          "y": "US",
          "yref": "y"
         },
         {
          "font": {
           "color": "rgb(248, 248, 255)",
           "family": "Arial",
           "size": 12
          },
          "showarrow": false,
          "text": "47.1%",
          "x": 69.10604732690622,
          "xref": "x",
          "y": "US",
          "yref": "y"
         },
         {
          "font": {
           "color": "rgb(248, 248, 255)",
           "family": "Arial",
           "size": 12
          },
          "showarrow": false,
          "text": "7.3%",
          "x": 96.33362547472977,
          "xref": "x",
          "y": "US",
          "yref": "y"
         }
        ],
        "barmode": "stack",
        "margin": {
         "b": 80,
         "l": 120,
         "r": 10,
         "t": 140
        },
        "paper_bgcolor": "rgb(248, 248, 255)",
        "plot_bgcolor": "rgb(248, 248, 255)",
        "showlegend": false,
        "template": {
         "data": {
          "bar": [
           {
            "error_x": {
             "color": "#2a3f5f"
            },
            "error_y": {
             "color": "#2a3f5f"
            },
            "marker": {
             "line": {
              "color": "#E5ECF6",
              "width": 0.5
             },
             "pattern": {
              "fillmode": "overlay",
              "size": 10,
              "solidity": 0.2
             }
            },
            "type": "bar"
           }
          ],
          "barpolar": [
           {
            "marker": {
             "line": {
              "color": "#E5ECF6",
              "width": 0.5
             },
             "pattern": {
              "fillmode": "overlay",
              "size": 10,
              "solidity": 0.2
             }
            },
            "type": "barpolar"
           }
          ],
          "carpet": [
           {
            "aaxis": {
             "endlinecolor": "#2a3f5f",
             "gridcolor": "white",
             "linecolor": "white",
             "minorgridcolor": "white",
             "startlinecolor": "#2a3f5f"
            },
            "baxis": {
             "endlinecolor": "#2a3f5f",
             "gridcolor": "white",
             "linecolor": "white",
             "minorgridcolor": "white",
             "startlinecolor": "#2a3f5f"
            },
            "type": "carpet"
           }
          ],
          "choropleth": [
           {
            "colorbar": {
             "outlinewidth": 0,
             "ticks": ""
            },
            "type": "choropleth"
           }
          ],
          "contour": [
           {
            "colorbar": {
             "outlinewidth": 0,
             "ticks": ""
            },
            "colorscale": [
             [
              0,
              "#0d0887"
             ],
             [
              0.1111111111111111,
              "#46039f"
             ],
             [
              0.2222222222222222,
              "#7201a8"
             ],
             [
              0.3333333333333333,
              "#9c179e"
             ],
             [
              0.4444444444444444,
              "#bd3786"
             ],
             [
              0.5555555555555556,
              "#d8576b"
             ],
             [
              0.6666666666666666,
              "#ed7953"
             ],
             [
              0.7777777777777778,
              "#fb9f3a"
             ],
             [
              0.8888888888888888,
              "#fdca26"
             ],
             [
              1,
              "#f0f921"
             ]
            ],
            "type": "contour"
           }
          ],
          "contourcarpet": [
           {
            "colorbar": {
             "outlinewidth": 0,
             "ticks": ""
            },
            "type": "contourcarpet"
           }
          ],
          "heatmap": [
           {
            "colorbar": {
             "outlinewidth": 0,
             "ticks": ""
            },
            "colorscale": [
             [
              0,
              "#0d0887"
             ],
             [
              0.1111111111111111,
              "#46039f"
             ],
             [
              0.2222222222222222,
              "#7201a8"
             ],
             [
              0.3333333333333333,
              "#9c179e"
             ],
             [
              0.4444444444444444,
              "#bd3786"
             ],
             [
              0.5555555555555556,
              "#d8576b"
             ],
             [
              0.6666666666666666,
              "#ed7953"
             ],
             [
              0.7777777777777778,
              "#fb9f3a"
             ],
             [
              0.8888888888888888,
              "#fdca26"
             ],
             [
              1,
              "#f0f921"
             ]
            ],
            "type": "heatmap"
           }
          ],
          "heatmapgl": [
           {
            "colorbar": {
             "outlinewidth": 0,
             "ticks": ""
            },
            "colorscale": [
             [
              0,
              "#0d0887"
             ],
             [
              0.1111111111111111,
              "#46039f"
             ],
             [
              0.2222222222222222,
              "#7201a8"
             ],
             [
              0.3333333333333333,
              "#9c179e"
             ],
             [
              0.4444444444444444,
              "#bd3786"
             ],
             [
              0.5555555555555556,
              "#d8576b"
             ],
             [
              0.6666666666666666,
              "#ed7953"
             ],
             [
              0.7777777777777778,
              "#fb9f3a"
             ],
             [
              0.8888888888888888,
              "#fdca26"
             ],
             [
              1,
              "#f0f921"
             ]
            ],
            "type": "heatmapgl"
           }
          ],
          "histogram": [
           {
            "marker": {
             "pattern": {
              "fillmode": "overlay",
              "size": 10,
              "solidity": 0.2
             }
            },
            "type": "histogram"
           }
          ],
          "histogram2d": [
           {
            "colorbar": {
             "outlinewidth": 0,
             "ticks": ""
            },
            "colorscale": [
             [
              0,
              "#0d0887"
             ],
             [
              0.1111111111111111,
              "#46039f"
             ],
             [
              0.2222222222222222,
              "#7201a8"
             ],
             [
              0.3333333333333333,
              "#9c179e"
             ],
             [
              0.4444444444444444,
              "#bd3786"
             ],
             [
              0.5555555555555556,
              "#d8576b"
             ],
             [
              0.6666666666666666,
              "#ed7953"
             ],
             [
              0.7777777777777778,
              "#fb9f3a"
             ],
             [
              0.8888888888888888,
              "#fdca26"
             ],
             [
              1,
              "#f0f921"
             ]
            ],
            "type": "histogram2d"
           }
          ],
          "histogram2dcontour": [
           {
            "colorbar": {
             "outlinewidth": 0,
             "ticks": ""
            },
            "colorscale": [
             [
              0,
              "#0d0887"
             ],
             [
              0.1111111111111111,
              "#46039f"
             ],
             [
              0.2222222222222222,
              "#7201a8"
             ],
             [
              0.3333333333333333,
              "#9c179e"
             ],
             [
              0.4444444444444444,
              "#bd3786"
             ],
             [
              0.5555555555555556,
              "#d8576b"
             ],
             [
              0.6666666666666666,
              "#ed7953"
             ],
             [
              0.7777777777777778,
              "#fb9f3a"
             ],
             [
              0.8888888888888888,
              "#fdca26"
             ],
             [
              1,
              "#f0f921"
             ]
            ],
            "type": "histogram2dcontour"
           }
          ],
          "mesh3d": [
           {
            "colorbar": {
             "outlinewidth": 0,
             "ticks": ""
            },
            "type": "mesh3d"
           }
          ],
          "parcoords": [
           {
            "line": {
             "colorbar": {
              "outlinewidth": 0,
              "ticks": ""
             }
            },
            "type": "parcoords"
           }
          ],
          "pie": [
           {
            "automargin": true,
            "type": "pie"
           }
          ],
          "scatter": [
           {
            "marker": {
             "colorbar": {
              "outlinewidth": 0,
              "ticks": ""
             }
            },
            "type": "scatter"
           }
          ],
          "scatter3d": [
           {
            "line": {
             "colorbar": {
              "outlinewidth": 0,
              "ticks": ""
             }
            },
            "marker": {
             "colorbar": {
              "outlinewidth": 0,
              "ticks": ""
             }
            },
            "type": "scatter3d"
           }
          ],
          "scattercarpet": [
           {
            "marker": {
             "colorbar": {
              "outlinewidth": 0,
              "ticks": ""
             }
            },
            "type": "scattercarpet"
           }
          ],
          "scattergeo": [
           {
            "marker": {
             "colorbar": {
              "outlinewidth": 0,
              "ticks": ""
             }
            },
            "type": "scattergeo"
           }
          ],
          "scattergl": [
           {
            "marker": {
             "colorbar": {
              "outlinewidth": 0,
              "ticks": ""
             }
            },
            "type": "scattergl"
           }
          ],
          "scattermapbox": [
           {
            "marker": {
             "colorbar": {
              "outlinewidth": 0,
              "ticks": ""
             }
            },
            "type": "scattermapbox"
           }
          ],
          "scatterpolar": [
           {
            "marker": {
             "colorbar": {
              "outlinewidth": 0,
              "ticks": ""
             }
            },
            "type": "scatterpolar"
           }
          ],
          "scatterpolargl": [
           {
            "marker": {
             "colorbar": {
              "outlinewidth": 0,
              "ticks": ""
             }
            },
            "type": "scatterpolargl"
           }
          ],
          "scatterternary": [
           {
            "marker": {
             "colorbar": {
              "outlinewidth": 0,
              "ticks": ""
             }
            },
            "type": "scatterternary"
           }
          ],
          "surface": [
           {
            "colorbar": {
             "outlinewidth": 0,
             "ticks": ""
            },
            "colorscale": [
             [
              0,
              "#0d0887"
             ],
             [
              0.1111111111111111,
              "#46039f"
             ],
             [
              0.2222222222222222,
              "#7201a8"
             ],
             [
              0.3333333333333333,
              "#9c179e"
             ],
             [
              0.4444444444444444,
              "#bd3786"
             ],
             [
              0.5555555555555556,
              "#d8576b"
             ],
             [
              0.6666666666666666,
              "#ed7953"
             ],
             [
              0.7777777777777778,
              "#fb9f3a"
             ],
             [
              0.8888888888888888,
              "#fdca26"
             ],
             [
              1,
              "#f0f921"
             ]
            ],
            "type": "surface"
           }
          ],
          "table": [
           {
            "cells": {
             "fill": {
              "color": "#EBF0F8"
             },
             "line": {
              "color": "white"
             }
            },
            "header": {
             "fill": {
              "color": "#C8D4E3"
             },
             "line": {
              "color": "white"
             }
            },
            "type": "table"
           }
          ]
         },
         "layout": {
          "annotationdefaults": {
           "arrowcolor": "#2a3f5f",
           "arrowhead": 0,
           "arrowwidth": 1
          },
          "autotypenumbers": "strict",
          "coloraxis": {
           "colorbar": {
            "outlinewidth": 0,
            "ticks": ""
           }
          },
          "colorscale": {
           "diverging": [
            [
             0,
             "#8e0152"
            ],
            [
             0.1,
             "#c51b7d"
            ],
            [
             0.2,
             "#de77ae"
            ],
            [
             0.3,
             "#f1b6da"
            ],
            [
             0.4,
             "#fde0ef"
            ],
            [
             0.5,
             "#f7f7f7"
            ],
            [
             0.6,
             "#e6f5d0"
            ],
            [
             0.7,
             "#b8e186"
            ],
            [
             0.8,
             "#7fbc41"
            ],
            [
             0.9,
             "#4d9221"
            ],
            [
             1,
             "#276419"
            ]
           ],
           "sequential": [
            [
             0,
             "#0d0887"
            ],
            [
             0.1111111111111111,
             "#46039f"
            ],
            [
             0.2222222222222222,
             "#7201a8"
            ],
            [
             0.3333333333333333,
             "#9c179e"
            ],
            [
             0.4444444444444444,
             "#bd3786"
            ],
            [
             0.5555555555555556,
             "#d8576b"
            ],
            [
             0.6666666666666666,
             "#ed7953"
            ],
            [
             0.7777777777777778,
             "#fb9f3a"
            ],
            [
             0.8888888888888888,
             "#fdca26"
            ],
            [
             1,
             "#f0f921"
            ]
           ],
           "sequentialminus": [
            [
             0,
             "#0d0887"
            ],
            [
             0.1111111111111111,
             "#46039f"
            ],
            [
             0.2222222222222222,
             "#7201a8"
            ],
            [
             0.3333333333333333,
             "#9c179e"
            ],
            [
             0.4444444444444444,
             "#bd3786"
            ],
            [
             0.5555555555555556,
             "#d8576b"
            ],
            [
             0.6666666666666666,
             "#ed7953"
            ],
            [
             0.7777777777777778,
             "#fb9f3a"
            ],
            [
             0.8888888888888888,
             "#fdca26"
            ],
            [
             1,
             "#f0f921"
            ]
           ]
          },
          "colorway": [
           "#636efa",
           "#EF553B",
           "#00cc96",
           "#ab63fa",
           "#FFA15A",
           "#19d3f3",
           "#FF6692",
           "#B6E880",
           "#FF97FF",
           "#FECB52"
          ],
          "font": {
           "color": "#2a3f5f"
          },
          "geo": {
           "bgcolor": "white",
           "lakecolor": "white",
           "landcolor": "#E5ECF6",
           "showlakes": true,
           "showland": true,
           "subunitcolor": "white"
          },
          "hoverlabel": {
           "align": "left"
          },
          "hovermode": "closest",
          "mapbox": {
           "style": "light"
          },
          "paper_bgcolor": "white",
          "plot_bgcolor": "#E5ECF6",
          "polar": {
           "angularaxis": {
            "gridcolor": "white",
            "linecolor": "white",
            "ticks": ""
           },
           "bgcolor": "#E5ECF6",
           "radialaxis": {
            "gridcolor": "white",
            "linecolor": "white",
            "ticks": ""
           }
          },
          "scene": {
           "xaxis": {
            "backgroundcolor": "#E5ECF6",
            "gridcolor": "white",
            "gridwidth": 2,
            "linecolor": "white",
            "showbackground": true,
            "ticks": "",
            "zerolinecolor": "white"
           },
           "yaxis": {
            "backgroundcolor": "#E5ECF6",
            "gridcolor": "white",
            "gridwidth": 2,
            "linecolor": "white",
            "showbackground": true,
            "ticks": "",
            "zerolinecolor": "white"
           },
           "zaxis": {
            "backgroundcolor": "#E5ECF6",
            "gridcolor": "white",
            "gridwidth": 2,
            "linecolor": "white",
            "showbackground": true,
            "ticks": "",
            "zerolinecolor": "white"
           }
          },
          "shapedefaults": {
           "line": {
            "color": "#2a3f5f"
           }
          },
          "ternary": {
           "aaxis": {
            "gridcolor": "white",
            "linecolor": "white",
            "ticks": ""
           },
           "baxis": {
            "gridcolor": "white",
            "linecolor": "white",
            "ticks": ""
           },
           "bgcolor": "#E5ECF6",
           "caxis": {
            "gridcolor": "white",
            "linecolor": "white",
            "ticks": ""
           }
          },
          "title": {
           "x": 0.05
          },
          "xaxis": {
           "automargin": true,
           "gridcolor": "white",
           "linecolor": "white",
           "ticks": "",
           "title": {
            "standoff": 15
           },
           "zerolinecolor": "white",
           "zerolinewidth": 2
          },
          "yaxis": {
           "automargin": true,
           "gridcolor": "white",
           "linecolor": "white",
           "ticks": "",
           "title": {
            "standoff": 15
           },
           "zerolinecolor": "white",
           "zerolinewidth": 2
          }
         }
        },
        "title": {
         "text": "Percentage of news stories collected by technology",
         "x": 0.58,
         "xanchor": "center",
         "y": 0.85,
         "yanchor": "top"
        },
        "xaxis": {
         "domain": [
          0.15,
          1
         ],
         "showgrid": false,
         "showline": false,
         "showticklabels": false,
         "zeroline": false
        },
        "yaxis": {
         "showgrid": false,
         "showline": false,
         "showticklabels": false,
         "zeroline": false
        }
       }
      },
      "text/html": [
       "<div>                            <div id=\"2d386748-d784-4fbb-85ff-7c6827d218bb\" class=\"plotly-graph-div\" style=\"height:525px; width:100%;\"></div>            <script type=\"text/javascript\">                require([\"plotly\"], function(Plotly) {                    window.PLOTLYENV=window.PLOTLYENV || {};                                    if (document.getElementById(\"2d386748-d784-4fbb-85ff-7c6827d218bb\")) {                    Plotly.newPlot(                        \"2d386748-d784-4fbb-85ff-7c6827d218bb\",                        [{\"marker\":{\"color\":\"rgb(115, 175, 72)\",\"line\":{\"color\":\"rgb(248, 248, 249)\",\"width\":1}},\"orientation\":\"h\",\"type\":\"bar\",\"x\":[52.601156069364166],\"y\":[\"AT\"]},{\"marker\":{\"color\":\"rgb(115, 175, 72)\",\"line\":{\"color\":\"rgb(248, 248, 249)\",\"width\":1}},\"orientation\":\"h\",\"type\":\"bar\",\"x\":[31.527093596059114],\"y\":[\"CZ\"]},{\"marker\":{\"color\":\"rgb(115, 175, 72)\",\"line\":{\"color\":\"rgb(248, 248, 249)\",\"width\":1}},\"orientation\":\"h\",\"type\":\"bar\",\"x\":[62.42677824267783],\"y\":[\"DE\"]},{\"marker\":{\"color\":\"rgb(115, 175, 72)\",\"line\":{\"color\":\"rgb(248, 248, 249)\",\"width\":1}},\"orientation\":\"h\",\"type\":\"bar\",\"x\":[17.791411042944784],\"y\":[\"ES\"]},{\"marker\":{\"color\":\"rgb(115, 175, 72)\",\"line\":{\"color\":\"rgb(248, 248, 249)\",\"width\":1}},\"orientation\":\"h\",\"type\":\"bar\",\"x\":[35.9636537541846],\"y\":[\"FR\"]},{\"marker\":{\"color\":\"rgb(115, 175, 72)\",\"line\":{\"color\":\"rgb(248, 248, 249)\",\"width\":1}},\"orientation\":\"h\",\"type\":\"bar\",\"x\":[24.83343428225318],\"y\":[\"GB\"]},{\"marker\":{\"color\":\"rgb(115, 175, 72)\",\"line\":{\"color\":\"rgb(248, 248, 249)\",\"width\":1}},\"orientation\":\"h\",\"type\":\"bar\",\"x\":[26.80851063829787],\"y\":[\"IE\"]},{\"marker\":{\"color\":\"rgb(115, 175, 72)\",\"line\":{\"color\":\"rgb(248, 248, 249)\",\"width\":1}},\"orientation\":\"h\",\"type\":\"bar\",\"x\":[20.54284193720064],\"y\":[\"IT\"]},{\"marker\":{\"color\":\"rgb(115, 175, 72)\",\"line\":{\"color\":\"rgb(248, 248, 249)\",\"width\":1}},\"orientation\":\"h\",\"type\":\"bar\",\"x\":[16.260162601626014],\"y\":[\"NL\"]},{\"marker\":{\"color\":\"rgb(115, 175, 72)\",\"line\":{\"color\":\"rgb(248, 248, 249)\",\"width\":1}},\"orientation\":\"h\",\"type\":\"bar\",\"x\":[25.283630470016206],\"y\":[\"RO\"]},{\"marker\":{\"color\":\"rgb(115, 175, 72)\",\"line\":{\"color\":\"rgb(248, 248, 249)\",\"width\":1}},\"orientation\":\"h\",\"type\":\"bar\",\"x\":[34.726688102893895],\"y\":[\"RS\"]},{\"marker\":{\"color\":\"rgb(115, 175, 72)\",\"line\":{\"color\":\"rgb(248, 248, 249)\",\"width\":1}},\"orientation\":\"h\",\"type\":\"bar\",\"x\":[29.34131736526946],\"y\":[\"SE\"]},{\"marker\":{\"color\":\"rgb(115, 175, 72)\",\"line\":{\"color\":\"rgb(248, 248, 249)\",\"width\":1}},\"orientation\":\"h\",\"type\":\"bar\",\"x\":[45.54484370435291],\"y\":[\"US\"]},{\"marker\":{\"color\":\"rgb(29, 105, 150)\",\"line\":{\"color\":\"rgb(248, 248, 249)\",\"width\":1}},\"orientation\":\"h\",\"type\":\"bar\",\"x\":[41.61849710982659],\"y\":[\"AT\"]},{\"marker\":{\"color\":\"rgb(29, 105, 150)\",\"line\":{\"color\":\"rgb(248, 248, 249)\",\"width\":1}},\"orientation\":\"h\",\"type\":\"bar\",\"x\":[55.66502463054187],\"y\":[\"CZ\"]},{\"marker\":{\"color\":\"rgb(29, 105, 150)\",\"line\":{\"color\":\"rgb(248, 248, 249)\",\"width\":1}},\"orientation\":\"h\",\"type\":\"bar\",\"x\":[33.55648535564853],\"y\":[\"DE\"]},{\"marker\":{\"color\":\"rgb(29, 105, 150)\",\"line\":{\"color\":\"rgb(248, 248, 249)\",\"width\":1}},\"orientation\":\"h\",\"type\":\"bar\",\"x\":[79.14110429447852],\"y\":[\"ES\"]},{\"marker\":{\"color\":\"rgb(29, 105, 150)\",\"line\":{\"color\":\"rgb(248, 248, 249)\",\"width\":1}},\"orientation\":\"h\",\"type\":\"bar\",\"x\":[61.26255380200861],\"y\":[\"FR\"]},{\"marker\":{\"color\":\"rgb(29, 105, 150)\",\"line\":{\"color\":\"rgb(248, 248, 249)\",\"width\":1}},\"orientation\":\"h\",\"type\":\"bar\",\"x\":[68.07995154451847],\"y\":[\"GB\"]},{\"marker\":{\"color\":\"rgb(29, 105, 150)\",\"line\":{\"color\":\"rgb(248, 248, 249)\",\"width\":1}},\"orientation\":\"h\",\"type\":\"bar\",\"x\":[70.53191489361701],\"y\":[\"IE\"]},{\"marker\":{\"color\":\"rgb(29, 105, 150)\",\"line\":{\"color\":\"rgb(248, 248, 249)\",\"width\":1}},\"orientation\":\"h\",\"type\":\"bar\",\"x\":[76.8493879723257],\"y\":[\"IT\"]},{\"marker\":{\"color\":\"rgb(29, 105, 150)\",\"line\":{\"color\":\"rgb(248, 248, 249)\",\"width\":1}},\"orientation\":\"h\",\"type\":\"bar\",\"x\":[82.52032520325203],\"y\":[\"NL\"]},{\"marker\":{\"color\":\"rgb(29, 105, 150)\",\"line\":{\"color\":\"rgb(248, 248, 249)\",\"width\":1}},\"orientation\":\"h\",\"type\":\"bar\",\"x\":[67.58508914100486],\"y\":[\"RO\"]},{\"marker\":{\"color\":\"rgb(29, 105, 150)\",\"line\":{\"color\":\"rgb(248, 248, 249)\",\"width\":1}},\"orientation\":\"h\",\"type\":\"bar\",\"x\":[56.27009646302251],\"y\":[\"RS\"]},{\"marker\":{\"color\":\"rgb(29, 105, 150)\",\"line\":{\"color\":\"rgb(248, 248, 249)\",\"width\":1}},\"orientation\":\"h\",\"type\":\"bar\",\"x\":[66.46706586826348],\"y\":[\"SE\"]},{\"marker\":{\"color\":\"rgb(29, 105, 150)\",\"line\":{\"color\":\"rgb(248, 248, 249)\",\"width\":1}},\"orientation\":\"h\",\"type\":\"bar\",\"x\":[47.12240724510663],\"y\":[\"US\"]},{\"marker\":{\"color\":\"rgb(225, 124, 5)\",\"line\":{\"color\":\"rgb(248, 248, 249)\",\"width\":1}},\"orientation\":\"h\",\"type\":\"bar\",\"x\":[5.780346820809249],\"y\":[\"AT\"]},{\"marker\":{\"color\":\"rgb(225, 124, 5)\",\"line\":{\"color\":\"rgb(248, 248, 249)\",\"width\":1}},\"orientation\":\"h\",\"type\":\"bar\",\"x\":[12.807881773399016],\"y\":[\"CZ\"]},{\"marker\":{\"color\":\"rgb(225, 124, 5)\",\"line\":{\"color\":\"rgb(248, 248, 249)\",\"width\":1}},\"orientation\":\"h\",\"type\":\"bar\",\"x\":[4.01673640167364],\"y\":[\"DE\"]},{\"marker\":{\"color\":\"rgb(225, 124, 5)\",\"line\":{\"color\":\"rgb(248, 248, 249)\",\"width\":1}},\"orientation\":\"h\",\"type\":\"bar\",\"x\":[3.067484662576687],\"y\":[\"ES\"]},{\"marker\":{\"color\":\"rgb(225, 124, 5)\",\"line\":{\"color\":\"rgb(248, 248, 249)\",\"width\":1}},\"orientation\":\"h\",\"type\":\"bar\",\"x\":[2.7737924438067907],\"y\":[\"FR\"]},{\"marker\":{\"color\":\"rgb(225, 124, 5)\",\"line\":{\"color\":\"rgb(248, 248, 249)\",\"width\":1}},\"orientation\":\"h\",\"type\":\"bar\",\"x\":[7.086614173228346],\"y\":[\"GB\"]},{\"marker\":{\"color\":\"rgb(225, 124, 5)\",\"line\":{\"color\":\"rgb(248, 248, 249)\",\"width\":1}},\"orientation\":\"h\",\"type\":\"bar\",\"x\":[2.6595744680851063],\"y\":[\"IE\"]},{\"marker\":{\"color\":\"rgb(225, 124, 5)\",\"line\":{\"color\":\"rgb(248, 248, 249)\",\"width\":1}},\"orientation\":\"h\",\"type\":\"bar\",\"x\":[2.607770090473656],\"y\":[\"IT\"]},{\"marker\":{\"color\":\"rgb(225, 124, 5)\",\"line\":{\"color\":\"rgb(248, 248, 249)\",\"width\":1}},\"orientation\":\"h\",\"type\":\"bar\",\"x\":[1.2195121951219512],\"y\":[\"NL\"]},{\"marker\":{\"color\":\"rgb(225, 124, 5)\",\"line\":{\"color\":\"rgb(248, 248, 249)\",\"width\":1}},\"orientation\":\"h\",\"type\":\"bar\",\"x\":[7.13128038897893],\"y\":[\"RO\"]},{\"marker\":{\"color\":\"rgb(225, 124, 5)\",\"line\":{\"color\":\"rgb(248, 248, 249)\",\"width\":1}},\"orientation\":\"h\",\"type\":\"bar\",\"x\":[9.003215434083602],\"y\":[\"RS\"]},{\"marker\":{\"color\":\"rgb(225, 124, 5)\",\"line\":{\"color\":\"rgb(248, 248, 249)\",\"width\":1}},\"orientation\":\"h\",\"type\":\"bar\",\"x\":[4.191616766467066],\"y\":[\"SE\"]},{\"marker\":{\"color\":\"rgb(225, 124, 5)\",\"line\":{\"color\":\"rgb(248, 248, 249)\",\"width\":1}},\"orientation\":\"h\",\"type\":\"bar\",\"x\":[7.332749050540461],\"y\":[\"US\"]}],                        {\"annotations\":[{\"align\":\"right\",\"font\":{\"color\":\"rgb(67, 67, 67)\",\"family\":\"Arial\",\"size\":14},\"showarrow\":false,\"text\":\"AT\",\"x\":0.14,\"xanchor\":\"right\",\"xref\":\"paper\",\"y\":\"AT\",\"yref\":\"y\"},{\"font\":{\"color\":\"rgb(248, 248, 255)\",\"family\":\"Arial\",\"size\":12},\"showarrow\":false,\"text\":\"52.6%\",\"x\":26.300578034682083,\"xref\":\"x\",\"y\":\"AT\",\"yref\":\"y\"},{\"font\":{\"color\":\"rgb(248, 248, 255)\",\"family\":\"Arial\",\"size\":12},\"showarrow\":false,\"text\":\"41.6%\",\"x\":73.41040462427746,\"xref\":\"x\",\"y\":\"AT\",\"yref\":\"y\"},{\"font\":{\"color\":\"rgb(248, 248, 255)\",\"family\":\"Arial\",\"size\":12},\"showarrow\":false,\"text\":\"5.8%\",\"x\":97.10982658959539,\"xref\":\"x\",\"y\":\"AT\",\"yref\":\"y\"},{\"align\":\"right\",\"font\":{\"color\":\"rgb(67, 67, 67)\",\"family\":\"Arial\",\"size\":14},\"showarrow\":false,\"text\":\"CZ\",\"x\":0.14,\"xanchor\":\"right\",\"xref\":\"paper\",\"y\":\"CZ\",\"yref\":\"y\"},{\"font\":{\"color\":\"rgb(248, 248, 255)\",\"family\":\"Arial\",\"size\":12},\"showarrow\":false,\"text\":\"31.5%\",\"x\":15.763546798029557,\"xref\":\"x\",\"y\":\"CZ\",\"yref\":\"y\"},{\"font\":{\"color\":\"rgb(248, 248, 255)\",\"family\":\"Arial\",\"size\":12},\"showarrow\":false,\"text\":\"55.7%\",\"x\":59.35960591133005,\"xref\":\"x\",\"y\":\"CZ\",\"yref\":\"y\"},{\"font\":{\"color\":\"rgb(248, 248, 255)\",\"family\":\"Arial\",\"size\":12},\"showarrow\":false,\"text\":\"12.8%\",\"x\":93.59605911330048,\"xref\":\"x\",\"y\":\"CZ\",\"yref\":\"y\"},{\"align\":\"right\",\"font\":{\"color\":\"rgb(67, 67, 67)\",\"family\":\"Arial\",\"size\":14},\"showarrow\":false,\"text\":\"DE\",\"x\":0.14,\"xanchor\":\"right\",\"xref\":\"paper\",\"y\":\"DE\",\"yref\":\"y\"},{\"font\":{\"color\":\"rgb(248, 248, 255)\",\"family\":\"Arial\",\"size\":12},\"showarrow\":false,\"text\":\"62.4%\",\"x\":31.213389121338913,\"xref\":\"x\",\"y\":\"DE\",\"yref\":\"y\"},{\"font\":{\"color\":\"rgb(248, 248, 255)\",\"family\":\"Arial\",\"size\":12},\"showarrow\":false,\"text\":\"33.6%\",\"x\":79.2050209205021,\"xref\":\"x\",\"y\":\"DE\",\"yref\":\"y\"},{\"font\":{\"color\":\"rgb(248, 248, 255)\",\"family\":\"Arial\",\"size\":12},\"showarrow\":false,\"text\":\"4.0%\",\"x\":97.99163179916317,\"xref\":\"x\",\"y\":\"DE\",\"yref\":\"y\"},{\"align\":\"right\",\"font\":{\"color\":\"rgb(67, 67, 67)\",\"family\":\"Arial\",\"size\":14},\"showarrow\":false,\"text\":\"ES\",\"x\":0.14,\"xanchor\":\"right\",\"xref\":\"paper\",\"y\":\"ES\",\"yref\":\"y\"},{\"font\":{\"color\":\"rgb(248, 248, 255)\",\"family\":\"Arial\",\"size\":12},\"showarrow\":false,\"text\":\"17.8%\",\"x\":8.895705521472392,\"xref\":\"x\",\"y\":\"ES\",\"yref\":\"y\"},{\"font\":{\"color\":\"rgb(248, 248, 255)\",\"family\":\"Arial\",\"size\":12},\"showarrow\":false,\"text\":\"79.1%\",\"x\":57.36196319018404,\"xref\":\"x\",\"y\":\"ES\",\"yref\":\"y\"},{\"font\":{\"color\":\"rgb(248, 248, 255)\",\"family\":\"Arial\",\"size\":12},\"showarrow\":false,\"text\":\"3.1%\",\"x\":98.46625766871165,\"xref\":\"x\",\"y\":\"ES\",\"yref\":\"y\"},{\"align\":\"right\",\"font\":{\"color\":\"rgb(67, 67, 67)\",\"family\":\"Arial\",\"size\":14},\"showarrow\":false,\"text\":\"FR\",\"x\":0.14,\"xanchor\":\"right\",\"xref\":\"paper\",\"y\":\"FR\",\"yref\":\"y\"},{\"font\":{\"color\":\"rgb(248, 248, 255)\",\"family\":\"Arial\",\"size\":12},\"showarrow\":false,\"text\":\"36.0%\",\"x\":17.9818268770923,\"xref\":\"x\",\"y\":\"FR\",\"yref\":\"y\"},{\"font\":{\"color\":\"rgb(248, 248, 255)\",\"family\":\"Arial\",\"size\":12},\"showarrow\":false,\"text\":\"61.3%\",\"x\":66.5949306551889,\"xref\":\"x\",\"y\":\"FR\",\"yref\":\"y\"},{\"font\":{\"color\":\"rgb(248, 248, 255)\",\"family\":\"Arial\",\"size\":12},\"showarrow\":false,\"text\":\"2.8%\",\"x\":98.6131037780966,\"xref\":\"x\",\"y\":\"FR\",\"yref\":\"y\"},{\"align\":\"right\",\"font\":{\"color\":\"rgb(67, 67, 67)\",\"family\":\"Arial\",\"size\":14},\"showarrow\":false,\"text\":\"GB\",\"x\":0.14,\"xanchor\":\"right\",\"xref\":\"paper\",\"y\":\"GB\",\"yref\":\"y\"},{\"font\":{\"color\":\"rgb(248, 248, 255)\",\"family\":\"Arial\",\"size\":12},\"showarrow\":false,\"text\":\"24.8%\",\"x\":12.41671714112659,\"xref\":\"x\",\"y\":\"GB\",\"yref\":\"y\"},{\"font\":{\"color\":\"rgb(248, 248, 255)\",\"family\":\"Arial\",\"size\":12},\"showarrow\":false,\"text\":\"68.1%\",\"x\":58.87341005451241,\"xref\":\"x\",\"y\":\"GB\",\"yref\":\"y\"},{\"font\":{\"color\":\"rgb(248, 248, 255)\",\"family\":\"Arial\",\"size\":12},\"showarrow\":false,\"text\":\"7.1%\",\"x\":96.45669291338582,\"xref\":\"x\",\"y\":\"GB\",\"yref\":\"y\"},{\"align\":\"right\",\"font\":{\"color\":\"rgb(67, 67, 67)\",\"family\":\"Arial\",\"size\":14},\"showarrow\":false,\"text\":\"IE\",\"x\":0.14,\"xanchor\":\"right\",\"xref\":\"paper\",\"y\":\"IE\",\"yref\":\"y\"},{\"font\":{\"color\":\"rgb(248, 248, 255)\",\"family\":\"Arial\",\"size\":12},\"showarrow\":false,\"text\":\"26.8%\",\"x\":13.404255319148936,\"xref\":\"x\",\"y\":\"IE\",\"yref\":\"y\"},{\"font\":{\"color\":\"rgb(248, 248, 255)\",\"family\":\"Arial\",\"size\":12},\"showarrow\":false,\"text\":\"70.5%\",\"x\":62.074468085106375,\"xref\":\"x\",\"y\":\"IE\",\"yref\":\"y\"},{\"font\":{\"color\":\"rgb(248, 248, 255)\",\"family\":\"Arial\",\"size\":12},\"showarrow\":false,\"text\":\"2.7%\",\"x\":98.67021276595744,\"xref\":\"x\",\"y\":\"IE\",\"yref\":\"y\"},{\"align\":\"right\",\"font\":{\"color\":\"rgb(67, 67, 67)\",\"family\":\"Arial\",\"size\":14},\"showarrow\":false,\"text\":\"IT\",\"x\":0.14,\"xanchor\":\"right\",\"xref\":\"paper\",\"y\":\"IT\",\"yref\":\"y\"},{\"font\":{\"color\":\"rgb(248, 248, 255)\",\"family\":\"Arial\",\"size\":12},\"showarrow\":false,\"text\":\"20.5%\",\"x\":10.27142096860032,\"xref\":\"x\",\"y\":\"IT\",\"yref\":\"y\"},{\"font\":{\"color\":\"rgb(248, 248, 255)\",\"family\":\"Arial\",\"size\":12},\"showarrow\":false,\"text\":\"76.8%\",\"x\":58.96753592336349,\"xref\":\"x\",\"y\":\"IT\",\"yref\":\"y\"},{\"font\":{\"color\":\"rgb(248, 248, 255)\",\"family\":\"Arial\",\"size\":12},\"showarrow\":false,\"text\":\"2.6%\",\"x\":98.69611495476317,\"xref\":\"x\",\"y\":\"IT\",\"yref\":\"y\"},{\"align\":\"right\",\"font\":{\"color\":\"rgb(67, 67, 67)\",\"family\":\"Arial\",\"size\":14},\"showarrow\":false,\"text\":\"NL\",\"x\":0.14,\"xanchor\":\"right\",\"xref\":\"paper\",\"y\":\"NL\",\"yref\":\"y\"},{\"font\":{\"color\":\"rgb(248, 248, 255)\",\"family\":\"Arial\",\"size\":12},\"showarrow\":false,\"text\":\"16.3%\",\"x\":8.130081300813007,\"xref\":\"x\",\"y\":\"NL\",\"yref\":\"y\"},{\"font\":{\"color\":\"rgb(248, 248, 255)\",\"family\":\"Arial\",\"size\":12},\"showarrow\":false,\"text\":\"82.5%\",\"x\":57.52032520325203,\"xref\":\"x\",\"y\":\"NL\",\"yref\":\"y\"},{\"font\":{\"color\":\"rgb(248, 248, 255)\",\"family\":\"Arial\",\"size\":12},\"showarrow\":false,\"text\":\"1.2%\",\"x\":99.39024390243902,\"xref\":\"x\",\"y\":\"NL\",\"yref\":\"y\"},{\"align\":\"right\",\"font\":{\"color\":\"rgb(67, 67, 67)\",\"family\":\"Arial\",\"size\":14},\"showarrow\":false,\"text\":\"RO\",\"x\":0.14,\"xanchor\":\"right\",\"xref\":\"paper\",\"y\":\"RO\",\"yref\":\"y\"},{\"font\":{\"color\":\"rgb(248, 248, 255)\",\"family\":\"Arial\",\"size\":12},\"showarrow\":false,\"text\":\"25.3%\",\"x\":12.641815235008103,\"xref\":\"x\",\"y\":\"RO\",\"yref\":\"y\"},{\"font\":{\"color\":\"rgb(248, 248, 255)\",\"family\":\"Arial\",\"size\":12},\"showarrow\":false,\"text\":\"67.6%\",\"x\":59.076175040518635,\"xref\":\"x\",\"y\":\"RO\",\"yref\":\"y\"},{\"font\":{\"color\":\"rgb(248, 248, 255)\",\"family\":\"Arial\",\"size\":12},\"showarrow\":false,\"text\":\"7.1%\",\"x\":96.43435980551052,\"xref\":\"x\",\"y\":\"RO\",\"yref\":\"y\"},{\"align\":\"right\",\"font\":{\"color\":\"rgb(67, 67, 67)\",\"family\":\"Arial\",\"size\":14},\"showarrow\":false,\"text\":\"RS\",\"x\":0.14,\"xanchor\":\"right\",\"xref\":\"paper\",\"y\":\"RS\",\"yref\":\"y\"},{\"font\":{\"color\":\"rgb(248, 248, 255)\",\"family\":\"Arial\",\"size\":12},\"showarrow\":false,\"text\":\"34.7%\",\"x\":17.363344051446948,\"xref\":\"x\",\"y\":\"RS\",\"yref\":\"y\"},{\"font\":{\"color\":\"rgb(248, 248, 255)\",\"family\":\"Arial\",\"size\":12},\"showarrow\":false,\"text\":\"56.3%\",\"x\":62.86173633440515,\"xref\":\"x\",\"y\":\"RS\",\"yref\":\"y\"},{\"font\":{\"color\":\"rgb(248, 248, 255)\",\"family\":\"Arial\",\"size\":12},\"showarrow\":false,\"text\":\"9.0%\",\"x\":95.49839228295822,\"xref\":\"x\",\"y\":\"RS\",\"yref\":\"y\"},{\"align\":\"right\",\"font\":{\"color\":\"rgb(67, 67, 67)\",\"family\":\"Arial\",\"size\":14},\"showarrow\":false,\"text\":\"SE\",\"x\":0.14,\"xanchor\":\"right\",\"xref\":\"paper\",\"y\":\"SE\",\"yref\":\"y\"},{\"font\":{\"color\":\"rgb(248, 248, 255)\",\"family\":\"Arial\",\"size\":12},\"showarrow\":false,\"text\":\"29.3%\",\"x\":14.67065868263473,\"xref\":\"x\",\"y\":\"SE\",\"yref\":\"y\"},{\"font\":{\"color\":\"rgb(248, 248, 255)\",\"family\":\"Arial\",\"size\":12},\"showarrow\":false,\"text\":\"66.5%\",\"x\":62.5748502994012,\"xref\":\"x\",\"y\":\"SE\",\"yref\":\"y\"},{\"font\":{\"color\":\"rgb(248, 248, 255)\",\"family\":\"Arial\",\"size\":12},\"showarrow\":false,\"text\":\"4.2%\",\"x\":97.90419161676647,\"xref\":\"x\",\"y\":\"SE\",\"yref\":\"y\"},{\"align\":\"right\",\"font\":{\"color\":\"rgb(67, 67, 67)\",\"family\":\"Arial\",\"size\":14},\"showarrow\":false,\"text\":\"US\",\"x\":0.14,\"xanchor\":\"right\",\"xref\":\"paper\",\"y\":\"US\",\"yref\":\"y\"},{\"font\":{\"color\":\"rgb(248, 248, 255)\",\"family\":\"Arial\",\"size\":12},\"showarrow\":false,\"text\":\"45.5%\",\"x\":22.772421852176453,\"xref\":\"x\",\"y\":\"US\",\"yref\":\"y\"},{\"font\":{\"color\":\"rgb(248, 248, 255)\",\"family\":\"Arial\",\"size\":12},\"showarrow\":false,\"text\":\"47.1%\",\"x\":69.10604732690622,\"xref\":\"x\",\"y\":\"US\",\"yref\":\"y\"},{\"font\":{\"color\":\"rgb(248, 248, 255)\",\"family\":\"Arial\",\"size\":12},\"showarrow\":false,\"text\":\"7.3%\",\"x\":96.33362547472977,\"xref\":\"x\",\"y\":\"US\",\"yref\":\"y\"}],\"barmode\":\"stack\",\"margin\":{\"b\":80,\"l\":120,\"r\":10,\"t\":140},\"paper_bgcolor\":\"rgb(248, 248, 255)\",\"plot_bgcolor\":\"rgb(248, 248, 255)\",\"showlegend\":false,\"template\":{\"data\":{\"bar\":[{\"error_x\":{\"color\":\"#2a3f5f\"},\"error_y\":{\"color\":\"#2a3f5f\"},\"marker\":{\"line\":{\"color\":\"#E5ECF6\",\"width\":0.5},\"pattern\":{\"fillmode\":\"overlay\",\"size\":10,\"solidity\":0.2}},\"type\":\"bar\"}],\"barpolar\":[{\"marker\":{\"line\":{\"color\":\"#E5ECF6\",\"width\":0.5},\"pattern\":{\"fillmode\":\"overlay\",\"size\":10,\"solidity\":0.2}},\"type\":\"barpolar\"}],\"carpet\":[{\"aaxis\":{\"endlinecolor\":\"#2a3f5f\",\"gridcolor\":\"white\",\"linecolor\":\"white\",\"minorgridcolor\":\"white\",\"startlinecolor\":\"#2a3f5f\"},\"baxis\":{\"endlinecolor\":\"#2a3f5f\",\"gridcolor\":\"white\",\"linecolor\":\"white\",\"minorgridcolor\":\"white\",\"startlinecolor\":\"#2a3f5f\"},\"type\":\"carpet\"}],\"choropleth\":[{\"colorbar\":{\"outlinewidth\":0,\"ticks\":\"\"},\"type\":\"choropleth\"}],\"contour\":[{\"colorbar\":{\"outlinewidth\":0,\"ticks\":\"\"},\"colorscale\":[[0.0,\"#0d0887\"],[0.1111111111111111,\"#46039f\"],[0.2222222222222222,\"#7201a8\"],[0.3333333333333333,\"#9c179e\"],[0.4444444444444444,\"#bd3786\"],[0.5555555555555556,\"#d8576b\"],[0.6666666666666666,\"#ed7953\"],[0.7777777777777778,\"#fb9f3a\"],[0.8888888888888888,\"#fdca26\"],[1.0,\"#f0f921\"]],\"type\":\"contour\"}],\"contourcarpet\":[{\"colorbar\":{\"outlinewidth\":0,\"ticks\":\"\"},\"type\":\"contourcarpet\"}],\"heatmap\":[{\"colorbar\":{\"outlinewidth\":0,\"ticks\":\"\"},\"colorscale\":[[0.0,\"#0d0887\"],[0.1111111111111111,\"#46039f\"],[0.2222222222222222,\"#7201a8\"],[0.3333333333333333,\"#9c179e\"],[0.4444444444444444,\"#bd3786\"],[0.5555555555555556,\"#d8576b\"],[0.6666666666666666,\"#ed7953\"],[0.7777777777777778,\"#fb9f3a\"],[0.8888888888888888,\"#fdca26\"],[1.0,\"#f0f921\"]],\"type\":\"heatmap\"}],\"heatmapgl\":[{\"colorbar\":{\"outlinewidth\":0,\"ticks\":\"\"},\"colorscale\":[[0.0,\"#0d0887\"],[0.1111111111111111,\"#46039f\"],[0.2222222222222222,\"#7201a8\"],[0.3333333333333333,\"#9c179e\"],[0.4444444444444444,\"#bd3786\"],[0.5555555555555556,\"#d8576b\"],[0.6666666666666666,\"#ed7953\"],[0.7777777777777778,\"#fb9f3a\"],[0.8888888888888888,\"#fdca26\"],[1.0,\"#f0f921\"]],\"type\":\"heatmapgl\"}],\"histogram\":[{\"marker\":{\"pattern\":{\"fillmode\":\"overlay\",\"size\":10,\"solidity\":0.2}},\"type\":\"histogram\"}],\"histogram2d\":[{\"colorbar\":{\"outlinewidth\":0,\"ticks\":\"\"},\"colorscale\":[[0.0,\"#0d0887\"],[0.1111111111111111,\"#46039f\"],[0.2222222222222222,\"#7201a8\"],[0.3333333333333333,\"#9c179e\"],[0.4444444444444444,\"#bd3786\"],[0.5555555555555556,\"#d8576b\"],[0.6666666666666666,\"#ed7953\"],[0.7777777777777778,\"#fb9f3a\"],[0.8888888888888888,\"#fdca26\"],[1.0,\"#f0f921\"]],\"type\":\"histogram2d\"}],\"histogram2dcontour\":[{\"colorbar\":{\"outlinewidth\":0,\"ticks\":\"\"},\"colorscale\":[[0.0,\"#0d0887\"],[0.1111111111111111,\"#46039f\"],[0.2222222222222222,\"#7201a8\"],[0.3333333333333333,\"#9c179e\"],[0.4444444444444444,\"#bd3786\"],[0.5555555555555556,\"#d8576b\"],[0.6666666666666666,\"#ed7953\"],[0.7777777777777778,\"#fb9f3a\"],[0.8888888888888888,\"#fdca26\"],[1.0,\"#f0f921\"]],\"type\":\"histogram2dcontour\"}],\"mesh3d\":[{\"colorbar\":{\"outlinewidth\":0,\"ticks\":\"\"},\"type\":\"mesh3d\"}],\"parcoords\":[{\"line\":{\"colorbar\":{\"outlinewidth\":0,\"ticks\":\"\"}},\"type\":\"parcoords\"}],\"pie\":[{\"automargin\":true,\"type\":\"pie\"}],\"scatter\":[{\"marker\":{\"colorbar\":{\"outlinewidth\":0,\"ticks\":\"\"}},\"type\":\"scatter\"}],\"scatter3d\":[{\"line\":{\"colorbar\":{\"outlinewidth\":0,\"ticks\":\"\"}},\"marker\":{\"colorbar\":{\"outlinewidth\":0,\"ticks\":\"\"}},\"type\":\"scatter3d\"}],\"scattercarpet\":[{\"marker\":{\"colorbar\":{\"outlinewidth\":0,\"ticks\":\"\"}},\"type\":\"scattercarpet\"}],\"scattergeo\":[{\"marker\":{\"colorbar\":{\"outlinewidth\":0,\"ticks\":\"\"}},\"type\":\"scattergeo\"}],\"scattergl\":[{\"marker\":{\"colorbar\":{\"outlinewidth\":0,\"ticks\":\"\"}},\"type\":\"scattergl\"}],\"scattermapbox\":[{\"marker\":{\"colorbar\":{\"outlinewidth\":0,\"ticks\":\"\"}},\"type\":\"scattermapbox\"}],\"scatterpolar\":[{\"marker\":{\"colorbar\":{\"outlinewidth\":0,\"ticks\":\"\"}},\"type\":\"scatterpolar\"}],\"scatterpolargl\":[{\"marker\":{\"colorbar\":{\"outlinewidth\":0,\"ticks\":\"\"}},\"type\":\"scatterpolargl\"}],\"scatterternary\":[{\"marker\":{\"colorbar\":{\"outlinewidth\":0,\"ticks\":\"\"}},\"type\":\"scatterternary\"}],\"surface\":[{\"colorbar\":{\"outlinewidth\":0,\"ticks\":\"\"},\"colorscale\":[[0.0,\"#0d0887\"],[0.1111111111111111,\"#46039f\"],[0.2222222222222222,\"#7201a8\"],[0.3333333333333333,\"#9c179e\"],[0.4444444444444444,\"#bd3786\"],[0.5555555555555556,\"#d8576b\"],[0.6666666666666666,\"#ed7953\"],[0.7777777777777778,\"#fb9f3a\"],[0.8888888888888888,\"#fdca26\"],[1.0,\"#f0f921\"]],\"type\":\"surface\"}],\"table\":[{\"cells\":{\"fill\":{\"color\":\"#EBF0F8\"},\"line\":{\"color\":\"white\"}},\"header\":{\"fill\":{\"color\":\"#C8D4E3\"},\"line\":{\"color\":\"white\"}},\"type\":\"table\"}]},\"layout\":{\"annotationdefaults\":{\"arrowcolor\":\"#2a3f5f\",\"arrowhead\":0,\"arrowwidth\":1},\"autotypenumbers\":\"strict\",\"coloraxis\":{\"colorbar\":{\"outlinewidth\":0,\"ticks\":\"\"}},\"colorscale\":{\"diverging\":[[0,\"#8e0152\"],[0.1,\"#c51b7d\"],[0.2,\"#de77ae\"],[0.3,\"#f1b6da\"],[0.4,\"#fde0ef\"],[0.5,\"#f7f7f7\"],[0.6,\"#e6f5d0\"],[0.7,\"#b8e186\"],[0.8,\"#7fbc41\"],[0.9,\"#4d9221\"],[1,\"#276419\"]],\"sequential\":[[0.0,\"#0d0887\"],[0.1111111111111111,\"#46039f\"],[0.2222222222222222,\"#7201a8\"],[0.3333333333333333,\"#9c179e\"],[0.4444444444444444,\"#bd3786\"],[0.5555555555555556,\"#d8576b\"],[0.6666666666666666,\"#ed7953\"],[0.7777777777777778,\"#fb9f3a\"],[0.8888888888888888,\"#fdca26\"],[1.0,\"#f0f921\"]],\"sequentialminus\":[[0.0,\"#0d0887\"],[0.1111111111111111,\"#46039f\"],[0.2222222222222222,\"#7201a8\"],[0.3333333333333333,\"#9c179e\"],[0.4444444444444444,\"#bd3786\"],[0.5555555555555556,\"#d8576b\"],[0.6666666666666666,\"#ed7953\"],[0.7777777777777778,\"#fb9f3a\"],[0.8888888888888888,\"#fdca26\"],[1.0,\"#f0f921\"]]},\"colorway\":[\"#636efa\",\"#EF553B\",\"#00cc96\",\"#ab63fa\",\"#FFA15A\",\"#19d3f3\",\"#FF6692\",\"#B6E880\",\"#FF97FF\",\"#FECB52\"],\"font\":{\"color\":\"#2a3f5f\"},\"geo\":{\"bgcolor\":\"white\",\"lakecolor\":\"white\",\"landcolor\":\"#E5ECF6\",\"showlakes\":true,\"showland\":true,\"subunitcolor\":\"white\"},\"hoverlabel\":{\"align\":\"left\"},\"hovermode\":\"closest\",\"mapbox\":{\"style\":\"light\"},\"paper_bgcolor\":\"white\",\"plot_bgcolor\":\"#E5ECF6\",\"polar\":{\"angularaxis\":{\"gridcolor\":\"white\",\"linecolor\":\"white\",\"ticks\":\"\"},\"bgcolor\":\"#E5ECF6\",\"radialaxis\":{\"gridcolor\":\"white\",\"linecolor\":\"white\",\"ticks\":\"\"}},\"scene\":{\"xaxis\":{\"backgroundcolor\":\"#E5ECF6\",\"gridcolor\":\"white\",\"gridwidth\":2,\"linecolor\":\"white\",\"showbackground\":true,\"ticks\":\"\",\"zerolinecolor\":\"white\"},\"yaxis\":{\"backgroundcolor\":\"#E5ECF6\",\"gridcolor\":\"white\",\"gridwidth\":2,\"linecolor\":\"white\",\"showbackground\":true,\"ticks\":\"\",\"zerolinecolor\":\"white\"},\"zaxis\":{\"backgroundcolor\":\"#E5ECF6\",\"gridcolor\":\"white\",\"gridwidth\":2,\"linecolor\":\"white\",\"showbackground\":true,\"ticks\":\"\",\"zerolinecolor\":\"white\"}},\"shapedefaults\":{\"line\":{\"color\":\"#2a3f5f\"}},\"ternary\":{\"aaxis\":{\"gridcolor\":\"white\",\"linecolor\":\"white\",\"ticks\":\"\"},\"baxis\":{\"gridcolor\":\"white\",\"linecolor\":\"white\",\"ticks\":\"\"},\"bgcolor\":\"#E5ECF6\",\"caxis\":{\"gridcolor\":\"white\",\"linecolor\":\"white\",\"ticks\":\"\"}},\"title\":{\"x\":0.05},\"xaxis\":{\"automargin\":true,\"gridcolor\":\"white\",\"linecolor\":\"white\",\"ticks\":\"\",\"title\":{\"standoff\":15},\"zerolinecolor\":\"white\",\"zerolinewidth\":2},\"yaxis\":{\"automargin\":true,\"gridcolor\":\"white\",\"linecolor\":\"white\",\"ticks\":\"\",\"title\":{\"standoff\":15},\"zerolinecolor\":\"white\",\"zerolinewidth\":2}}},\"title\":{\"text\":\"Percentage of news stories collected by technology\",\"x\":0.58,\"xanchor\":\"center\",\"y\":0.85,\"yanchor\":\"top\"},\"xaxis\":{\"domain\":[0.15,1],\"showgrid\":false,\"showline\":false,\"showticklabels\":false,\"zeroline\":false},\"yaxis\":{\"showgrid\":false,\"showline\":false,\"showticklabels\":false,\"zeroline\":false}},                        {\"responsive\": true}                    ).then(function(){\n",
       "                            \n",
       "var gd = document.getElementById('2d386748-d784-4fbb-85ff-7c6827d218bb');\n",
       "var x = new MutationObserver(function (mutations, observer) {{\n",
       "        var display = window.getComputedStyle(gd).display;\n",
       "        if (!display || display === 'none') {{\n",
       "            console.log([gd, 'removed!']);\n",
       "            Plotly.purge(gd);\n",
       "            observer.disconnect();\n",
       "        }}\n",
       "}});\n",
       "\n",
       "// Listen for the removal of the full notebook cells\n",
       "var notebookContainer = gd.closest('#notebook-container');\n",
       "if (notebookContainer) {{\n",
       "    x.observe(notebookContainer, {childList: true});\n",
       "}}\n",
       "\n",
       "// Listen for the clearing of the current output cell\n",
       "var outputEl = gd.closest('.output');\n",
       "if (outputEl) {{\n",
       "    x.observe(outputEl, {childList: true});\n",
       "}}\n",
       "\n",
       "                        })                };                });            </script>        </div>"
      ]
     },
     "metadata": {},
     "output_type": "display_data"
    }
   ],
   "source": [
    "#####\n",
    "\n",
    "fig = go.Figure()\n",
    "colors = [px.colors.qualitative.Prism[4], px.colors.qualitative.Prism[1],px.colors.qualitative.Prism[6]]\n",
    "\n",
    "for i,t in enumerate(topics):\n",
    "    for xd, yd in zip(xdata, ydata):\n",
    "        fig.add_trace(go.Bar( \n",
    "            x=[xd[i]], y=[yd],\n",
    "            orientation='h',\n",
    "            marker=dict(\n",
    "                color=colors[i],\n",
    "                line=dict(color='rgb(248, 248, 249)', width=1)\n",
    "            )\n",
    "        ))\n",
    "\n",
    "fig.update_layout(\n",
    "    xaxis=dict(\n",
    "        showgrid=False,\n",
    "        showline=False,\n",
    "        showticklabels=False,\n",
    "        zeroline=False,\n",
    "        domain=[0.15, 1]\n",
    "    ),\n",
    "    yaxis=dict(\n",
    "        showgrid=False,\n",
    "        showline=False,\n",
    "        showticklabels=False,\n",
    "        zeroline=False,\n",
    "    ),\n",
    "    barmode='stack',\n",
    "    paper_bgcolor='rgb(248, 248, 255)',\n",
    "    plot_bgcolor='rgb(248, 248, 255)',\n",
    "    margin=dict(l=120, r=10, t=140, b=80),\n",
    "    showlegend=False,\n",
    ")\n",
    "\n",
    "annotations = []\n",
    "\n",
    "for yd, xd in zip(ydata, xdata):\n",
    "    # labeling the y-axis\n",
    "    annotations.append(dict(xref='paper', yref='y',\n",
    "                            x=0.14, y=yd,\n",
    "                            xanchor='right',\n",
    "                            text=str(yd),\n",
    "                            font=dict(family='Arial', size=14,\n",
    "                                      color='rgb(67, 67, 67)'),\n",
    "                            showarrow=False, align='right'))\n",
    "    # labeling the first percentage of each bar (x_axis)\n",
    "    annotations.append(dict(xref='x', yref='y',\n",
    "                            x=xd[0]/2, y=yd,\n",
    "                            text=str(\"%.1f\"%xd[0]) + '%',\n",
    "                            font=dict(family='Arial', size=12,\n",
    "                                      color='rgb(248, 248, 255)'),\n",
    "                            showarrow=False))\n",
    "\n",
    "    space = xd[0]\n",
    "    for i in range(1, len(xd)):\n",
    "            # labeling the rest of percentages for each bar (x_axis)\n",
    "            annotations.append(dict(xref='x', yref='y',\n",
    "                                    x=space + (xd[i]/2), y=yd,\n",
    "                                    text=str(\"%.1f\"%xd[i]) + '%',\n",
    "                                    font=dict(family='Arial', size=12,\n",
    "                                              color='rgb(248, 248, 255)'),\n",
    "                                    showarrow=False))\n",
    "\n",
    "            space += xd[i]\n",
    "fig.update_layout(\n",
    "            title={\n",
    "            'text': 'Percentage of news stories collected by technology',\n",
    "            'y':0.85,\n",
    "            'x':0.58,\n",
    "            'xanchor': 'center',\n",
    "            'yanchor': 'top'})\n",
    "  \n",
    "fig.update_layout(annotations=annotations)\n",
    "fig.show()"
   ]
  },
  {
   "cell_type": "code",
   "execution_count": 20,
   "id": "47ffcc73",
   "metadata": {},
   "outputs": [],
   "source": [
    "raw_counts_climate = { 'at' :  { 'Afforestation':31,\n",
    "                                'Reforestation':15,\n",
    "                                 'Green hydrogen': 25,\n",
    "                                'Carbon capture':8,\n",
    "                                'Carbon storage':6,\n",
    "                                'Climate engineering':7,\n",
    "                                'Solar radiation management': 4,\n",
    "                                'Sun shield': 3,\n",
    "                                'Artificial photosynthesis':1,\n",
    "                                'Geoengineering':6,\n",
    "                                'Direct air capturing': 1},\n",
    "                      'cz' : {'Green hydrogen': 25,\n",
    "                             'Carbon storage': 23,\n",
    "                              'Afforestation': 8,\n",
    "                             'Carbon capture': 4,\n",
    "                              'Sun shield': 3,\n",
    "                             'Geoengineering':3,\n",
    "                              'Cloud seeding':1,\n",
    "                              'Carbon usage':1\n",
    "                             },\n",
    "                      'de' : { 'Afforestation' : 299,\n",
    "                              'Green hydrogen' : 298, \n",
    "                              'Climate engineering':119,\n",
    "                              'Cloud seeding':32,\n",
    "                              'Geoengineering':7,\n",
    "                              'Carbon storage': 7,\n",
    "                              'Carbon sequestration' : 5, \n",
    "                              'Water splitting':2,\n",
    "                              'Ocean fertilisation':1,\n",
    "                              'Negative emission technology':1,\n",
    "                              'Cloud whitening':1, \n",
    "                              'Artificial photosynthesis':2},\n",
    "                      'es' :{ 'Afforestation':59,\n",
    "                             'Carbon capture':10, \n",
    "                             'Carbon storage':6,\n",
    "                             'Direct air capturing': 2,\n",
    "                             'Sun shield': 12,\n",
    "                             'Cloud seeding': 3,\n",
    "                             'Carbon usage':2,\n",
    "                             'Geoengineering': 1,\n",
    "                             'Negative emission technology':1,\n",
    "                             'Climate engineering': 1,\n",
    "                             'Cloud modification':1},\n",
    "                      \n",
    "                      'fr':{ 'Green hydrogen': 432,\n",
    "                            'Carbon storage': 293,\n",
    "                            'Carbon capture': 26,\n",
    "                            'Geoengineering':13,\n",
    "                            'Cloud seeding': 10,\n",
    "                            'Carbon usage':7,\n",
    "                            'Sun shield':6,\n",
    "                            'Direct air capturing':4,\n",
    "                            'Solar radiation management':2,\n",
    "                            'Ocean fertilisation':2,\n",
    "                             },\n",
    "                      \n",
    "                      'gb':{ 'Carbon capture':228,\n",
    "                           'Green hydrogen': 77,\n",
    "                           'Carbon storage':55,\n",
    "                           'Carbon sequestration':47,\n",
    "                           'Afforestation': 14,\n",
    "                           'Cloud seeding':12,\n",
    "                           'Direct air capturing':9,\n",
    "                           'Geoengineering': 7,\n",
    "                           'Negative emission technology':4,\n",
    "                           'Sun shield': 4,\n",
    "                           'Climate engineering': 3, \n",
    "                           'Solar radiation management': 3, \n",
    "                           'Water splitting': 2,\n",
    "                           'Carbon usage':3,\n",
    "                           'Greenhouse gas removal': 1,\n",
    "                           },\n",
    "                      \n",
    "                      'ie' : { 'Carbon capture':90 ,\n",
    "                              'Green hydrogen': 59,\n",
    "                              'Afforestation': 53,\n",
    "                              'Carbon sequestration': 43,\n",
    "                              'Carbon storage':28,\n",
    "                              'Carbon usage' : 8,\n",
    "                              'Cloud seeding': 4 ,\n",
    "                              'Direct air capturing': 3,\n",
    "                              'Sun shield': 2,\n",
    "                              'Geoengineering': 2,\n",
    "                              'Water splitting': 1 ,\n",
    "                              'Negative emission technology': 1,\n",
    "                              'Reforestation': 1,\n",
    "                              'Climate engineering': 1},\n",
    "                      \n",
    "                      'it': {'Green hydrogen': 279,\n",
    "                            'Reforestation': 40,\n",
    "                            'Carbon storage': 29,\n",
    "                            'Carbon capture': 22,\n",
    "                            'Geoengineering' : 9,\n",
    "                            'Carbon usage': 9,\n",
    "                            'Water splitting': 4,\n",
    "                            'Artificial photosynthesis': 3,\n",
    "                            'Direct air capturing': 2,\n",
    "                            'Ocean fertilisation': 1,\n",
    "                            'Cloud seeding': 1},\n",
    "                      \n",
    "                      'nl': { 'Green hydrogen': 24,\n",
    "                              'Carbon storage': 9,\n",
    "                             'Afforestation' : 4,\n",
    "                             'Sun shield': 2, \n",
    "                             'Geoengineering': 4,\n",
    "                             'Carbon capture': 1,\n",
    "                             'Carbon sequestration':1},\n",
    "                      'ro':{ 'Afforestation': 120,\n",
    "                            'Reforestation':22,\n",
    "                            'Cloud seeding': 7,\n",
    "                            'Green hydrogen':6, \n",
    "                            'Geoengineering':2,\n",
    "                            'Carbon usage':3,\n",
    "                            'Greenhouse gas removal':1,\n",
    "                            'Carbon capture': 1,\n",
    "                            'Artificial photosynthesis':1},\n",
    "                      \n",
    "                      'rs':{ 'Afforestation':17,\n",
    "                            'Green hydrogen':10,\n",
    "                            'Carbon storage':4,\n",
    "                            'Carbon capture':3,\n",
    "                            'Carbon usage':3,\n",
    "                            'Geoengineering':2,\n",
    "                            'Artificial photosynthesis':1},\n",
    "                      \n",
    "                      'se': {'Carbon storage':30,\n",
    "                      'Green hydrogen': 25,\n",
    "                      'Geoengineering': 17,\n",
    "                      'Carbon capture': 11,\n",
    "                      'Afforestation': 5,\n",
    "                      'Cloud seeding':2},\n",
    "                      \n",
    "                      'us': { 'Carbon capture': 673,\n",
    "                             'Green hydrogen': 574,\n",
    "                             'Carbon sequestration': 267,\n",
    "                             'Carbon storage': 130,\n",
    "                             'Direct air capturing': 67,\n",
    "                             'Cloud seeding': 36,\n",
    "                             'Sun shield': 27,\n",
    "                             'Afforestation': 16,\n",
    "                             'Geoengineering': 14,\n",
    "                             'Climate engineering': 13,\n",
    "                             'Carbon usage': 10,\n",
    "                             'Negative emission technology': 8,\n",
    "                             'Greenhouse gas removal': 8,\n",
    "                             'Solar radiation management': 8,\n",
    "                             'Artificial photosynthesis': 5, \n",
    "                             'Water splitting':5,\n",
    "                             'Artificial upwelling': 5,\n",
    "                             'Reforestation':1,\n",
    "                             'Cloud modification': 1\n",
    "                          \n",
    "                      }\n",
    "                      \n",
    "             \n",
    "                        }"
   ]
  },
  {
   "cell_type": "code",
   "execution_count": 21,
   "id": "8a5f0b12",
   "metadata": {},
   "outputs": [],
   "source": [
    "raw_counts_digitalxr = { \n",
    "    \n",
    "    'at':{ 'Virtual reality': 41,\n",
    "          'Virtual world': 21,\n",
    "          'Digital twin': 11,\n",
    "          'Extended reality': 14,\n",
    "          'Metaverse': 8,\n",
    "          'Digital avatar': 4,\n",
    "          'NLP': 3,\n",
    "          'Mixed reality': 1,\n",
    "          'Smart glasses': 1,\n",
    "          'Virtual environment':1\n",
    "        \n",
    "    },\n",
    "    \n",
    "    \n",
    "    'de':{\n",
    "        'Augmented reality': 196,\n",
    "        'Virtual reality': 154,\n",
    "        'Virtual world': 122,\n",
    "        'Virtual environment': 43,\n",
    "        'Metaverse': 42,\n",
    "        'Mixed reality': 18,\n",
    "        'NLP': 15,\n",
    "        'Smart glasses': 15,\n",
    "        'Digital avatar': 11,\n",
    "        'Digital twin': 5,\n",
    "        'Extended reality': 4},\n",
    "    \n",
    "    'es':{\n",
    "        'Virtual reality':168,\n",
    "        'Virtual world': 116,\n",
    "        'Augmented reality': 113,\n",
    "        'Metaverse': 95,\n",
    "        'Mixed reality': 9,\n",
    "        'Extended reality': 14,\n",
    "        'NLP':6,\n",
    "        'Digital twin':7 ,\n",
    "        'Digital avatar':2, \n",
    "    },\n",
    "    \n",
    "    'fr':{\n",
    "        'Virtual reality': 707,\n",
    "        'Augmented reality': 445,\n",
    "        'Metaverse': 357,\n",
    "        'Mixed reality': 40,\n",
    "        'Extended reality':36,\n",
    "        'Smart glasses': 19,\n",
    "        'Digital avatar': 17,\n",
    "        'Virtual environment': 15\n",
    "    },\n",
    "    \n",
    "    'gb':{\n",
    "        'Virtual reality': 578,\n",
    "        'Augmented reality': 323,\n",
    "        'Metaverse': 193,\n",
    "        'Virtual world': 124,\n",
    "        'Mixed reality': 76,\n",
    "        'Extended reality': 75,\n",
    "        'NLP': 50,\n",
    "        'Smart glasses': 46,\n",
    "        'Augmented reality': 46, \n",
    "        'Virtual environment': 21\n",
    "    },\n",
    "    \n",
    "    'ie': {\n",
    "        'Virtual reality': 358,\n",
    "        'Augmented reality': 172,\n",
    "        'Metaverse': 111,\n",
    "        'Virtual world': 124,\n",
    "        'Mixed reality': 22,\n",
    "        'Extended reality': 15,\n",
    "        'NLP': 37,\n",
    "        'Smart glasses': 28,\n",
    "        'Virtual environment': 26,\n",
    "        'Digital twin': 11,\n",
    "        'Digital avatar': 8},\n",
    "    \n",
    "    'it': {\n",
    "        'Augmented reality': 526,\n",
    "        'Virtual reality': 697,\n",
    "        'Metaverse': 297,\n",
    "        'Virtual world': 146,\n",
    "        'Extended reality': 83,\n",
    "        'Smart glasses': 44,\n",
    "        'Mixed reality': 39,\n",
    "        'Digital avatar': 26,\n",
    "        'Digital twin': 23,\n",
    "        'NLP': 12\n",
    "    },\n",
    "    \n",
    "    'nl': {\n",
    "        'Virtual reality': 65,\n",
    "        'Augmented reality': 59,\n",
    "        'Extended reality':17,\n",
    "        'Metaverse': 15,\n",
    "        'Virtual world':14,\n",
    "        'NLP':6,\n",
    "        'Virtual environment': 5,\n",
    "        'Digital avatar':5,\n",
    "        'Smart glasses': 4,\n",
    "        'Mixed reality':3\n",
    "        \n",
    "    },\n",
    "    \n",
    "    'ro': {\n",
    "        'Virtual reality': 178,\n",
    "        'Augmented reality': 89,\n",
    "        'Extended reality': 61,\n",
    "        'Digital avatar': 59,\n",
    "        'Metaverse': 53,\n",
    "        'Smart glasses': 32,\n",
    "        'NLP': 10,\n",
    "        'Mixed reality': 3,\n",
    "        'Virtual world':44,\n",
    "        'Virtual environment': 35\n",
    "    },\n",
    "    \n",
    "    'rs': {\n",
    "        'Augmented reality': 173,\n",
    "        'Virtual reality': 161,\n",
    "        'Virtual world': 22,\n",
    "        'Metaverse': 16,\n",
    "        'Smart glasses': 8,\n",
    "        'Virtual environment': 3,\n",
    "        'NLP':4\n",
    "    },\n",
    "    \n",
    "    'se':{\n",
    "        \n",
    "        'Virtual reality': 201,\n",
    "        'Augmented reality': 20,\n",
    "        'Metaverse': 16,\n",
    "        'Virtual world': 5,\n",
    "        'Extended reality': 3,\n",
    "        'Digital twin': 2,\n",
    "        'NLP': 1,\n",
    "        'Digital avatar':1\n",
    "    },\n",
    "    \n",
    "    'us': {\n",
    "        'Virtual reality':812, \n",
    "        'Augmented reality': 454, \n",
    "        'Metaverse': 353,\n",
    "        'Virtual world': 188,\n",
    "        'NLP': 126,\n",
    "        'Mixed reality': 86,\n",
    "        'Smart glasses':79,\n",
    "        'Extended reality':55,\n",
    "        'Digital twin': 28,\n",
    "        'Virtual environment': 25,\n",
    "        'Digital avatar': 23\n",
    "    },\n",
    "    \n",
    "        'cz': {'Virtual reality': 98,\n",
    "          'Augmented reality': 22,\n",
    "          'Virtual world': 17, \n",
    "          'Digital twin': 8, \n",
    "          'Metaverse': 10, \n",
    "          'Virtual environment': 7, \n",
    "          'Extended reality':6,\n",
    "          'NLP' : 7, \n",
    "          'Digital avatar':2, \n",
    "          'Mixed reality':1},\n",
    "    \n",
    "    \n",
    "}"
   ]
  },
  {
   "cell_type": "code",
   "execution_count": 22,
   "id": "5edcccc3",
   "metadata": {},
   "outputs": [],
   "source": [
    "raw_counts_neurotech = {\n",
    "    'at': {'Thought control':3,\n",
    "           'Cyborg': 2,\n",
    "           'Artificial eye': 1,\n",
    "           'Cognitive enhancement':1,\n",
    "           'Brain chip': 1,\n",
    "           'Brain computer interface':1,\n",
    "           'Human machine interface':1,\n",
    "           'Artificial human':1},\n",
    "    \n",
    "    'cz': {\n",
    "        'Brain implant': 8, \n",
    "        'Artificial uterus': 3,\n",
    "        'Artificial eye': 3, \n",
    "        'Brain chip': 1,\n",
    "        'Cyborg':1,\n",
    "        'Neurotechnology':1\n",
    "    },\n",
    "    \n",
    "    'de' : {\n",
    "        'Neurotechnology':18,\n",
    "        'Thought control': 8,\n",
    "        'Brain chip':10,\n",
    "        'Brain computer interface':7,\n",
    "        'Cyborg': 5,\n",
    "        'Artificial human': 3,\n",
    "        'Cognitive enhancement': 1,\n",
    "        'Neural control':1,\n",
    "        'Brain implant':2\n",
    "    },\n",
    "    \n",
    "    \n",
    "    'es' : {\n",
    "        'Neurotechnology': 8,\n",
    "        'Artificial eye': 2,\n",
    "        'Cognitive enhancement': 1,\n",
    "        'Brain computer interface':1,\n",
    "        'Neural interface': 1, \n",
    "        'Artificial human': 1,\n",
    "        'Artificial uterus':1,\n",
    "        'Brain chip': 1,\n",
    "        'Thought control': 1\n",
    "    },\n",
    "    \n",
    "    \n",
    "    'fr':{ \n",
    "        'Brain computer interface':23,\n",
    "        'Cyborg': 14,\n",
    "        'Brain implant':7,\n",
    "        'Brain chip':6,\n",
    "        'Neurotechnology':6,\n",
    "        'Neuroprosthetics': 3,\n",
    "        'Neural interface':3,\n",
    "        'Artificial human': 2,\n",
    "        'Artificial brain': 2,\n",
    "        'Neuromorphic engineering': 1,\n",
    "        'Brain to brain': 1,\n",
    "        'Artificial organ':1,\n",
    "        'Artificial uterus':1,\n",
    "        'Thought control':1\n",
    "    \n",
    "    },\n",
    "    \n",
    "    \n",
    "    'gb':{\n",
    "        'Brain computer interface': 36,\n",
    "        'Cyborg': 19,\n",
    "        'Neurotechnology':17,\n",
    "        'Brain implant': 15,\n",
    "        'Neural interface': 9,\n",
    "        'Neuroprosthetics':10,\n",
    "        'Brain chip':8,\n",
    "        'Artificial eye':8,\n",
    "        'Neuromorphic engineering':4,\n",
    "        'Cognitive enhancement':4,\n",
    "        'Neural control':4,\n",
    "        'Artificial human': 4,\n",
    "        'Artificial organ':3,\n",
    "        'Transcranial electrical stimulation': 1,\n",
    "        'Artificial brain':1,\n",
    "        'Thought control':1\n",
    "    },\n",
    "    \n",
    "    'ie' : {\n",
    "        'Brain chip': 10,\n",
    "        'Brain implant':8,\n",
    "        'Brain computer interface': 7,\n",
    "        'Cyborg':6,\n",
    "        'Neurotechnology':1,\n",
    "        'Neuromorphic engineering': 1,\n",
    "        'Cognitive enhancement':1,\n",
    "        'Brain to brain':1,\n",
    "        'Artificial eye':1\n",
    "    },\n",
    "    \n",
    "    'it':{\n",
    "        'Cyborg': 16,\n",
    "        'Neural interface': 7,\n",
    "        'Brain implant': 7,\n",
    "        'Artificial organ':3,\n",
    "        'Brain chip': 3,\n",
    "        'Neuromorphic engineering':2,\n",
    "        'Artificial brain':2,\n",
    "        'Artificial uterus':2,\n",
    "        'Artificial eye':2,\n",
    "        'Neurotechnology':4,\n",
    "        'Artificial human':1,\n",
    "        'Cognitive enhancement':1\n",
    "    },\n",
    "    \n",
    "    'nl':{'Cyborg':2, 'Brain implant':1},\n",
    "    \n",
    "    'ro':{\n",
    "        'Cyborg':5,\n",
    "        'Brain chip':4,\n",
    "        'Neurotechnology':5,\n",
    "        'Brain computer interaction':4,\n",
    "        'Artificial uterus':3,\n",
    "        'Cognitive enhancement':2,\n",
    "        'Artificial eye':1,\n",
    "        'Neural interface':1,\n",
    "        'Transcranial electrical stimulation':1,\n",
    "        'Artificial brain':1,\n",
    "    },\n",
    "    \n",
    "    'rs':{\n",
    "        'Brain to brain':3,\n",
    "        'Brain implant':2,\n",
    "        'Brain chip':2,\n",
    "        'Cyborg':1,\n",
    "        'Artificial human':1\n",
    "    },\n",
    "    \n",
    "    'se': {\n",
    "        'Cyborg': 7,\n",
    "        'Thought control': 4, \n",
    "        'Artificial uterus':1\n",
    "    },\n",
    "    \n",
    "    \n",
    "    'us':{\n",
    "        \n",
    "        'Brain computer interface': 70,\n",
    "        'Neurotechnology': 51,\n",
    "        'Brain implant':43,\n",
    "        'Neural interface':36,\n",
    "        'Brain chip':36,\n",
    "        'Cyborg': 27,\n",
    "        'Neuromorphic engineering':25,\n",
    "        'Neuroprosthetics': 8,\n",
    "        'Artificial human': 8,\n",
    "        'Thought control': 7,\n",
    "        'Artificial brain':6,\n",
    "        'Brain to brain': 5,\n",
    "        'Cognitive enhancement':4,\n",
    "        'Artificial uterus': 3,\n",
    " 'Artificial eye':3,\n",
    " 'Neural control': 2,\n",
    " 'Transcranial electrical stimulation': 2,\n",
    " 'Artificial synapsis': 1,\n",
    " 'Cognitive enhancement': 1,\n",
    " 'Artificial organ' :1\n",
    "    }\n",
    "    \n",
    "    \n",
    "    \n",
    "    \n",
    "}"
   ]
  },
  {
   "cell_type": "code",
   "execution_count": 894,
   "id": "5d0aeace",
   "metadata": {},
   "outputs": [
    {
     "data": {
      "application/vnd.plotly.v1+json": {
       "config": {
        "plotlyServerURL": "https://plot.ly"
       },
       "data": [
        {
         "orientation": "v",
         "type": "bar",
         "x": [
          "Reforestación",
          "Deforestación",
          "Parasol",
          "Captura De Carbono",
          "Almacenamiento De Carbono",
          "Ingeniería",
          "Emisión De Gas De Efecto Invernadero",
          "Uso De Carbón",
          "Captura Directo De Aire",
          "Siembra De Nube",
          "Geoingeniería",
          "Tecnología De Emisión Negativo",
          "Ingeniería Climático",
          "Presión De Radiación Solar"
         ],
         "y": [
          58,
          14,
          12,
          10,
          6,
          6,
          5,
          3,
          2,
          2,
          1,
          1,
          1,
          1
         ]
        }
       ],
       "layout": {
        "template": {
         "data": {
          "bar": [
           {
            "error_x": {
             "color": "#2a3f5f"
            },
            "error_y": {
             "color": "#2a3f5f"
            },
            "marker": {
             "line": {
              "color": "#E5ECF6",
              "width": 0.5
             },
             "pattern": {
              "fillmode": "overlay",
              "size": 10,
              "solidity": 0.2
             }
            },
            "type": "bar"
           }
          ],
          "barpolar": [
           {
            "marker": {
             "line": {
              "color": "#E5ECF6",
              "width": 0.5
             },
             "pattern": {
              "fillmode": "overlay",
              "size": 10,
              "solidity": 0.2
             }
            },
            "type": "barpolar"
           }
          ],
          "carpet": [
           {
            "aaxis": {
             "endlinecolor": "#2a3f5f",
             "gridcolor": "white",
             "linecolor": "white",
             "minorgridcolor": "white",
             "startlinecolor": "#2a3f5f"
            },
            "baxis": {
             "endlinecolor": "#2a3f5f",
             "gridcolor": "white",
             "linecolor": "white",
             "minorgridcolor": "white",
             "startlinecolor": "#2a3f5f"
            },
            "type": "carpet"
           }
          ],
          "choropleth": [
           {
            "colorbar": {
             "outlinewidth": 0,
             "ticks": ""
            },
            "type": "choropleth"
           }
          ],
          "contour": [
           {
            "colorbar": {
             "outlinewidth": 0,
             "ticks": ""
            },
            "colorscale": [
             [
              0,
              "#0d0887"
             ],
             [
              0.1111111111111111,
              "#46039f"
             ],
             [
              0.2222222222222222,
              "#7201a8"
             ],
             [
              0.3333333333333333,
              "#9c179e"
             ],
             [
              0.4444444444444444,
              "#bd3786"
             ],
             [
              0.5555555555555556,
              "#d8576b"
             ],
             [
              0.6666666666666666,
              "#ed7953"
             ],
             [
              0.7777777777777778,
              "#fb9f3a"
             ],
             [
              0.8888888888888888,
              "#fdca26"
             ],
             [
              1,
              "#f0f921"
             ]
            ],
            "type": "contour"
           }
          ],
          "contourcarpet": [
           {
            "colorbar": {
             "outlinewidth": 0,
             "ticks": ""
            },
            "type": "contourcarpet"
           }
          ],
          "heatmap": [
           {
            "colorbar": {
             "outlinewidth": 0,
             "ticks": ""
            },
            "colorscale": [
             [
              0,
              "#0d0887"
             ],
             [
              0.1111111111111111,
              "#46039f"
             ],
             [
              0.2222222222222222,
              "#7201a8"
             ],
             [
              0.3333333333333333,
              "#9c179e"
             ],
             [
              0.4444444444444444,
              "#bd3786"
             ],
             [
              0.5555555555555556,
              "#d8576b"
             ],
             [
              0.6666666666666666,
              "#ed7953"
             ],
             [
              0.7777777777777778,
              "#fb9f3a"
             ],
             [
              0.8888888888888888,
              "#fdca26"
             ],
             [
              1,
              "#f0f921"
             ]
            ],
            "type": "heatmap"
           }
          ],
          "heatmapgl": [
           {
            "colorbar": {
             "outlinewidth": 0,
             "ticks": ""
            },
            "colorscale": [
             [
              0,
              "#0d0887"
             ],
             [
              0.1111111111111111,
              "#46039f"
             ],
             [
              0.2222222222222222,
              "#7201a8"
             ],
             [
              0.3333333333333333,
              "#9c179e"
             ],
             [
              0.4444444444444444,
              "#bd3786"
             ],
             [
              0.5555555555555556,
              "#d8576b"
             ],
             [
              0.6666666666666666,
              "#ed7953"
             ],
             [
              0.7777777777777778,
              "#fb9f3a"
             ],
             [
              0.8888888888888888,
              "#fdca26"
             ],
             [
              1,
              "#f0f921"
             ]
            ],
            "type": "heatmapgl"
           }
          ],
          "histogram": [
           {
            "marker": {
             "pattern": {
              "fillmode": "overlay",
              "size": 10,
              "solidity": 0.2
             }
            },
            "type": "histogram"
           }
          ],
          "histogram2d": [
           {
            "colorbar": {
             "outlinewidth": 0,
             "ticks": ""
            },
            "colorscale": [
             [
              0,
              "#0d0887"
             ],
             [
              0.1111111111111111,
              "#46039f"
             ],
             [
              0.2222222222222222,
              "#7201a8"
             ],
             [
              0.3333333333333333,
              "#9c179e"
             ],
             [
              0.4444444444444444,
              "#bd3786"
             ],
             [
              0.5555555555555556,
              "#d8576b"
             ],
             [
              0.6666666666666666,
              "#ed7953"
             ],
             [
              0.7777777777777778,
              "#fb9f3a"
             ],
             [
              0.8888888888888888,
              "#fdca26"
             ],
             [
              1,
              "#f0f921"
             ]
            ],
            "type": "histogram2d"
           }
          ],
          "histogram2dcontour": [
           {
            "colorbar": {
             "outlinewidth": 0,
             "ticks": ""
            },
            "colorscale": [
             [
              0,
              "#0d0887"
             ],
             [
              0.1111111111111111,
              "#46039f"
             ],
             [
              0.2222222222222222,
              "#7201a8"
             ],
             [
              0.3333333333333333,
              "#9c179e"
             ],
             [
              0.4444444444444444,
              "#bd3786"
             ],
             [
              0.5555555555555556,
              "#d8576b"
             ],
             [
              0.6666666666666666,
              "#ed7953"
             ],
             [
              0.7777777777777778,
              "#fb9f3a"
             ],
             [
              0.8888888888888888,
              "#fdca26"
             ],
             [
              1,
              "#f0f921"
             ]
            ],
            "type": "histogram2dcontour"
           }
          ],
          "mesh3d": [
           {
            "colorbar": {
             "outlinewidth": 0,
             "ticks": ""
            },
            "type": "mesh3d"
           }
          ],
          "parcoords": [
           {
            "line": {
             "colorbar": {
              "outlinewidth": 0,
              "ticks": ""
             }
            },
            "type": "parcoords"
           }
          ],
          "pie": [
           {
            "automargin": true,
            "type": "pie"
           }
          ],
          "scatter": [
           {
            "marker": {
             "colorbar": {
              "outlinewidth": 0,
              "ticks": ""
             }
            },
            "type": "scatter"
           }
          ],
          "scatter3d": [
           {
            "line": {
             "colorbar": {
              "outlinewidth": 0,
              "ticks": ""
             }
            },
            "marker": {
             "colorbar": {
              "outlinewidth": 0,
              "ticks": ""
             }
            },
            "type": "scatter3d"
           }
          ],
          "scattercarpet": [
           {
            "marker": {
             "colorbar": {
              "outlinewidth": 0,
              "ticks": ""
             }
            },
            "type": "scattercarpet"
           }
          ],
          "scattergeo": [
           {
            "marker": {
             "colorbar": {
              "outlinewidth": 0,
              "ticks": ""
             }
            },
            "type": "scattergeo"
           }
          ],
          "scattergl": [
           {
            "marker": {
             "colorbar": {
              "outlinewidth": 0,
              "ticks": ""
             }
            },
            "type": "scattergl"
           }
          ],
          "scattermapbox": [
           {
            "marker": {
             "colorbar": {
              "outlinewidth": 0,
              "ticks": ""
             }
            },
            "type": "scattermapbox"
           }
          ],
          "scatterpolar": [
           {
            "marker": {
             "colorbar": {
              "outlinewidth": 0,
              "ticks": ""
             }
            },
            "type": "scatterpolar"
           }
          ],
          "scatterpolargl": [
           {
            "marker": {
             "colorbar": {
              "outlinewidth": 0,
              "ticks": ""
             }
            },
            "type": "scatterpolargl"
           }
          ],
          "scatterternary": [
           {
            "marker": {
             "colorbar": {
              "outlinewidth": 0,
              "ticks": ""
             }
            },
            "type": "scatterternary"
           }
          ],
          "surface": [
           {
            "colorbar": {
             "outlinewidth": 0,
             "ticks": ""
            },
            "colorscale": [
             [
              0,
              "#0d0887"
             ],
             [
              0.1111111111111111,
              "#46039f"
             ],
             [
              0.2222222222222222,
              "#7201a8"
             ],
             [
              0.3333333333333333,
              "#9c179e"
             ],
             [
              0.4444444444444444,
              "#bd3786"
             ],
             [
              0.5555555555555556,
              "#d8576b"
             ],
             [
              0.6666666666666666,
              "#ed7953"
             ],
             [
              0.7777777777777778,
              "#fb9f3a"
             ],
             [
              0.8888888888888888,
              "#fdca26"
             ],
             [
              1,
              "#f0f921"
             ]
            ],
            "type": "surface"
           }
          ],
          "table": [
           {
            "cells": {
             "fill": {
              "color": "#EBF0F8"
             },
             "line": {
              "color": "white"
             }
            },
            "header": {
             "fill": {
              "color": "#C8D4E3"
             },
             "line": {
              "color": "white"
             }
            },
            "type": "table"
           }
          ]
         },
         "layout": {
          "annotationdefaults": {
           "arrowcolor": "#2a3f5f",
           "arrowhead": 0,
           "arrowwidth": 1
          },
          "autotypenumbers": "strict",
          "coloraxis": {
           "colorbar": {
            "outlinewidth": 0,
            "ticks": ""
           }
          },
          "colorscale": {
           "diverging": [
            [
             0,
             "#8e0152"
            ],
            [
             0.1,
             "#c51b7d"
            ],
            [
             0.2,
             "#de77ae"
            ],
            [
             0.3,
             "#f1b6da"
            ],
            [
             0.4,
             "#fde0ef"
            ],
            [
             0.5,
             "#f7f7f7"
            ],
            [
             0.6,
             "#e6f5d0"
            ],
            [
             0.7,
             "#b8e186"
            ],
            [
             0.8,
             "#7fbc41"
            ],
            [
             0.9,
             "#4d9221"
            ],
            [
             1,
             "#276419"
            ]
           ],
           "sequential": [
            [
             0,
             "#0d0887"
            ],
            [
             0.1111111111111111,
             "#46039f"
            ],
            [
             0.2222222222222222,
             "#7201a8"
            ],
            [
             0.3333333333333333,
             "#9c179e"
            ],
            [
             0.4444444444444444,
             "#bd3786"
            ],
            [
             0.5555555555555556,
             "#d8576b"
            ],
            [
             0.6666666666666666,
             "#ed7953"
            ],
            [
             0.7777777777777778,
             "#fb9f3a"
            ],
            [
             0.8888888888888888,
             "#fdca26"
            ],
            [
             1,
             "#f0f921"
            ]
           ],
           "sequentialminus": [
            [
             0,
             "#0d0887"
            ],
            [
             0.1111111111111111,
             "#46039f"
            ],
            [
             0.2222222222222222,
             "#7201a8"
            ],
            [
             0.3333333333333333,
             "#9c179e"
            ],
            [
             0.4444444444444444,
             "#bd3786"
            ],
            [
             0.5555555555555556,
             "#d8576b"
            ],
            [
             0.6666666666666666,
             "#ed7953"
            ],
            [
             0.7777777777777778,
             "#fb9f3a"
            ],
            [
             0.8888888888888888,
             "#fdca26"
            ],
            [
             1,
             "#f0f921"
            ]
           ]
          },
          "colorway": [
           "#636efa",
           "#EF553B",
           "#00cc96",
           "#ab63fa",
           "#FFA15A",
           "#19d3f3",
           "#FF6692",
           "#B6E880",
           "#FF97FF",
           "#FECB52"
          ],
          "font": {
           "color": "#2a3f5f"
          },
          "geo": {
           "bgcolor": "white",
           "lakecolor": "white",
           "landcolor": "#E5ECF6",
           "showlakes": true,
           "showland": true,
           "subunitcolor": "white"
          },
          "hoverlabel": {
           "align": "left"
          },
          "hovermode": "closest",
          "mapbox": {
           "style": "light"
          },
          "paper_bgcolor": "white",
          "plot_bgcolor": "#E5ECF6",
          "polar": {
           "angularaxis": {
            "gridcolor": "white",
            "linecolor": "white",
            "ticks": ""
           },
           "bgcolor": "#E5ECF6",
           "radialaxis": {
            "gridcolor": "white",
            "linecolor": "white",
            "ticks": ""
           }
          },
          "scene": {
           "xaxis": {
            "backgroundcolor": "#E5ECF6",
            "gridcolor": "white",
            "gridwidth": 2,
            "linecolor": "white",
            "showbackground": true,
            "ticks": "",
            "zerolinecolor": "white"
           },
           "yaxis": {
            "backgroundcolor": "#E5ECF6",
            "gridcolor": "white",
            "gridwidth": 2,
            "linecolor": "white",
            "showbackground": true,
            "ticks": "",
            "zerolinecolor": "white"
           },
           "zaxis": {
            "backgroundcolor": "#E5ECF6",
            "gridcolor": "white",
            "gridwidth": 2,
            "linecolor": "white",
            "showbackground": true,
            "ticks": "",
            "zerolinecolor": "white"
           }
          },
          "shapedefaults": {
           "line": {
            "color": "#2a3f5f"
           }
          },
          "ternary": {
           "aaxis": {
            "gridcolor": "white",
            "linecolor": "white",
            "ticks": ""
           },
           "baxis": {
            "gridcolor": "white",
            "linecolor": "white",
            "ticks": ""
           },
           "bgcolor": "#E5ECF6",
           "caxis": {
            "gridcolor": "white",
            "linecolor": "white",
            "ticks": ""
           }
          },
          "title": {
           "x": 0.05
          },
          "xaxis": {
           "automargin": true,
           "gridcolor": "white",
           "linecolor": "white",
           "ticks": "",
           "title": {
            "standoff": 15
           },
           "zerolinecolor": "white",
           "zerolinewidth": 2
          },
          "yaxis": {
           "automargin": true,
           "gridcolor": "white",
           "linecolor": "white",
           "ticks": "",
           "title": {
            "standoff": 15
           },
           "zerolinecolor": "white",
           "zerolinewidth": 2
          }
         }
        },
        "title": {
         "text": "Found keywords counts - kw - climate (Spain)",
         "x": 0.5,
         "xanchor": "center",
         "y": 0.95,
         "yanchor": "top"
        },
        "xaxis": {
         "title": {
          "text": "Keyword"
         },
         "type": "category"
        },
        "yaxis": {
         "tickformat": ",d",
         "title": {
          "text": "N matches"
         }
        }
       }
      },
      "text/html": [
       "<div>                            <div id=\"69666f8f-e69d-40dc-92a3-9bb2a634c96c\" class=\"plotly-graph-div\" style=\"height:525px; width:100%;\"></div>            <script type=\"text/javascript\">                require([\"plotly\"], function(Plotly) {                    window.PLOTLYENV=window.PLOTLYENV || {};                                    if (document.getElementById(\"69666f8f-e69d-40dc-92a3-9bb2a634c96c\")) {                    Plotly.newPlot(                        \"69666f8f-e69d-40dc-92a3-9bb2a634c96c\",                        [{\"orientation\":\"v\",\"type\":\"bar\",\"x\":[\"Reforestación\",\"Deforestación\",\"Parasol\",\"Captura De Carbono\",\"Almacenamiento De Carbono\",\"Ingeniería\",\"Emisión De Gas De Efecto Invernadero\",\"Uso De Carbón\",\"Captura Directo De Aire\",\"Siembra De Nube\",\"Geoingeniería\",\"Tecnología De Emisión Negativo\",\"Ingeniería Climático\",\"Presión De Radiación Solar\"],\"y\":[58,14,12,10,6,6,5,3,2,2,1,1,1,1]}],                        {\"template\":{\"data\":{\"bar\":[{\"error_x\":{\"color\":\"#2a3f5f\"},\"error_y\":{\"color\":\"#2a3f5f\"},\"marker\":{\"line\":{\"color\":\"#E5ECF6\",\"width\":0.5},\"pattern\":{\"fillmode\":\"overlay\",\"size\":10,\"solidity\":0.2}},\"type\":\"bar\"}],\"barpolar\":[{\"marker\":{\"line\":{\"color\":\"#E5ECF6\",\"width\":0.5},\"pattern\":{\"fillmode\":\"overlay\",\"size\":10,\"solidity\":0.2}},\"type\":\"barpolar\"}],\"carpet\":[{\"aaxis\":{\"endlinecolor\":\"#2a3f5f\",\"gridcolor\":\"white\",\"linecolor\":\"white\",\"minorgridcolor\":\"white\",\"startlinecolor\":\"#2a3f5f\"},\"baxis\":{\"endlinecolor\":\"#2a3f5f\",\"gridcolor\":\"white\",\"linecolor\":\"white\",\"minorgridcolor\":\"white\",\"startlinecolor\":\"#2a3f5f\"},\"type\":\"carpet\"}],\"choropleth\":[{\"colorbar\":{\"outlinewidth\":0,\"ticks\":\"\"},\"type\":\"choropleth\"}],\"contour\":[{\"colorbar\":{\"outlinewidth\":0,\"ticks\":\"\"},\"colorscale\":[[0.0,\"#0d0887\"],[0.1111111111111111,\"#46039f\"],[0.2222222222222222,\"#7201a8\"],[0.3333333333333333,\"#9c179e\"],[0.4444444444444444,\"#bd3786\"],[0.5555555555555556,\"#d8576b\"],[0.6666666666666666,\"#ed7953\"],[0.7777777777777778,\"#fb9f3a\"],[0.8888888888888888,\"#fdca26\"],[1.0,\"#f0f921\"]],\"type\":\"contour\"}],\"contourcarpet\":[{\"colorbar\":{\"outlinewidth\":0,\"ticks\":\"\"},\"type\":\"contourcarpet\"}],\"heatmap\":[{\"colorbar\":{\"outlinewidth\":0,\"ticks\":\"\"},\"colorscale\":[[0.0,\"#0d0887\"],[0.1111111111111111,\"#46039f\"],[0.2222222222222222,\"#7201a8\"],[0.3333333333333333,\"#9c179e\"],[0.4444444444444444,\"#bd3786\"],[0.5555555555555556,\"#d8576b\"],[0.6666666666666666,\"#ed7953\"],[0.7777777777777778,\"#fb9f3a\"],[0.8888888888888888,\"#fdca26\"],[1.0,\"#f0f921\"]],\"type\":\"heatmap\"}],\"heatmapgl\":[{\"colorbar\":{\"outlinewidth\":0,\"ticks\":\"\"},\"colorscale\":[[0.0,\"#0d0887\"],[0.1111111111111111,\"#46039f\"],[0.2222222222222222,\"#7201a8\"],[0.3333333333333333,\"#9c179e\"],[0.4444444444444444,\"#bd3786\"],[0.5555555555555556,\"#d8576b\"],[0.6666666666666666,\"#ed7953\"],[0.7777777777777778,\"#fb9f3a\"],[0.8888888888888888,\"#fdca26\"],[1.0,\"#f0f921\"]],\"type\":\"heatmapgl\"}],\"histogram\":[{\"marker\":{\"pattern\":{\"fillmode\":\"overlay\",\"size\":10,\"solidity\":0.2}},\"type\":\"histogram\"}],\"histogram2d\":[{\"colorbar\":{\"outlinewidth\":0,\"ticks\":\"\"},\"colorscale\":[[0.0,\"#0d0887\"],[0.1111111111111111,\"#46039f\"],[0.2222222222222222,\"#7201a8\"],[0.3333333333333333,\"#9c179e\"],[0.4444444444444444,\"#bd3786\"],[0.5555555555555556,\"#d8576b\"],[0.6666666666666666,\"#ed7953\"],[0.7777777777777778,\"#fb9f3a\"],[0.8888888888888888,\"#fdca26\"],[1.0,\"#f0f921\"]],\"type\":\"histogram2d\"}],\"histogram2dcontour\":[{\"colorbar\":{\"outlinewidth\":0,\"ticks\":\"\"},\"colorscale\":[[0.0,\"#0d0887\"],[0.1111111111111111,\"#46039f\"],[0.2222222222222222,\"#7201a8\"],[0.3333333333333333,\"#9c179e\"],[0.4444444444444444,\"#bd3786\"],[0.5555555555555556,\"#d8576b\"],[0.6666666666666666,\"#ed7953\"],[0.7777777777777778,\"#fb9f3a\"],[0.8888888888888888,\"#fdca26\"],[1.0,\"#f0f921\"]],\"type\":\"histogram2dcontour\"}],\"mesh3d\":[{\"colorbar\":{\"outlinewidth\":0,\"ticks\":\"\"},\"type\":\"mesh3d\"}],\"parcoords\":[{\"line\":{\"colorbar\":{\"outlinewidth\":0,\"ticks\":\"\"}},\"type\":\"parcoords\"}],\"pie\":[{\"automargin\":true,\"type\":\"pie\"}],\"scatter\":[{\"marker\":{\"colorbar\":{\"outlinewidth\":0,\"ticks\":\"\"}},\"type\":\"scatter\"}],\"scatter3d\":[{\"line\":{\"colorbar\":{\"outlinewidth\":0,\"ticks\":\"\"}},\"marker\":{\"colorbar\":{\"outlinewidth\":0,\"ticks\":\"\"}},\"type\":\"scatter3d\"}],\"scattercarpet\":[{\"marker\":{\"colorbar\":{\"outlinewidth\":0,\"ticks\":\"\"}},\"type\":\"scattercarpet\"}],\"scattergeo\":[{\"marker\":{\"colorbar\":{\"outlinewidth\":0,\"ticks\":\"\"}},\"type\":\"scattergeo\"}],\"scattergl\":[{\"marker\":{\"colorbar\":{\"outlinewidth\":0,\"ticks\":\"\"}},\"type\":\"scattergl\"}],\"scattermapbox\":[{\"marker\":{\"colorbar\":{\"outlinewidth\":0,\"ticks\":\"\"}},\"type\":\"scattermapbox\"}],\"scatterpolar\":[{\"marker\":{\"colorbar\":{\"outlinewidth\":0,\"ticks\":\"\"}},\"type\":\"scatterpolar\"}],\"scatterpolargl\":[{\"marker\":{\"colorbar\":{\"outlinewidth\":0,\"ticks\":\"\"}},\"type\":\"scatterpolargl\"}],\"scatterternary\":[{\"marker\":{\"colorbar\":{\"outlinewidth\":0,\"ticks\":\"\"}},\"type\":\"scatterternary\"}],\"surface\":[{\"colorbar\":{\"outlinewidth\":0,\"ticks\":\"\"},\"colorscale\":[[0.0,\"#0d0887\"],[0.1111111111111111,\"#46039f\"],[0.2222222222222222,\"#7201a8\"],[0.3333333333333333,\"#9c179e\"],[0.4444444444444444,\"#bd3786\"],[0.5555555555555556,\"#d8576b\"],[0.6666666666666666,\"#ed7953\"],[0.7777777777777778,\"#fb9f3a\"],[0.8888888888888888,\"#fdca26\"],[1.0,\"#f0f921\"]],\"type\":\"surface\"}],\"table\":[{\"cells\":{\"fill\":{\"color\":\"#EBF0F8\"},\"line\":{\"color\":\"white\"}},\"header\":{\"fill\":{\"color\":\"#C8D4E3\"},\"line\":{\"color\":\"white\"}},\"type\":\"table\"}]},\"layout\":{\"annotationdefaults\":{\"arrowcolor\":\"#2a3f5f\",\"arrowhead\":0,\"arrowwidth\":1},\"autotypenumbers\":\"strict\",\"coloraxis\":{\"colorbar\":{\"outlinewidth\":0,\"ticks\":\"\"}},\"colorscale\":{\"diverging\":[[0,\"#8e0152\"],[0.1,\"#c51b7d\"],[0.2,\"#de77ae\"],[0.3,\"#f1b6da\"],[0.4,\"#fde0ef\"],[0.5,\"#f7f7f7\"],[0.6,\"#e6f5d0\"],[0.7,\"#b8e186\"],[0.8,\"#7fbc41\"],[0.9,\"#4d9221\"],[1,\"#276419\"]],\"sequential\":[[0.0,\"#0d0887\"],[0.1111111111111111,\"#46039f\"],[0.2222222222222222,\"#7201a8\"],[0.3333333333333333,\"#9c179e\"],[0.4444444444444444,\"#bd3786\"],[0.5555555555555556,\"#d8576b\"],[0.6666666666666666,\"#ed7953\"],[0.7777777777777778,\"#fb9f3a\"],[0.8888888888888888,\"#fdca26\"],[1.0,\"#f0f921\"]],\"sequentialminus\":[[0.0,\"#0d0887\"],[0.1111111111111111,\"#46039f\"],[0.2222222222222222,\"#7201a8\"],[0.3333333333333333,\"#9c179e\"],[0.4444444444444444,\"#bd3786\"],[0.5555555555555556,\"#d8576b\"],[0.6666666666666666,\"#ed7953\"],[0.7777777777777778,\"#fb9f3a\"],[0.8888888888888888,\"#fdca26\"],[1.0,\"#f0f921\"]]},\"colorway\":[\"#636efa\",\"#EF553B\",\"#00cc96\",\"#ab63fa\",\"#FFA15A\",\"#19d3f3\",\"#FF6692\",\"#B6E880\",\"#FF97FF\",\"#FECB52\"],\"font\":{\"color\":\"#2a3f5f\"},\"geo\":{\"bgcolor\":\"white\",\"lakecolor\":\"white\",\"landcolor\":\"#E5ECF6\",\"showlakes\":true,\"showland\":true,\"subunitcolor\":\"white\"},\"hoverlabel\":{\"align\":\"left\"},\"hovermode\":\"closest\",\"mapbox\":{\"style\":\"light\"},\"paper_bgcolor\":\"white\",\"plot_bgcolor\":\"#E5ECF6\",\"polar\":{\"angularaxis\":{\"gridcolor\":\"white\",\"linecolor\":\"white\",\"ticks\":\"\"},\"bgcolor\":\"#E5ECF6\",\"radialaxis\":{\"gridcolor\":\"white\",\"linecolor\":\"white\",\"ticks\":\"\"}},\"scene\":{\"xaxis\":{\"backgroundcolor\":\"#E5ECF6\",\"gridcolor\":\"white\",\"gridwidth\":2,\"linecolor\":\"white\",\"showbackground\":true,\"ticks\":\"\",\"zerolinecolor\":\"white\"},\"yaxis\":{\"backgroundcolor\":\"#E5ECF6\",\"gridcolor\":\"white\",\"gridwidth\":2,\"linecolor\":\"white\",\"showbackground\":true,\"ticks\":\"\",\"zerolinecolor\":\"white\"},\"zaxis\":{\"backgroundcolor\":\"#E5ECF6\",\"gridcolor\":\"white\",\"gridwidth\":2,\"linecolor\":\"white\",\"showbackground\":true,\"ticks\":\"\",\"zerolinecolor\":\"white\"}},\"shapedefaults\":{\"line\":{\"color\":\"#2a3f5f\"}},\"ternary\":{\"aaxis\":{\"gridcolor\":\"white\",\"linecolor\":\"white\",\"ticks\":\"\"},\"baxis\":{\"gridcolor\":\"white\",\"linecolor\":\"white\",\"ticks\":\"\"},\"bgcolor\":\"#E5ECF6\",\"caxis\":{\"gridcolor\":\"white\",\"linecolor\":\"white\",\"ticks\":\"\"}},\"title\":{\"x\":0.05},\"xaxis\":{\"automargin\":true,\"gridcolor\":\"white\",\"linecolor\":\"white\",\"ticks\":\"\",\"title\":{\"standoff\":15},\"zerolinecolor\":\"white\",\"zerolinewidth\":2},\"yaxis\":{\"automargin\":true,\"gridcolor\":\"white\",\"linecolor\":\"white\",\"ticks\":\"\",\"title\":{\"standoff\":15},\"zerolinecolor\":\"white\",\"zerolinewidth\":2}}},\"title\":{\"text\":\"Found keywords counts - kw - climate (Spain)\",\"x\":0.5,\"xanchor\":\"center\",\"y\":0.95,\"yanchor\":\"top\"},\"xaxis\":{\"title\":{\"text\":\"Keyword\"},\"type\":\"category\"},\"yaxis\":{\"tickformat\":\",d\",\"title\":{\"text\":\"N matches\"}}},                        {\"responsive\": true}                    ).then(function(){\n",
       "                            \n",
       "var gd = document.getElementById('69666f8f-e69d-40dc-92a3-9bb2a634c96c');\n",
       "var x = new MutationObserver(function (mutations, observer) {{\n",
       "        var display = window.getComputedStyle(gd).display;\n",
       "        if (!display || display === 'none') {{\n",
       "            console.log([gd, 'removed!']);\n",
       "            Plotly.purge(gd);\n",
       "            observer.disconnect();\n",
       "        }}\n",
       "}});\n",
       "\n",
       "// Listen for the removal of the full notebook cells\n",
       "var notebookContainer = gd.closest('#notebook-container');\n",
       "if (notebookContainer) {{\n",
       "    x.observe(notebookContainer, {childList: true});\n",
       "}}\n",
       "\n",
       "// Listen for the clearing of the current output cell\n",
       "var outputEl = gd.closest('.output');\n",
       "if (outputEl) {{\n",
       "    x.observe(outputEl, {childList: true});\n",
       "}}\n",
       "\n",
       "                        })                };                });            </script>        </div>"
      ]
     },
     "metadata": {},
     "output_type": "display_data"
    }
   ],
   "source": [
    "c = 'es'#countries[12]\n",
    "t = 'climate'\n",
    "dftmp = df_all[df_all.country==c]\n",
    "alias = aliases[c]\n",
    "xx, yy, cc = plot_kw_matches_counts(dftmp, 'kw_matches', countries_dict[c]['name'], c, t, PATH_MAIN, nw=14,\n",
    "                           orient='v',aliases_dict=alias,save=False, ethics =False)\n",
    "  "
   ]
  },
  {
   "cell_type": "code",
   "execution_count": 80,
   "id": "a2704499",
   "metadata": {},
   "outputs": [],
   "source": [
    "# topic-specific params\n",
    "raw_counts = raw_counts_neurotech\n",
    "t = 'neurotech'\n",
    "topics_col = {'climate':'Greens', 'digitalxr' : 'Blues', 'neurotech' : 'Oranges'}\n",
    "t_col = topics_col[t]"
   ]
  },
  {
   "cell_type": "code",
   "execution_count": 81,
   "id": "76029bd5",
   "metadata": {},
   "outputs": [],
   "source": [
    "# create header\n",
    "header = []\n",
    "for c in raw_counts.keys():\n",
    "    w = list(raw_counts[c].keys())\n",
    "    header = header + w\n",
    "    \n",
    "header = list(set(header))\n",
    "\n",
    "# add same keys for each country \n",
    "for c in raw_counts.keys():\n",
    "    for w in header:\n",
    "        if w not in list(raw_counts[c].keys()):\n",
    "            raw_counts[c][w] = 0\n",
    "            \n",
    "# create df rows\n",
    "hmp = []\n",
    "row_id = []\n",
    "for c in raw_counts.keys():\n",
    "    row = []\n",
    "    row_id.append(c)\n",
    "    denom = sum(raw_counts[c].values())\n",
    "    for w in header:\n",
    "        #row.append(raw_counts_digitalxr[c][w]/len(df_all[(df_all.country==c) & (df_all.topic=='digitalxr')]))\n",
    "        # normalise counts\n",
    "        row.append(raw_counts[c][w]/denom*100)\n",
    "    hmp.append(row)\n",
    "\n",
    "# transpose, add counts across countries, sort\n",
    "hmpt = np.transpose(hmp)\n",
    "hmp_df = pd.DataFrame(hmpt,columns=row_id)\n",
    "hmp_df['counts'] = hmp_df.sum(axis=1)\n",
    "\n",
    "hmp_df['kw'] = header\n",
    "hmp_df = hmp_df.sort_values(by=['counts'], ascending=False)\n",
    "\n",
    "# keep only most frequent to plot\n",
    "hmp_plot = hmp_df[hmp_df['counts']>0.05].reset_index(drop=True)\n",
    "kw = hmp_plot['kw']\n",
    "#hmp_plot = hmp_plot[raw_counts_digitalxr.keys()].values"
   ]
  },
  {
   "cell_type": "code",
   "execution_count": 82,
   "id": "3ed4c2dd",
   "metadata": {},
   "outputs": [
    {
     "data": {
      "application/vnd.plotly.v1+json": {
       "config": {
        "plotlyServerURL": "https://plot.ly"
       },
       "data": [
        {
         "coloraxis": "coloraxis",
         "hovertemplate": "x: %{x}<br>neurotech keywords: %{y}<br>News percentage: %{z}<extra></extra>",
         "name": "0",
         "texttemplate": "%{z}",
         "type": "heatmap",
         "x": [
          "at",
          "cz",
          "de",
          "es",
          "fr",
          "gb",
          "ie",
          "it",
          "nl",
          "ro",
          "rs",
          "se",
          "us"
         ],
         "xaxis": "x",
         "y": [
          "Cyborg",
          "Brain implant",
          "Neurotechnology",
          "Brain chip",
          "Brain computer interface",
          "Thought control",
          "Artificial eye",
          "Artificial uterus",
          "Neural interface",
          "Artificial human",
          "Brain to brain",
          "Cognitive enhancement",
          "Neuromorphic engineering",
          "Brain computer interaction",
          "Neuroprosthetics",
          "Artificial brain",
          "Artificial organ",
          "Human machine interface",
          "Neural control",
          "Transcranial electrical stimulation",
          "Artificial synapsis"
         ],
         "yaxis": "y",
         "z": [
          [
           18.2,
           5.9,
           9.1,
           0,
           19.7,
           13.2,
           16.7,
           32,
           66.7,
           18.5,
           11.1,
           58.3,
           8.1
          ],
          [
           0,
           47.1,
           3.6,
           0,
           9.9,
           10.4,
           22.2,
           14,
           33.3,
           0,
           22.2,
           0,
           12.8
          ],
          [
           0,
           5.9,
           32.7,
           47.1,
           8.5,
           11.8,
           2.8,
           8,
           0,
           18.5,
           0,
           0,
           15.2
          ],
          [
           9.1,
           5.9,
           18.2,
           5.9,
           8.5,
           5.6,
           27.8,
           6,
           0,
           14.8,
           22.2,
           0,
           10.7
          ],
          [
           9.1,
           0,
           12.7,
           5.9,
           32.4,
           25,
           19.4,
           0,
           0,
           0,
           0,
           0,
           20.9
          ],
          [
           27.3,
           0,
           14.5,
           5.9,
           1.4,
           0.7,
           0,
           0,
           0,
           0,
           0,
           33.3,
           2.1
          ],
          [
           9.1,
           17.6,
           0,
           11.8,
           0,
           5.6,
           2.8,
           4,
           0,
           3.7,
           0,
           0,
           0.9
          ],
          [
           0,
           17.6,
           0,
           5.9,
           1.4,
           0,
           0,
           4,
           0,
           11.1,
           0,
           8.3,
           0.9
          ],
          [
           0,
           0,
           0,
           5.9,
           4.2,
           6.2,
           0,
           14,
           0,
           3.7,
           0,
           0,
           10.7
          ],
          [
           9.1,
           0,
           5.5,
           5.9,
           2.8,
           2.8,
           0,
           2,
           0,
           0,
           11.1,
           0,
           2.4
          ],
          [
           0,
           0,
           0,
           0,
           1.4,
           0,
           2.8,
           0,
           0,
           0,
           33.3,
           0,
           1.5
          ],
          [
           9.1,
           0,
           1.8,
           5.9,
           0,
           2.8,
           2.8,
           2,
           0,
           7.4,
           0,
           0,
           0.3
          ],
          [
           0,
           0,
           0,
           0,
           1.4,
           2.8,
           2.8,
           4,
           0,
           0,
           0,
           0,
           7.5
          ],
          [
           0,
           0,
           0,
           0,
           0,
           0,
           0,
           0,
           0,
           14.8,
           0,
           0,
           0
          ],
          [
           0,
           0,
           0,
           0,
           4.2,
           6.9,
           0,
           0,
           0,
           0,
           0,
           0,
           2.4
          ],
          [
           0,
           0,
           0,
           0,
           2.8,
           0.7,
           0,
           4,
           0,
           3.7,
           0,
           0,
           1.8
          ],
          [
           0,
           0,
           0,
           0,
           1.4,
           2.1,
           0,
           6,
           0,
           0,
           0,
           0,
           0.3
          ],
          [
           9.1,
           0,
           0,
           0,
           0,
           0,
           0,
           0,
           0,
           0,
           0,
           0,
           0
          ],
          [
           0,
           0,
           1.8,
           0,
           0,
           2.8,
           0,
           0,
           0,
           0,
           0,
           0,
           0.6
          ],
          [
           0,
           0,
           0,
           0,
           0,
           0.7,
           0,
           0,
           0,
           3.7,
           0,
           0,
           0.6
          ],
          [
           0,
           0,
           0,
           0,
           0,
           0,
           0,
           0,
           0,
           0,
           0,
           0,
           0.3
          ]
         ]
        }
       ],
       "layout": {
        "coloraxis": {
         "colorbar": {
          "title": {
           "text": "News percentage"
          }
         },
         "colorscale": [
          [
           0,
           "rgb(255,245,235)"
          ],
          [
           0.125,
           "rgb(254,230,206)"
          ],
          [
           0.25,
           "rgb(253,208,162)"
          ],
          [
           0.375,
           "rgb(253,174,107)"
          ],
          [
           0.5,
           "rgb(253,141,60)"
          ],
          [
           0.625,
           "rgb(241,105,19)"
          ],
          [
           0.75,
           "rgb(217,72,1)"
          ],
          [
           0.875,
           "rgb(166,54,3)"
          ],
          [
           1,
           "rgb(127,39,4)"
          ]
         ]
        },
        "margin": {
         "t": 60
        },
        "template": {
         "data": {
          "bar": [
           {
            "error_x": {
             "color": "#2a3f5f"
            },
            "error_y": {
             "color": "#2a3f5f"
            },
            "marker": {
             "line": {
              "color": "#E5ECF6",
              "width": 0.5
             },
             "pattern": {
              "fillmode": "overlay",
              "size": 10,
              "solidity": 0.2
             }
            },
            "type": "bar"
           }
          ],
          "barpolar": [
           {
            "marker": {
             "line": {
              "color": "#E5ECF6",
              "width": 0.5
             },
             "pattern": {
              "fillmode": "overlay",
              "size": 10,
              "solidity": 0.2
             }
            },
            "type": "barpolar"
           }
          ],
          "carpet": [
           {
            "aaxis": {
             "endlinecolor": "#2a3f5f",
             "gridcolor": "white",
             "linecolor": "white",
             "minorgridcolor": "white",
             "startlinecolor": "#2a3f5f"
            },
            "baxis": {
             "endlinecolor": "#2a3f5f",
             "gridcolor": "white",
             "linecolor": "white",
             "minorgridcolor": "white",
             "startlinecolor": "#2a3f5f"
            },
            "type": "carpet"
           }
          ],
          "choropleth": [
           {
            "colorbar": {
             "outlinewidth": 0,
             "ticks": ""
            },
            "type": "choropleth"
           }
          ],
          "contour": [
           {
            "colorbar": {
             "outlinewidth": 0,
             "ticks": ""
            },
            "colorscale": [
             [
              0,
              "#0d0887"
             ],
             [
              0.1111111111111111,
              "#46039f"
             ],
             [
              0.2222222222222222,
              "#7201a8"
             ],
             [
              0.3333333333333333,
              "#9c179e"
             ],
             [
              0.4444444444444444,
              "#bd3786"
             ],
             [
              0.5555555555555556,
              "#d8576b"
             ],
             [
              0.6666666666666666,
              "#ed7953"
             ],
             [
              0.7777777777777778,
              "#fb9f3a"
             ],
             [
              0.8888888888888888,
              "#fdca26"
             ],
             [
              1,
              "#f0f921"
             ]
            ],
            "type": "contour"
           }
          ],
          "contourcarpet": [
           {
            "colorbar": {
             "outlinewidth": 0,
             "ticks": ""
            },
            "type": "contourcarpet"
           }
          ],
          "heatmap": [
           {
            "colorbar": {
             "outlinewidth": 0,
             "ticks": ""
            },
            "colorscale": [
             [
              0,
              "#0d0887"
             ],
             [
              0.1111111111111111,
              "#46039f"
             ],
             [
              0.2222222222222222,
              "#7201a8"
             ],
             [
              0.3333333333333333,
              "#9c179e"
             ],
             [
              0.4444444444444444,
              "#bd3786"
             ],
             [
              0.5555555555555556,
              "#d8576b"
             ],
             [
              0.6666666666666666,
              "#ed7953"
             ],
             [
              0.7777777777777778,
              "#fb9f3a"
             ],
             [
              0.8888888888888888,
              "#fdca26"
             ],
             [
              1,
              "#f0f921"
             ]
            ],
            "type": "heatmap"
           }
          ],
          "heatmapgl": [
           {
            "colorbar": {
             "outlinewidth": 0,
             "ticks": ""
            },
            "colorscale": [
             [
              0,
              "#0d0887"
             ],
             [
              0.1111111111111111,
              "#46039f"
             ],
             [
              0.2222222222222222,
              "#7201a8"
             ],
             [
              0.3333333333333333,
              "#9c179e"
             ],
             [
              0.4444444444444444,
              "#bd3786"
             ],
             [
              0.5555555555555556,
              "#d8576b"
             ],
             [
              0.6666666666666666,
              "#ed7953"
             ],
             [
              0.7777777777777778,
              "#fb9f3a"
             ],
             [
              0.8888888888888888,
              "#fdca26"
             ],
             [
              1,
              "#f0f921"
             ]
            ],
            "type": "heatmapgl"
           }
          ],
          "histogram": [
           {
            "marker": {
             "pattern": {
              "fillmode": "overlay",
              "size": 10,
              "solidity": 0.2
             }
            },
            "type": "histogram"
           }
          ],
          "histogram2d": [
           {
            "colorbar": {
             "outlinewidth": 0,
             "ticks": ""
            },
            "colorscale": [
             [
              0,
              "#0d0887"
             ],
             [
              0.1111111111111111,
              "#46039f"
             ],
             [
              0.2222222222222222,
              "#7201a8"
             ],
             [
              0.3333333333333333,
              "#9c179e"
             ],
             [
              0.4444444444444444,
              "#bd3786"
             ],
             [
              0.5555555555555556,
              "#d8576b"
             ],
             [
              0.6666666666666666,
              "#ed7953"
             ],
             [
              0.7777777777777778,
              "#fb9f3a"
             ],
             [
              0.8888888888888888,
              "#fdca26"
             ],
             [
              1,
              "#f0f921"
             ]
            ],
            "type": "histogram2d"
           }
          ],
          "histogram2dcontour": [
           {
            "colorbar": {
             "outlinewidth": 0,
             "ticks": ""
            },
            "colorscale": [
             [
              0,
              "#0d0887"
             ],
             [
              0.1111111111111111,
              "#46039f"
             ],
             [
              0.2222222222222222,
              "#7201a8"
             ],
             [
              0.3333333333333333,
              "#9c179e"
             ],
             [
              0.4444444444444444,
              "#bd3786"
             ],
             [
              0.5555555555555556,
              "#d8576b"
             ],
             [
              0.6666666666666666,
              "#ed7953"
             ],
             [
              0.7777777777777778,
              "#fb9f3a"
             ],
             [
              0.8888888888888888,
              "#fdca26"
             ],
             [
              1,
              "#f0f921"
             ]
            ],
            "type": "histogram2dcontour"
           }
          ],
          "mesh3d": [
           {
            "colorbar": {
             "outlinewidth": 0,
             "ticks": ""
            },
            "type": "mesh3d"
           }
          ],
          "parcoords": [
           {
            "line": {
             "colorbar": {
              "outlinewidth": 0,
              "ticks": ""
             }
            },
            "type": "parcoords"
           }
          ],
          "pie": [
           {
            "automargin": true,
            "type": "pie"
           }
          ],
          "scatter": [
           {
            "marker": {
             "colorbar": {
              "outlinewidth": 0,
              "ticks": ""
             }
            },
            "type": "scatter"
           }
          ],
          "scatter3d": [
           {
            "line": {
             "colorbar": {
              "outlinewidth": 0,
              "ticks": ""
             }
            },
            "marker": {
             "colorbar": {
              "outlinewidth": 0,
              "ticks": ""
             }
            },
            "type": "scatter3d"
           }
          ],
          "scattercarpet": [
           {
            "marker": {
             "colorbar": {
              "outlinewidth": 0,
              "ticks": ""
             }
            },
            "type": "scattercarpet"
           }
          ],
          "scattergeo": [
           {
            "marker": {
             "colorbar": {
              "outlinewidth": 0,
              "ticks": ""
             }
            },
            "type": "scattergeo"
           }
          ],
          "scattergl": [
           {
            "marker": {
             "colorbar": {
              "outlinewidth": 0,
              "ticks": ""
             }
            },
            "type": "scattergl"
           }
          ],
          "scattermapbox": [
           {
            "marker": {
             "colorbar": {
              "outlinewidth": 0,
              "ticks": ""
             }
            },
            "type": "scattermapbox"
           }
          ],
          "scatterpolar": [
           {
            "marker": {
             "colorbar": {
              "outlinewidth": 0,
              "ticks": ""
             }
            },
            "type": "scatterpolar"
           }
          ],
          "scatterpolargl": [
           {
            "marker": {
             "colorbar": {
              "outlinewidth": 0,
              "ticks": ""
             }
            },
            "type": "scatterpolargl"
           }
          ],
          "scatterternary": [
           {
            "marker": {
             "colorbar": {
              "outlinewidth": 0,
              "ticks": ""
             }
            },
            "type": "scatterternary"
           }
          ],
          "surface": [
           {
            "colorbar": {
             "outlinewidth": 0,
             "ticks": ""
            },
            "colorscale": [
             [
              0,
              "#0d0887"
             ],
             [
              0.1111111111111111,
              "#46039f"
             ],
             [
              0.2222222222222222,
              "#7201a8"
             ],
             [
              0.3333333333333333,
              "#9c179e"
             ],
             [
              0.4444444444444444,
              "#bd3786"
             ],
             [
              0.5555555555555556,
              "#d8576b"
             ],
             [
              0.6666666666666666,
              "#ed7953"
             ],
             [
              0.7777777777777778,
              "#fb9f3a"
             ],
             [
              0.8888888888888888,
              "#fdca26"
             ],
             [
              1,
              "#f0f921"
             ]
            ],
            "type": "surface"
           }
          ],
          "table": [
           {
            "cells": {
             "fill": {
              "color": "#EBF0F8"
             },
             "line": {
              "color": "white"
             }
            },
            "header": {
             "fill": {
              "color": "#C8D4E3"
             },
             "line": {
              "color": "white"
             }
            },
            "type": "table"
           }
          ]
         },
         "layout": {
          "annotationdefaults": {
           "arrowcolor": "#2a3f5f",
           "arrowhead": 0,
           "arrowwidth": 1
          },
          "autotypenumbers": "strict",
          "coloraxis": {
           "colorbar": {
            "outlinewidth": 0,
            "ticks": ""
           }
          },
          "colorscale": {
           "diverging": [
            [
             0,
             "#8e0152"
            ],
            [
             0.1,
             "#c51b7d"
            ],
            [
             0.2,
             "#de77ae"
            ],
            [
             0.3,
             "#f1b6da"
            ],
            [
             0.4,
             "#fde0ef"
            ],
            [
             0.5,
             "#f7f7f7"
            ],
            [
             0.6,
             "#e6f5d0"
            ],
            [
             0.7,
             "#b8e186"
            ],
            [
             0.8,
             "#7fbc41"
            ],
            [
             0.9,
             "#4d9221"
            ],
            [
             1,
             "#276419"
            ]
           ],
           "sequential": [
            [
             0,
             "#0d0887"
            ],
            [
             0.1111111111111111,
             "#46039f"
            ],
            [
             0.2222222222222222,
             "#7201a8"
            ],
            [
             0.3333333333333333,
             "#9c179e"
            ],
            [
             0.4444444444444444,
             "#bd3786"
            ],
            [
             0.5555555555555556,
             "#d8576b"
            ],
            [
             0.6666666666666666,
             "#ed7953"
            ],
            [
             0.7777777777777778,
             "#fb9f3a"
            ],
            [
             0.8888888888888888,
             "#fdca26"
            ],
            [
             1,
             "#f0f921"
            ]
           ],
           "sequentialminus": [
            [
             0,
             "#0d0887"
            ],
            [
             0.1111111111111111,
             "#46039f"
            ],
            [
             0.2222222222222222,
             "#7201a8"
            ],
            [
             0.3333333333333333,
             "#9c179e"
            ],
            [
             0.4444444444444444,
             "#bd3786"
            ],
            [
             0.5555555555555556,
             "#d8576b"
            ],
            [
             0.6666666666666666,
             "#ed7953"
            ],
            [
             0.7777777777777778,
             "#fb9f3a"
            ],
            [
             0.8888888888888888,
             "#fdca26"
            ],
            [
             1,
             "#f0f921"
            ]
           ]
          },
          "colorway": [
           "#636efa",
           "#EF553B",
           "#00cc96",
           "#ab63fa",
           "#FFA15A",
           "#19d3f3",
           "#FF6692",
           "#B6E880",
           "#FF97FF",
           "#FECB52"
          ],
          "font": {
           "color": "#2a3f5f"
          },
          "geo": {
           "bgcolor": "white",
           "lakecolor": "white",
           "landcolor": "#E5ECF6",
           "showlakes": true,
           "showland": true,
           "subunitcolor": "white"
          },
          "hoverlabel": {
           "align": "left"
          },
          "hovermode": "closest",
          "mapbox": {
           "style": "light"
          },
          "paper_bgcolor": "white",
          "plot_bgcolor": "#E5ECF6",
          "polar": {
           "angularaxis": {
            "gridcolor": "white",
            "linecolor": "white",
            "ticks": ""
           },
           "bgcolor": "#E5ECF6",
           "radialaxis": {
            "gridcolor": "white",
            "linecolor": "white",
            "ticks": ""
           }
          },
          "scene": {
           "xaxis": {
            "backgroundcolor": "#E5ECF6",
            "gridcolor": "white",
            "gridwidth": 2,
            "linecolor": "white",
            "showbackground": true,
            "ticks": "",
            "zerolinecolor": "white"
           },
           "yaxis": {
            "backgroundcolor": "#E5ECF6",
            "gridcolor": "white",
            "gridwidth": 2,
            "linecolor": "white",
            "showbackground": true,
            "ticks": "",
            "zerolinecolor": "white"
           },
           "zaxis": {
            "backgroundcolor": "#E5ECF6",
            "gridcolor": "white",
            "gridwidth": 2,
            "linecolor": "white",
            "showbackground": true,
            "ticks": "",
            "zerolinecolor": "white"
           }
          },
          "shapedefaults": {
           "line": {
            "color": "#2a3f5f"
           }
          },
          "ternary": {
           "aaxis": {
            "gridcolor": "white",
            "linecolor": "white",
            "ticks": ""
           },
           "baxis": {
            "gridcolor": "white",
            "linecolor": "white",
            "ticks": ""
           },
           "bgcolor": "#E5ECF6",
           "caxis": {
            "gridcolor": "white",
            "linecolor": "white",
            "ticks": ""
           }
          },
          "title": {
           "x": 0.05
          },
          "xaxis": {
           "automargin": true,
           "gridcolor": "white",
           "linecolor": "white",
           "ticks": "",
           "title": {
            "standoff": 15
           },
           "zerolinecolor": "white",
           "zerolinewidth": 2
          },
          "yaxis": {
           "automargin": true,
           "gridcolor": "white",
           "linecolor": "white",
           "ticks": "",
           "title": {
            "standoff": 15
           },
           "zerolinecolor": "white",
           "zerolinewidth": 2
          }
         }
        },
        "title": {
         "text": "Number of news mentioning neurotech keywords per country (normalised)",
         "x": 0.55,
         "xanchor": "center",
         "y": 1,
         "yanchor": "top"
        },
        "xaxis": {
         "anchor": "y",
         "domain": [
          0,
          1
         ],
         "side": "top",
         "tickangle": 0,
         "title": {
          "standoff": 1
         }
        },
        "yaxis": {
         "anchor": "x",
         "autorange": "reversed",
         "domain": [
          0,
          1
         ],
         "title": {
          "text": "neurotech keywords"
         }
        }
       }
      },
      "text/html": [
       "<div>                            <div id=\"797afb71-6779-4284-b292-110db457dcbd\" class=\"plotly-graph-div\" style=\"height:525px; width:100%;\"></div>            <script type=\"text/javascript\">                require([\"plotly\"], function(Plotly) {                    window.PLOTLYENV=window.PLOTLYENV || {};                                    if (document.getElementById(\"797afb71-6779-4284-b292-110db457dcbd\")) {                    Plotly.newPlot(                        \"797afb71-6779-4284-b292-110db457dcbd\",                        [{\"coloraxis\":\"coloraxis\",\"name\":\"0\",\"texttemplate\":\"%{z}\",\"x\":[\"at\",\"cz\",\"de\",\"es\",\"fr\",\"gb\",\"ie\",\"it\",\"nl\",\"ro\",\"rs\",\"se\",\"us\"],\"y\":[\"Cyborg\",\"Brain implant\",\"Neurotechnology\",\"Brain chip\",\"Brain computer interface\",\"Thought control\",\"Artificial eye\",\"Artificial uterus\",\"Neural interface\",\"Artificial human\",\"Brain to brain\",\"Cognitive enhancement\",\"Neuromorphic engineering\",\"Brain computer interaction\",\"Neuroprosthetics\",\"Artificial brain\",\"Artificial organ\",\"Human machine interface\",\"Neural control\",\"Transcranial electrical stimulation\",\"Artificial synapsis\"],\"z\":[[18.2,5.9,9.1,0.0,19.7,13.2,16.7,32.0,66.7,18.5,11.1,58.3,8.1],[0.0,47.1,3.6,0.0,9.9,10.4,22.2,14.0,33.3,0.0,22.2,0.0,12.8],[0.0,5.9,32.7,47.1,8.5,11.8,2.8,8.0,0.0,18.5,0.0,0.0,15.2],[9.1,5.9,18.2,5.9,8.5,5.6,27.8,6.0,0.0,14.8,22.2,0.0,10.7],[9.1,0.0,12.7,5.9,32.4,25.0,19.4,0.0,0.0,0.0,0.0,0.0,20.9],[27.3,0.0,14.5,5.9,1.4,0.7,0.0,0.0,0.0,0.0,0.0,33.3,2.1],[9.1,17.6,0.0,11.8,0.0,5.6,2.8,4.0,0.0,3.7,0.0,0.0,0.9],[0.0,17.6,0.0,5.9,1.4,0.0,0.0,4.0,0.0,11.1,0.0,8.3,0.9],[0.0,0.0,0.0,5.9,4.2,6.2,0.0,14.0,0.0,3.7,0.0,0.0,10.7],[9.1,0.0,5.5,5.9,2.8,2.8,0.0,2.0,0.0,0.0,11.1,0.0,2.4],[0.0,0.0,0.0,0.0,1.4,0.0,2.8,0.0,0.0,0.0,33.3,0.0,1.5],[9.1,0.0,1.8,5.9,0.0,2.8,2.8,2.0,0.0,7.4,0.0,0.0,0.3],[0.0,0.0,0.0,0.0,1.4,2.8,2.8,4.0,0.0,0.0,0.0,0.0,7.5],[0.0,0.0,0.0,0.0,0.0,0.0,0.0,0.0,0.0,14.8,0.0,0.0,0.0],[0.0,0.0,0.0,0.0,4.2,6.9,0.0,0.0,0.0,0.0,0.0,0.0,2.4],[0.0,0.0,0.0,0.0,2.8,0.7,0.0,4.0,0.0,3.7,0.0,0.0,1.8],[0.0,0.0,0.0,0.0,1.4,2.1,0.0,6.0,0.0,0.0,0.0,0.0,0.3],[9.1,0.0,0.0,0.0,0.0,0.0,0.0,0.0,0.0,0.0,0.0,0.0,0.0],[0.0,0.0,1.8,0.0,0.0,2.8,0.0,0.0,0.0,0.0,0.0,0.0,0.6],[0.0,0.0,0.0,0.0,0.0,0.7,0.0,0.0,0.0,3.7,0.0,0.0,0.6],[0.0,0.0,0.0,0.0,0.0,0.0,0.0,0.0,0.0,0.0,0.0,0.0,0.3]],\"type\":\"heatmap\",\"xaxis\":\"x\",\"yaxis\":\"y\",\"hovertemplate\":\"x: %{x}<br>neurotech keywords: %{y}<br>News percentage: %{z}<extra></extra>\"}],                        {\"template\":{\"data\":{\"bar\":[{\"error_x\":{\"color\":\"#2a3f5f\"},\"error_y\":{\"color\":\"#2a3f5f\"},\"marker\":{\"line\":{\"color\":\"#E5ECF6\",\"width\":0.5},\"pattern\":{\"fillmode\":\"overlay\",\"size\":10,\"solidity\":0.2}},\"type\":\"bar\"}],\"barpolar\":[{\"marker\":{\"line\":{\"color\":\"#E5ECF6\",\"width\":0.5},\"pattern\":{\"fillmode\":\"overlay\",\"size\":10,\"solidity\":0.2}},\"type\":\"barpolar\"}],\"carpet\":[{\"aaxis\":{\"endlinecolor\":\"#2a3f5f\",\"gridcolor\":\"white\",\"linecolor\":\"white\",\"minorgridcolor\":\"white\",\"startlinecolor\":\"#2a3f5f\"},\"baxis\":{\"endlinecolor\":\"#2a3f5f\",\"gridcolor\":\"white\",\"linecolor\":\"white\",\"minorgridcolor\":\"white\",\"startlinecolor\":\"#2a3f5f\"},\"type\":\"carpet\"}],\"choropleth\":[{\"colorbar\":{\"outlinewidth\":0,\"ticks\":\"\"},\"type\":\"choropleth\"}],\"contour\":[{\"colorbar\":{\"outlinewidth\":0,\"ticks\":\"\"},\"colorscale\":[[0.0,\"#0d0887\"],[0.1111111111111111,\"#46039f\"],[0.2222222222222222,\"#7201a8\"],[0.3333333333333333,\"#9c179e\"],[0.4444444444444444,\"#bd3786\"],[0.5555555555555556,\"#d8576b\"],[0.6666666666666666,\"#ed7953\"],[0.7777777777777778,\"#fb9f3a\"],[0.8888888888888888,\"#fdca26\"],[1.0,\"#f0f921\"]],\"type\":\"contour\"}],\"contourcarpet\":[{\"colorbar\":{\"outlinewidth\":0,\"ticks\":\"\"},\"type\":\"contourcarpet\"}],\"heatmap\":[{\"colorbar\":{\"outlinewidth\":0,\"ticks\":\"\"},\"colorscale\":[[0.0,\"#0d0887\"],[0.1111111111111111,\"#46039f\"],[0.2222222222222222,\"#7201a8\"],[0.3333333333333333,\"#9c179e\"],[0.4444444444444444,\"#bd3786\"],[0.5555555555555556,\"#d8576b\"],[0.6666666666666666,\"#ed7953\"],[0.7777777777777778,\"#fb9f3a\"],[0.8888888888888888,\"#fdca26\"],[1.0,\"#f0f921\"]],\"type\":\"heatmap\"}],\"heatmapgl\":[{\"colorbar\":{\"outlinewidth\":0,\"ticks\":\"\"},\"colorscale\":[[0.0,\"#0d0887\"],[0.1111111111111111,\"#46039f\"],[0.2222222222222222,\"#7201a8\"],[0.3333333333333333,\"#9c179e\"],[0.4444444444444444,\"#bd3786\"],[0.5555555555555556,\"#d8576b\"],[0.6666666666666666,\"#ed7953\"],[0.7777777777777778,\"#fb9f3a\"],[0.8888888888888888,\"#fdca26\"],[1.0,\"#f0f921\"]],\"type\":\"heatmapgl\"}],\"histogram\":[{\"marker\":{\"pattern\":{\"fillmode\":\"overlay\",\"size\":10,\"solidity\":0.2}},\"type\":\"histogram\"}],\"histogram2d\":[{\"colorbar\":{\"outlinewidth\":0,\"ticks\":\"\"},\"colorscale\":[[0.0,\"#0d0887\"],[0.1111111111111111,\"#46039f\"],[0.2222222222222222,\"#7201a8\"],[0.3333333333333333,\"#9c179e\"],[0.4444444444444444,\"#bd3786\"],[0.5555555555555556,\"#d8576b\"],[0.6666666666666666,\"#ed7953\"],[0.7777777777777778,\"#fb9f3a\"],[0.8888888888888888,\"#fdca26\"],[1.0,\"#f0f921\"]],\"type\":\"histogram2d\"}],\"histogram2dcontour\":[{\"colorbar\":{\"outlinewidth\":0,\"ticks\":\"\"},\"colorscale\":[[0.0,\"#0d0887\"],[0.1111111111111111,\"#46039f\"],[0.2222222222222222,\"#7201a8\"],[0.3333333333333333,\"#9c179e\"],[0.4444444444444444,\"#bd3786\"],[0.5555555555555556,\"#d8576b\"],[0.6666666666666666,\"#ed7953\"],[0.7777777777777778,\"#fb9f3a\"],[0.8888888888888888,\"#fdca26\"],[1.0,\"#f0f921\"]],\"type\":\"histogram2dcontour\"}],\"mesh3d\":[{\"colorbar\":{\"outlinewidth\":0,\"ticks\":\"\"},\"type\":\"mesh3d\"}],\"parcoords\":[{\"line\":{\"colorbar\":{\"outlinewidth\":0,\"ticks\":\"\"}},\"type\":\"parcoords\"}],\"pie\":[{\"automargin\":true,\"type\":\"pie\"}],\"scatter\":[{\"marker\":{\"colorbar\":{\"outlinewidth\":0,\"ticks\":\"\"}},\"type\":\"scatter\"}],\"scatter3d\":[{\"line\":{\"colorbar\":{\"outlinewidth\":0,\"ticks\":\"\"}},\"marker\":{\"colorbar\":{\"outlinewidth\":0,\"ticks\":\"\"}},\"type\":\"scatter3d\"}],\"scattercarpet\":[{\"marker\":{\"colorbar\":{\"outlinewidth\":0,\"ticks\":\"\"}},\"type\":\"scattercarpet\"}],\"scattergeo\":[{\"marker\":{\"colorbar\":{\"outlinewidth\":0,\"ticks\":\"\"}},\"type\":\"scattergeo\"}],\"scattergl\":[{\"marker\":{\"colorbar\":{\"outlinewidth\":0,\"ticks\":\"\"}},\"type\":\"scattergl\"}],\"scattermapbox\":[{\"marker\":{\"colorbar\":{\"outlinewidth\":0,\"ticks\":\"\"}},\"type\":\"scattermapbox\"}],\"scatterpolar\":[{\"marker\":{\"colorbar\":{\"outlinewidth\":0,\"ticks\":\"\"}},\"type\":\"scatterpolar\"}],\"scatterpolargl\":[{\"marker\":{\"colorbar\":{\"outlinewidth\":0,\"ticks\":\"\"}},\"type\":\"scatterpolargl\"}],\"scatterternary\":[{\"marker\":{\"colorbar\":{\"outlinewidth\":0,\"ticks\":\"\"}},\"type\":\"scatterternary\"}],\"surface\":[{\"colorbar\":{\"outlinewidth\":0,\"ticks\":\"\"},\"colorscale\":[[0.0,\"#0d0887\"],[0.1111111111111111,\"#46039f\"],[0.2222222222222222,\"#7201a8\"],[0.3333333333333333,\"#9c179e\"],[0.4444444444444444,\"#bd3786\"],[0.5555555555555556,\"#d8576b\"],[0.6666666666666666,\"#ed7953\"],[0.7777777777777778,\"#fb9f3a\"],[0.8888888888888888,\"#fdca26\"],[1.0,\"#f0f921\"]],\"type\":\"surface\"}],\"table\":[{\"cells\":{\"fill\":{\"color\":\"#EBF0F8\"},\"line\":{\"color\":\"white\"}},\"header\":{\"fill\":{\"color\":\"#C8D4E3\"},\"line\":{\"color\":\"white\"}},\"type\":\"table\"}]},\"layout\":{\"annotationdefaults\":{\"arrowcolor\":\"#2a3f5f\",\"arrowhead\":0,\"arrowwidth\":1},\"autotypenumbers\":\"strict\",\"coloraxis\":{\"colorbar\":{\"outlinewidth\":0,\"ticks\":\"\"}},\"colorscale\":{\"diverging\":[[0,\"#8e0152\"],[0.1,\"#c51b7d\"],[0.2,\"#de77ae\"],[0.3,\"#f1b6da\"],[0.4,\"#fde0ef\"],[0.5,\"#f7f7f7\"],[0.6,\"#e6f5d0\"],[0.7,\"#b8e186\"],[0.8,\"#7fbc41\"],[0.9,\"#4d9221\"],[1,\"#276419\"]],\"sequential\":[[0.0,\"#0d0887\"],[0.1111111111111111,\"#46039f\"],[0.2222222222222222,\"#7201a8\"],[0.3333333333333333,\"#9c179e\"],[0.4444444444444444,\"#bd3786\"],[0.5555555555555556,\"#d8576b\"],[0.6666666666666666,\"#ed7953\"],[0.7777777777777778,\"#fb9f3a\"],[0.8888888888888888,\"#fdca26\"],[1.0,\"#f0f921\"]],\"sequentialminus\":[[0.0,\"#0d0887\"],[0.1111111111111111,\"#46039f\"],[0.2222222222222222,\"#7201a8\"],[0.3333333333333333,\"#9c179e\"],[0.4444444444444444,\"#bd3786\"],[0.5555555555555556,\"#d8576b\"],[0.6666666666666666,\"#ed7953\"],[0.7777777777777778,\"#fb9f3a\"],[0.8888888888888888,\"#fdca26\"],[1.0,\"#f0f921\"]]},\"colorway\":[\"#636efa\",\"#EF553B\",\"#00cc96\",\"#ab63fa\",\"#FFA15A\",\"#19d3f3\",\"#FF6692\",\"#B6E880\",\"#FF97FF\",\"#FECB52\"],\"font\":{\"color\":\"#2a3f5f\"},\"geo\":{\"bgcolor\":\"white\",\"lakecolor\":\"white\",\"landcolor\":\"#E5ECF6\",\"showlakes\":true,\"showland\":true,\"subunitcolor\":\"white\"},\"hoverlabel\":{\"align\":\"left\"},\"hovermode\":\"closest\",\"mapbox\":{\"style\":\"light\"},\"paper_bgcolor\":\"white\",\"plot_bgcolor\":\"#E5ECF6\",\"polar\":{\"angularaxis\":{\"gridcolor\":\"white\",\"linecolor\":\"white\",\"ticks\":\"\"},\"bgcolor\":\"#E5ECF6\",\"radialaxis\":{\"gridcolor\":\"white\",\"linecolor\":\"white\",\"ticks\":\"\"}},\"scene\":{\"xaxis\":{\"backgroundcolor\":\"#E5ECF6\",\"gridcolor\":\"white\",\"gridwidth\":2,\"linecolor\":\"white\",\"showbackground\":true,\"ticks\":\"\",\"zerolinecolor\":\"white\"},\"yaxis\":{\"backgroundcolor\":\"#E5ECF6\",\"gridcolor\":\"white\",\"gridwidth\":2,\"linecolor\":\"white\",\"showbackground\":true,\"ticks\":\"\",\"zerolinecolor\":\"white\"},\"zaxis\":{\"backgroundcolor\":\"#E5ECF6\",\"gridcolor\":\"white\",\"gridwidth\":2,\"linecolor\":\"white\",\"showbackground\":true,\"ticks\":\"\",\"zerolinecolor\":\"white\"}},\"shapedefaults\":{\"line\":{\"color\":\"#2a3f5f\"}},\"ternary\":{\"aaxis\":{\"gridcolor\":\"white\",\"linecolor\":\"white\",\"ticks\":\"\"},\"baxis\":{\"gridcolor\":\"white\",\"linecolor\":\"white\",\"ticks\":\"\"},\"bgcolor\":\"#E5ECF6\",\"caxis\":{\"gridcolor\":\"white\",\"linecolor\":\"white\",\"ticks\":\"\"}},\"title\":{\"x\":0.05},\"xaxis\":{\"automargin\":true,\"gridcolor\":\"white\",\"linecolor\":\"white\",\"ticks\":\"\",\"title\":{\"standoff\":15},\"zerolinecolor\":\"white\",\"zerolinewidth\":2},\"yaxis\":{\"automargin\":true,\"gridcolor\":\"white\",\"linecolor\":\"white\",\"ticks\":\"\",\"title\":{\"standoff\":15},\"zerolinecolor\":\"white\",\"zerolinewidth\":2}}},\"xaxis\":{\"anchor\":\"y\",\"domain\":[0.0,1.0],\"title\":{\"standoff\":1},\"side\":\"top\",\"tickangle\":0},\"yaxis\":{\"anchor\":\"x\",\"domain\":[0.0,1.0],\"autorange\":\"reversed\",\"title\":{\"text\":\"neurotech keywords\"}},\"coloraxis\":{\"colorbar\":{\"title\":{\"text\":\"News percentage\"}},\"colorscale\":[[0.0,\"rgb(255,245,235)\"],[0.125,\"rgb(254,230,206)\"],[0.25,\"rgb(253,208,162)\"],[0.375,\"rgb(253,174,107)\"],[0.5,\"rgb(253,141,60)\"],[0.625,\"rgb(241,105,19)\"],[0.75,\"rgb(217,72,1)\"],[0.875,\"rgb(166,54,3)\"],[1.0,\"rgb(127,39,4)\"]]},\"margin\":{\"t\":60},\"title\":{\"text\":\"Number of news mentioning neurotech keywords per country (normalised)\",\"y\":1.0,\"x\":0.55,\"xanchor\":\"center\",\"yanchor\":\"top\"}},                        {\"responsive\": true}                    ).then(function(){\n",
       "                            \n",
       "var gd = document.getElementById('797afb71-6779-4284-b292-110db457dcbd');\n",
       "var x = new MutationObserver(function (mutations, observer) {{\n",
       "        var display = window.getComputedStyle(gd).display;\n",
       "        if (!display || display === 'none') {{\n",
       "            console.log([gd, 'removed!']);\n",
       "            Plotly.purge(gd);\n",
       "            observer.disconnect();\n",
       "        }}\n",
       "}});\n",
       "\n",
       "// Listen for the removal of the full notebook cells\n",
       "var notebookContainer = gd.closest('#notebook-container');\n",
       "if (notebookContainer) {{\n",
       "    x.observe(notebookContainer, {childList: true});\n",
       "}}\n",
       "\n",
       "// Listen for the clearing of the current output cell\n",
       "var outputEl = gd.closest('.output');\n",
       "if (outputEl) {{\n",
       "    x.observe(outputEl, {childList: true});\n",
       "}}\n",
       "\n",
       "                        })                };                });            </script>        </div>"
      ]
     },
     "metadata": {},
     "output_type": "display_data"
    }
   ],
   "source": [
    "\n",
    "z_text = np.around(hmp_plot[countries].values, decimals=1) \n",
    "\n",
    "fig = px.imshow(z_text,\n",
    "               \n",
    "               labels=dict(y=t+ \" keywords\", color=\"News percentage\"),\n",
    "                y= hmp_plot['kw'],\n",
    "                x= list(hmp_plot[countries].columns) , color_continuous_scale=t_col,\n",
    "                aspect=\"auto\",text_auto=True)\n",
    "\n",
    "\n",
    "fig.update_xaxes(\n",
    "        side ='top',\n",
    "        tickangle = 0\n",
    "        #,title_font = {\"size\": 20}e\n",
    "        ,title_standoff = 1\n",
    ")\n",
    "\n",
    "\n",
    "fig.update_layout(\n",
    "            title={\n",
    "            'text': 'Number of news mentioning ' +t+ ' keywords per country (normalised)',\n",
    "            'y':1.0,\n",
    "            'x':0.55,\n",
    "            'xanchor': 'center',\n",
    "            'yanchor': 'top'})\n",
    "\n",
    "\n",
    "fig.show()"
   ]
  },
  {
   "cell_type": "code",
   "execution_count": null,
   "id": "b02194b4",
   "metadata": {},
   "outputs": [],
   "source": []
  },
  {
   "cell_type": "code",
   "execution_count": 471,
   "id": "b68e8c7f",
   "metadata": {},
   "outputs": [
    {
     "data": {
      "text/html": [
       "<div>\n",
       "<style scoped>\n",
       "    .dataframe tbody tr th:only-of-type {\n",
       "        vertical-align: middle;\n",
       "    }\n",
       "\n",
       "    .dataframe tbody tr th {\n",
       "        vertical-align: top;\n",
       "    }\n",
       "\n",
       "    .dataframe thead th {\n",
       "        text-align: right;\n",
       "    }\n",
       "</style>\n",
       "<table border=\"1\" class=\"dataframe\">\n",
       "  <thead>\n",
       "    <tr style=\"text-align: right;\">\n",
       "      <th></th>\n",
       "      <th>counts_avg</th>\n",
       "      <th>kw</th>\n",
       "    </tr>\n",
       "  </thead>\n",
       "  <tbody>\n",
       "    <tr>\n",
       "      <th>14</th>\n",
       "      <td>0.013401</td>\n",
       "      <td>physical integrity</td>\n",
       "    </tr>\n",
       "    <tr>\n",
       "      <th>9</th>\n",
       "      <td>0.205677</td>\n",
       "      <td>illegal</td>\n",
       "    </tr>\n",
       "    <tr>\n",
       "      <th>3</th>\n",
       "      <td>0.727196</td>\n",
       "      <td>negative impact</td>\n",
       "    </tr>\n",
       "    <tr>\n",
       "      <th>6</th>\n",
       "      <td>0.761004</td>\n",
       "      <td>fundamental rights</td>\n",
       "    </tr>\n",
       "    <tr>\n",
       "      <th>10</th>\n",
       "      <td>0.825131</td>\n",
       "      <td>accountability</td>\n",
       "    </tr>\n",
       "    <tr>\n",
       "      <th>8</th>\n",
       "      <td>0.827514</td>\n",
       "      <td>fairness</td>\n",
       "    </tr>\n",
       "    <tr>\n",
       "      <th>18</th>\n",
       "      <td>0.935159</td>\n",
       "      <td>discrimination</td>\n",
       "    </tr>\n",
       "    <tr>\n",
       "      <th>15</th>\n",
       "      <td>1.100139</td>\n",
       "      <td>insecurity</td>\n",
       "    </tr>\n",
       "    <tr>\n",
       "      <th>5</th>\n",
       "      <td>1.291958</td>\n",
       "      <td>dignity</td>\n",
       "    </tr>\n",
       "    <tr>\n",
       "      <th>17</th>\n",
       "      <td>2.102935</td>\n",
       "      <td>bias</td>\n",
       "    </tr>\n",
       "    <tr>\n",
       "      <th>2</th>\n",
       "      <td>2.109586</td>\n",
       "      <td>integrity</td>\n",
       "    </tr>\n",
       "    <tr>\n",
       "      <th>20</th>\n",
       "      <td>2.578649</td>\n",
       "      <td>human rights</td>\n",
       "    </tr>\n",
       "    <tr>\n",
       "      <th>1</th>\n",
       "      <td>3.418410</td>\n",
       "      <td>ethics</td>\n",
       "    </tr>\n",
       "    <tr>\n",
       "      <th>0</th>\n",
       "      <td>3.824756</td>\n",
       "      <td>well-being</td>\n",
       "    </tr>\n",
       "    <tr>\n",
       "      <th>19</th>\n",
       "      <td>4.203262</td>\n",
       "      <td>justice</td>\n",
       "    </tr>\n",
       "    <tr>\n",
       "      <th>12</th>\n",
       "      <td>4.797992</td>\n",
       "      <td>legal</td>\n",
       "    </tr>\n",
       "    <tr>\n",
       "      <th>11</th>\n",
       "      <td>5.798922</td>\n",
       "      <td>sustainability</td>\n",
       "    </tr>\n",
       "    <tr>\n",
       "      <th>4</th>\n",
       "      <td>8.614759</td>\n",
       "      <td>responsibility</td>\n",
       "    </tr>\n",
       "    <tr>\n",
       "      <th>16</th>\n",
       "      <td>14.523757</td>\n",
       "      <td>law</td>\n",
       "    </tr>\n",
       "    <tr>\n",
       "      <th>21</th>\n",
       "      <td>19.453137</td>\n",
       "      <td>privacy</td>\n",
       "    </tr>\n",
       "    <tr>\n",
       "      <th>13</th>\n",
       "      <td>23.879209</td>\n",
       "      <td>security</td>\n",
       "    </tr>\n",
       "    <tr>\n",
       "      <th>7</th>\n",
       "      <td>27.513648</td>\n",
       "      <td>society</td>\n",
       "    </tr>\n",
       "  </tbody>\n",
       "</table>\n",
       "</div>"
      ],
      "text/plain": [
       "    counts_avg                  kw\n",
       "14    0.013401  physical integrity\n",
       "9     0.205677             illegal\n",
       "3     0.727196     negative impact\n",
       "6     0.761004  fundamental rights\n",
       "10    0.825131      accountability\n",
       "8     0.827514            fairness\n",
       "18    0.935159      discrimination\n",
       "15    1.100139          insecurity\n",
       "5     1.291958             dignity\n",
       "17    2.102935                bias\n",
       "2     2.109586           integrity\n",
       "20    2.578649        human rights\n",
       "1     3.418410              ethics\n",
       "0     3.824756          well-being\n",
       "19    4.203262             justice\n",
       "12    4.797992               legal\n",
       "11    5.798922      sustainability\n",
       "4     8.614759      responsibility\n",
       "16   14.523757                 law\n",
       "21   19.453137             privacy\n",
       "13   23.879209            security\n",
       "7    27.513648             society"
      ]
     },
     "execution_count": 471,
     "metadata": {},
     "output_type": "execute_result"
    }
   ],
   "source": [
    "hmp_df['counts_avg'] = hmp_df['counts']/13\n",
    "hmp_df[['counts_avg','kw']]"
   ]
  },
  {
   "cell_type": "code",
   "execution_count": 68,
   "id": "8996fdc7",
   "metadata": {},
   "outputs": [
    {
     "data": {
      "application/vnd.plotly.v1+json": {
       "config": {
        "plotlyServerURL": "https://plot.ly"
       },
       "data": [
        {
         "alignmentgroup": "True",
         "hovertemplate": "counts_avg=%{x}<extra></extra>",
         "legendgroup": "",
         "marker": {
          "color": "#636efa"
         },
         "name": "",
         "notched": false,
         "offsetgroup": "",
         "orientation": "h",
         "showlegend": false,
         "type": "box",
         "x": [
          0.022962112514351322,
          0.38424331334779094,
          0.3994595785640562,
          0.6993006993006994,
          0.7530993461727117,
          1.0004687948244813,
          1.0429120198933106,
          1.1396011396011394,
          1.4174379097650065,
          2.465608790455147,
          3.0009307022130227,
          3.1939736527279345,
          3.4467444164825114,
          3.790602253956567,
          4.264248709376014,
          6.555870421551337,
          9.648835983772734,
          10.354213569809161,
          11.572683528621525,
          13.50650826425536,
          21.340294792795135
         ],
         "x0": " ",
         "xaxis": "x",
         "y0": " ",
         "yaxis": "y"
        }
       ],
       "layout": {
        "boxmode": "group",
        "legend": {
         "tracegroupgap": 0
        },
        "margin": {
         "t": 60
        },
        "template": {
         "data": {
          "bar": [
           {
            "error_x": {
             "color": "#2a3f5f"
            },
            "error_y": {
             "color": "#2a3f5f"
            },
            "marker": {
             "line": {
              "color": "#E5ECF6",
              "width": 0.5
             },
             "pattern": {
              "fillmode": "overlay",
              "size": 10,
              "solidity": 0.2
             }
            },
            "type": "bar"
           }
          ],
          "barpolar": [
           {
            "marker": {
             "line": {
              "color": "#E5ECF6",
              "width": 0.5
             },
             "pattern": {
              "fillmode": "overlay",
              "size": 10,
              "solidity": 0.2
             }
            },
            "type": "barpolar"
           }
          ],
          "carpet": [
           {
            "aaxis": {
             "endlinecolor": "#2a3f5f",
             "gridcolor": "white",
             "linecolor": "white",
             "minorgridcolor": "white",
             "startlinecolor": "#2a3f5f"
            },
            "baxis": {
             "endlinecolor": "#2a3f5f",
             "gridcolor": "white",
             "linecolor": "white",
             "minorgridcolor": "white",
             "startlinecolor": "#2a3f5f"
            },
            "type": "carpet"
           }
          ],
          "choropleth": [
           {
            "colorbar": {
             "outlinewidth": 0,
             "ticks": ""
            },
            "type": "choropleth"
           }
          ],
          "contour": [
           {
            "colorbar": {
             "outlinewidth": 0,
             "ticks": ""
            },
            "colorscale": [
             [
              0,
              "#0d0887"
             ],
             [
              0.1111111111111111,
              "#46039f"
             ],
             [
              0.2222222222222222,
              "#7201a8"
             ],
             [
              0.3333333333333333,
              "#9c179e"
             ],
             [
              0.4444444444444444,
              "#bd3786"
             ],
             [
              0.5555555555555556,
              "#d8576b"
             ],
             [
              0.6666666666666666,
              "#ed7953"
             ],
             [
              0.7777777777777778,
              "#fb9f3a"
             ],
             [
              0.8888888888888888,
              "#fdca26"
             ],
             [
              1,
              "#f0f921"
             ]
            ],
            "type": "contour"
           }
          ],
          "contourcarpet": [
           {
            "colorbar": {
             "outlinewidth": 0,
             "ticks": ""
            },
            "type": "contourcarpet"
           }
          ],
          "heatmap": [
           {
            "colorbar": {
             "outlinewidth": 0,
             "ticks": ""
            },
            "colorscale": [
             [
              0,
              "#0d0887"
             ],
             [
              0.1111111111111111,
              "#46039f"
             ],
             [
              0.2222222222222222,
              "#7201a8"
             ],
             [
              0.3333333333333333,
              "#9c179e"
             ],
             [
              0.4444444444444444,
              "#bd3786"
             ],
             [
              0.5555555555555556,
              "#d8576b"
             ],
             [
              0.6666666666666666,
              "#ed7953"
             ],
             [
              0.7777777777777778,
              "#fb9f3a"
             ],
             [
              0.8888888888888888,
              "#fdca26"
             ],
             [
              1,
              "#f0f921"
             ]
            ],
            "type": "heatmap"
           }
          ],
          "heatmapgl": [
           {
            "colorbar": {
             "outlinewidth": 0,
             "ticks": ""
            },
            "colorscale": [
             [
              0,
              "#0d0887"
             ],
             [
              0.1111111111111111,
              "#46039f"
             ],
             [
              0.2222222222222222,
              "#7201a8"
             ],
             [
              0.3333333333333333,
              "#9c179e"
             ],
             [
              0.4444444444444444,
              "#bd3786"
             ],
             [
              0.5555555555555556,
              "#d8576b"
             ],
             [
              0.6666666666666666,
              "#ed7953"
             ],
             [
              0.7777777777777778,
              "#fb9f3a"
             ],
             [
              0.8888888888888888,
              "#fdca26"
             ],
             [
              1,
              "#f0f921"
             ]
            ],
            "type": "heatmapgl"
           }
          ],
          "histogram": [
           {
            "marker": {
             "pattern": {
              "fillmode": "overlay",
              "size": 10,
              "solidity": 0.2
             }
            },
            "type": "histogram"
           }
          ],
          "histogram2d": [
           {
            "colorbar": {
             "outlinewidth": 0,
             "ticks": ""
            },
            "colorscale": [
             [
              0,
              "#0d0887"
             ],
             [
              0.1111111111111111,
              "#46039f"
             ],
             [
              0.2222222222222222,
              "#7201a8"
             ],
             [
              0.3333333333333333,
              "#9c179e"
             ],
             [
              0.4444444444444444,
              "#bd3786"
             ],
             [
              0.5555555555555556,
              "#d8576b"
             ],
             [
              0.6666666666666666,
              "#ed7953"
             ],
             [
              0.7777777777777778,
              "#fb9f3a"
             ],
             [
              0.8888888888888888,
              "#fdca26"
             ],
             [
              1,
              "#f0f921"
             ]
            ],
            "type": "histogram2d"
           }
          ],
          "histogram2dcontour": [
           {
            "colorbar": {
             "outlinewidth": 0,
             "ticks": ""
            },
            "colorscale": [
             [
              0,
              "#0d0887"
             ],
             [
              0.1111111111111111,
              "#46039f"
             ],
             [
              0.2222222222222222,
              "#7201a8"
             ],
             [
              0.3333333333333333,
              "#9c179e"
             ],
             [
              0.4444444444444444,
              "#bd3786"
             ],
             [
              0.5555555555555556,
              "#d8576b"
             ],
             [
              0.6666666666666666,
              "#ed7953"
             ],
             [
              0.7777777777777778,
              "#fb9f3a"
             ],
             [
              0.8888888888888888,
              "#fdca26"
             ],
             [
              1,
              "#f0f921"
             ]
            ],
            "type": "histogram2dcontour"
           }
          ],
          "mesh3d": [
           {
            "colorbar": {
             "outlinewidth": 0,
             "ticks": ""
            },
            "type": "mesh3d"
           }
          ],
          "parcoords": [
           {
            "line": {
             "colorbar": {
              "outlinewidth": 0,
              "ticks": ""
             }
            },
            "type": "parcoords"
           }
          ],
          "pie": [
           {
            "automargin": true,
            "type": "pie"
           }
          ],
          "scatter": [
           {
            "marker": {
             "colorbar": {
              "outlinewidth": 0,
              "ticks": ""
             }
            },
            "type": "scatter"
           }
          ],
          "scatter3d": [
           {
            "line": {
             "colorbar": {
              "outlinewidth": 0,
              "ticks": ""
             }
            },
            "marker": {
             "colorbar": {
              "outlinewidth": 0,
              "ticks": ""
             }
            },
            "type": "scatter3d"
           }
          ],
          "scattercarpet": [
           {
            "marker": {
             "colorbar": {
              "outlinewidth": 0,
              "ticks": ""
             }
            },
            "type": "scattercarpet"
           }
          ],
          "scattergeo": [
           {
            "marker": {
             "colorbar": {
              "outlinewidth": 0,
              "ticks": ""
             }
            },
            "type": "scattergeo"
           }
          ],
          "scattergl": [
           {
            "marker": {
             "colorbar": {
              "outlinewidth": 0,
              "ticks": ""
             }
            },
            "type": "scattergl"
           }
          ],
          "scattermapbox": [
           {
            "marker": {
             "colorbar": {
              "outlinewidth": 0,
              "ticks": ""
             }
            },
            "type": "scattermapbox"
           }
          ],
          "scatterpolar": [
           {
            "marker": {
             "colorbar": {
              "outlinewidth": 0,
              "ticks": ""
             }
            },
            "type": "scatterpolar"
           }
          ],
          "scatterpolargl": [
           {
            "marker": {
             "colorbar": {
              "outlinewidth": 0,
              "ticks": ""
             }
            },
            "type": "scatterpolargl"
           }
          ],
          "scatterternary": [
           {
            "marker": {
             "colorbar": {
              "outlinewidth": 0,
              "ticks": ""
             }
            },
            "type": "scatterternary"
           }
          ],
          "surface": [
           {
            "colorbar": {
             "outlinewidth": 0,
             "ticks": ""
            },
            "colorscale": [
             [
              0,
              "#0d0887"
             ],
             [
              0.1111111111111111,
              "#46039f"
             ],
             [
              0.2222222222222222,
              "#7201a8"
             ],
             [
              0.3333333333333333,
              "#9c179e"
             ],
             [
              0.4444444444444444,
              "#bd3786"
             ],
             [
              0.5555555555555556,
              "#d8576b"
             ],
             [
              0.6666666666666666,
              "#ed7953"
             ],
             [
              0.7777777777777778,
              "#fb9f3a"
             ],
             [
              0.8888888888888888,
              "#fdca26"
             ],
             [
              1,
              "#f0f921"
             ]
            ],
            "type": "surface"
           }
          ],
          "table": [
           {
            "cells": {
             "fill": {
              "color": "#EBF0F8"
             },
             "line": {
              "color": "white"
             }
            },
            "header": {
             "fill": {
              "color": "#C8D4E3"
             },
             "line": {
              "color": "white"
             }
            },
            "type": "table"
           }
          ]
         },
         "layout": {
          "annotationdefaults": {
           "arrowcolor": "#2a3f5f",
           "arrowhead": 0,
           "arrowwidth": 1
          },
          "autotypenumbers": "strict",
          "coloraxis": {
           "colorbar": {
            "outlinewidth": 0,
            "ticks": ""
           }
          },
          "colorscale": {
           "diverging": [
            [
             0,
             "#8e0152"
            ],
            [
             0.1,
             "#c51b7d"
            ],
            [
             0.2,
             "#de77ae"
            ],
            [
             0.3,
             "#f1b6da"
            ],
            [
             0.4,
             "#fde0ef"
            ],
            [
             0.5,
             "#f7f7f7"
            ],
            [
             0.6,
             "#e6f5d0"
            ],
            [
             0.7,
             "#b8e186"
            ],
            [
             0.8,
             "#7fbc41"
            ],
            [
             0.9,
             "#4d9221"
            ],
            [
             1,
             "#276419"
            ]
           ],
           "sequential": [
            [
             0,
             "#0d0887"
            ],
            [
             0.1111111111111111,
             "#46039f"
            ],
            [
             0.2222222222222222,
             "#7201a8"
            ],
            [
             0.3333333333333333,
             "#9c179e"
            ],
            [
             0.4444444444444444,
             "#bd3786"
            ],
            [
             0.5555555555555556,
             "#d8576b"
            ],
            [
             0.6666666666666666,
             "#ed7953"
            ],
            [
             0.7777777777777778,
             "#fb9f3a"
            ],
            [
             0.8888888888888888,
             "#fdca26"
            ],
            [
             1,
             "#f0f921"
            ]
           ],
           "sequentialminus": [
            [
             0,
             "#0d0887"
            ],
            [
             0.1111111111111111,
             "#46039f"
            ],
            [
             0.2222222222222222,
             "#7201a8"
            ],
            [
             0.3333333333333333,
             "#9c179e"
            ],
            [
             0.4444444444444444,
             "#bd3786"
            ],
            [
             0.5555555555555556,
             "#d8576b"
            ],
            [
             0.6666666666666666,
             "#ed7953"
            ],
            [
             0.7777777777777778,
             "#fb9f3a"
            ],
            [
             0.8888888888888888,
             "#fdca26"
            ],
            [
             1,
             "#f0f921"
            ]
           ]
          },
          "colorway": [
           "#636efa",
           "#EF553B",
           "#00cc96",
           "#ab63fa",
           "#FFA15A",
           "#19d3f3",
           "#FF6692",
           "#B6E880",
           "#FF97FF",
           "#FECB52"
          ],
          "font": {
           "color": "#2a3f5f"
          },
          "geo": {
           "bgcolor": "white",
           "lakecolor": "white",
           "landcolor": "#E5ECF6",
           "showlakes": true,
           "showland": true,
           "subunitcolor": "white"
          },
          "hoverlabel": {
           "align": "left"
          },
          "hovermode": "closest",
          "mapbox": {
           "style": "light"
          },
          "paper_bgcolor": "white",
          "plot_bgcolor": "#E5ECF6",
          "polar": {
           "angularaxis": {
            "gridcolor": "white",
            "linecolor": "white",
            "ticks": ""
           },
           "bgcolor": "#E5ECF6",
           "radialaxis": {
            "gridcolor": "white",
            "linecolor": "white",
            "ticks": ""
           }
          },
          "scene": {
           "xaxis": {
            "backgroundcolor": "#E5ECF6",
            "gridcolor": "white",
            "gridwidth": 2,
            "linecolor": "white",
            "showbackground": true,
            "ticks": "",
            "zerolinecolor": "white"
           },
           "yaxis": {
            "backgroundcolor": "#E5ECF6",
            "gridcolor": "white",
            "gridwidth": 2,
            "linecolor": "white",
            "showbackground": true,
            "ticks": "",
            "zerolinecolor": "white"
           },
           "zaxis": {
            "backgroundcolor": "#E5ECF6",
            "gridcolor": "white",
            "gridwidth": 2,
            "linecolor": "white",
            "showbackground": true,
            "ticks": "",
            "zerolinecolor": "white"
           }
          },
          "shapedefaults": {
           "line": {
            "color": "#2a3f5f"
           }
          },
          "ternary": {
           "aaxis": {
            "gridcolor": "white",
            "linecolor": "white",
            "ticks": ""
           },
           "baxis": {
            "gridcolor": "white",
            "linecolor": "white",
            "ticks": ""
           },
           "bgcolor": "#E5ECF6",
           "caxis": {
            "gridcolor": "white",
            "linecolor": "white",
            "ticks": ""
           }
          },
          "title": {
           "x": 0.05
          },
          "xaxis": {
           "automargin": true,
           "gridcolor": "white",
           "linecolor": "white",
           "ticks": "",
           "title": {
            "standoff": 15
           },
           "zerolinecolor": "white",
           "zerolinewidth": 2
          },
          "yaxis": {
           "automargin": true,
           "gridcolor": "white",
           "linecolor": "white",
           "ticks": "",
           "title": {
            "standoff": 15
           },
           "zerolinecolor": "white",
           "zerolinewidth": 2
          }
         }
        },
        "xaxis": {
         "anchor": "y",
         "domain": [
          0,
          1
         ],
         "title": {
          "text": "counts_avg"
         }
        },
        "yaxis": {
         "anchor": "x",
         "domain": [
          0,
          1
         ]
        }
       }
      },
      "text/html": [
       "<div>                            <div id=\"38f89690-34a1-4bd8-b349-2353ac61e00f\" class=\"plotly-graph-div\" style=\"height:525px; width:100%;\"></div>            <script type=\"text/javascript\">                require([\"plotly\"], function(Plotly) {                    window.PLOTLYENV=window.PLOTLYENV || {};                                    if (document.getElementById(\"38f89690-34a1-4bd8-b349-2353ac61e00f\")) {                    Plotly.newPlot(                        \"38f89690-34a1-4bd8-b349-2353ac61e00f\",                        [{\"alignmentgroup\":\"True\",\"hovertemplate\":\"counts_avg=%{x}<extra></extra>\",\"legendgroup\":\"\",\"marker\":{\"color\":\"#636efa\"},\"name\":\"\",\"notched\":false,\"offsetgroup\":\"\",\"orientation\":\"h\",\"showlegend\":false,\"type\":\"box\",\"x\":[0.022962112514351322,0.38424331334779094,0.3994595785640562,0.6993006993006994,0.7530993461727117,1.0004687948244813,1.0429120198933106,1.1396011396011394,1.4174379097650065,2.465608790455147,3.0009307022130227,3.1939736527279345,3.4467444164825114,3.790602253956567,4.264248709376014,6.555870421551337,9.648835983772734,10.354213569809161,11.572683528621525,13.50650826425536,21.340294792795135],\"x0\":\" \",\"xaxis\":\"x\",\"y0\":\" \",\"yaxis\":\"y\"}],                        {\"boxmode\":\"group\",\"legend\":{\"tracegroupgap\":0},\"margin\":{\"t\":60},\"template\":{\"data\":{\"bar\":[{\"error_x\":{\"color\":\"#2a3f5f\"},\"error_y\":{\"color\":\"#2a3f5f\"},\"marker\":{\"line\":{\"color\":\"#E5ECF6\",\"width\":0.5},\"pattern\":{\"fillmode\":\"overlay\",\"size\":10,\"solidity\":0.2}},\"type\":\"bar\"}],\"barpolar\":[{\"marker\":{\"line\":{\"color\":\"#E5ECF6\",\"width\":0.5},\"pattern\":{\"fillmode\":\"overlay\",\"size\":10,\"solidity\":0.2}},\"type\":\"barpolar\"}],\"carpet\":[{\"aaxis\":{\"endlinecolor\":\"#2a3f5f\",\"gridcolor\":\"white\",\"linecolor\":\"white\",\"minorgridcolor\":\"white\",\"startlinecolor\":\"#2a3f5f\"},\"baxis\":{\"endlinecolor\":\"#2a3f5f\",\"gridcolor\":\"white\",\"linecolor\":\"white\",\"minorgridcolor\":\"white\",\"startlinecolor\":\"#2a3f5f\"},\"type\":\"carpet\"}],\"choropleth\":[{\"colorbar\":{\"outlinewidth\":0,\"ticks\":\"\"},\"type\":\"choropleth\"}],\"contour\":[{\"colorbar\":{\"outlinewidth\":0,\"ticks\":\"\"},\"colorscale\":[[0.0,\"#0d0887\"],[0.1111111111111111,\"#46039f\"],[0.2222222222222222,\"#7201a8\"],[0.3333333333333333,\"#9c179e\"],[0.4444444444444444,\"#bd3786\"],[0.5555555555555556,\"#d8576b\"],[0.6666666666666666,\"#ed7953\"],[0.7777777777777778,\"#fb9f3a\"],[0.8888888888888888,\"#fdca26\"],[1.0,\"#f0f921\"]],\"type\":\"contour\"}],\"contourcarpet\":[{\"colorbar\":{\"outlinewidth\":0,\"ticks\":\"\"},\"type\":\"contourcarpet\"}],\"heatmap\":[{\"colorbar\":{\"outlinewidth\":0,\"ticks\":\"\"},\"colorscale\":[[0.0,\"#0d0887\"],[0.1111111111111111,\"#46039f\"],[0.2222222222222222,\"#7201a8\"],[0.3333333333333333,\"#9c179e\"],[0.4444444444444444,\"#bd3786\"],[0.5555555555555556,\"#d8576b\"],[0.6666666666666666,\"#ed7953\"],[0.7777777777777778,\"#fb9f3a\"],[0.8888888888888888,\"#fdca26\"],[1.0,\"#f0f921\"]],\"type\":\"heatmap\"}],\"heatmapgl\":[{\"colorbar\":{\"outlinewidth\":0,\"ticks\":\"\"},\"colorscale\":[[0.0,\"#0d0887\"],[0.1111111111111111,\"#46039f\"],[0.2222222222222222,\"#7201a8\"],[0.3333333333333333,\"#9c179e\"],[0.4444444444444444,\"#bd3786\"],[0.5555555555555556,\"#d8576b\"],[0.6666666666666666,\"#ed7953\"],[0.7777777777777778,\"#fb9f3a\"],[0.8888888888888888,\"#fdca26\"],[1.0,\"#f0f921\"]],\"type\":\"heatmapgl\"}],\"histogram\":[{\"marker\":{\"pattern\":{\"fillmode\":\"overlay\",\"size\":10,\"solidity\":0.2}},\"type\":\"histogram\"}],\"histogram2d\":[{\"colorbar\":{\"outlinewidth\":0,\"ticks\":\"\"},\"colorscale\":[[0.0,\"#0d0887\"],[0.1111111111111111,\"#46039f\"],[0.2222222222222222,\"#7201a8\"],[0.3333333333333333,\"#9c179e\"],[0.4444444444444444,\"#bd3786\"],[0.5555555555555556,\"#d8576b\"],[0.6666666666666666,\"#ed7953\"],[0.7777777777777778,\"#fb9f3a\"],[0.8888888888888888,\"#fdca26\"],[1.0,\"#f0f921\"]],\"type\":\"histogram2d\"}],\"histogram2dcontour\":[{\"colorbar\":{\"outlinewidth\":0,\"ticks\":\"\"},\"colorscale\":[[0.0,\"#0d0887\"],[0.1111111111111111,\"#46039f\"],[0.2222222222222222,\"#7201a8\"],[0.3333333333333333,\"#9c179e\"],[0.4444444444444444,\"#bd3786\"],[0.5555555555555556,\"#d8576b\"],[0.6666666666666666,\"#ed7953\"],[0.7777777777777778,\"#fb9f3a\"],[0.8888888888888888,\"#fdca26\"],[1.0,\"#f0f921\"]],\"type\":\"histogram2dcontour\"}],\"mesh3d\":[{\"colorbar\":{\"outlinewidth\":0,\"ticks\":\"\"},\"type\":\"mesh3d\"}],\"parcoords\":[{\"line\":{\"colorbar\":{\"outlinewidth\":0,\"ticks\":\"\"}},\"type\":\"parcoords\"}],\"pie\":[{\"automargin\":true,\"type\":\"pie\"}],\"scatter\":[{\"marker\":{\"colorbar\":{\"outlinewidth\":0,\"ticks\":\"\"}},\"type\":\"scatter\"}],\"scatter3d\":[{\"line\":{\"colorbar\":{\"outlinewidth\":0,\"ticks\":\"\"}},\"marker\":{\"colorbar\":{\"outlinewidth\":0,\"ticks\":\"\"}},\"type\":\"scatter3d\"}],\"scattercarpet\":[{\"marker\":{\"colorbar\":{\"outlinewidth\":0,\"ticks\":\"\"}},\"type\":\"scattercarpet\"}],\"scattergeo\":[{\"marker\":{\"colorbar\":{\"outlinewidth\":0,\"ticks\":\"\"}},\"type\":\"scattergeo\"}],\"scattergl\":[{\"marker\":{\"colorbar\":{\"outlinewidth\":0,\"ticks\":\"\"}},\"type\":\"scattergl\"}],\"scattermapbox\":[{\"marker\":{\"colorbar\":{\"outlinewidth\":0,\"ticks\":\"\"}},\"type\":\"scattermapbox\"}],\"scatterpolar\":[{\"marker\":{\"colorbar\":{\"outlinewidth\":0,\"ticks\":\"\"}},\"type\":\"scatterpolar\"}],\"scatterpolargl\":[{\"marker\":{\"colorbar\":{\"outlinewidth\":0,\"ticks\":\"\"}},\"type\":\"scatterpolargl\"}],\"scatterternary\":[{\"marker\":{\"colorbar\":{\"outlinewidth\":0,\"ticks\":\"\"}},\"type\":\"scatterternary\"}],\"surface\":[{\"colorbar\":{\"outlinewidth\":0,\"ticks\":\"\"},\"colorscale\":[[0.0,\"#0d0887\"],[0.1111111111111111,\"#46039f\"],[0.2222222222222222,\"#7201a8\"],[0.3333333333333333,\"#9c179e\"],[0.4444444444444444,\"#bd3786\"],[0.5555555555555556,\"#d8576b\"],[0.6666666666666666,\"#ed7953\"],[0.7777777777777778,\"#fb9f3a\"],[0.8888888888888888,\"#fdca26\"],[1.0,\"#f0f921\"]],\"type\":\"surface\"}],\"table\":[{\"cells\":{\"fill\":{\"color\":\"#EBF0F8\"},\"line\":{\"color\":\"white\"}},\"header\":{\"fill\":{\"color\":\"#C8D4E3\"},\"line\":{\"color\":\"white\"}},\"type\":\"table\"}]},\"layout\":{\"annotationdefaults\":{\"arrowcolor\":\"#2a3f5f\",\"arrowhead\":0,\"arrowwidth\":1},\"autotypenumbers\":\"strict\",\"coloraxis\":{\"colorbar\":{\"outlinewidth\":0,\"ticks\":\"\"}},\"colorscale\":{\"diverging\":[[0,\"#8e0152\"],[0.1,\"#c51b7d\"],[0.2,\"#de77ae\"],[0.3,\"#f1b6da\"],[0.4,\"#fde0ef\"],[0.5,\"#f7f7f7\"],[0.6,\"#e6f5d0\"],[0.7,\"#b8e186\"],[0.8,\"#7fbc41\"],[0.9,\"#4d9221\"],[1,\"#276419\"]],\"sequential\":[[0.0,\"#0d0887\"],[0.1111111111111111,\"#46039f\"],[0.2222222222222222,\"#7201a8\"],[0.3333333333333333,\"#9c179e\"],[0.4444444444444444,\"#bd3786\"],[0.5555555555555556,\"#d8576b\"],[0.6666666666666666,\"#ed7953\"],[0.7777777777777778,\"#fb9f3a\"],[0.8888888888888888,\"#fdca26\"],[1.0,\"#f0f921\"]],\"sequentialminus\":[[0.0,\"#0d0887\"],[0.1111111111111111,\"#46039f\"],[0.2222222222222222,\"#7201a8\"],[0.3333333333333333,\"#9c179e\"],[0.4444444444444444,\"#bd3786\"],[0.5555555555555556,\"#d8576b\"],[0.6666666666666666,\"#ed7953\"],[0.7777777777777778,\"#fb9f3a\"],[0.8888888888888888,\"#fdca26\"],[1.0,\"#f0f921\"]]},\"colorway\":[\"#636efa\",\"#EF553B\",\"#00cc96\",\"#ab63fa\",\"#FFA15A\",\"#19d3f3\",\"#FF6692\",\"#B6E880\",\"#FF97FF\",\"#FECB52\"],\"font\":{\"color\":\"#2a3f5f\"},\"geo\":{\"bgcolor\":\"white\",\"lakecolor\":\"white\",\"landcolor\":\"#E5ECF6\",\"showlakes\":true,\"showland\":true,\"subunitcolor\":\"white\"},\"hoverlabel\":{\"align\":\"left\"},\"hovermode\":\"closest\",\"mapbox\":{\"style\":\"light\"},\"paper_bgcolor\":\"white\",\"plot_bgcolor\":\"#E5ECF6\",\"polar\":{\"angularaxis\":{\"gridcolor\":\"white\",\"linecolor\":\"white\",\"ticks\":\"\"},\"bgcolor\":\"#E5ECF6\",\"radialaxis\":{\"gridcolor\":\"white\",\"linecolor\":\"white\",\"ticks\":\"\"}},\"scene\":{\"xaxis\":{\"backgroundcolor\":\"#E5ECF6\",\"gridcolor\":\"white\",\"gridwidth\":2,\"linecolor\":\"white\",\"showbackground\":true,\"ticks\":\"\",\"zerolinecolor\":\"white\"},\"yaxis\":{\"backgroundcolor\":\"#E5ECF6\",\"gridcolor\":\"white\",\"gridwidth\":2,\"linecolor\":\"white\",\"showbackground\":true,\"ticks\":\"\",\"zerolinecolor\":\"white\"},\"zaxis\":{\"backgroundcolor\":\"#E5ECF6\",\"gridcolor\":\"white\",\"gridwidth\":2,\"linecolor\":\"white\",\"showbackground\":true,\"ticks\":\"\",\"zerolinecolor\":\"white\"}},\"shapedefaults\":{\"line\":{\"color\":\"#2a3f5f\"}},\"ternary\":{\"aaxis\":{\"gridcolor\":\"white\",\"linecolor\":\"white\",\"ticks\":\"\"},\"baxis\":{\"gridcolor\":\"white\",\"linecolor\":\"white\",\"ticks\":\"\"},\"bgcolor\":\"#E5ECF6\",\"caxis\":{\"gridcolor\":\"white\",\"linecolor\":\"white\",\"ticks\":\"\"}},\"title\":{\"x\":0.05},\"xaxis\":{\"automargin\":true,\"gridcolor\":\"white\",\"linecolor\":\"white\",\"ticks\":\"\",\"title\":{\"standoff\":15},\"zerolinecolor\":\"white\",\"zerolinewidth\":2},\"yaxis\":{\"automargin\":true,\"gridcolor\":\"white\",\"linecolor\":\"white\",\"ticks\":\"\",\"title\":{\"standoff\":15},\"zerolinecolor\":\"white\",\"zerolinewidth\":2}}},\"xaxis\":{\"anchor\":\"y\",\"domain\":[0.0,1.0],\"title\":{\"text\":\"counts_avg\"}},\"yaxis\":{\"anchor\":\"x\",\"domain\":[0.0,1.0]}},                        {\"responsive\": true}                    ).then(function(){\n",
       "                            \n",
       "var gd = document.getElementById('38f89690-34a1-4bd8-b349-2353ac61e00f');\n",
       "var x = new MutationObserver(function (mutations, observer) {{\n",
       "        var display = window.getComputedStyle(gd).display;\n",
       "        if (!display || display === 'none') {{\n",
       "            console.log([gd, 'removed!']);\n",
       "            Plotly.purge(gd);\n",
       "            observer.disconnect();\n",
       "        }}\n",
       "}});\n",
       "\n",
       "// Listen for the removal of the full notebook cells\n",
       "var notebookContainer = gd.closest('#notebook-container');\n",
       "if (notebookContainer) {{\n",
       "    x.observe(notebookContainer, {childList: true});\n",
       "}}\n",
       "\n",
       "// Listen for the clearing of the current output cell\n",
       "var outputEl = gd.closest('.output');\n",
       "if (outputEl) {{\n",
       "    x.observe(outputEl, {childList: true});\n",
       "}}\n",
       "\n",
       "                        })                };                });            </script>        </div>"
      ]
     },
     "metadata": {},
     "output_type": "display_data"
    }
   ],
   "source": [
    "fig = px.box(hmp_df, x=\"counts_avg\")\n",
    "fig.show()"
   ]
  },
  {
   "cell_type": "code",
   "execution_count": 28,
   "id": "8e4c7274",
   "metadata": {},
   "outputs": [],
   "source": [
    "kw_stats = dict.fromkeys(header)"
   ]
  },
  {
   "cell_type": "code",
   "execution_count": null,
   "id": "1a3733c9",
   "metadata": {},
   "outputs": [],
   "source": [
    "x:100=g:len"
   ]
  },
  {
   "cell_type": "code",
   "execution_count": 483,
   "id": "b4e59b84",
   "metadata": {},
   "outputs": [
    {
     "data": {
      "text/plain": [
       "11.939355653821858"
      ]
     },
     "execution_count": 483,
     "metadata": {},
     "output_type": "execute_result"
    }
   ],
   "source": [
    "100*ge/len(df_all[df_all.topic=='climate'])"
   ]
  },
  {
   "cell_type": "code",
   "execution_count": null,
   "id": "677a086f",
   "metadata": {},
   "outputs": [],
   "source": []
  },
  {
   "cell_type": "code",
   "execution_count": 48,
   "id": "0ac2e8d1",
   "metadata": {},
   "outputs": [
    {
     "name": "stdout",
     "output_type": "stream",
     "text": [
      "at Thought control\n",
      "cz Brain implant\n",
      "de Neurotechnology\n",
      "es Neurotechnology\n",
      "fr Brain computer interface\n",
      "gb Brain computer interface\n",
      "ie Brain chip\n",
      "it Cyborg\n",
      "nl Cyborg\n",
      "ro Cyborg\n",
      "rs Brain to brain\n",
      "se Cyborg\n",
      "us Brain computer interface\n"
     ]
    }
   ],
   "source": [
    "top1 = []\n",
    "for c in countries:\n",
    "    \n",
    "    top1c = hmp_df[[c,'kw']].sort_values(by=[c], ascending=False).reset_index(drop=True)['kw'][0]\n",
    "    top1.append(top1c)\n",
    "    print(c + ' ' + top1c)"
   ]
  },
  {
   "cell_type": "code",
   "execution_count": 469,
   "id": "5789827e",
   "metadata": {},
   "outputs": [
    {
     "data": {
      "text/plain": [
       "[('Afforestation', 4),\n",
       " ('Green hydrogen', 4),\n",
       " ('Carbon capture', 3),\n",
       " ('Reforestation', 1),\n",
       " ('Carbon storage', 1)]"
      ]
     },
     "execution_count": 469,
     "metadata": {},
     "output_type": "execute_result"
    }
   ],
   "source": [
    "Counter(top1).most_common()"
   ]
  },
  {
   "cell_type": "markdown",
   "id": "b25dee8e",
   "metadata": {},
   "source": [
    "# Outlet type"
   ]
  },
  {
   "cell_type": "code",
   "execution_count": 504,
   "id": "3f1eb2e8",
   "metadata": {},
   "outputs": [],
   "source": [
    "outlets_dict = dict.fromkeys(countries)"
   ]
  },
  {
   "cell_type": "code",
   "execution_count": 505,
   "id": "46e5c0ea",
   "metadata": {},
   "outputs": [],
   "source": [
    "PATH_MAIN =\"/Users/ilariabonavitacorp/Library/CloudStorage/OneDrive-TrilateralResearchLtd/trilateralResearch/TechEthos/media_analysis/analysis/\"\n",
    "for c in countries:\n",
    "    df_outlets_tmp = pd.read_excel(PATH_MAIN + c + '/data/outlets_annotation.xlsx')\n",
    "    \n",
    "    outlets_dict[c]=df_outlets_tmp.set_index('domain').T.to_dict()\n",
    "\n"
   ]
  },
  {
   "cell_type": "code",
   "execution_count": 506,
   "id": "a437458b",
   "metadata": {},
   "outputs": [
    {
     "name": "stderr",
     "output_type": "stream",
     "text": [
      "/Users/ilariabonavitacorp/.conda/envs/newscrawl/lib/python3.8/site-packages/pandas/core/indexing.py:1732: SettingWithCopyWarning:\n",
      "\n",
      "\n",
      "A value is trying to be set on a copy of a slice from a DataFrame\n",
      "\n",
      "See the caveats in the documentation: https://pandas.pydata.org/pandas-docs/stable/user_guide/indexing.html#returning-a-view-versus-a-copy\n",
      "\n"
     ]
    },
    {
     "name": "stdout",
     "output_type": "stream",
     "text": [
      "de golem\n",
      "de bondguide\n",
      "de rtl\n",
      "de spiegel\n",
      "de bondguide\n",
      "de bondguide\n",
      "de bondguide\n",
      "de golem\n",
      "de golem\n",
      "it milano\n",
      "it bufale\n",
      "it fcinternews\n",
      "it fcinternews\n",
      "it milano\n",
      "it ilfattonisseno\n",
      "it bufale\n",
      "it calciomercato\n",
      "nl rtvnoord\n",
      "rs niskevesti\n",
      "rs balkans\n",
      "rs mojnovisad\n",
      "rs balkans\n",
      "rs standard\n",
      "rs espreso\n",
      "rs mondo\n"
     ]
    }
   ],
   "source": [
    "df_all['dom_type'] = None\n",
    "df_all['dom_topic'] = None\n",
    "nonedom = []\n",
    "for i, r in df_all.iterrows():\n",
    "    domain = r['domain']\n",
    "    c = r['country']\n",
    "    try:\n",
    "        df_all['dom_type'].iloc[i] = outlets_dict[c][domain]['type']\n",
    "        df_all['dom_topic'].iloc[i] = outlets_dict[c][domain]['topic']\n",
    "    except:\n",
    "        nonedom.append(domain)\n",
    "        print(c + ' ' + domain)\n",
    "        df_all['dom_type'].iloc[i] = None\n",
    "        df_all['dom_topic'].iloc[i] = None"
   ]
  },
  {
   "cell_type": "code",
   "execution_count": 50,
   "id": "749af129",
   "metadata": {},
   "outputs": [
    {
     "data": {
      "text/plain": [
       "[('Unsure', 323),\n",
       " ('GENERAL_NEWS', 119),\n",
       " ('TV_RADIO', 57),\n",
       " ('TABLOID', 51),\n",
       " ('LOCAL', 42),\n",
       " ('Other', 27),\n",
       " ('FREESHEET', 23),\n",
       " ('MAGAZINE', 22),\n",
       " ('NEWS_AGENCY', 13),\n",
       " ('NEWS_AGGREGATOR', 8),\n",
       " ('OTHER', 2),\n",
       " (None, 1)]"
      ]
     },
     "execution_count": 50,
     "metadata": {},
     "output_type": "execute_result"
    }
   ],
   "source": [
    "Counter(list(df_all[df_all.topic=='neurotech']['dom_type'])).most_common()"
   ]
  },
  {
   "cell_type": "code",
   "execution_count": 54,
   "id": "71be09fd",
   "metadata": {},
   "outputs": [
    {
     "data": {
      "text/plain": [
       "8.284883720930232"
      ]
     },
     "execution_count": 54,
     "metadata": {},
     "output_type": "execute_result"
    }
   ],
   "source": [
    "57/len(df_all[df_all.topic=='neurotech'])*100"
   ]
  },
  {
   "cell_type": "code",
   "execution_count": 60,
   "id": "003bf857",
   "metadata": {},
   "outputs": [
    {
     "data": {
      "text/plain": [
       "3.2217308907138342"
      ]
     },
     "execution_count": 60,
     "metadata": {},
     "output_type": "execute_result"
    }
   ],
   "source": [
    "153/len(df_all[df_all.topic=='climate'])*100"
   ]
  },
  {
   "cell_type": "code",
   "execution_count": 507,
   "id": "6aed52fc",
   "metadata": {},
   "outputs": [
    {
     "data": {
      "text/plain": [
       "[('GENERAL', 3565),\n",
       " ('TECH', 3284),\n",
       " ('ECONOMY', 544),\n",
       " ('CULTURE', 289),\n",
       " ('Other', 259),\n",
       " ('SCIENCE', 146),\n",
       " (None, 17),\n",
       " ('Unsure', 10),\n",
       " (nan, 1)]"
      ]
     },
     "execution_count": 507,
     "metadata": {},
     "output_type": "execute_result"
    }
   ],
   "source": [
    "Counter(list(df_all[df_all.topic=='digitalxr']['dom_topic'])).most_common()"
   ]
  },
  {
   "cell_type": "code",
   "execution_count": 952,
   "id": "d35db4a9",
   "metadata": {},
   "outputs": [
    {
     "data": {
      "text/plain": [
       "[('GENERAL', 2906),\n",
       " ('TECH', 2321),\n",
       " (None, 1871),\n",
       " ('ECONOMY', 364),\n",
       " ('CULTURE', 289),\n",
       " ('Other', 207),\n",
       " ('SCIENCE', 146),\n",
       " ('Unsure', 10),\n",
       " (nan, 1)]"
      ]
     },
     "execution_count": 952,
     "metadata": {},
     "output_type": "execute_result"
    }
   ],
   "source": [
    "Counter(list(df_all[df_all.topic=='digitalxr']['dom_topic'])).most_common()"
   ]
  },
  {
   "cell_type": "markdown",
   "id": "43d47857",
   "metadata": {},
   "source": [
    "# Neuralink"
   ]
  },
  {
   "cell_type": "code",
   "execution_count": 29,
   "id": "9b1b24b6",
   "metadata": {},
   "outputs": [],
   "source": [
    "df_nt = df_all[df_all.topic=='neurotech'].reset_index(drop=True)"
   ]
  },
  {
   "cell_type": "code",
   "execution_count": 30,
   "id": "d20a9e8c",
   "metadata": {},
   "outputs": [
    {
     "data": {
      "text/plain": [
       "688"
      ]
     },
     "execution_count": 30,
     "metadata": {},
     "output_type": "execute_result"
    }
   ],
   "source": [
    "len(df_nt)"
   ]
  },
  {
   "cell_type": "code",
   "execution_count": 31,
   "id": "84799681",
   "metadata": {},
   "outputs": [
    {
     "data": {
      "text/plain": [
       "us    251\n",
       "gb    117\n",
       "fr     58\n",
       "it     49\n",
       "de     48\n",
       "ro     44\n",
       "rs     28\n",
       "cz     26\n",
       "ie     25\n",
       "es     15\n",
       "se     14\n",
       "at     10\n",
       "nl      3\n",
       "Name: country, dtype: int64"
      ]
     },
     "execution_count": 31,
     "metadata": {},
     "output_type": "execute_result"
    }
   ],
   "source": [
    "df_nt.country.value_counts()"
   ]
  },
  {
   "cell_type": "code",
   "execution_count": 63,
   "id": "09e61f60",
   "metadata": {},
   "outputs": [
    {
     "name": "stdout",
     "output_type": "stream",
     "text": [
      "Facebook zeigt Armband für Gedankensteuerung - OE24\n",
      "Das Leben ist eine große Leinwand. Wirf soviel Farbe wie ...\n",
      "Hirnimplantat machts möglich: Gelähmter kann mit Gedankenkraft schreiben\n",
      "Muskeln aufbauen: Selbsttest soll zeigen, welche Muskeln Sie schnell auftrainieren können\n",
      "Sprache direkt aus dem Gehirn\n",
      "USA: Forschern übersetzen Gehirnströme eines gelähmten Mannes in Worte\n"
     ]
    }
   ],
   "source": [
    "ids_em = []\n",
    "tsl = []\n",
    "for i,r in df_nt.iterrows():\n",
    "    txt = str(r['text']) + ' ' + str(r['title'])\n",
    "    try:\n",
    "        if ('Elon Musk' in txt) or  ('Neuralink' in txt):\n",
    "            ids_em.append(i)\n",
    "        elif 'Ilon Mask' in txt:\n",
    "            #print(r['country'])\n",
    "            #print(r['title'])\n",
    "            ids_em.append(i)\n",
    "        elif'Musk' in txt:\n",
    "            print(r['title'])\n",
    "            ids_em.append(i)\n",
    "    except:\n",
    "        print('')\n",
    "        #print(r['title'])"
   ]
  },
  {
   "cell_type": "code",
   "execution_count": 64,
   "id": "8e165656",
   "metadata": {},
   "outputs": [
    {
     "data": {
      "text/plain": [
       "239"
      ]
     },
     "execution_count": 64,
     "metadata": {},
     "output_type": "execute_result"
    }
   ],
   "source": [
    "len(ids_em)"
   ]
  },
  {
   "cell_type": "code",
   "execution_count": 46,
   "id": "abaa98e1",
   "metadata": {},
   "outputs": [
    {
     "data": {
      "text/plain": [
       "4"
      ]
     },
     "execution_count": 46,
     "metadata": {},
     "output_type": "execute_result"
    }
   ],
   "source": [
    "len(tsl)"
   ]
  },
  {
   "cell_type": "code",
   "execution_count": 65,
   "id": "b1627209",
   "metadata": {},
   "outputs": [
    {
     "data": {
      "text/plain": [
       "34.883720930232556"
      ]
     },
     "execution_count": 65,
     "metadata": {},
     "output_type": "execute_result"
    }
   ],
   "source": [
    "(len(ids_em)+1)/len(df_nt)*100"
   ]
  },
  {
   "cell_type": "code",
   "execution_count": 300,
   "id": "0b93a6a3",
   "metadata": {},
   "outputs": [
    {
     "data": {
      "text/plain": [
       "13"
      ]
     },
     "execution_count": 300,
     "metadata": {},
     "output_type": "execute_result"
    }
   ],
   "source": [
    "len(set(df_nt_em['country']))"
   ]
  },
  {
   "cell_type": "code",
   "execution_count": 299,
   "id": "65893194",
   "metadata": {},
   "outputs": [
    {
     "data": {
      "application/vnd.plotly.v1+json": {
       "config": {
        "plotlyServerURL": "https://plot.ly"
       },
       "data": [
        {
         "marker": {
          "color": "rgb(29, 105, 150)"
         },
         "name": "climate",
         "type": "scatter",
         "x": [
          "2020-04-09",
          "2020-07-28",
          "2020-07-30",
          "2020-08-20",
          "2020-08-28",
          "2020-08-29",
          "2020-08-31",
          "2020-09-05",
          "2020-09-06",
          "2020-09-07",
          "2020-09-09",
          "2020-09-10",
          "2020-09-15",
          "2020-09-16",
          "2020-09-18",
          "2020-09-21",
          "2020-09-22",
          "2020-10-08",
          "2020-10-22",
          "2020-10-29",
          "2020-11-04",
          "2020-11-11",
          "2020-11-23",
          "2020-11-27",
          "2020-12-02",
          "2020-12-05",
          "2020-12-18",
          "2020-12-23",
          "2021-01-12",
          "2021-01-18",
          "2021-01-21",
          "2021-01-22",
          "2021-01-31",
          "2021-02-01",
          "2021-02-02",
          "2021-02-03",
          "2021-02-04",
          "2021-02-08",
          "2021-02-09",
          "2021-02-11",
          "2021-02-12",
          "2021-02-13",
          "2021-02-26",
          "2021-03-05",
          "2021-03-06",
          "2021-03-10",
          "2021-03-16",
          "2021-03-18",
          "2021-03-19",
          "2021-03-23",
          "2021-03-25",
          "2021-03-27",
          "2021-04-07",
          "2021-04-08",
          "2021-04-09",
          "2021-04-10",
          "2021-04-13",
          "2021-04-14",
          "2021-04-16",
          "2021-04-17",
          "2021-04-18",
          "2021-04-19",
          "2021-04-20",
          "2021-04-22",
          "2021-04-24",
          "2021-04-27",
          "2021-05-02",
          "2021-05-03",
          "2021-05-09",
          "2021-05-12",
          "2021-05-13",
          "2021-05-14",
          "2021-05-19",
          "2021-05-20",
          "2021-05-26",
          "2021-05-27",
          "2021-05-28",
          "2021-05-31",
          "2021-06-06",
          "2021-06-19",
          "2021-06-22",
          "2021-06-25",
          "2021-06-27",
          "2021-06-28",
          "2021-07-02",
          "2021-07-08",
          "2021-07-11",
          "2021-07-14",
          "2021-07-15",
          "2021-07-16",
          "2021-07-20",
          "2021-07-21",
          "2021-07-22",
          "2021-07-27",
          "2021-07-29",
          "2021-07-30",
          "2021-07-31",
          "2021-08-03",
          "2021-08-04",
          "2021-08-05",
          "2021-08-12",
          "2021-08-14",
          "2021-08-17",
          "2021-08-20",
          "2021-08-23",
          "2021-08-24",
          "2021-08-28",
          "2021-08-31",
          "2021-09-07",
          "2021-09-08",
          "2021-09-09",
          "2021-09-11",
          "2021-09-13",
          "2021-09-14",
          "2021-09-15",
          "2021-09-25",
          "2021-09-27",
          "2021-10-05",
          "2021-10-19",
          "2021-10-26",
          "2021-11-07",
          "2021-11-16",
          "2021-11-23",
          "2021-12-07",
          "2021-12-08",
          "2021-12-09",
          "2021-12-10",
          "2021-12-13",
          "2021-12-14",
          "2021-12-21",
          "2021-12-22",
          "2021-12-23",
          "2021-12-27",
          "2021-12-28",
          "2021-12-29"
         ],
         "y": [
          1,
          1,
          1,
          1,
          1,
          3,
          2,
          1,
          2,
          1,
          1,
          1,
          1,
          1,
          1,
          1,
          2,
          1,
          1,
          1,
          1,
          1,
          1,
          1,
          1,
          2,
          1,
          1,
          1,
          1,
          1,
          1,
          1,
          5,
          3,
          2,
          2,
          1,
          2,
          1,
          3,
          1,
          2,
          1,
          2,
          1,
          1,
          1,
          1,
          1,
          1,
          1,
          1,
          3,
          21,
          7,
          3,
          1,
          1,
          1,
          2,
          2,
          1,
          1,
          1,
          1,
          1,
          3,
          1,
          1,
          1,
          2,
          2,
          1,
          2,
          1,
          1,
          1,
          1,
          1,
          1,
          1,
          1,
          1,
          1,
          1,
          1,
          2,
          4,
          1,
          1,
          2,
          1,
          2,
          1,
          5,
          1,
          1,
          2,
          1,
          1,
          1,
          1,
          1,
          1,
          1,
          1,
          1,
          1,
          1,
          1,
          1,
          1,
          1,
          1,
          1,
          2,
          2,
          1,
          1,
          1,
          1,
          1,
          6,
          4,
          2,
          6,
          16,
          1,
          1,
          1,
          1,
          1,
          3,
          2
         ]
        }
       ],
       "layout": {
        "template": {
         "data": {
          "bar": [
           {
            "error_x": {
             "color": "#2a3f5f"
            },
            "error_y": {
             "color": "#2a3f5f"
            },
            "marker": {
             "line": {
              "color": "#E5ECF6",
              "width": 0.5
             },
             "pattern": {
              "fillmode": "overlay",
              "size": 10,
              "solidity": 0.2
             }
            },
            "type": "bar"
           }
          ],
          "barpolar": [
           {
            "marker": {
             "line": {
              "color": "#E5ECF6",
              "width": 0.5
             },
             "pattern": {
              "fillmode": "overlay",
              "size": 10,
              "solidity": 0.2
             }
            },
            "type": "barpolar"
           }
          ],
          "carpet": [
           {
            "aaxis": {
             "endlinecolor": "#2a3f5f",
             "gridcolor": "white",
             "linecolor": "white",
             "minorgridcolor": "white",
             "startlinecolor": "#2a3f5f"
            },
            "baxis": {
             "endlinecolor": "#2a3f5f",
             "gridcolor": "white",
             "linecolor": "white",
             "minorgridcolor": "white",
             "startlinecolor": "#2a3f5f"
            },
            "type": "carpet"
           }
          ],
          "choropleth": [
           {
            "colorbar": {
             "outlinewidth": 0,
             "ticks": ""
            },
            "type": "choropleth"
           }
          ],
          "contour": [
           {
            "colorbar": {
             "outlinewidth": 0,
             "ticks": ""
            },
            "colorscale": [
             [
              0,
              "#0d0887"
             ],
             [
              0.1111111111111111,
              "#46039f"
             ],
             [
              0.2222222222222222,
              "#7201a8"
             ],
             [
              0.3333333333333333,
              "#9c179e"
             ],
             [
              0.4444444444444444,
              "#bd3786"
             ],
             [
              0.5555555555555556,
              "#d8576b"
             ],
             [
              0.6666666666666666,
              "#ed7953"
             ],
             [
              0.7777777777777778,
              "#fb9f3a"
             ],
             [
              0.8888888888888888,
              "#fdca26"
             ],
             [
              1,
              "#f0f921"
             ]
            ],
            "type": "contour"
           }
          ],
          "contourcarpet": [
           {
            "colorbar": {
             "outlinewidth": 0,
             "ticks": ""
            },
            "type": "contourcarpet"
           }
          ],
          "heatmap": [
           {
            "colorbar": {
             "outlinewidth": 0,
             "ticks": ""
            },
            "colorscale": [
             [
              0,
              "#0d0887"
             ],
             [
              0.1111111111111111,
              "#46039f"
             ],
             [
              0.2222222222222222,
              "#7201a8"
             ],
             [
              0.3333333333333333,
              "#9c179e"
             ],
             [
              0.4444444444444444,
              "#bd3786"
             ],
             [
              0.5555555555555556,
              "#d8576b"
             ],
             [
              0.6666666666666666,
              "#ed7953"
             ],
             [
              0.7777777777777778,
              "#fb9f3a"
             ],
             [
              0.8888888888888888,
              "#fdca26"
             ],
             [
              1,
              "#f0f921"
             ]
            ],
            "type": "heatmap"
           }
          ],
          "heatmapgl": [
           {
            "colorbar": {
             "outlinewidth": 0,
             "ticks": ""
            },
            "colorscale": [
             [
              0,
              "#0d0887"
             ],
             [
              0.1111111111111111,
              "#46039f"
             ],
             [
              0.2222222222222222,
              "#7201a8"
             ],
             [
              0.3333333333333333,
              "#9c179e"
             ],
             [
              0.4444444444444444,
              "#bd3786"
             ],
             [
              0.5555555555555556,
              "#d8576b"
             ],
             [
              0.6666666666666666,
              "#ed7953"
             ],
             [
              0.7777777777777778,
              "#fb9f3a"
             ],
             [
              0.8888888888888888,
              "#fdca26"
             ],
             [
              1,
              "#f0f921"
             ]
            ],
            "type": "heatmapgl"
           }
          ],
          "histogram": [
           {
            "marker": {
             "pattern": {
              "fillmode": "overlay",
              "size": 10,
              "solidity": 0.2
             }
            },
            "type": "histogram"
           }
          ],
          "histogram2d": [
           {
            "colorbar": {
             "outlinewidth": 0,
             "ticks": ""
            },
            "colorscale": [
             [
              0,
              "#0d0887"
             ],
             [
              0.1111111111111111,
              "#46039f"
             ],
             [
              0.2222222222222222,
              "#7201a8"
             ],
             [
              0.3333333333333333,
              "#9c179e"
             ],
             [
              0.4444444444444444,
              "#bd3786"
             ],
             [
              0.5555555555555556,
              "#d8576b"
             ],
             [
              0.6666666666666666,
              "#ed7953"
             ],
             [
              0.7777777777777778,
              "#fb9f3a"
             ],
             [
              0.8888888888888888,
              "#fdca26"
             ],
             [
              1,
              "#f0f921"
             ]
            ],
            "type": "histogram2d"
           }
          ],
          "histogram2dcontour": [
           {
            "colorbar": {
             "outlinewidth": 0,
             "ticks": ""
            },
            "colorscale": [
             [
              0,
              "#0d0887"
             ],
             [
              0.1111111111111111,
              "#46039f"
             ],
             [
              0.2222222222222222,
              "#7201a8"
             ],
             [
              0.3333333333333333,
              "#9c179e"
             ],
             [
              0.4444444444444444,
              "#bd3786"
             ],
             [
              0.5555555555555556,
              "#d8576b"
             ],
             [
              0.6666666666666666,
              "#ed7953"
             ],
             [
              0.7777777777777778,
              "#fb9f3a"
             ],
             [
              0.8888888888888888,
              "#fdca26"
             ],
             [
              1,
              "#f0f921"
             ]
            ],
            "type": "histogram2dcontour"
           }
          ],
          "mesh3d": [
           {
            "colorbar": {
             "outlinewidth": 0,
             "ticks": ""
            },
            "type": "mesh3d"
           }
          ],
          "parcoords": [
           {
            "line": {
             "colorbar": {
              "outlinewidth": 0,
              "ticks": ""
             }
            },
            "type": "parcoords"
           }
          ],
          "pie": [
           {
            "automargin": true,
            "type": "pie"
           }
          ],
          "scatter": [
           {
            "marker": {
             "colorbar": {
              "outlinewidth": 0,
              "ticks": ""
             }
            },
            "type": "scatter"
           }
          ],
          "scatter3d": [
           {
            "line": {
             "colorbar": {
              "outlinewidth": 0,
              "ticks": ""
             }
            },
            "marker": {
             "colorbar": {
              "outlinewidth": 0,
              "ticks": ""
             }
            },
            "type": "scatter3d"
           }
          ],
          "scattercarpet": [
           {
            "marker": {
             "colorbar": {
              "outlinewidth": 0,
              "ticks": ""
             }
            },
            "type": "scattercarpet"
           }
          ],
          "scattergeo": [
           {
            "marker": {
             "colorbar": {
              "outlinewidth": 0,
              "ticks": ""
             }
            },
            "type": "scattergeo"
           }
          ],
          "scattergl": [
           {
            "marker": {
             "colorbar": {
              "outlinewidth": 0,
              "ticks": ""
             }
            },
            "type": "scattergl"
           }
          ],
          "scattermapbox": [
           {
            "marker": {
             "colorbar": {
              "outlinewidth": 0,
              "ticks": ""
             }
            },
            "type": "scattermapbox"
           }
          ],
          "scatterpolar": [
           {
            "marker": {
             "colorbar": {
              "outlinewidth": 0,
              "ticks": ""
             }
            },
            "type": "scatterpolar"
           }
          ],
          "scatterpolargl": [
           {
            "marker": {
             "colorbar": {
              "outlinewidth": 0,
              "ticks": ""
             }
            },
            "type": "scatterpolargl"
           }
          ],
          "scatterternary": [
           {
            "marker": {
             "colorbar": {
              "outlinewidth": 0,
              "ticks": ""
             }
            },
            "type": "scatterternary"
           }
          ],
          "surface": [
           {
            "colorbar": {
             "outlinewidth": 0,
             "ticks": ""
            },
            "colorscale": [
             [
              0,
              "#0d0887"
             ],
             [
              0.1111111111111111,
              "#46039f"
             ],
             [
              0.2222222222222222,
              "#7201a8"
             ],
             [
              0.3333333333333333,
              "#9c179e"
             ],
             [
              0.4444444444444444,
              "#bd3786"
             ],
             [
              0.5555555555555556,
              "#d8576b"
             ],
             [
              0.6666666666666666,
              "#ed7953"
             ],
             [
              0.7777777777777778,
              "#fb9f3a"
             ],
             [
              0.8888888888888888,
              "#fdca26"
             ],
             [
              1,
              "#f0f921"
             ]
            ],
            "type": "surface"
           }
          ],
          "table": [
           {
            "cells": {
             "fill": {
              "color": "#EBF0F8"
             },
             "line": {
              "color": "white"
             }
            },
            "header": {
             "fill": {
              "color": "#C8D4E3"
             },
             "line": {
              "color": "white"
             }
            },
            "type": "table"
           }
          ]
         },
         "layout": {
          "annotationdefaults": {
           "arrowcolor": "#2a3f5f",
           "arrowhead": 0,
           "arrowwidth": 1
          },
          "autotypenumbers": "strict",
          "coloraxis": {
           "colorbar": {
            "outlinewidth": 0,
            "ticks": ""
           }
          },
          "colorscale": {
           "diverging": [
            [
             0,
             "#8e0152"
            ],
            [
             0.1,
             "#c51b7d"
            ],
            [
             0.2,
             "#de77ae"
            ],
            [
             0.3,
             "#f1b6da"
            ],
            [
             0.4,
             "#fde0ef"
            ],
            [
             0.5,
             "#f7f7f7"
            ],
            [
             0.6,
             "#e6f5d0"
            ],
            [
             0.7,
             "#b8e186"
            ],
            [
             0.8,
             "#7fbc41"
            ],
            [
             0.9,
             "#4d9221"
            ],
            [
             1,
             "#276419"
            ]
           ],
           "sequential": [
            [
             0,
             "#0d0887"
            ],
            [
             0.1111111111111111,
             "#46039f"
            ],
            [
             0.2222222222222222,
             "#7201a8"
            ],
            [
             0.3333333333333333,
             "#9c179e"
            ],
            [
             0.4444444444444444,
             "#bd3786"
            ],
            [
             0.5555555555555556,
             "#d8576b"
            ],
            [
             0.6666666666666666,
             "#ed7953"
            ],
            [
             0.7777777777777778,
             "#fb9f3a"
            ],
            [
             0.8888888888888888,
             "#fdca26"
            ],
            [
             1,
             "#f0f921"
            ]
           ],
           "sequentialminus": [
            [
             0,
             "#0d0887"
            ],
            [
             0.1111111111111111,
             "#46039f"
            ],
            [
             0.2222222222222222,
             "#7201a8"
            ],
            [
             0.3333333333333333,
             "#9c179e"
            ],
            [
             0.4444444444444444,
             "#bd3786"
            ],
            [
             0.5555555555555556,
             "#d8576b"
            ],
            [
             0.6666666666666666,
             "#ed7953"
            ],
            [
             0.7777777777777778,
             "#fb9f3a"
            ],
            [
             0.8888888888888888,
             "#fdca26"
            ],
            [
             1,
             "#f0f921"
            ]
           ]
          },
          "colorway": [
           "#636efa",
           "#EF553B",
           "#00cc96",
           "#ab63fa",
           "#FFA15A",
           "#19d3f3",
           "#FF6692",
           "#B6E880",
           "#FF97FF",
           "#FECB52"
          ],
          "font": {
           "color": "#2a3f5f"
          },
          "geo": {
           "bgcolor": "white",
           "lakecolor": "white",
           "landcolor": "#E5ECF6",
           "showlakes": true,
           "showland": true,
           "subunitcolor": "white"
          },
          "hoverlabel": {
           "align": "left"
          },
          "hovermode": "closest",
          "mapbox": {
           "style": "light"
          },
          "paper_bgcolor": "white",
          "plot_bgcolor": "#E5ECF6",
          "polar": {
           "angularaxis": {
            "gridcolor": "white",
            "linecolor": "white",
            "ticks": ""
           },
           "bgcolor": "#E5ECF6",
           "radialaxis": {
            "gridcolor": "white",
            "linecolor": "white",
            "ticks": ""
           }
          },
          "scene": {
           "xaxis": {
            "backgroundcolor": "#E5ECF6",
            "gridcolor": "white",
            "gridwidth": 2,
            "linecolor": "white",
            "showbackground": true,
            "ticks": "",
            "zerolinecolor": "white"
           },
           "yaxis": {
            "backgroundcolor": "#E5ECF6",
            "gridcolor": "white",
            "gridwidth": 2,
            "linecolor": "white",
            "showbackground": true,
            "ticks": "",
            "zerolinecolor": "white"
           },
           "zaxis": {
            "backgroundcolor": "#E5ECF6",
            "gridcolor": "white",
            "gridwidth": 2,
            "linecolor": "white",
            "showbackground": true,
            "ticks": "",
            "zerolinecolor": "white"
           }
          },
          "shapedefaults": {
           "line": {
            "color": "#2a3f5f"
           }
          },
          "ternary": {
           "aaxis": {
            "gridcolor": "white",
            "linecolor": "white",
            "ticks": ""
           },
           "baxis": {
            "gridcolor": "white",
            "linecolor": "white",
            "ticks": ""
           },
           "bgcolor": "#E5ECF6",
           "caxis": {
            "gridcolor": "white",
            "linecolor": "white",
            "ticks": ""
           }
          },
          "title": {
           "x": 0.05
          },
          "xaxis": {
           "automargin": true,
           "gridcolor": "white",
           "linecolor": "white",
           "ticks": "",
           "title": {
            "standoff": 15
           },
           "zerolinecolor": "white",
           "zerolinewidth": 2
          },
          "yaxis": {
           "automargin": true,
           "gridcolor": "white",
           "linecolor": "white",
           "ticks": "",
           "title": {
            "standoff": 15
           },
           "zerolinecolor": "white",
           "zerolinewidth": 2
          }
         }
        },
        "title": {
         "text": "Number of news titles mentioning Facebook or Meta",
         "x": 0.5,
         "xanchor": "center",
         "y": 0.9,
         "yanchor": "top"
        },
        "xaxis": {
         "tickangle": 90,
         "tickformat": "%Y-%M-%D",
         "title": {
          "text": "Date"
         },
         "type": "category"
        },
        "yaxis": {
         "title": {
          "text": "N news titles"
         }
        }
       }
      },
      "text/html": [
       "<div>                            <div id=\"158bfc8f-1885-4d93-8308-7ba467b29c73\" class=\"plotly-graph-div\" style=\"height:525px; width:100%;\"></div>            <script type=\"text/javascript\">                require([\"plotly\"], function(Plotly) {                    window.PLOTLYENV=window.PLOTLYENV || {};                                    if (document.getElementById(\"158bfc8f-1885-4d93-8308-7ba467b29c73\")) {                    Plotly.newPlot(                        \"158bfc8f-1885-4d93-8308-7ba467b29c73\",                        [{\"marker\":{\"color\":\"rgb(29, 105, 150)\"},\"name\":\"climate\",\"type\":\"scatter\",\"x\":[\"2020-04-09\",\"2020-07-28\",\"2020-07-30\",\"2020-08-20\",\"2020-08-28\",\"2020-08-29\",\"2020-08-31\",\"2020-09-05\",\"2020-09-06\",\"2020-09-07\",\"2020-09-09\",\"2020-09-10\",\"2020-09-15\",\"2020-09-16\",\"2020-09-18\",\"2020-09-21\",\"2020-09-22\",\"2020-10-08\",\"2020-10-22\",\"2020-10-29\",\"2020-11-04\",\"2020-11-11\",\"2020-11-23\",\"2020-11-27\",\"2020-12-02\",\"2020-12-05\",\"2020-12-18\",\"2020-12-23\",\"2021-01-12\",\"2021-01-18\",\"2021-01-21\",\"2021-01-22\",\"2021-01-31\",\"2021-02-01\",\"2021-02-02\",\"2021-02-03\",\"2021-02-04\",\"2021-02-08\",\"2021-02-09\",\"2021-02-11\",\"2021-02-12\",\"2021-02-13\",\"2021-02-26\",\"2021-03-05\",\"2021-03-06\",\"2021-03-10\",\"2021-03-16\",\"2021-03-18\",\"2021-03-19\",\"2021-03-23\",\"2021-03-25\",\"2021-03-27\",\"2021-04-07\",\"2021-04-08\",\"2021-04-09\",\"2021-04-10\",\"2021-04-13\",\"2021-04-14\",\"2021-04-16\",\"2021-04-17\",\"2021-04-18\",\"2021-04-19\",\"2021-04-20\",\"2021-04-22\",\"2021-04-24\",\"2021-04-27\",\"2021-05-02\",\"2021-05-03\",\"2021-05-09\",\"2021-05-12\",\"2021-05-13\",\"2021-05-14\",\"2021-05-19\",\"2021-05-20\",\"2021-05-26\",\"2021-05-27\",\"2021-05-28\",\"2021-05-31\",\"2021-06-06\",\"2021-06-19\",\"2021-06-22\",\"2021-06-25\",\"2021-06-27\",\"2021-06-28\",\"2021-07-02\",\"2021-07-08\",\"2021-07-11\",\"2021-07-14\",\"2021-07-15\",\"2021-07-16\",\"2021-07-20\",\"2021-07-21\",\"2021-07-22\",\"2021-07-27\",\"2021-07-29\",\"2021-07-30\",\"2021-07-31\",\"2021-08-03\",\"2021-08-04\",\"2021-08-05\",\"2021-08-12\",\"2021-08-14\",\"2021-08-17\",\"2021-08-20\",\"2021-08-23\",\"2021-08-24\",\"2021-08-28\",\"2021-08-31\",\"2021-09-07\",\"2021-09-08\",\"2021-09-09\",\"2021-09-11\",\"2021-09-13\",\"2021-09-14\",\"2021-09-15\",\"2021-09-25\",\"2021-09-27\",\"2021-10-05\",\"2021-10-19\",\"2021-10-26\",\"2021-11-07\",\"2021-11-16\",\"2021-11-23\",\"2021-12-07\",\"2021-12-08\",\"2021-12-09\",\"2021-12-10\",\"2021-12-13\",\"2021-12-14\",\"2021-12-21\",\"2021-12-22\",\"2021-12-23\",\"2021-12-27\",\"2021-12-28\",\"2021-12-29\"],\"y\":[1,1,1,1,1,3,2,1,2,1,1,1,1,1,1,1,2,1,1,1,1,1,1,1,1,2,1,1,1,1,1,1,1,5,3,2,2,1,2,1,3,1,2,1,2,1,1,1,1,1,1,1,1,3,21,7,3,1,1,1,2,2,1,1,1,1,1,3,1,1,1,2,2,1,2,1,1,1,1,1,1,1,1,1,1,1,1,2,4,1,1,2,1,2,1,5,1,1,2,1,1,1,1,1,1,1,1,1,1,1,1,1,1,1,1,1,2,2,1,1,1,1,1,6,4,2,6,16,1,1,1,1,1,3,2]}],                        {\"template\":{\"data\":{\"bar\":[{\"error_x\":{\"color\":\"#2a3f5f\"},\"error_y\":{\"color\":\"#2a3f5f\"},\"marker\":{\"line\":{\"color\":\"#E5ECF6\",\"width\":0.5},\"pattern\":{\"fillmode\":\"overlay\",\"size\":10,\"solidity\":0.2}},\"type\":\"bar\"}],\"barpolar\":[{\"marker\":{\"line\":{\"color\":\"#E5ECF6\",\"width\":0.5},\"pattern\":{\"fillmode\":\"overlay\",\"size\":10,\"solidity\":0.2}},\"type\":\"barpolar\"}],\"carpet\":[{\"aaxis\":{\"endlinecolor\":\"#2a3f5f\",\"gridcolor\":\"white\",\"linecolor\":\"white\",\"minorgridcolor\":\"white\",\"startlinecolor\":\"#2a3f5f\"},\"baxis\":{\"endlinecolor\":\"#2a3f5f\",\"gridcolor\":\"white\",\"linecolor\":\"white\",\"minorgridcolor\":\"white\",\"startlinecolor\":\"#2a3f5f\"},\"type\":\"carpet\"}],\"choropleth\":[{\"colorbar\":{\"outlinewidth\":0,\"ticks\":\"\"},\"type\":\"choropleth\"}],\"contour\":[{\"colorbar\":{\"outlinewidth\":0,\"ticks\":\"\"},\"colorscale\":[[0.0,\"#0d0887\"],[0.1111111111111111,\"#46039f\"],[0.2222222222222222,\"#7201a8\"],[0.3333333333333333,\"#9c179e\"],[0.4444444444444444,\"#bd3786\"],[0.5555555555555556,\"#d8576b\"],[0.6666666666666666,\"#ed7953\"],[0.7777777777777778,\"#fb9f3a\"],[0.8888888888888888,\"#fdca26\"],[1.0,\"#f0f921\"]],\"type\":\"contour\"}],\"contourcarpet\":[{\"colorbar\":{\"outlinewidth\":0,\"ticks\":\"\"},\"type\":\"contourcarpet\"}],\"heatmap\":[{\"colorbar\":{\"outlinewidth\":0,\"ticks\":\"\"},\"colorscale\":[[0.0,\"#0d0887\"],[0.1111111111111111,\"#46039f\"],[0.2222222222222222,\"#7201a8\"],[0.3333333333333333,\"#9c179e\"],[0.4444444444444444,\"#bd3786\"],[0.5555555555555556,\"#d8576b\"],[0.6666666666666666,\"#ed7953\"],[0.7777777777777778,\"#fb9f3a\"],[0.8888888888888888,\"#fdca26\"],[1.0,\"#f0f921\"]],\"type\":\"heatmap\"}],\"heatmapgl\":[{\"colorbar\":{\"outlinewidth\":0,\"ticks\":\"\"},\"colorscale\":[[0.0,\"#0d0887\"],[0.1111111111111111,\"#46039f\"],[0.2222222222222222,\"#7201a8\"],[0.3333333333333333,\"#9c179e\"],[0.4444444444444444,\"#bd3786\"],[0.5555555555555556,\"#d8576b\"],[0.6666666666666666,\"#ed7953\"],[0.7777777777777778,\"#fb9f3a\"],[0.8888888888888888,\"#fdca26\"],[1.0,\"#f0f921\"]],\"type\":\"heatmapgl\"}],\"histogram\":[{\"marker\":{\"pattern\":{\"fillmode\":\"overlay\",\"size\":10,\"solidity\":0.2}},\"type\":\"histogram\"}],\"histogram2d\":[{\"colorbar\":{\"outlinewidth\":0,\"ticks\":\"\"},\"colorscale\":[[0.0,\"#0d0887\"],[0.1111111111111111,\"#46039f\"],[0.2222222222222222,\"#7201a8\"],[0.3333333333333333,\"#9c179e\"],[0.4444444444444444,\"#bd3786\"],[0.5555555555555556,\"#d8576b\"],[0.6666666666666666,\"#ed7953\"],[0.7777777777777778,\"#fb9f3a\"],[0.8888888888888888,\"#fdca26\"],[1.0,\"#f0f921\"]],\"type\":\"histogram2d\"}],\"histogram2dcontour\":[{\"colorbar\":{\"outlinewidth\":0,\"ticks\":\"\"},\"colorscale\":[[0.0,\"#0d0887\"],[0.1111111111111111,\"#46039f\"],[0.2222222222222222,\"#7201a8\"],[0.3333333333333333,\"#9c179e\"],[0.4444444444444444,\"#bd3786\"],[0.5555555555555556,\"#d8576b\"],[0.6666666666666666,\"#ed7953\"],[0.7777777777777778,\"#fb9f3a\"],[0.8888888888888888,\"#fdca26\"],[1.0,\"#f0f921\"]],\"type\":\"histogram2dcontour\"}],\"mesh3d\":[{\"colorbar\":{\"outlinewidth\":0,\"ticks\":\"\"},\"type\":\"mesh3d\"}],\"parcoords\":[{\"line\":{\"colorbar\":{\"outlinewidth\":0,\"ticks\":\"\"}},\"type\":\"parcoords\"}],\"pie\":[{\"automargin\":true,\"type\":\"pie\"}],\"scatter\":[{\"marker\":{\"colorbar\":{\"outlinewidth\":0,\"ticks\":\"\"}},\"type\":\"scatter\"}],\"scatter3d\":[{\"line\":{\"colorbar\":{\"outlinewidth\":0,\"ticks\":\"\"}},\"marker\":{\"colorbar\":{\"outlinewidth\":0,\"ticks\":\"\"}},\"type\":\"scatter3d\"}],\"scattercarpet\":[{\"marker\":{\"colorbar\":{\"outlinewidth\":0,\"ticks\":\"\"}},\"type\":\"scattercarpet\"}],\"scattergeo\":[{\"marker\":{\"colorbar\":{\"outlinewidth\":0,\"ticks\":\"\"}},\"type\":\"scattergeo\"}],\"scattergl\":[{\"marker\":{\"colorbar\":{\"outlinewidth\":0,\"ticks\":\"\"}},\"type\":\"scattergl\"}],\"scattermapbox\":[{\"marker\":{\"colorbar\":{\"outlinewidth\":0,\"ticks\":\"\"}},\"type\":\"scattermapbox\"}],\"scatterpolar\":[{\"marker\":{\"colorbar\":{\"outlinewidth\":0,\"ticks\":\"\"}},\"type\":\"scatterpolar\"}],\"scatterpolargl\":[{\"marker\":{\"colorbar\":{\"outlinewidth\":0,\"ticks\":\"\"}},\"type\":\"scatterpolargl\"}],\"scatterternary\":[{\"marker\":{\"colorbar\":{\"outlinewidth\":0,\"ticks\":\"\"}},\"type\":\"scatterternary\"}],\"surface\":[{\"colorbar\":{\"outlinewidth\":0,\"ticks\":\"\"},\"colorscale\":[[0.0,\"#0d0887\"],[0.1111111111111111,\"#46039f\"],[0.2222222222222222,\"#7201a8\"],[0.3333333333333333,\"#9c179e\"],[0.4444444444444444,\"#bd3786\"],[0.5555555555555556,\"#d8576b\"],[0.6666666666666666,\"#ed7953\"],[0.7777777777777778,\"#fb9f3a\"],[0.8888888888888888,\"#fdca26\"],[1.0,\"#f0f921\"]],\"type\":\"surface\"}],\"table\":[{\"cells\":{\"fill\":{\"color\":\"#EBF0F8\"},\"line\":{\"color\":\"white\"}},\"header\":{\"fill\":{\"color\":\"#C8D4E3\"},\"line\":{\"color\":\"white\"}},\"type\":\"table\"}]},\"layout\":{\"annotationdefaults\":{\"arrowcolor\":\"#2a3f5f\",\"arrowhead\":0,\"arrowwidth\":1},\"autotypenumbers\":\"strict\",\"coloraxis\":{\"colorbar\":{\"outlinewidth\":0,\"ticks\":\"\"}},\"colorscale\":{\"diverging\":[[0,\"#8e0152\"],[0.1,\"#c51b7d\"],[0.2,\"#de77ae\"],[0.3,\"#f1b6da\"],[0.4,\"#fde0ef\"],[0.5,\"#f7f7f7\"],[0.6,\"#e6f5d0\"],[0.7,\"#b8e186\"],[0.8,\"#7fbc41\"],[0.9,\"#4d9221\"],[1,\"#276419\"]],\"sequential\":[[0.0,\"#0d0887\"],[0.1111111111111111,\"#46039f\"],[0.2222222222222222,\"#7201a8\"],[0.3333333333333333,\"#9c179e\"],[0.4444444444444444,\"#bd3786\"],[0.5555555555555556,\"#d8576b\"],[0.6666666666666666,\"#ed7953\"],[0.7777777777777778,\"#fb9f3a\"],[0.8888888888888888,\"#fdca26\"],[1.0,\"#f0f921\"]],\"sequentialminus\":[[0.0,\"#0d0887\"],[0.1111111111111111,\"#46039f\"],[0.2222222222222222,\"#7201a8\"],[0.3333333333333333,\"#9c179e\"],[0.4444444444444444,\"#bd3786\"],[0.5555555555555556,\"#d8576b\"],[0.6666666666666666,\"#ed7953\"],[0.7777777777777778,\"#fb9f3a\"],[0.8888888888888888,\"#fdca26\"],[1.0,\"#f0f921\"]]},\"colorway\":[\"#636efa\",\"#EF553B\",\"#00cc96\",\"#ab63fa\",\"#FFA15A\",\"#19d3f3\",\"#FF6692\",\"#B6E880\",\"#FF97FF\",\"#FECB52\"],\"font\":{\"color\":\"#2a3f5f\"},\"geo\":{\"bgcolor\":\"white\",\"lakecolor\":\"white\",\"landcolor\":\"#E5ECF6\",\"showlakes\":true,\"showland\":true,\"subunitcolor\":\"white\"},\"hoverlabel\":{\"align\":\"left\"},\"hovermode\":\"closest\",\"mapbox\":{\"style\":\"light\"},\"paper_bgcolor\":\"white\",\"plot_bgcolor\":\"#E5ECF6\",\"polar\":{\"angularaxis\":{\"gridcolor\":\"white\",\"linecolor\":\"white\",\"ticks\":\"\"},\"bgcolor\":\"#E5ECF6\",\"radialaxis\":{\"gridcolor\":\"white\",\"linecolor\":\"white\",\"ticks\":\"\"}},\"scene\":{\"xaxis\":{\"backgroundcolor\":\"#E5ECF6\",\"gridcolor\":\"white\",\"gridwidth\":2,\"linecolor\":\"white\",\"showbackground\":true,\"ticks\":\"\",\"zerolinecolor\":\"white\"},\"yaxis\":{\"backgroundcolor\":\"#E5ECF6\",\"gridcolor\":\"white\",\"gridwidth\":2,\"linecolor\":\"white\",\"showbackground\":true,\"ticks\":\"\",\"zerolinecolor\":\"white\"},\"zaxis\":{\"backgroundcolor\":\"#E5ECF6\",\"gridcolor\":\"white\",\"gridwidth\":2,\"linecolor\":\"white\",\"showbackground\":true,\"ticks\":\"\",\"zerolinecolor\":\"white\"}},\"shapedefaults\":{\"line\":{\"color\":\"#2a3f5f\"}},\"ternary\":{\"aaxis\":{\"gridcolor\":\"white\",\"linecolor\":\"white\",\"ticks\":\"\"},\"baxis\":{\"gridcolor\":\"white\",\"linecolor\":\"white\",\"ticks\":\"\"},\"bgcolor\":\"#E5ECF6\",\"caxis\":{\"gridcolor\":\"white\",\"linecolor\":\"white\",\"ticks\":\"\"}},\"title\":{\"x\":0.05},\"xaxis\":{\"automargin\":true,\"gridcolor\":\"white\",\"linecolor\":\"white\",\"ticks\":\"\",\"title\":{\"standoff\":15},\"zerolinecolor\":\"white\",\"zerolinewidth\":2},\"yaxis\":{\"automargin\":true,\"gridcolor\":\"white\",\"linecolor\":\"white\",\"ticks\":\"\",\"title\":{\"standoff\":15},\"zerolinecolor\":\"white\",\"zerolinewidth\":2}}},\"title\":{\"text\":\"Number of news titles mentioning Facebook or Meta\",\"x\":0.5,\"xanchor\":\"center\",\"y\":0.9,\"yanchor\":\"top\"},\"xaxis\":{\"tickangle\":90,\"tickformat\":\"%Y-%M-%D\",\"title\":{\"text\":\"Date\"},\"type\":\"category\"},\"yaxis\":{\"title\":{\"text\":\"N news titles\"}}},                        {\"responsive\": true}                    ).then(function(){\n",
       "                            \n",
       "var gd = document.getElementById('158bfc8f-1885-4d93-8308-7ba467b29c73');\n",
       "var x = new MutationObserver(function (mutations, observer) {{\n",
       "        var display = window.getComputedStyle(gd).display;\n",
       "        if (!display || display === 'none') {{\n",
       "            console.log([gd, 'removed!']);\n",
       "            Plotly.purge(gd);\n",
       "            observer.disconnect();\n",
       "        }}\n",
       "}});\n",
       "\n",
       "// Listen for the removal of the full notebook cells\n",
       "var notebookContainer = gd.closest('#notebook-container');\n",
       "if (notebookContainer) {{\n",
       "    x.observe(notebookContainer, {childList: true});\n",
       "}}\n",
       "\n",
       "// Listen for the clearing of the current output cell\n",
       "var outputEl = gd.closest('.output');\n",
       "if (outputEl) {{\n",
       "    x.observe(outputEl, {childList: true});\n",
       "}}\n",
       "\n",
       "                        })                };                });            </script>        </div>"
      ]
     },
     "metadata": {},
     "output_type": "display_data"
    }
   ],
   "source": [
    "df_nt_em = df_nt.iloc[ids_em]\n",
    "dd = df_nt_em.groupby([df_nt_em[\"date\"].dt.to_period('D')]).size()\n",
    "\n",
    "xs = list(dd.index.astype('datetime64[M]'))\n",
    "ys = list(dd.values)\n",
    "\n",
    "xs = [str(s)[0:10] for s in xs]\n",
    "\n",
    "fig = go.Figure()\n",
    "fig.add_trace(go.Scatter(name='climate', x= xs, y=ys, \n",
    "               marker={'color': px.colors.qualitative.Prism[1]}))\n",
    "fig.update_xaxes(type='category')\n",
    "fig.update_layout(\n",
    "            title={\n",
    "            'text': 'Number of news titles mentioning Facebook or Meta' ,\n",
    "            'y':0.9,\n",
    "            'x':0.5,\n",
    "            'xanchor': 'center',\n",
    "            'yanchor': 'top'},\n",
    "            xaxis_title=\"Date\",\n",
    "            yaxis_title=\"N news titles\" )\n",
    "fig.update_xaxes(tickangle=90,tickformat=\"%Y-%M-%D\")\n",
    "\n",
    "fig.show()\n"
   ]
  },
  {
   "cell_type": "code",
   "execution_count": 291,
   "id": "c50ff8c2",
   "metadata": {},
   "outputs": [],
   "source": [
    "el = []\n",
    "\n",
    "for i,r in df_nt_em[df_nt_em['ethics_matches']!='[]'].iterrows():\n",
    "    ek = convert_cell_to_list(r['ethics_matches'])\n",
    "    k = [str(w).lower().strip() for w in ek]\n",
    "    k = [\" \".join(a.split()) for a in k]\n",
    "    el.append(k)\n",
    "\n",
    "lat_list = [item for sublist in el for item in sublist]"
   ]
  },
  {
   "cell_type": "code",
   "execution_count": 293,
   "id": "b5480405",
   "metadata": {},
   "outputs": [
    {
     "data": {
      "text/plain": [
       "[('', 13),\n",
       " ('société', 10),\n",
       " ('společnost', 9),\n",
       " ('gesellschaft', 9),\n",
       " ('legal', 8),\n",
       " ('würden', 7),\n",
       " ('verantwortung', 7),\n",
       " ('sicherheit', 6),\n",
       " ('würde', 6),\n",
       " ('law', 6),\n",
       " ('society', 5),\n",
       " ('ethic', 4),\n",
       " ('privacy', 4),\n",
       " ('società', 3),\n",
       " ('bezpečnost', 2),\n",
       " ('sécurité', 2),\n",
       " ('security', 2),\n",
       " ('bezbednost', 2),\n",
       " ('recht', 1),\n",
       " ('gesellschafter', 1),\n",
       " ('rechts', 1),\n",
       " ('sociedad', 1),\n",
       " ('securitatea', 1),\n",
       " ('confidențialitatea', 1),\n",
       " ('societatea', 1),\n",
       " ('pravda', 1),\n",
       " ('responsibility', 1)]"
      ]
     },
     "execution_count": 293,
     "metadata": {},
     "output_type": "execute_result"
    }
   ],
   "source": [
    "Counter(lat_list).most_common()"
   ]
  },
  {
   "cell_type": "markdown",
   "id": "1197c71e",
   "metadata": {},
   "source": [
    "# Metaverse"
   ]
  },
  {
   "cell_type": "code",
   "execution_count": 98,
   "id": "ded6ef1f",
   "metadata": {},
   "outputs": [],
   "source": [
    "df_dx = df_all[df_all.topic=='digitalxr'].reset_index(drop=True)"
   ]
  },
  {
   "cell_type": "code",
   "execution_count": 207,
   "id": "be51d4b3",
   "metadata": {},
   "outputs": [
    {
     "name": "stdout",
     "output_type": "stream",
     "text": [
      "nan\n",
      "nan\n",
      "nan\n",
      "nan\n"
     ]
    }
   ],
   "source": [
    "ids_meta = []\n",
    "for i,r in df_dx.iterrows():\n",
    "    try:\n",
    "        if ('Meta' in r['title']) or ('Facebook' in r['title']) or ('Zuckerberg' in r['title']) :\n",
    "            ids_meta.append(i)\n",
    "    except:\n",
    "        print(r['title'])"
   ]
  },
  {
   "cell_type": "code",
   "execution_count": 278,
   "id": "d39f376e",
   "metadata": {},
   "outputs": [
    {
     "data": {
      "text/plain": [
       "country\n",
       "cz    1\n",
       "de    1\n",
       "es    1\n",
       "fr    5\n",
       "gb    3\n",
       "it    4\n",
       "nl    1\n",
       "ro    1\n",
       "rs    9\n",
       "us    2\n",
       "dtype: int64"
      ]
     },
     "execution_count": 278,
     "metadata": {},
     "output_type": "execute_result"
    }
   ],
   "source": [
    "df_dx.iloc[ids_bt].groupby(['country']).size()"
   ]
  },
  {
   "cell_type": "code",
   "execution_count": 275,
   "id": "b12064aa",
   "metadata": {},
   "outputs": [
    {
     "data": {
      "text/plain": [
       "28"
      ]
     },
     "execution_count": 275,
     "metadata": {},
     "output_type": "execute_result"
    }
   ],
   "source": [
    "len(df_dx.iloc[ids_bt])"
   ]
  },
  {
   "cell_type": "code",
   "execution_count": 279,
   "id": "00696f9c",
   "metadata": {},
   "outputs": [
    {
     "name": "stdout",
     "output_type": "stream",
     "text": [
      "Google\n",
      "13\n",
      "2.4645717806531113\n",
      "Facebook\n",
      "13\n",
      "9.31608133086876\n",
      "Apple\n",
      "13\n",
      "5.804066543438078\n",
      "Instagram\n",
      "11\n",
      "0.8379544054220579\n",
      "Tesla\n",
      "6\n",
      "0.1725200246457178\n",
      "Android\n",
      "9\n",
      "0.751694393099199\n",
      "Snapchat\n",
      "10\n",
      "0.6284658040665434\n",
      "Twitter\n",
      "10\n",
      "0.3450400492914356\n"
     ]
    }
   ],
   "source": [
    "\n",
    "for w in ['Google','Facebook','Apple','Instagram',\n",
    "              'Tesla','Android','Snapchat','Twitter']:\n",
    "    ids_bt = []\n",
    "    for i,r in df_dx.iterrows():\n",
    "\n",
    "        try:\n",
    "            if (w in r['title']) :\n",
    "                ids_bt.append(i)\n",
    "        except:\n",
    "            pass\n",
    "    \n",
    "    print(w)\n",
    "    print(len(set(df_dx.iloc[ids_bt]['country'])))\n",
    "    print(len(ids_bt)/len(df_dx)*100)"
   ]
  },
  {
   "cell_type": "code",
   "execution_count": 208,
   "id": "69ea8dc5",
   "metadata": {},
   "outputs": [],
   "source": [
    "df_dx_meta = df_dx.iloc[ids_meta].reset_index(drop=True)"
   ]
  },
  {
   "cell_type": "code",
   "execution_count": 210,
   "id": "d94c7e12",
   "metadata": {},
   "outputs": [
    {
     "name": "stdout",
     "output_type": "stream",
     "text": [
      "(977, 18)\n"
     ]
    }
   ],
   "source": [
    "print(df_dx_meta.shape)"
   ]
  },
  {
   "cell_type": "code",
   "execution_count": 211,
   "id": "7a703c03",
   "metadata": {},
   "outputs": [
    {
     "data": {
      "text/plain": [
       "12.039433148490449"
      ]
     },
     "execution_count": 211,
     "metadata": {},
     "output_type": "execute_result"
    }
   ],
   "source": [
    "len(ids_meta)/len(df_dx)*100"
   ]
  },
  {
   "cell_type": "code",
   "execution_count": null,
   "id": "9c7e6382",
   "metadata": {},
   "outputs": [],
   "source": []
  },
  {
   "cell_type": "code",
   "execution_count": 215,
   "id": "eb45bdd1",
   "metadata": {},
   "outputs": [],
   "source": [
    "dd = df_dx_meta.groupby([df_dx_meta[\"date\"].dt.to_period('D')]).size()\n",
    "\n",
    "xs = list(dd.index.astype('datetime64[M]'))\n",
    "ys = list(dd.values)\n",
    "\n",
    "xs = [str(s)[0:10] for s in xs]\n",
    "\n",
    "fig = go.Figure()\n",
    "fig.add_trace(go.Scatter(name='climate', x= xs, y=ys, \n",
    "               marker={'color': px.colors.qualitative.Prism[1]}))\n",
    "fig.update_xaxes(type='category')\n",
    "fig.update_layout(\n",
    "            title={\n",
    "            'text': 'Number of news titles mentioning Facebook or Meta' ,\n",
    "            'y':0.9,\n",
    "            'x':0.5,\n",
    "            'xanchor': 'center',\n",
    "            'yanchor': 'top'},\n",
    "            xaxis_title=\"Date\",\n",
    "            yaxis_title=\"N news titles\" )\n",
    "fig.update_xaxes(tickangle=90,tickformat=\"%Y-%M-%D\")\n",
    "\n",
    "fig.show()\n"
   ]
  },
  {
   "cell_type": "code",
   "execution_count": 245,
   "id": "0fe9e9b4",
   "metadata": {},
   "outputs": [
    {
     "data": {
      "text/plain": [
       "0.5087001023541453"
      ]
     },
     "execution_count": 245,
     "metadata": {},
     "output_type": "execute_result"
    }
   ],
   "source": [
    "len(df_dx_meta[df_dx_meta['ethics_matches']!='[]'])/len(df_dx_meta)"
   ]
  },
  {
   "cell_type": "code",
   "execution_count": null,
   "id": "cae0e3ec",
   "metadata": {},
   "outputs": [],
   "source": []
  },
  {
   "cell_type": "code",
   "execution_count": 257,
   "id": "53c1b17b",
   "metadata": {},
   "outputs": [],
   "source": [
    "el = []\n",
    "for i,r in df_dx_meta[df_dx_meta['ethics_matches']!='[]'].iterrows():\n",
    "    ek = convert_cell_to_list(r['ethics_matches'])\n",
    "    k = [str(w).lower().strip() for w in ek]\n",
    "    k = [\" \".join(a.split()) for a in k]\n",
    "    el.append(k)\n",
    "\n",
    "lat_list = [item for sublist in el for item in sublist]"
   ]
  },
  {
   "cell_type": "code",
   "execution_count": 262,
   "id": "d1c63719",
   "metadata": {},
   "outputs": [],
   "source": [
    "sec = 42+40+28+26+16+6+5+1"
   ]
  },
  {
   "cell_type": "code",
   "execution_count": 263,
   "id": "eb8f8538",
   "metadata": {},
   "outputs": [],
   "source": [
    "priv = 218+10+1+4"
   ]
  },
  {
   "cell_type": "code",
   "execution_count": 280,
   "id": "ca952e9f",
   "metadata": {},
   "outputs": [
    {
     "data": {
      "text/plain": [
       "16.786079836233366"
      ]
     },
     "execution_count": 280,
     "metadata": {},
     "output_type": "execute_result"
    }
   ],
   "source": [
    "sec/len(df_dx_meta)*100"
   ]
  },
  {
   "cell_type": "code",
   "execution_count": 281,
   "id": "16f36775",
   "metadata": {},
   "outputs": [
    {
     "data": {
      "text/plain": [
       "23.848515864892526"
      ]
     },
     "execution_count": 281,
     "metadata": {},
     "output_type": "execute_result"
    }
   ],
   "source": [
    "priv/len(df_dx_meta)*100"
   ]
  },
  {
   "cell_type": "code",
   "execution_count": 259,
   "id": "7544e07e",
   "metadata": {},
   "outputs": [
    {
     "data": {
      "text/plain": [
       "[('privacy', 218),\n",
       " ('società', 171),\n",
       " ('société', 109),\n",
       " ('', 47),\n",
       " ('droit', 44),\n",
       " ('sécurité', 42),\n",
       " ('law', 42),\n",
       " ('society', 40),\n",
       " ('security', 35),\n",
       " ('legal', 34),\n",
       " ('sicurezza', 28),\n",
       " ('würden', 27),\n",
       " ('vie priver', 27),\n",
       " ('justice', 27),\n",
       " ('seguridad', 26),\n",
       " ('sicherheit', 16),\n",
       " ('integrity', 16),\n",
       " ('responsibility', 14),\n",
       " ('sociedad', 13),\n",
       " ('legge', 13),\n",
       " ('verantwortung', 12),\n",
       " ('würde', 10),\n",
       " ('privacidad', 10),\n",
       " ('integritate', 10),\n",
       " ('lag', 10),\n",
       " ('společnost', 9),\n",
       " ('éthique', 8),\n",
       " ('juridique', 8),\n",
       " ('ethnic', 8),\n",
       " ('gesellschaft', 7),\n",
       " ('ley', 7),\n",
       " ('responsabilità', 7),\n",
       " ('responsabilidad', 6),\n",
       " ('responsabilité', 6),\n",
       " ('bias', 6),\n",
       " ('bezbednost', 6),\n",
       " ('datenschutz', 5),\n",
       " ('discrimination', 5),\n",
       " ('securitate', 5),\n",
       " ('zakon', 5),\n",
       " ('wohlbefinden', 4),\n",
       " ('bienestar', 4),\n",
       " ('eprivacy', 4),\n",
       " ('accountability', 4),\n",
       " ('responsabili', 4),\n",
       " ('sostenibilità', 4),\n",
       " ('recht', 3),\n",
       " ('droite', 3),\n",
       " ('impact négatif', 3),\n",
       " ('human right', 3),\n",
       " ('negative impact', 3),\n",
       " ('welzijn', 3),\n",
       " ('datenschutzes', 2),\n",
       " ('bezpečnost', 2),\n",
       " ('reicht', 2),\n",
       " ('ética', 2),\n",
       " ('ilegal', 2),\n",
       " ('derechos humanos', 2),\n",
       " ('sesgo', 2),\n",
       " ('dignidad', 2),\n",
       " ('justicia', 2),\n",
       " ('intégrité', 2),\n",
       " ('ethic', 2),\n",
       " ('giustizia', 2),\n",
       " ('benessere', 2),\n",
       " ('diritti umani', 2),\n",
       " ('societatea', 2),\n",
       " ('bunăstarea', 2),\n",
       " ('confidențialitate', 2),\n",
       " ('odgovornost', 2),\n",
       " ('předsudky', 1),\n",
       " ('právní', 1),\n",
       " ('sicherheits', 1),\n",
       " ('sustainability', 1),\n",
       " ('legale', 1),\n",
       " ('sostenibili', 1),\n",
       " ('etica', 1),\n",
       " ('socità', 1),\n",
       " ('securitatea', 1),\n",
       " ('discriminare', 1),\n",
       " ('lege', 1),\n",
       " ('confidențialitatea', 1),\n",
       " ('societate', 1),\n",
       " ('privatnost', 1),\n",
       " ('etika', 1),\n",
       " ('društvo', 1),\n",
       " ('säkerhet', 1),\n",
       " ('värdighet', 1),\n",
       " ('välbefinnande', 1)]"
      ]
     },
     "execution_count": 259,
     "metadata": {},
     "output_type": "execute_result"
    }
   ],
   "source": [
    "Counter(lat_list).most_common()"
   ]
  },
  {
   "cell_type": "code",
   "execution_count": null,
   "id": "32878fd4",
   "metadata": {},
   "outputs": [],
   "source": [
    "plot_kw_matches_counts(df_dx_meta, 'ethics_matches', country, country_code, topic, path, nw=14,\n",
    "                           orient='v',aliases_dict={},save=True, ethics =False)"
   ]
  },
  {
   "cell_type": "code",
   "execution_count": null,
   "id": "9343270c",
   "metadata": {},
   "outputs": [],
   "source": []
  },
  {
   "cell_type": "markdown",
   "id": "8f7fa4fe",
   "metadata": {},
   "source": [
    "# Ethics"
   ]
  },
  {
   "cell_type": "code",
   "execution_count": 23,
   "id": "b367353f",
   "metadata": {},
   "outputs": [
    {
     "name": "stdout",
     "output_type": "stream",
     "text": [
      "(5037, 16)\n",
      "0.37167945690672965\n"
     ]
    }
   ],
   "source": [
    "df_ethics = copy.deepcopy(df_all)\n",
    "df_ethics = df_all[df_all.ethics_matches!='[]']\n",
    "df_ethics = df_ethics[df_ethics.ethics_matches!='['']']\n",
    "df_ethics = df_ethics[df_ethics.ethics_matches != \"['']\"].reset_index(drop=True)\n",
    "print(df_ethics.shape)\n",
    "print(len(df_ethics)/len(df_all))"
   ]
  },
  {
   "cell_type": "code",
   "execution_count": 24,
   "id": "280da178",
   "metadata": {},
   "outputs": [],
   "source": [
    "ethics_dict_climate = {\n",
    "    'at': {\n",
    "        'responsibility': 10,\n",
    "     'sustainability': 6,\n",
    "     'law': 5,\n",
    "     'society': 4,\n",
    "     'insecurity': 3,\n",
    "     'well-being': 2,\n",
    "     'ethics': 1,\n",
    "     'negative impact': 1,\n",
    "      'dignity': 1},\n",
    "    \n",
    "        'cz':{\n",
    "         'security': 6,\n",
    "      'ethics': 6,\n",
    " 'sustainability': 2,\n",
    " 'law': 2,\n",
    " 'legal': 2,\n",
    " 'responsibility': 2,\n",
    " 'well-being': 1,\n",
    " 'negative impact': 1\n",
    "    },\n",
    "    \n",
    "    'de' : {'society': 69,\n",
    " 'sustainability': 46,\n",
    " 'responsibility': 43,\n",
    " 'security': 38,\n",
    " 'law': 32,\n",
    " 'dignity': 18,\n",
    " 'insecurity': 16,\n",
    " 'justice': 9,\n",
    " 'privacy': 6,\n",
    " 'injustice': 6,\n",
    " 'human rights': 5,\n",
    " 'discrimination': 3,\n",
    " 'negative impact': 1},\n",
    "    \n",
    "    'es':{ 'law': 18,\n",
    " 'security': 13,\n",
    " 'responsibility': 10,\n",
    " 'society': 6,\n",
    " 'justice': 6,\n",
    " 'sustainability': 5,\n",
    " 'human rights': 5,\n",
    " 'illegal': 5,\n",
    " 'well-being': 3,\n",
    " 'legal': 3,\n",
    " 'dignity': 3,\n",
    " 'negative impact': 1},\n",
    "    \n",
    "    'fr': {'society': 175,\n",
    " 'law': 118,\n",
    " 'security': 60,\n",
    " 'responsibility': 26,\n",
    " 'justice': 21,\n",
    " 'negative impact': 17,\n",
    " 'legal': 13,\n",
    " 'fundamental right': 6,\n",
    " 'fairness': 5,\n",
    " 'ethics': 3,\n",
    " 'human rights': 2,\n",
    " 'well-being': 1,\n",
    " 'sustainability': 1},\n",
    "    \n",
    "    'gb' : {'privacy': 56,\n",
    " 'society': 48,\n",
    " 'sustainability': 47,\n",
    " 'responsibility': 30,\n",
    " 'law': 29,\n",
    " 'legal': 27,\n",
    " 'security': 26,\n",
    " 'justice': 24,\n",
    " 'human rights': 14,\n",
    " 'integrity': 7,\n",
    " 'negative impact': 6,\n",
    " 'ethics': 4,\n",
    " 'accountability': 3,\n",
    " 'physical integrity': 1,\n",
    " 'fairness': 1,\n",
    " 'dignity': 1},\n",
    "    \n",
    "'ie' : {'society': 44,\n",
    " 'law': 35,\n",
    " 'sustainability': 24,\n",
    " 'responsibility': 21,\n",
    " 'legal': 20,\n",
    " 'security': 18,\n",
    " 'privacy': 12,\n",
    " 'justice': 12,\n",
    " 'negative impact': 4,\n",
    " 'integrity': 4,\n",
    " 'accountability': 2,\n",
    " 'bias': 2,\n",
    " 'discrimination': 2,\n",
    " 'human rights': 2,\n",
    " 'vulnerable groups': 1,\n",
    " 'dignity': 1,\n",
    " 'well-being': 1,\n",
    " 'ethics': 1},\n",
    "    'it' : {'society': 142,\n",
    " 'sustainability': 103,\n",
    " 'security': 44,\n",
    " 'law': 35,\n",
    " 'responsibility': 25,\n",
    " 'well-being': 17,\n",
    " 'justice': 10,\n",
    " 'integrity': 4,\n",
    " 'ethics': 3,\n",
    " 'human rights': 3,\n",
    " 'legal': 2,\n",
    " 'privacy': 1,\n",
    " 'dignity': 1,\n",
    " 'fairness': 1,\n",
    " 'discrimination': 1},\n",
    "    \n",
    "    'nl': { 'sustainability': 2,\n",
    " 'privacy': 2,\n",
    " 'responsibility': 1,\n",
    " 'society': 1,\n",
    " 'law': 1,\n",
    " 'legal': 1,\n",
    " 'security': 1},\n",
    "    \n",
    "    'ro' :  {'security': 8,\n",
    " 'law': 8,\n",
    " 'society': 6,\n",
    " 'legal': 5,\n",
    " 'responsibility': 4,\n",
    " 'discrimination': 2,\n",
    " 'fairness': 2,\n",
    " 'well-being': 1,\n",
    " 'insecurity': 1,\n",
    " 'justice': 1,\n",
    " 'integrity': 1,\n",
    " 'human rights': 1},\n",
    "    \n",
    "    \n",
    "    'rs': {'law': 20,\n",
    " 'responsibility': 11,\n",
    " 'society': 7,\n",
    " 'sustainability': 6,\n",
    " 'legal': 4,\n",
    " 'security': 4,\n",
    " 'negative impact': 3,\n",
    " 'justice': 3,\n",
    " 'integrity': 1,\n",
    " 'dignity': 1,\n",
    " 'ethics': 1,\n",
    " 'human rights': 1,\n",
    " 'fairness': 1,\n",
    " 'bias': 1,\n",
    " 'well-being': 1},\n",
    "    \n",
    "    'se': { 'society': 34,\n",
    " 'responsibility': 28,\n",
    " 'security': 11,\n",
    " 'sustainability': 10,\n",
    " 'justice': 8,\n",
    " 'dignity': 3,\n",
    " 'ethics': 2,\n",
    " 'human rights': 2},\n",
    "    \n",
    "    'us':{'sustainability': 181,\n",
    " 'law': 172,\n",
    " 'security': 137,\n",
    " 'society': 112,\n",
    " 'responsibility': 85,\n",
    " 'justice': 59,\n",
    " 'legal': 45,\n",
    " 'accountability': 21,\n",
    " 'ethics': 18,\n",
    " 'integrity': 17,\n",
    " 'human rights': 17,\n",
    " 'negative impact': 16,\n",
    " 'privacy': 6,\n",
    " 'bias': 6,\n",
    " 'fairness': 3,\n",
    " 'discrimination': 3,\n",
    " 'vulnerable groups': 2,\n",
    " 'dignity': 1}\n",
    "    \n",
    "    \n",
    "}\n"
   ]
  },
  {
   "cell_type": "code",
   "execution_count": 25,
   "id": "e10e01a7",
   "metadata": {},
   "outputs": [],
   "source": [
    "ethics_dict_digitalxr = {\n",
    "    'at':{\n",
    "        'society': 9,\n",
    " 'security': 3,\n",
    " 'sustainability': 2,\n",
    " 'privacy': 2,\n",
    " 'insecurity': 2,\n",
    " 'responsibility': 2,\n",
    " 'well-being': 1\n",
    "    },\n",
    "    \n",
    "\n",
    "    \n",
    "     'cz': {'security': 8,\n",
    " 'legal': 3,\n",
    " 'responsibility': 2,\n",
    " 'sustainability': 1,\n",
    " 'bias': 1},\n",
    "    \n",
    "    \n",
    "    'de':{'security': 35,\n",
    " 'privacy': 34,\n",
    " 'society': 16,\n",
    " 'law': 16,\n",
    " 'responsibility': 15,\n",
    " 'sustainability': 12,\n",
    " 'well-being': 7,\n",
    " 'dignity': 3,\n",
    " 'insecurity': 2,\n",
    " 'fairness': 1,\n",
    " 'negative impact': 1},\n",
    "    \n",
    "    \n",
    "'es' : { 'society': 80,\n",
    " 'security': 65,\n",
    " 'law': 35,\n",
    " 'privacy': 33,\n",
    " 'responsibility': 22,\n",
    " 'well-being': 19,\n",
    " 'legal': 16,\n",
    " 'justice': 13,\n",
    " 'ethics': 13,\n",
    " 'sustainability': 8,\n",
    " 'human rights': 7,\n",
    " 'dignity': 6,\n",
    " 'illegal': 5,\n",
    " 'bias': 4,\n",
    " 'discrimination': 4,\n",
    " 'negative impact': 3,\n",
    " 'integrity': 2,\n",
    " 'fundamental rights': 2,\n",
    " 'human rights': 2,\n",
    " 'fairness': 1},\n",
    "    \n",
    "    'fr':{\n",
    "        'society': 295,\n",
    " 'law': 220,\n",
    " 'security': 111,\n",
    " 'privacy': 33,\n",
    " 'justice': 19,\n",
    " 'legal' : 13,\n",
    " 'responsibility': 28,\n",
    " 'ethics': 19,\n",
    " 'bias': 7,\n",
    " 'discrimination': 5,\n",
    " 'well-being': 4,\n",
    "  'integrity': 3,\n",
    " 'negative impact': 3,\n",
    " 'dignity': 2,\n",
    " 'fairness': 1,\n",
    " 'physical integrity': 1},\n",
    "    \n",
    "'gb' :{'privacy': 181,\n",
    " 'society': 76,\n",
    " 'security': 54,\n",
    " 'law': 52,\n",
    " 'responsibility': 38,\n",
    " 'sustainability': 32,\n",
    " 'justice': 30,\n",
    " 'legal': 27,\n",
    " 'bias': 16,\n",
    " 'ethics': 14,\n",
    " 'integrity': 14,\n",
    " 'human rights': 11,\n",
    " 'negative impact': 6,\n",
    " 'dignity': 4,\n",
    " 'fairness': 3,\n",
    " 'well-being': 3,\n",
    " 'accountability': 3,\n",
    " 'discrimination': 3},\n",
    "    \n",
    "'ie' : {'privacy': 96,\n",
    " 'society': 56,\n",
    " 'security': 40,\n",
    " 'law': 31,\n",
    " 'responsibility': 21,\n",
    " 'sustainability': 18,\n",
    " 'legal': 18,\n",
    " 'ethics': 15,\n",
    " 'bias': 11,\n",
    " 'justice': 8,\n",
    " 'integrity': 7,\n",
    " 'discrimination': 5,\n",
    " 'negative impact': 5,\n",
    " 'accountability': 4,\n",
    " 'fairness': 3,\n",
    " 'human rights': 2,\n",
    " 'dignity': 1},\n",
    "    \n",
    "    'it' : {'society': 294,\n",
    " 'security': 153,\n",
    " 'sustainability': 70,\n",
    " 'law': 69,\n",
    " 'privacy': 67,\n",
    " 'responsibility': 44,\n",
    " 'well-being': 37,\n",
    " 'justice': 12,\n",
    " 'legal': 12,\n",
    " 'ethics': 8,\n",
    " 'dignity': 4,\n",
    " 'discrimination': 2,\n",
    " 'human rights': 2,\n",
    " 'negative impact': 2,\n",
    " 'integrity': 1,\n",
    " 'discrimination': 1,\n",
    " 'bias': 1},\n",
    "    \n",
    "\n",
    "    'nl': {  'privacy': 15,\n",
    " 'responsibility': 5,\n",
    " 'society': 4,\n",
    " 'law': 4,\n",
    " 'human rights': 4,\n",
    " 'security': 3,\n",
    " 'well-being': 3,\n",
    " 'fundamental rights': 3,\n",
    " 'sustainability': 2,\n",
    " 'discrimination': 1,\n",
    " 'dignity': 1,\n",
    " 'fairness': 1,\n",
    " 'justice': 1},\n",
    "           \n",
    " 'ro': {'security': 25,\n",
    " 'society': 22,\n",
    " 'privacy': 6,\n",
    " 'legal': 6,\n",
    " 'integrity': 5,\n",
    " 'law': 4,\n",
    " 'accountability': 4,\n",
    " 'well-being': 3,\n",
    " 'human rights': 2,\n",
    " 'discrimination': 1,\n",
    " 'sustainability': 1,\n",
    " 'fairness': 1},\n",
    "           \n",
    "'rs' : {'law': 26,\n",
    " 'security': 25,\n",
    " 'society': 10,\n",
    " 'justice': 10,\n",
    " 'responsibility': 9,\n",
    " 'privacy': 7,\n",
    " 'legal': 6,\n",
    " 'human rights': 6,\n",
    " 'ethics': 6,\n",
    " 'integrity': 4,\n",
    " 'sustainability': 2,\n",
    " 'bias': 2,\n",
    " 'well-being': 2,\n",
    " 'dignity': 1},\n",
    "           \n",
    "'se' : { 'society': 17,\n",
    " 'security': 12,\n",
    " 'ethics': 10,\n",
    " 'responsibility': 5,\n",
    " 'dignity': 4,\n",
    " 'sustainability': 3,\n",
    " 'human rights': 2,\n",
    " 'well-being': 2,\n",
    " 'bias': 2,\n",
    " 'legal': 1,\n",
    " 'justice': 1},\n",
    "           \n",
    "           'us': {'security': 142,\n",
    " 'privacy': 80,\n",
    " 'law': 70,\n",
    " 'society': 69,\n",
    " 'justice': 43,\n",
    " 'legal': 40,\n",
    " 'bias': 33,\n",
    " 'responsibility': 23,\n",
    " 'integrity': 19,\n",
    " 'ethics': 19,\n",
    " 'sustainability': 15,\n",
    " 'fairness': 10,\n",
    " 'negative impact': 9,\n",
    " 'human rights': 9,\n",
    " 'accountability': 8,\n",
    " 'discrimination': 6,\n",
    " 'dignity': 2,\n",
    " 'well-being': 1}\n",
    "    \n",
    "    \n",
    "}"
   ]
  },
  {
   "cell_type": "code",
   "execution_count": 26,
   "id": "9c9fe531",
   "metadata": {},
   "outputs": [],
   "source": [
    "ethics_dict_neurotech = {\n",
    "    \n",
    "    'at' : {\n",
    "        'responsibility': 2, 'law': 2, 'privacy': 1, 'society': 1\n",
    "    },\n",
    "    \n",
    "    'cz' : {'safety': 3, 'ethics': 2, 'legal': 1},\n",
    "    \n",
    "    'de' : {'security': 11,\n",
    " 'society': 11,\n",
    " 'responsibility': 9,\n",
    " 'justice': 3,\n",
    " 'privacy': 2,\n",
    " 'law': 1,\n",
    " 'human rights': 1},\n",
    "  \n",
    "  'es': { 'society': 4,\n",
    " 'law': 3,\n",
    " 'discrimination': 2,\n",
    " 'security': 2,\n",
    " 'legal': 2,\n",
    " 'privacy': 2,\n",
    " 'ethics': 2,\n",
    " 'integrity': 1,\n",
    " 'physical integrity': 1,\n",
    " 'illegal': 1,\n",
    " 'bias': 1,\n",
    " 'justice': 1,\n",
    " 'human rights': 1},\n",
    "  \n",
    "  'fr':{ 'society': 13,\n",
    " 'law': 10,\n",
    " 'ethics': 5,\n",
    " 'security': 4,\n",
    " 'privacy': 3,\n",
    " 'physical integrity': 2,\n",
    " 'integrity': 2},\n",
    "  \n",
    "  'gb' : {'privacy': 12,\n",
    " 'society': 10,\n",
    " 'ethics': 3,\n",
    " 'legal': 3,\n",
    " 'security': 3,\n",
    " 'dignity': 3,\n",
    " 'law': 3,\n",
    " 'bias': 2,\n",
    " 'responsibility': 1},\n",
    "  \n",
    "  'ie': {'privacy': 3,\n",
    " 'security': 3,\n",
    " 'society': 3,\n",
    " 'sustainability': 1,\n",
    " 'negative impact': 1},\n",
    "  \n",
    "  \n",
    "  'it': {'society': 13,\n",
    " 'ethics': 4,\n",
    " 'privacy': 4,\n",
    " 'law': 4,\n",
    " 'responsibility': 2,\n",
    " 'well-being': 2,\n",
    " 'security': 2,\n",
    " 'bias': 1,\n",
    " 'discrimination': 1,\n",
    " 'justice': 1,\n",
    " 'legal': 1,\n",
    " 'human rights': 1,\n",
    " 'integrity': 1},\n",
    "  \n",
    "  'nl':{'privacy':1},\n",
    "  \n",
    "  'ro':{'society': 6, 'security': 5, 'law': 2, 'privacy': 1},\n",
    "  \n",
    "  'rs':{'law': 4,\n",
    " 'security': 3,\n",
    " 'responsibility': 3,\n",
    " 'justice': 2,\n",
    " 'society': 2,\n",
    " 'sustainability': 1,\n",
    " 'ethics': 1},\n",
    "  \n",
    "  'se':{ 'integrity': 3,\n",
    " 'security': 2,\n",
    " 'society': 2,\n",
    " 'ethics': 2,\n",
    " 'responsibility': 1,\n",
    " 'justice': 1},\n",
    "  \n",
    "  'us': {'security': 23,\n",
    " 'privacy': 21,\n",
    " 'law': 20,\n",
    " 'society': 18,\n",
    " 'ethics': 10,\n",
    " 'legal': 8,\n",
    " 'responsibility': 8,\n",
    " 'bias': 7,\n",
    " 'integrity': 5,\n",
    " 'human rights': 5,\n",
    " 'justice': 5,\n",
    " 'fairness': 1,\n",
    " 'negative impact': 1,\n",
    " 'accountability': 1,\n",
    " 'dignity': 1}\n",
    "  \n",
    "  \n",
    "  \n",
    "  \n",
    "    \n",
    "}"
   ]
  },
  {
   "cell_type": "code",
   "execution_count": 54,
   "id": "d6408763",
   "metadata": {},
   "outputs": [
    {
     "name": "stdout",
     "output_type": "stream",
     "text": [
      "es\n",
      "Chile, laboratorio mundial de los neuroderechos\n",
      "es\n",
      "La ciencia ya lee tu cerebro, pronto desvelará hasta tu subconsciente\n",
      "fr\n",
      "Chili: vote d'une loi protégeant les \"neurodroits\" ou droits du cerveau\n",
      "fr\n",
      "Chili: vote d'une loi protégeant les \"neurodroits\" ou droits du cerveau\n",
      "gb\n",
      "Cyborg skin, flying cars and THAT boat: Here’s our favourite scientific images from March\n",
      "us\n",
      "The Movement to Protect Your Mind From Brain-Computer Technologies\n",
      "us\n",
      "'This is not science fiction,' say scientists pushing for 'neuro-rights'\n"
     ]
    }
   ],
   "source": [
    "for i, r in df_all[df_all.topic=='neurotech'].iterrows():\n",
    "    if isinstance(r['text'],str):\n",
    "        if 'Chile' in r['text'] or 'Chili' in r['text'] or 'Cile' in r['text']  or 'Čile' in r['text'] :\n",
    "            print(r['country'])\n",
    "            print(r['title'])"
   ]
  },
  {
   "cell_type": "code",
   "execution_count": 55,
   "id": "2d6c0184",
   "metadata": {},
   "outputs": [
    {
     "data": {
      "text/plain": [
       "(13552, 16)"
      ]
     },
     "execution_count": 55,
     "metadata": {},
     "output_type": "execute_result"
    }
   ],
   "source": [
    "df_all.shape"
   ]
  },
  {
   "cell_type": "code",
   "execution_count": 56,
   "id": "2308adc3",
   "metadata": {},
   "outputs": [
    {
     "data": {
      "text/plain": [
       "0.25258264462809915"
      ]
     },
     "execution_count": 56,
     "metadata": {},
     "output_type": "execute_result"
    }
   ],
   "source": [
    "ust=3423\n",
    "ust/13552"
   ]
  },
  {
   "cell_type": "code",
   "execution_count": 38,
   "id": "c673c9d2",
   "metadata": {},
   "outputs": [],
   "source": [
    "# topic-specific params\n",
    "t = 'digitalxr'\n",
    "raw_counts = ethics_dict_digitalxr\n",
    "topics_col = {'climate':'Greens', 'digitalxr' : 'Blues', 'neurotech' : 'Oranges'}\n",
    "t_col = topics_col[t]"
   ]
  },
  {
   "cell_type": "code",
   "execution_count": 39,
   "id": "003f746f",
   "metadata": {},
   "outputs": [],
   "source": [
    "# create header\n",
    "header = []\n",
    "for c in raw_counts.keys():\n",
    "    w = list(raw_counts[c].keys())\n",
    "    header = header + w\n",
    "    \n",
    "header = list(set(header))\n",
    "\n",
    "# add same keys for each country \n",
    "for c in raw_counts.keys():\n",
    "    for w in header:\n",
    "        if w not in list(raw_counts[c].keys()):\n",
    "            raw_counts[c][w] = 0\n",
    "            \n",
    "# create df rows\n",
    "hmp = []\n",
    "row_id = []\n",
    "for c in raw_counts.keys():\n",
    "    row = []\n",
    "    row_id.append(c)\n",
    "    denom = sum(raw_counts[c].values())\n",
    "    for w in header:\n",
    "        #row.append(raw_counts[c][w]/len(df_all[(df_all.country==c) & (df_all.topic==t)]))\n",
    "        #row.append(raw_counts[c][w]/len(df_ethics[(df_ethics.country==c) & (df_ethics.topic==t)])*100)\n",
    "        # normalise counts\n",
    "        row.append(raw_counts[c][w]/denom*100)\n",
    "    hmp.append(row)\n",
    "\n",
    "# transpose, add counts across countries, sort\n",
    "hmpt = np.transpose(hmp)\n",
    "hmp_df = pd.DataFrame(hmpt,columns=row_id)\n",
    "hmp_df['counts'] = hmp_df.sum(axis=1)\n",
    "\n",
    "hmp_df['kw'] = header\n",
    "hmp_df = hmp_df.sort_values(by=['counts'],ascending=False)\n",
    "\n",
    "# keep only most frequent to plot\n",
    "hmp_plot = hmp_df[hmp_df['counts']>0.05].reset_index(drop=True)\n",
    "kw = hmp_plot['kw']\n",
    "#hmp_plot = hmp_plot[raw_counts_digitalxr.keys()].values"
   ]
  },
  {
   "cell_type": "code",
   "execution_count": 437,
   "id": "fa3fac76",
   "metadata": {},
   "outputs": [],
   "source": [
    " mp = np.mean(hmp_plot[countries].mean(axis=0))"
   ]
  },
  {
   "cell_type": "code",
   "execution_count": 40,
   "id": "2ea0bcbe",
   "metadata": {},
   "outputs": [
    {
     "data": {
      "application/vnd.plotly.v1+json": {
       "config": {
        "plotlyServerURL": "https://plot.ly"
       },
       "data": [
        {
         "coloraxis": "coloraxis",
         "hovertemplate": "x: %{x}<br>digitalxr keywords: %{y}<br>News percentage: %{z}<extra></extra>",
         "name": "0",
         "texttemplate": "%{z}",
         "type": "heatmap",
         "x": [
          "at",
          "cz",
          "de",
          "es",
          "fr",
          "gb",
          "ie",
          "it",
          "nl",
          "ro",
          "rs",
          "se",
          "us"
         ],
         "xaxis": "x",
         "y": [
          "security",
          "society",
          "privacy",
          "law",
          "responsibility",
          "sustainability",
          "legal",
          "ethics",
          "well-being",
          "justice",
          "bias",
          "human rights",
          "integrity",
          "dignity",
          "insecurity",
          "discrimination",
          "accountability",
          "fairness",
          "fundamental rights",
          "negative impact",
          "illegal",
          "physical integrity"
         ],
         "yaxis": "y",
         "z": [
          [
           14.3,
           53.3,
           24.6,
           19.5,
           14.5,
           9.5,
           11.7,
           19.7,
           6.4,
           31.2,
           21.6,
           20.3,
           23.7
          ],
          [
           42.9,
           0,
           11.3,
           24,
           38.6,
           13.4,
           16.4,
           37.8,
           8.5,
           27.5,
           8.6,
           28.8,
           11.5
          ],
          [
           9.5,
           0,
           23.9,
           9.9,
           4.3,
           31.9,
           28.2,
           8.6,
           31.9,
           7.5,
           6,
           0,
           13.4
          ],
          [
           0,
           0,
           11.3,
           10.5,
           28.8,
           9.2,
           9.1,
           8.9,
           8.5,
           5,
           22.4,
           0,
           11.7
          ],
          [
           9.5,
           13.3,
           10.6,
           6.6,
           3.7,
           6.7,
           6.2,
           5.7,
           10.6,
           0,
           7.8,
           8.5,
           3.8
          ],
          [
           9.5,
           6.7,
           8.5,
           2.4,
           0,
           5.6,
           5.3,
           9,
           4.3,
           1.2,
           1.7,
           5.1,
           2.5
          ],
          [
           0,
           20,
           0,
           4.8,
           1.7,
           4.8,
           5.3,
           1.5,
           0,
           7.5,
           5.2,
           1.7,
           6.7
          ],
          [
           0,
           0,
           0,
           3.9,
           2.5,
           2.5,
           4.4,
           1,
           0,
           0,
           5.2,
           16.9,
           3.2
          ],
          [
           4.8,
           0,
           4.9,
           5.7,
           0.5,
           0.5,
           0,
           4.8,
           6.4,
           3.8,
           1.7,
           3.4,
           0.2
          ],
          [
           0,
           0,
           0,
           3.9,
           2.5,
           5.3,
           2.3,
           1.5,
           2.1,
           0,
           8.6,
           1.7,
           7.2
          ],
          [
           0,
           6.7,
           0,
           1.2,
           0.9,
           2.8,
           3.2,
           0.1,
           0,
           0,
           1.7,
           3.4,
           5.5
          ],
          [
           0,
           0,
           0,
           0.6,
           0,
           1.9,
           0.6,
           0.3,
           8.5,
           2.5,
           5.2,
           3.4,
           1.5
          ],
          [
           0,
           0,
           0,
           0.6,
           0.4,
           2.5,
           2.1,
           0.1,
           0,
           6.2,
           3.4,
           0,
           3.2
          ],
          [
           0,
           0,
           2.1,
           1.8,
           0.3,
           0.7,
           0.3,
           0.5,
           2.1,
           0,
           0.9,
           6.8,
           0.3
          ],
          [
           9.5,
           0,
           1.4,
           0,
           0,
           0,
           0,
           0,
           0,
           0,
           0,
           0,
           0
          ],
          [
           0,
           0,
           0,
           1.2,
           0.7,
           0.5,
           1.5,
           0.1,
           2.1,
           1.2,
           0,
           0,
           1
          ],
          [
           0,
           0,
           0,
           0,
           0,
           0.5,
           1.2,
           0,
           0,
           5,
           0,
           0,
           1.3
          ],
          [
           0,
           0,
           0.7,
           0.3,
           0.1,
           0.5,
           0.9,
           0,
           2.1,
           1.2,
           0,
           0,
           1.7
          ],
          [
           0,
           0,
           0,
           0.6,
           0,
           0,
           0,
           0,
           6.4,
           0,
           0,
           0,
           0
          ],
          [
           0,
           0,
           0.7,
           0.9,
           0.4,
           1.1,
           1.5,
           0.3,
           0,
           0,
           0,
           0,
           1.5
          ],
          [
           0,
           0,
           0,
           1.5,
           0,
           0,
           0,
           0,
           0,
           0,
           0,
           0,
           0
          ],
          [
           0,
           0,
           0,
           0,
           0.1,
           0,
           0,
           0,
           0,
           0,
           0,
           0,
           0
          ]
         ]
        }
       ],
       "layout": {
        "coloraxis": {
         "colorbar": {
          "title": {
           "text": "News percentage"
          }
         },
         "colorscale": [
          [
           0,
           "rgb(255,255,255)"
          ],
          [
           0.125,
           "rgb(240,240,240)"
          ],
          [
           0.25,
           "rgb(217,217,217)"
          ],
          [
           0.375,
           "rgb(189,189,189)"
          ],
          [
           0.5,
           "rgb(150,150,150)"
          ],
          [
           0.625,
           "rgb(115,115,115)"
          ],
          [
           0.75,
           "rgb(82,82,82)"
          ],
          [
           0.875,
           "rgb(37,37,37)"
          ],
          [
           1,
           "rgb(0,0,0)"
          ]
         ]
        },
        "margin": {
         "t": 60
        },
        "template": {
         "data": {
          "bar": [
           {
            "error_x": {
             "color": "#2a3f5f"
            },
            "error_y": {
             "color": "#2a3f5f"
            },
            "marker": {
             "line": {
              "color": "#E5ECF6",
              "width": 0.5
             },
             "pattern": {
              "fillmode": "overlay",
              "size": 10,
              "solidity": 0.2
             }
            },
            "type": "bar"
           }
          ],
          "barpolar": [
           {
            "marker": {
             "line": {
              "color": "#E5ECF6",
              "width": 0.5
             },
             "pattern": {
              "fillmode": "overlay",
              "size": 10,
              "solidity": 0.2
             }
            },
            "type": "barpolar"
           }
          ],
          "carpet": [
           {
            "aaxis": {
             "endlinecolor": "#2a3f5f",
             "gridcolor": "white",
             "linecolor": "white",
             "minorgridcolor": "white",
             "startlinecolor": "#2a3f5f"
            },
            "baxis": {
             "endlinecolor": "#2a3f5f",
             "gridcolor": "white",
             "linecolor": "white",
             "minorgridcolor": "white",
             "startlinecolor": "#2a3f5f"
            },
            "type": "carpet"
           }
          ],
          "choropleth": [
           {
            "colorbar": {
             "outlinewidth": 0,
             "ticks": ""
            },
            "type": "choropleth"
           }
          ],
          "contour": [
           {
            "colorbar": {
             "outlinewidth": 0,
             "ticks": ""
            },
            "colorscale": [
             [
              0,
              "#0d0887"
             ],
             [
              0.1111111111111111,
              "#46039f"
             ],
             [
              0.2222222222222222,
              "#7201a8"
             ],
             [
              0.3333333333333333,
              "#9c179e"
             ],
             [
              0.4444444444444444,
              "#bd3786"
             ],
             [
              0.5555555555555556,
              "#d8576b"
             ],
             [
              0.6666666666666666,
              "#ed7953"
             ],
             [
              0.7777777777777778,
              "#fb9f3a"
             ],
             [
              0.8888888888888888,
              "#fdca26"
             ],
             [
              1,
              "#f0f921"
             ]
            ],
            "type": "contour"
           }
          ],
          "contourcarpet": [
           {
            "colorbar": {
             "outlinewidth": 0,
             "ticks": ""
            },
            "type": "contourcarpet"
           }
          ],
          "heatmap": [
           {
            "colorbar": {
             "outlinewidth": 0,
             "ticks": ""
            },
            "colorscale": [
             [
              0,
              "#0d0887"
             ],
             [
              0.1111111111111111,
              "#46039f"
             ],
             [
              0.2222222222222222,
              "#7201a8"
             ],
             [
              0.3333333333333333,
              "#9c179e"
             ],
             [
              0.4444444444444444,
              "#bd3786"
             ],
             [
              0.5555555555555556,
              "#d8576b"
             ],
             [
              0.6666666666666666,
              "#ed7953"
             ],
             [
              0.7777777777777778,
              "#fb9f3a"
             ],
             [
              0.8888888888888888,
              "#fdca26"
             ],
             [
              1,
              "#f0f921"
             ]
            ],
            "type": "heatmap"
           }
          ],
          "heatmapgl": [
           {
            "colorbar": {
             "outlinewidth": 0,
             "ticks": ""
            },
            "colorscale": [
             [
              0,
              "#0d0887"
             ],
             [
              0.1111111111111111,
              "#46039f"
             ],
             [
              0.2222222222222222,
              "#7201a8"
             ],
             [
              0.3333333333333333,
              "#9c179e"
             ],
             [
              0.4444444444444444,
              "#bd3786"
             ],
             [
              0.5555555555555556,
              "#d8576b"
             ],
             [
              0.6666666666666666,
              "#ed7953"
             ],
             [
              0.7777777777777778,
              "#fb9f3a"
             ],
             [
              0.8888888888888888,
              "#fdca26"
             ],
             [
              1,
              "#f0f921"
             ]
            ],
            "type": "heatmapgl"
           }
          ],
          "histogram": [
           {
            "marker": {
             "pattern": {
              "fillmode": "overlay",
              "size": 10,
              "solidity": 0.2
             }
            },
            "type": "histogram"
           }
          ],
          "histogram2d": [
           {
            "colorbar": {
             "outlinewidth": 0,
             "ticks": ""
            },
            "colorscale": [
             [
              0,
              "#0d0887"
             ],
             [
              0.1111111111111111,
              "#46039f"
             ],
             [
              0.2222222222222222,
              "#7201a8"
             ],
             [
              0.3333333333333333,
              "#9c179e"
             ],
             [
              0.4444444444444444,
              "#bd3786"
             ],
             [
              0.5555555555555556,
              "#d8576b"
             ],
             [
              0.6666666666666666,
              "#ed7953"
             ],
             [
              0.7777777777777778,
              "#fb9f3a"
             ],
             [
              0.8888888888888888,
              "#fdca26"
             ],
             [
              1,
              "#f0f921"
             ]
            ],
            "type": "histogram2d"
           }
          ],
          "histogram2dcontour": [
           {
            "colorbar": {
             "outlinewidth": 0,
             "ticks": ""
            },
            "colorscale": [
             [
              0,
              "#0d0887"
             ],
             [
              0.1111111111111111,
              "#46039f"
             ],
             [
              0.2222222222222222,
              "#7201a8"
             ],
             [
              0.3333333333333333,
              "#9c179e"
             ],
             [
              0.4444444444444444,
              "#bd3786"
             ],
             [
              0.5555555555555556,
              "#d8576b"
             ],
             [
              0.6666666666666666,
              "#ed7953"
             ],
             [
              0.7777777777777778,
              "#fb9f3a"
             ],
             [
              0.8888888888888888,
              "#fdca26"
             ],
             [
              1,
              "#f0f921"
             ]
            ],
            "type": "histogram2dcontour"
           }
          ],
          "mesh3d": [
           {
            "colorbar": {
             "outlinewidth": 0,
             "ticks": ""
            },
            "type": "mesh3d"
           }
          ],
          "parcoords": [
           {
            "line": {
             "colorbar": {
              "outlinewidth": 0,
              "ticks": ""
             }
            },
            "type": "parcoords"
           }
          ],
          "pie": [
           {
            "automargin": true,
            "type": "pie"
           }
          ],
          "scatter": [
           {
            "marker": {
             "colorbar": {
              "outlinewidth": 0,
              "ticks": ""
             }
            },
            "type": "scatter"
           }
          ],
          "scatter3d": [
           {
            "line": {
             "colorbar": {
              "outlinewidth": 0,
              "ticks": ""
             }
            },
            "marker": {
             "colorbar": {
              "outlinewidth": 0,
              "ticks": ""
             }
            },
            "type": "scatter3d"
           }
          ],
          "scattercarpet": [
           {
            "marker": {
             "colorbar": {
              "outlinewidth": 0,
              "ticks": ""
             }
            },
            "type": "scattercarpet"
           }
          ],
          "scattergeo": [
           {
            "marker": {
             "colorbar": {
              "outlinewidth": 0,
              "ticks": ""
             }
            },
            "type": "scattergeo"
           }
          ],
          "scattergl": [
           {
            "marker": {
             "colorbar": {
              "outlinewidth": 0,
              "ticks": ""
             }
            },
            "type": "scattergl"
           }
          ],
          "scattermapbox": [
           {
            "marker": {
             "colorbar": {
              "outlinewidth": 0,
              "ticks": ""
             }
            },
            "type": "scattermapbox"
           }
          ],
          "scatterpolar": [
           {
            "marker": {
             "colorbar": {
              "outlinewidth": 0,
              "ticks": ""
             }
            },
            "type": "scatterpolar"
           }
          ],
          "scatterpolargl": [
           {
            "marker": {
             "colorbar": {
              "outlinewidth": 0,
              "ticks": ""
             }
            },
            "type": "scatterpolargl"
           }
          ],
          "scatterternary": [
           {
            "marker": {
             "colorbar": {
              "outlinewidth": 0,
              "ticks": ""
             }
            },
            "type": "scatterternary"
           }
          ],
          "surface": [
           {
            "colorbar": {
             "outlinewidth": 0,
             "ticks": ""
            },
            "colorscale": [
             [
              0,
              "#0d0887"
             ],
             [
              0.1111111111111111,
              "#46039f"
             ],
             [
              0.2222222222222222,
              "#7201a8"
             ],
             [
              0.3333333333333333,
              "#9c179e"
             ],
             [
              0.4444444444444444,
              "#bd3786"
             ],
             [
              0.5555555555555556,
              "#d8576b"
             ],
             [
              0.6666666666666666,
              "#ed7953"
             ],
             [
              0.7777777777777778,
              "#fb9f3a"
             ],
             [
              0.8888888888888888,
              "#fdca26"
             ],
             [
              1,
              "#f0f921"
             ]
            ],
            "type": "surface"
           }
          ],
          "table": [
           {
            "cells": {
             "fill": {
              "color": "#EBF0F8"
             },
             "line": {
              "color": "white"
             }
            },
            "header": {
             "fill": {
              "color": "#C8D4E3"
             },
             "line": {
              "color": "white"
             }
            },
            "type": "table"
           }
          ]
         },
         "layout": {
          "annotationdefaults": {
           "arrowcolor": "#2a3f5f",
           "arrowhead": 0,
           "arrowwidth": 1
          },
          "autotypenumbers": "strict",
          "coloraxis": {
           "colorbar": {
            "outlinewidth": 0,
            "ticks": ""
           }
          },
          "colorscale": {
           "diverging": [
            [
             0,
             "#8e0152"
            ],
            [
             0.1,
             "#c51b7d"
            ],
            [
             0.2,
             "#de77ae"
            ],
            [
             0.3,
             "#f1b6da"
            ],
            [
             0.4,
             "#fde0ef"
            ],
            [
             0.5,
             "#f7f7f7"
            ],
            [
             0.6,
             "#e6f5d0"
            ],
            [
             0.7,
             "#b8e186"
            ],
            [
             0.8,
             "#7fbc41"
            ],
            [
             0.9,
             "#4d9221"
            ],
            [
             1,
             "#276419"
            ]
           ],
           "sequential": [
            [
             0,
             "#0d0887"
            ],
            [
             0.1111111111111111,
             "#46039f"
            ],
            [
             0.2222222222222222,
             "#7201a8"
            ],
            [
             0.3333333333333333,
             "#9c179e"
            ],
            [
             0.4444444444444444,
             "#bd3786"
            ],
            [
             0.5555555555555556,
             "#d8576b"
            ],
            [
             0.6666666666666666,
             "#ed7953"
            ],
            [
             0.7777777777777778,
             "#fb9f3a"
            ],
            [
             0.8888888888888888,
             "#fdca26"
            ],
            [
             1,
             "#f0f921"
            ]
           ],
           "sequentialminus": [
            [
             0,
             "#0d0887"
            ],
            [
             0.1111111111111111,
             "#46039f"
            ],
            [
             0.2222222222222222,
             "#7201a8"
            ],
            [
             0.3333333333333333,
             "#9c179e"
            ],
            [
             0.4444444444444444,
             "#bd3786"
            ],
            [
             0.5555555555555556,
             "#d8576b"
            ],
            [
             0.6666666666666666,
             "#ed7953"
            ],
            [
             0.7777777777777778,
             "#fb9f3a"
            ],
            [
             0.8888888888888888,
             "#fdca26"
            ],
            [
             1,
             "#f0f921"
            ]
           ]
          },
          "colorway": [
           "#636efa",
           "#EF553B",
           "#00cc96",
           "#ab63fa",
           "#FFA15A",
           "#19d3f3",
           "#FF6692",
           "#B6E880",
           "#FF97FF",
           "#FECB52"
          ],
          "font": {
           "color": "#2a3f5f"
          },
          "geo": {
           "bgcolor": "white",
           "lakecolor": "white",
           "landcolor": "#E5ECF6",
           "showlakes": true,
           "showland": true,
           "subunitcolor": "white"
          },
          "hoverlabel": {
           "align": "left"
          },
          "hovermode": "closest",
          "mapbox": {
           "style": "light"
          },
          "paper_bgcolor": "white",
          "plot_bgcolor": "#E5ECF6",
          "polar": {
           "angularaxis": {
            "gridcolor": "white",
            "linecolor": "white",
            "ticks": ""
           },
           "bgcolor": "#E5ECF6",
           "radialaxis": {
            "gridcolor": "white",
            "linecolor": "white",
            "ticks": ""
           }
          },
          "scene": {
           "xaxis": {
            "backgroundcolor": "#E5ECF6",
            "gridcolor": "white",
            "gridwidth": 2,
            "linecolor": "white",
            "showbackground": true,
            "ticks": "",
            "zerolinecolor": "white"
           },
           "yaxis": {
            "backgroundcolor": "#E5ECF6",
            "gridcolor": "white",
            "gridwidth": 2,
            "linecolor": "white",
            "showbackground": true,
            "ticks": "",
            "zerolinecolor": "white"
           },
           "zaxis": {
            "backgroundcolor": "#E5ECF6",
            "gridcolor": "white",
            "gridwidth": 2,
            "linecolor": "white",
            "showbackground": true,
            "ticks": "",
            "zerolinecolor": "white"
           }
          },
          "shapedefaults": {
           "line": {
            "color": "#2a3f5f"
           }
          },
          "ternary": {
           "aaxis": {
            "gridcolor": "white",
            "linecolor": "white",
            "ticks": ""
           },
           "baxis": {
            "gridcolor": "white",
            "linecolor": "white",
            "ticks": ""
           },
           "bgcolor": "#E5ECF6",
           "caxis": {
            "gridcolor": "white",
            "linecolor": "white",
            "ticks": ""
           }
          },
          "title": {
           "x": 0.05
          },
          "xaxis": {
           "automargin": true,
           "gridcolor": "white",
           "linecolor": "white",
           "ticks": "",
           "title": {
            "standoff": 15
           },
           "zerolinecolor": "white",
           "zerolinewidth": 2
          },
          "yaxis": {
           "automargin": true,
           "gridcolor": "white",
           "linecolor": "white",
           "ticks": "",
           "title": {
            "standoff": 15
           },
           "zerolinecolor": "white",
           "zerolinewidth": 2
          }
         }
        },
        "title": {
         "text": "Number of news mentioning ELSI-keywords, per country (normalised) - digitalxr",
         "x": 0.5,
         "xanchor": "center",
         "y": 0.98,
         "yanchor": "top"
        },
        "xaxis": {
         "anchor": "y",
         "domain": [
          0,
          1
         ],
         "side": "top",
         "tickangle": 0,
         "title": {
          "font": {
           "size": 95
          }
         }
        },
        "yaxis": {
         "anchor": "x",
         "autorange": "reversed",
         "domain": [
          0,
          1
         ],
         "title": {
          "text": "digitalxr keywords"
         }
        }
       }
      },
      "text/html": [
       "<div>                            <div id=\"ee9e4115-a86f-42ba-bcee-dd32cf585dd9\" class=\"plotly-graph-div\" style=\"height:525px; width:100%;\"></div>            <script type=\"text/javascript\">                require([\"plotly\"], function(Plotly) {                    window.PLOTLYENV=window.PLOTLYENV || {};                                    if (document.getElementById(\"ee9e4115-a86f-42ba-bcee-dd32cf585dd9\")) {                    Plotly.newPlot(                        \"ee9e4115-a86f-42ba-bcee-dd32cf585dd9\",                        [{\"coloraxis\":\"coloraxis\",\"name\":\"0\",\"texttemplate\":\"%{z}\",\"x\":[\"at\",\"cz\",\"de\",\"es\",\"fr\",\"gb\",\"ie\",\"it\",\"nl\",\"ro\",\"rs\",\"se\",\"us\"],\"y\":[\"security\",\"society\",\"privacy\",\"law\",\"responsibility\",\"sustainability\",\"legal\",\"ethics\",\"well-being\",\"justice\",\"bias\",\"human rights\",\"integrity\",\"dignity\",\"insecurity\",\"discrimination\",\"accountability\",\"fairness\",\"fundamental rights\",\"negative impact\",\"illegal\",\"physical integrity\"],\"z\":[[14.3,53.3,24.6,19.5,14.5,9.5,11.7,19.7,6.4,31.2,21.6,20.3,23.7],[42.9,0.0,11.3,24.0,38.6,13.4,16.4,37.8,8.5,27.5,8.6,28.8,11.5],[9.5,0.0,23.9,9.9,4.3,31.9,28.2,8.6,31.9,7.5,6.0,0.0,13.4],[0.0,0.0,11.3,10.5,28.8,9.2,9.1,8.9,8.5,5.0,22.4,0.0,11.7],[9.5,13.3,10.6,6.6,3.7,6.7,6.2,5.7,10.6,0.0,7.8,8.5,3.8],[9.5,6.7,8.5,2.4,0.0,5.6,5.3,9.0,4.3,1.2,1.7,5.1,2.5],[0.0,20.0,0.0,4.8,1.7,4.8,5.3,1.5,0.0,7.5,5.2,1.7,6.7],[0.0,0.0,0.0,3.9,2.5,2.5,4.4,1.0,0.0,0.0,5.2,16.9,3.2],[4.8,0.0,4.9,5.7,0.5,0.5,0.0,4.8,6.4,3.8,1.7,3.4,0.2],[0.0,0.0,0.0,3.9,2.5,5.3,2.3,1.5,2.1,0.0,8.6,1.7,7.2],[0.0,6.7,0.0,1.2,0.9,2.8,3.2,0.1,0.0,0.0,1.7,3.4,5.5],[0.0,0.0,0.0,0.6,0.0,1.9,0.6,0.3,8.5,2.5,5.2,3.4,1.5],[0.0,0.0,0.0,0.6,0.4,2.5,2.1,0.1,0.0,6.2,3.4,0.0,3.2],[0.0,0.0,2.1,1.8,0.3,0.7,0.3,0.5,2.1,0.0,0.9,6.8,0.3],[9.5,0.0,1.4,0.0,0.0,0.0,0.0,0.0,0.0,0.0,0.0,0.0,0.0],[0.0,0.0,0.0,1.2,0.7,0.5,1.5,0.1,2.1,1.2,0.0,0.0,1.0],[0.0,0.0,0.0,0.0,0.0,0.5,1.2,0.0,0.0,5.0,0.0,0.0,1.3],[0.0,0.0,0.7,0.3,0.1,0.5,0.9,0.0,2.1,1.2,0.0,0.0,1.7],[0.0,0.0,0.0,0.6,0.0,0.0,0.0,0.0,6.4,0.0,0.0,0.0,0.0],[0.0,0.0,0.7,0.9,0.4,1.1,1.5,0.3,0.0,0.0,0.0,0.0,1.5],[0.0,0.0,0.0,1.5,0.0,0.0,0.0,0.0,0.0,0.0,0.0,0.0,0.0],[0.0,0.0,0.0,0.0,0.1,0.0,0.0,0.0,0.0,0.0,0.0,0.0,0.0]],\"type\":\"heatmap\",\"xaxis\":\"x\",\"yaxis\":\"y\",\"hovertemplate\":\"x: %{x}<br>digitalxr keywords: %{y}<br>News percentage: %{z}<extra></extra>\"}],                        {\"template\":{\"data\":{\"bar\":[{\"error_x\":{\"color\":\"#2a3f5f\"},\"error_y\":{\"color\":\"#2a3f5f\"},\"marker\":{\"line\":{\"color\":\"#E5ECF6\",\"width\":0.5},\"pattern\":{\"fillmode\":\"overlay\",\"size\":10,\"solidity\":0.2}},\"type\":\"bar\"}],\"barpolar\":[{\"marker\":{\"line\":{\"color\":\"#E5ECF6\",\"width\":0.5},\"pattern\":{\"fillmode\":\"overlay\",\"size\":10,\"solidity\":0.2}},\"type\":\"barpolar\"}],\"carpet\":[{\"aaxis\":{\"endlinecolor\":\"#2a3f5f\",\"gridcolor\":\"white\",\"linecolor\":\"white\",\"minorgridcolor\":\"white\",\"startlinecolor\":\"#2a3f5f\"},\"baxis\":{\"endlinecolor\":\"#2a3f5f\",\"gridcolor\":\"white\",\"linecolor\":\"white\",\"minorgridcolor\":\"white\",\"startlinecolor\":\"#2a3f5f\"},\"type\":\"carpet\"}],\"choropleth\":[{\"colorbar\":{\"outlinewidth\":0,\"ticks\":\"\"},\"type\":\"choropleth\"}],\"contour\":[{\"colorbar\":{\"outlinewidth\":0,\"ticks\":\"\"},\"colorscale\":[[0.0,\"#0d0887\"],[0.1111111111111111,\"#46039f\"],[0.2222222222222222,\"#7201a8\"],[0.3333333333333333,\"#9c179e\"],[0.4444444444444444,\"#bd3786\"],[0.5555555555555556,\"#d8576b\"],[0.6666666666666666,\"#ed7953\"],[0.7777777777777778,\"#fb9f3a\"],[0.8888888888888888,\"#fdca26\"],[1.0,\"#f0f921\"]],\"type\":\"contour\"}],\"contourcarpet\":[{\"colorbar\":{\"outlinewidth\":0,\"ticks\":\"\"},\"type\":\"contourcarpet\"}],\"heatmap\":[{\"colorbar\":{\"outlinewidth\":0,\"ticks\":\"\"},\"colorscale\":[[0.0,\"#0d0887\"],[0.1111111111111111,\"#46039f\"],[0.2222222222222222,\"#7201a8\"],[0.3333333333333333,\"#9c179e\"],[0.4444444444444444,\"#bd3786\"],[0.5555555555555556,\"#d8576b\"],[0.6666666666666666,\"#ed7953\"],[0.7777777777777778,\"#fb9f3a\"],[0.8888888888888888,\"#fdca26\"],[1.0,\"#f0f921\"]],\"type\":\"heatmap\"}],\"heatmapgl\":[{\"colorbar\":{\"outlinewidth\":0,\"ticks\":\"\"},\"colorscale\":[[0.0,\"#0d0887\"],[0.1111111111111111,\"#46039f\"],[0.2222222222222222,\"#7201a8\"],[0.3333333333333333,\"#9c179e\"],[0.4444444444444444,\"#bd3786\"],[0.5555555555555556,\"#d8576b\"],[0.6666666666666666,\"#ed7953\"],[0.7777777777777778,\"#fb9f3a\"],[0.8888888888888888,\"#fdca26\"],[1.0,\"#f0f921\"]],\"type\":\"heatmapgl\"}],\"histogram\":[{\"marker\":{\"pattern\":{\"fillmode\":\"overlay\",\"size\":10,\"solidity\":0.2}},\"type\":\"histogram\"}],\"histogram2d\":[{\"colorbar\":{\"outlinewidth\":0,\"ticks\":\"\"},\"colorscale\":[[0.0,\"#0d0887\"],[0.1111111111111111,\"#46039f\"],[0.2222222222222222,\"#7201a8\"],[0.3333333333333333,\"#9c179e\"],[0.4444444444444444,\"#bd3786\"],[0.5555555555555556,\"#d8576b\"],[0.6666666666666666,\"#ed7953\"],[0.7777777777777778,\"#fb9f3a\"],[0.8888888888888888,\"#fdca26\"],[1.0,\"#f0f921\"]],\"type\":\"histogram2d\"}],\"histogram2dcontour\":[{\"colorbar\":{\"outlinewidth\":0,\"ticks\":\"\"},\"colorscale\":[[0.0,\"#0d0887\"],[0.1111111111111111,\"#46039f\"],[0.2222222222222222,\"#7201a8\"],[0.3333333333333333,\"#9c179e\"],[0.4444444444444444,\"#bd3786\"],[0.5555555555555556,\"#d8576b\"],[0.6666666666666666,\"#ed7953\"],[0.7777777777777778,\"#fb9f3a\"],[0.8888888888888888,\"#fdca26\"],[1.0,\"#f0f921\"]],\"type\":\"histogram2dcontour\"}],\"mesh3d\":[{\"colorbar\":{\"outlinewidth\":0,\"ticks\":\"\"},\"type\":\"mesh3d\"}],\"parcoords\":[{\"line\":{\"colorbar\":{\"outlinewidth\":0,\"ticks\":\"\"}},\"type\":\"parcoords\"}],\"pie\":[{\"automargin\":true,\"type\":\"pie\"}],\"scatter\":[{\"marker\":{\"colorbar\":{\"outlinewidth\":0,\"ticks\":\"\"}},\"type\":\"scatter\"}],\"scatter3d\":[{\"line\":{\"colorbar\":{\"outlinewidth\":0,\"ticks\":\"\"}},\"marker\":{\"colorbar\":{\"outlinewidth\":0,\"ticks\":\"\"}},\"type\":\"scatter3d\"}],\"scattercarpet\":[{\"marker\":{\"colorbar\":{\"outlinewidth\":0,\"ticks\":\"\"}},\"type\":\"scattercarpet\"}],\"scattergeo\":[{\"marker\":{\"colorbar\":{\"outlinewidth\":0,\"ticks\":\"\"}},\"type\":\"scattergeo\"}],\"scattergl\":[{\"marker\":{\"colorbar\":{\"outlinewidth\":0,\"ticks\":\"\"}},\"type\":\"scattergl\"}],\"scattermapbox\":[{\"marker\":{\"colorbar\":{\"outlinewidth\":0,\"ticks\":\"\"}},\"type\":\"scattermapbox\"}],\"scatterpolar\":[{\"marker\":{\"colorbar\":{\"outlinewidth\":0,\"ticks\":\"\"}},\"type\":\"scatterpolar\"}],\"scatterpolargl\":[{\"marker\":{\"colorbar\":{\"outlinewidth\":0,\"ticks\":\"\"}},\"type\":\"scatterpolargl\"}],\"scatterternary\":[{\"marker\":{\"colorbar\":{\"outlinewidth\":0,\"ticks\":\"\"}},\"type\":\"scatterternary\"}],\"surface\":[{\"colorbar\":{\"outlinewidth\":0,\"ticks\":\"\"},\"colorscale\":[[0.0,\"#0d0887\"],[0.1111111111111111,\"#46039f\"],[0.2222222222222222,\"#7201a8\"],[0.3333333333333333,\"#9c179e\"],[0.4444444444444444,\"#bd3786\"],[0.5555555555555556,\"#d8576b\"],[0.6666666666666666,\"#ed7953\"],[0.7777777777777778,\"#fb9f3a\"],[0.8888888888888888,\"#fdca26\"],[1.0,\"#f0f921\"]],\"type\":\"surface\"}],\"table\":[{\"cells\":{\"fill\":{\"color\":\"#EBF0F8\"},\"line\":{\"color\":\"white\"}},\"header\":{\"fill\":{\"color\":\"#C8D4E3\"},\"line\":{\"color\":\"white\"}},\"type\":\"table\"}]},\"layout\":{\"annotationdefaults\":{\"arrowcolor\":\"#2a3f5f\",\"arrowhead\":0,\"arrowwidth\":1},\"autotypenumbers\":\"strict\",\"coloraxis\":{\"colorbar\":{\"outlinewidth\":0,\"ticks\":\"\"}},\"colorscale\":{\"diverging\":[[0,\"#8e0152\"],[0.1,\"#c51b7d\"],[0.2,\"#de77ae\"],[0.3,\"#f1b6da\"],[0.4,\"#fde0ef\"],[0.5,\"#f7f7f7\"],[0.6,\"#e6f5d0\"],[0.7,\"#b8e186\"],[0.8,\"#7fbc41\"],[0.9,\"#4d9221\"],[1,\"#276419\"]],\"sequential\":[[0.0,\"#0d0887\"],[0.1111111111111111,\"#46039f\"],[0.2222222222222222,\"#7201a8\"],[0.3333333333333333,\"#9c179e\"],[0.4444444444444444,\"#bd3786\"],[0.5555555555555556,\"#d8576b\"],[0.6666666666666666,\"#ed7953\"],[0.7777777777777778,\"#fb9f3a\"],[0.8888888888888888,\"#fdca26\"],[1.0,\"#f0f921\"]],\"sequentialminus\":[[0.0,\"#0d0887\"],[0.1111111111111111,\"#46039f\"],[0.2222222222222222,\"#7201a8\"],[0.3333333333333333,\"#9c179e\"],[0.4444444444444444,\"#bd3786\"],[0.5555555555555556,\"#d8576b\"],[0.6666666666666666,\"#ed7953\"],[0.7777777777777778,\"#fb9f3a\"],[0.8888888888888888,\"#fdca26\"],[1.0,\"#f0f921\"]]},\"colorway\":[\"#636efa\",\"#EF553B\",\"#00cc96\",\"#ab63fa\",\"#FFA15A\",\"#19d3f3\",\"#FF6692\",\"#B6E880\",\"#FF97FF\",\"#FECB52\"],\"font\":{\"color\":\"#2a3f5f\"},\"geo\":{\"bgcolor\":\"white\",\"lakecolor\":\"white\",\"landcolor\":\"#E5ECF6\",\"showlakes\":true,\"showland\":true,\"subunitcolor\":\"white\"},\"hoverlabel\":{\"align\":\"left\"},\"hovermode\":\"closest\",\"mapbox\":{\"style\":\"light\"},\"paper_bgcolor\":\"white\",\"plot_bgcolor\":\"#E5ECF6\",\"polar\":{\"angularaxis\":{\"gridcolor\":\"white\",\"linecolor\":\"white\",\"ticks\":\"\"},\"bgcolor\":\"#E5ECF6\",\"radialaxis\":{\"gridcolor\":\"white\",\"linecolor\":\"white\",\"ticks\":\"\"}},\"scene\":{\"xaxis\":{\"backgroundcolor\":\"#E5ECF6\",\"gridcolor\":\"white\",\"gridwidth\":2,\"linecolor\":\"white\",\"showbackground\":true,\"ticks\":\"\",\"zerolinecolor\":\"white\"},\"yaxis\":{\"backgroundcolor\":\"#E5ECF6\",\"gridcolor\":\"white\",\"gridwidth\":2,\"linecolor\":\"white\",\"showbackground\":true,\"ticks\":\"\",\"zerolinecolor\":\"white\"},\"zaxis\":{\"backgroundcolor\":\"#E5ECF6\",\"gridcolor\":\"white\",\"gridwidth\":2,\"linecolor\":\"white\",\"showbackground\":true,\"ticks\":\"\",\"zerolinecolor\":\"white\"}},\"shapedefaults\":{\"line\":{\"color\":\"#2a3f5f\"}},\"ternary\":{\"aaxis\":{\"gridcolor\":\"white\",\"linecolor\":\"white\",\"ticks\":\"\"},\"baxis\":{\"gridcolor\":\"white\",\"linecolor\":\"white\",\"ticks\":\"\"},\"bgcolor\":\"#E5ECF6\",\"caxis\":{\"gridcolor\":\"white\",\"linecolor\":\"white\",\"ticks\":\"\"}},\"title\":{\"x\":0.05},\"xaxis\":{\"automargin\":true,\"gridcolor\":\"white\",\"linecolor\":\"white\",\"ticks\":\"\",\"title\":{\"standoff\":15},\"zerolinecolor\":\"white\",\"zerolinewidth\":2},\"yaxis\":{\"automargin\":true,\"gridcolor\":\"white\",\"linecolor\":\"white\",\"ticks\":\"\",\"title\":{\"standoff\":15},\"zerolinecolor\":\"white\",\"zerolinewidth\":2}}},\"xaxis\":{\"anchor\":\"y\",\"domain\":[0.0,1.0],\"title\":{\"font\":{\"size\":95}},\"side\":\"top\",\"tickangle\":0},\"yaxis\":{\"anchor\":\"x\",\"domain\":[0.0,1.0],\"autorange\":\"reversed\",\"title\":{\"text\":\"digitalxr keywords\"}},\"coloraxis\":{\"colorbar\":{\"title\":{\"text\":\"News percentage\"}},\"colorscale\":[[0.0,\"rgb(255,255,255)\"],[0.125,\"rgb(240,240,240)\"],[0.25,\"rgb(217,217,217)\"],[0.375,\"rgb(189,189,189)\"],[0.5,\"rgb(150,150,150)\"],[0.625,\"rgb(115,115,115)\"],[0.75,\"rgb(82,82,82)\"],[0.875,\"rgb(37,37,37)\"],[1.0,\"rgb(0,0,0)\"]]},\"margin\":{\"t\":60},\"title\":{\"text\":\"Number of news mentioning ELSI-keywords, per country (normalised) - digitalxr\",\"y\":0.98,\"x\":0.5,\"xanchor\":\"center\",\"yanchor\":\"top\"}},                        {\"responsive\": true}                    ).then(function(){\n",
       "                            \n",
       "var gd = document.getElementById('ee9e4115-a86f-42ba-bcee-dd32cf585dd9');\n",
       "var x = new MutationObserver(function (mutations, observer) {{\n",
       "        var display = window.getComputedStyle(gd).display;\n",
       "        if (!display || display === 'none') {{\n",
       "            console.log([gd, 'removed!']);\n",
       "            Plotly.purge(gd);\n",
       "            observer.disconnect();\n",
       "        }}\n",
       "}});\n",
       "\n",
       "// Listen for the removal of the full notebook cells\n",
       "var notebookContainer = gd.closest('#notebook-container');\n",
       "if (notebookContainer) {{\n",
       "    x.observe(notebookContainer, {childList: true});\n",
       "}}\n",
       "\n",
       "// Listen for the clearing of the current output cell\n",
       "var outputEl = gd.closest('.output');\n",
       "if (outputEl) {{\n",
       "    x.observe(outputEl, {childList: true});\n",
       "}}\n",
       "\n",
       "                        })                };                });            </script>        </div>"
      ]
     },
     "metadata": {},
     "output_type": "display_data"
    }
   ],
   "source": [
    "z_text = np.around(hmp_plot[countries].values, decimals=1) \n",
    "\n",
    "fig = px.imshow(z_text,\n",
    "               \n",
    "               labels=dict(y=t+ \" keywords\", color=\"News percentage\"),\n",
    "                y= hmp_plot['kw'],\n",
    "                x= list(hmp_plot[countries].columns) , color_continuous_scale='Greys',\n",
    "                aspect=\"auto\",text_auto=True)\n",
    "\n",
    "\n",
    "fig.update_xaxes(\n",
    "        side ='top',\n",
    "        tickangle = 0\n",
    "        ,title_font = {\"size\": 95}\n",
    "        #,title_standoff = 0.1\n",
    ")\n",
    "\n",
    "\n",
    "fig.update_layout(\n",
    "            title={\n",
    "            'text': 'Number of news mentioning ELSI-keywords, per country (normalised) - ' + t,\n",
    "            'y':0.98,\n",
    "            'x':0.50,\n",
    "            'xanchor': 'center',\n",
    "            'yanchor': 'top'})\n",
    "\n",
    "\n",
    "fig.show()"
   ]
  },
  {
   "cell_type": "code",
   "execution_count": 41,
   "id": "5d6f28e3",
   "metadata": {},
   "outputs": [
    {
     "data": {
      "text/plain": [
       "0     14.285714\n",
       "1     42.857143\n",
       "2      9.523810\n",
       "3      0.000000\n",
       "4      9.523810\n",
       "5      9.523810\n",
       "6      0.000000\n",
       "7      0.000000\n",
       "8      4.761905\n",
       "9      0.000000\n",
       "10     0.000000\n",
       "11     0.000000\n",
       "12     0.000000\n",
       "13     0.000000\n",
       "14     9.523810\n",
       "15     0.000000\n",
       "16     0.000000\n",
       "17     0.000000\n",
       "18     0.000000\n",
       "19     0.000000\n",
       "20     0.000000\n",
       "21     0.000000\n",
       "Name: at, dtype: float64"
      ]
     },
     "execution_count": 41,
     "metadata": {},
     "output_type": "execute_result"
    }
   ],
   "source": [
    "hmp_plot['at']"
   ]
  },
  {
   "cell_type": "code",
   "execution_count": 37,
   "id": "d99f93d4",
   "metadata": {},
   "outputs": [
    {
     "data": {
      "text/plain": [
       "array([100. , 100. ,  99.9,  99.7,  99.9, 100. , 100.1,  99.9, 100. ,\n",
       "       100. , 100. , 100.1,  99.8])"
      ]
     },
     "execution_count": 37,
     "metadata": {},
     "output_type": "execute_result"
    }
   ],
   "source": [
    "z_text.sum(axis=0)"
   ]
  },
  {
   "cell_type": "code",
   "execution_count": 467,
   "id": "67f0ec00",
   "metadata": {},
   "outputs": [
    {
     "data": {
      "application/vnd.plotly.v1+json": {
       "config": {
        "plotlyServerURL": "https://plot.ly"
       },
       "data": [
        {
         "coloraxis": "coloraxis",
         "hovertemplate": "Country: %{x}<br>digitalxr keywords: %{y}<br>News percentage: %{z}<extra></extra>",
         "name": "0",
         "type": "heatmap",
         "x": [
          "at",
          "cz",
          "de",
          "es",
          "fr",
          "gb",
          "ie",
          "it",
          "nl",
          "ro",
          "rs",
          "se",
          "us"
         ],
         "xaxis": "x",
         "y": [
          "physical integrity",
          "illegal",
          "negative impact",
          "fundamental rights",
          "fairness",
          "accountability",
          "discrimination",
          "insecurity",
          "dignity",
          "integrity",
          "human rights",
          "bias",
          "justice",
          "well-being",
          "ethics",
          "legal",
          "sustainability",
          "responsibility",
          "law",
          "privacy",
          "society",
          "security"
         ],
         "yaxis": "y",
         "z": [
          [
           0,
           0,
           0,
           0,
           0.13089005235602094,
           0,
           0,
           0,
           0,
           0,
           0,
           0,
           0
          ],
          [
           0,
           0,
           0,
           1.5015015015015014,
           0,
           0,
           0,
           0,
           0,
           0,
           0,
           0,
           0
          ],
          [
           0,
           0,
           0.7042253521126761,
           0.9009009009009009,
           0.3926701570680628,
           1.0582010582010581,
           1.466275659824047,
           0.2574002574002574,
           0,
           0,
           0,
           0,
           1.5050167224080269
          ],
          [
           0,
           0,
           0,
           0.6006006006006006,
           0,
           0,
           0,
           0,
           6.382978723404255,
           0,
           0,
           0,
           0
          ],
          [
           0,
           0,
           0.7042253521126761,
           0.3003003003003003,
           0.13089005235602094,
           0.5291005291005291,
           0.8797653958944283,
           0,
           2.127659574468085,
           1.25,
           0,
           0,
           1.6722408026755853
          ],
          [
           0,
           0,
           0,
           0,
           0,
           0.5291005291005291,
           1.1730205278592376,
           0,
           0,
           5,
           0,
           0,
           1.3377926421404682
          ],
          [
           0,
           0,
           0,
           1.2012012012012012,
           0.6544502617801047,
           0.5291005291005291,
           1.466275659824047,
           0.1287001287001287,
           2.127659574468085,
           1.25,
           0,
           0,
           1.0033444816053512
          ],
          [
           9.523809523809524,
           0,
           1.4084507042253522,
           0,
           0,
           0,
           0,
           0,
           0,
           0,
           0,
           0,
           0
          ],
          [
           0,
           0,
           2.112676056338028,
           1.8018018018018018,
           0.2617801047120419,
           0.7054673721340388,
           0.2932551319648094,
           0.5148005148005148,
           2.127659574468085,
           0,
           0.8620689655172413,
           6.779661016949152,
           0.33444816053511706
          ],
          [
           0,
           0,
           0,
           0.6006006006006006,
           0.3926701570680628,
           2.4691358024691357,
           2.0527859237536656,
           0.1287001287001287,
           0,
           6.25,
           3.4482758620689653,
           0,
           3.177257525083612
          ],
          [
           0,
           0,
           0,
           0.6006006006006006,
           0,
           1.9400352733686066,
           0.5865102639296188,
           0.2574002574002574,
           8.51063829787234,
           2.5,
           5.172413793103448,
           3.389830508474576,
           1.5050167224080269
          ],
          [
           0,
           6.666666666666667,
           0,
           1.2012012012012012,
           0.9162303664921465,
           2.821869488536155,
           3.225806451612903,
           0.1287001287001287,
           0,
           0,
           1.7241379310344827,
           3.389830508474576,
           5.518394648829431
          ],
          [
           0,
           0,
           0,
           3.903903903903904,
           2.486910994764398,
           5.291005291005291,
           2.346041055718475,
           1.5444015444015444,
           2.127659574468085,
           0,
           8.620689655172415,
           1.694915254237288,
           7.190635451505016
          ],
          [
           4.761904761904762,
           0,
           4.929577464788732,
           5.7057057057057055,
           0.5235602094240838,
           0.5291005291005291,
           0,
           4.761904761904762,
           6.382978723404255,
           3.75,
           1.7241379310344827,
           3.389830508474576,
           0.16722408026755853
          ],
          [
           0,
           0,
           0,
           3.903903903903904,
           2.486910994764398,
           2.4691358024691357,
           4.398826979472141,
           1.0296010296010296,
           0,
           0,
           5.172413793103448,
           16.94915254237288,
           3.177257525083612
          ],
          [
           0,
           20,
           0,
           4.804804804804805,
           1.7015706806282722,
           4.761904761904762,
           5.278592375366569,
           1.5444015444015444,
           0,
           7.5,
           5.172413793103448,
           1.694915254237288,
           6.688963210702341
          ],
          [
           9.523809523809524,
           6.666666666666667,
           8.450704225352112,
           2.4024024024024024,
           0,
           5.64373897707231,
           5.278592375366569,
           9.00900900900901,
           4.25531914893617,
           1.25,
           1.7241379310344827,
           5.084745762711865,
           2.508361204013378
          ],
          [
           9.523809523809524,
           13.333333333333334,
           10.56338028169014,
           6.606606606606606,
           3.664921465968586,
           6.701940035273369,
           6.158357771260997,
           5.662805662805663,
           10.638297872340425,
           0,
           7.758620689655173,
           8.47457627118644,
           3.8461538461538463
          ],
          [
           0,
           0,
           11.267605633802818,
           10.51051051051051,
           28.79581151832461,
           9.171075837742503,
           9.090909090909092,
           8.880308880308881,
           8.51063829787234,
           5,
           22.413793103448278,
           0,
           11.705685618729097
          ],
          [
           9.523809523809524,
           0,
           23.943661971830984,
           9.90990990990991,
           4.319371727748691,
           31.922398589065253,
           28.152492668621704,
           8.622908622908623,
           31.914893617021278,
           7.5,
           6.0344827586206895,
           0,
           13.377926421404682
          ],
          [
           42.857142857142854,
           0,
           11.267605633802818,
           24.024024024024023,
           38.61256544502618,
           13.403880070546737,
           16.422287390029325,
           37.83783783783784,
           8.51063829787234,
           27.500000000000004,
           8.620689655172415,
           28.8135593220339,
           11.538461538461538
          ],
          [
           14.285714285714285,
           53.333333333333336,
           24.647887323943664,
           19.51951951951952,
           14.528795811518325,
           9.523809523809524,
           11.730205278592376,
           19.69111969111969,
           6.382978723404255,
           31.25,
           21.551724137931032,
           20.33898305084746,
           23.745819397993312
          ]
         ]
        }
       ],
       "layout": {
        "coloraxis": {
         "colorbar": {
          "title": {
           "text": "News percentage"
          }
         },
         "colorscale": [
          [
           0,
           "#440154"
          ],
          [
           0.1111111111111111,
           "#482878"
          ],
          [
           0.2222222222222222,
           "#3e4989"
          ],
          [
           0.3333333333333333,
           "#31688e"
          ],
          [
           0.4444444444444444,
           "#26828e"
          ],
          [
           0.5555555555555556,
           "#1f9e89"
          ],
          [
           0.6666666666666666,
           "#35b779"
          ],
          [
           0.7777777777777778,
           "#6ece58"
          ],
          [
           0.8888888888888888,
           "#b5de2b"
          ],
          [
           1,
           "#fde725"
          ]
         ]
        },
        "margin": {
         "t": 60
        },
        "template": {
         "data": {
          "bar": [
           {
            "error_x": {
             "color": "#2a3f5f"
            },
            "error_y": {
             "color": "#2a3f5f"
            },
            "marker": {
             "line": {
              "color": "#E5ECF6",
              "width": 0.5
             },
             "pattern": {
              "fillmode": "overlay",
              "size": 10,
              "solidity": 0.2
             }
            },
            "type": "bar"
           }
          ],
          "barpolar": [
           {
            "marker": {
             "line": {
              "color": "#E5ECF6",
              "width": 0.5
             },
             "pattern": {
              "fillmode": "overlay",
              "size": 10,
              "solidity": 0.2
             }
            },
            "type": "barpolar"
           }
          ],
          "carpet": [
           {
            "aaxis": {
             "endlinecolor": "#2a3f5f",
             "gridcolor": "white",
             "linecolor": "white",
             "minorgridcolor": "white",
             "startlinecolor": "#2a3f5f"
            },
            "baxis": {
             "endlinecolor": "#2a3f5f",
             "gridcolor": "white",
             "linecolor": "white",
             "minorgridcolor": "white",
             "startlinecolor": "#2a3f5f"
            },
            "type": "carpet"
           }
          ],
          "choropleth": [
           {
            "colorbar": {
             "outlinewidth": 0,
             "ticks": ""
            },
            "type": "choropleth"
           }
          ],
          "contour": [
           {
            "colorbar": {
             "outlinewidth": 0,
             "ticks": ""
            },
            "colorscale": [
             [
              0,
              "#0d0887"
             ],
             [
              0.1111111111111111,
              "#46039f"
             ],
             [
              0.2222222222222222,
              "#7201a8"
             ],
             [
              0.3333333333333333,
              "#9c179e"
             ],
             [
              0.4444444444444444,
              "#bd3786"
             ],
             [
              0.5555555555555556,
              "#d8576b"
             ],
             [
              0.6666666666666666,
              "#ed7953"
             ],
             [
              0.7777777777777778,
              "#fb9f3a"
             ],
             [
              0.8888888888888888,
              "#fdca26"
             ],
             [
              1,
              "#f0f921"
             ]
            ],
            "type": "contour"
           }
          ],
          "contourcarpet": [
           {
            "colorbar": {
             "outlinewidth": 0,
             "ticks": ""
            },
            "type": "contourcarpet"
           }
          ],
          "heatmap": [
           {
            "colorbar": {
             "outlinewidth": 0,
             "ticks": ""
            },
            "colorscale": [
             [
              0,
              "#0d0887"
             ],
             [
              0.1111111111111111,
              "#46039f"
             ],
             [
              0.2222222222222222,
              "#7201a8"
             ],
             [
              0.3333333333333333,
              "#9c179e"
             ],
             [
              0.4444444444444444,
              "#bd3786"
             ],
             [
              0.5555555555555556,
              "#d8576b"
             ],
             [
              0.6666666666666666,
              "#ed7953"
             ],
             [
              0.7777777777777778,
              "#fb9f3a"
             ],
             [
              0.8888888888888888,
              "#fdca26"
             ],
             [
              1,
              "#f0f921"
             ]
            ],
            "type": "heatmap"
           }
          ],
          "heatmapgl": [
           {
            "colorbar": {
             "outlinewidth": 0,
             "ticks": ""
            },
            "colorscale": [
             [
              0,
              "#0d0887"
             ],
             [
              0.1111111111111111,
              "#46039f"
             ],
             [
              0.2222222222222222,
              "#7201a8"
             ],
             [
              0.3333333333333333,
              "#9c179e"
             ],
             [
              0.4444444444444444,
              "#bd3786"
             ],
             [
              0.5555555555555556,
              "#d8576b"
             ],
             [
              0.6666666666666666,
              "#ed7953"
             ],
             [
              0.7777777777777778,
              "#fb9f3a"
             ],
             [
              0.8888888888888888,
              "#fdca26"
             ],
             [
              1,
              "#f0f921"
             ]
            ],
            "type": "heatmapgl"
           }
          ],
          "histogram": [
           {
            "marker": {
             "pattern": {
              "fillmode": "overlay",
              "size": 10,
              "solidity": 0.2
             }
            },
            "type": "histogram"
           }
          ],
          "histogram2d": [
           {
            "colorbar": {
             "outlinewidth": 0,
             "ticks": ""
            },
            "colorscale": [
             [
              0,
              "#0d0887"
             ],
             [
              0.1111111111111111,
              "#46039f"
             ],
             [
              0.2222222222222222,
              "#7201a8"
             ],
             [
              0.3333333333333333,
              "#9c179e"
             ],
             [
              0.4444444444444444,
              "#bd3786"
             ],
             [
              0.5555555555555556,
              "#d8576b"
             ],
             [
              0.6666666666666666,
              "#ed7953"
             ],
             [
              0.7777777777777778,
              "#fb9f3a"
             ],
             [
              0.8888888888888888,
              "#fdca26"
             ],
             [
              1,
              "#f0f921"
             ]
            ],
            "type": "histogram2d"
           }
          ],
          "histogram2dcontour": [
           {
            "colorbar": {
             "outlinewidth": 0,
             "ticks": ""
            },
            "colorscale": [
             [
              0,
              "#0d0887"
             ],
             [
              0.1111111111111111,
              "#46039f"
             ],
             [
              0.2222222222222222,
              "#7201a8"
             ],
             [
              0.3333333333333333,
              "#9c179e"
             ],
             [
              0.4444444444444444,
              "#bd3786"
             ],
             [
              0.5555555555555556,
              "#d8576b"
             ],
             [
              0.6666666666666666,
              "#ed7953"
             ],
             [
              0.7777777777777778,
              "#fb9f3a"
             ],
             [
              0.8888888888888888,
              "#fdca26"
             ],
             [
              1,
              "#f0f921"
             ]
            ],
            "type": "histogram2dcontour"
           }
          ],
          "mesh3d": [
           {
            "colorbar": {
             "outlinewidth": 0,
             "ticks": ""
            },
            "type": "mesh3d"
           }
          ],
          "parcoords": [
           {
            "line": {
             "colorbar": {
              "outlinewidth": 0,
              "ticks": ""
             }
            },
            "type": "parcoords"
           }
          ],
          "pie": [
           {
            "automargin": true,
            "type": "pie"
           }
          ],
          "scatter": [
           {
            "marker": {
             "colorbar": {
              "outlinewidth": 0,
              "ticks": ""
             }
            },
            "type": "scatter"
           }
          ],
          "scatter3d": [
           {
            "line": {
             "colorbar": {
              "outlinewidth": 0,
              "ticks": ""
             }
            },
            "marker": {
             "colorbar": {
              "outlinewidth": 0,
              "ticks": ""
             }
            },
            "type": "scatter3d"
           }
          ],
          "scattercarpet": [
           {
            "marker": {
             "colorbar": {
              "outlinewidth": 0,
              "ticks": ""
             }
            },
            "type": "scattercarpet"
           }
          ],
          "scattergeo": [
           {
            "marker": {
             "colorbar": {
              "outlinewidth": 0,
              "ticks": ""
             }
            },
            "type": "scattergeo"
           }
          ],
          "scattergl": [
           {
            "marker": {
             "colorbar": {
              "outlinewidth": 0,
              "ticks": ""
             }
            },
            "type": "scattergl"
           }
          ],
          "scattermapbox": [
           {
            "marker": {
             "colorbar": {
              "outlinewidth": 0,
              "ticks": ""
             }
            },
            "type": "scattermapbox"
           }
          ],
          "scatterpolar": [
           {
            "marker": {
             "colorbar": {
              "outlinewidth": 0,
              "ticks": ""
             }
            },
            "type": "scatterpolar"
           }
          ],
          "scatterpolargl": [
           {
            "marker": {
             "colorbar": {
              "outlinewidth": 0,
              "ticks": ""
             }
            },
            "type": "scatterpolargl"
           }
          ],
          "scatterternary": [
           {
            "marker": {
             "colorbar": {
              "outlinewidth": 0,
              "ticks": ""
             }
            },
            "type": "scatterternary"
           }
          ],
          "surface": [
           {
            "colorbar": {
             "outlinewidth": 0,
             "ticks": ""
            },
            "colorscale": [
             [
              0,
              "#0d0887"
             ],
             [
              0.1111111111111111,
              "#46039f"
             ],
             [
              0.2222222222222222,
              "#7201a8"
             ],
             [
              0.3333333333333333,
              "#9c179e"
             ],
             [
              0.4444444444444444,
              "#bd3786"
             ],
             [
              0.5555555555555556,
              "#d8576b"
             ],
             [
              0.6666666666666666,
              "#ed7953"
             ],
             [
              0.7777777777777778,
              "#fb9f3a"
             ],
             [
              0.8888888888888888,
              "#fdca26"
             ],
             [
              1,
              "#f0f921"
             ]
            ],
            "type": "surface"
           }
          ],
          "table": [
           {
            "cells": {
             "fill": {
              "color": "#EBF0F8"
             },
             "line": {
              "color": "white"
             }
            },
            "header": {
             "fill": {
              "color": "#C8D4E3"
             },
             "line": {
              "color": "white"
             }
            },
            "type": "table"
           }
          ]
         },
         "layout": {
          "annotationdefaults": {
           "arrowcolor": "#2a3f5f",
           "arrowhead": 0,
           "arrowwidth": 1
          },
          "autotypenumbers": "strict",
          "coloraxis": {
           "colorbar": {
            "outlinewidth": 0,
            "ticks": ""
           }
          },
          "colorscale": {
           "diverging": [
            [
             0,
             "#8e0152"
            ],
            [
             0.1,
             "#c51b7d"
            ],
            [
             0.2,
             "#de77ae"
            ],
            [
             0.3,
             "#f1b6da"
            ],
            [
             0.4,
             "#fde0ef"
            ],
            [
             0.5,
             "#f7f7f7"
            ],
            [
             0.6,
             "#e6f5d0"
            ],
            [
             0.7,
             "#b8e186"
            ],
            [
             0.8,
             "#7fbc41"
            ],
            [
             0.9,
             "#4d9221"
            ],
            [
             1,
             "#276419"
            ]
           ],
           "sequential": [
            [
             0,
             "#0d0887"
            ],
            [
             0.1111111111111111,
             "#46039f"
            ],
            [
             0.2222222222222222,
             "#7201a8"
            ],
            [
             0.3333333333333333,
             "#9c179e"
            ],
            [
             0.4444444444444444,
             "#bd3786"
            ],
            [
             0.5555555555555556,
             "#d8576b"
            ],
            [
             0.6666666666666666,
             "#ed7953"
            ],
            [
             0.7777777777777778,
             "#fb9f3a"
            ],
            [
             0.8888888888888888,
             "#fdca26"
            ],
            [
             1,
             "#f0f921"
            ]
           ],
           "sequentialminus": [
            [
             0,
             "#0d0887"
            ],
            [
             0.1111111111111111,
             "#46039f"
            ],
            [
             0.2222222222222222,
             "#7201a8"
            ],
            [
             0.3333333333333333,
             "#9c179e"
            ],
            [
             0.4444444444444444,
             "#bd3786"
            ],
            [
             0.5555555555555556,
             "#d8576b"
            ],
            [
             0.6666666666666666,
             "#ed7953"
            ],
            [
             0.7777777777777778,
             "#fb9f3a"
            ],
            [
             0.8888888888888888,
             "#fdca26"
            ],
            [
             1,
             "#f0f921"
            ]
           ]
          },
          "colorway": [
           "#636efa",
           "#EF553B",
           "#00cc96",
           "#ab63fa",
           "#FFA15A",
           "#19d3f3",
           "#FF6692",
           "#B6E880",
           "#FF97FF",
           "#FECB52"
          ],
          "font": {
           "color": "#2a3f5f"
          },
          "geo": {
           "bgcolor": "white",
           "lakecolor": "white",
           "landcolor": "#E5ECF6",
           "showlakes": true,
           "showland": true,
           "subunitcolor": "white"
          },
          "hoverlabel": {
           "align": "left"
          },
          "hovermode": "closest",
          "mapbox": {
           "style": "light"
          },
          "paper_bgcolor": "white",
          "plot_bgcolor": "#E5ECF6",
          "polar": {
           "angularaxis": {
            "gridcolor": "white",
            "linecolor": "white",
            "ticks": ""
           },
           "bgcolor": "#E5ECF6",
           "radialaxis": {
            "gridcolor": "white",
            "linecolor": "white",
            "ticks": ""
           }
          },
          "scene": {
           "xaxis": {
            "backgroundcolor": "#E5ECF6",
            "gridcolor": "white",
            "gridwidth": 2,
            "linecolor": "white",
            "showbackground": true,
            "ticks": "",
            "zerolinecolor": "white"
           },
           "yaxis": {
            "backgroundcolor": "#E5ECF6",
            "gridcolor": "white",
            "gridwidth": 2,
            "linecolor": "white",
            "showbackground": true,
            "ticks": "",
            "zerolinecolor": "white"
           },
           "zaxis": {
            "backgroundcolor": "#E5ECF6",
            "gridcolor": "white",
            "gridwidth": 2,
            "linecolor": "white",
            "showbackground": true,
            "ticks": "",
            "zerolinecolor": "white"
           }
          },
          "shapedefaults": {
           "line": {
            "color": "#2a3f5f"
           }
          },
          "ternary": {
           "aaxis": {
            "gridcolor": "white",
            "linecolor": "white",
            "ticks": ""
           },
           "baxis": {
            "gridcolor": "white",
            "linecolor": "white",
            "ticks": ""
           },
           "bgcolor": "#E5ECF6",
           "caxis": {
            "gridcolor": "white",
            "linecolor": "white",
            "ticks": ""
           }
          },
          "title": {
           "x": 0.05
          },
          "xaxis": {
           "automargin": true,
           "gridcolor": "white",
           "linecolor": "white",
           "ticks": "",
           "title": {
            "standoff": 15
           },
           "zerolinecolor": "white",
           "zerolinewidth": 2
          },
          "yaxis": {
           "automargin": true,
           "gridcolor": "white",
           "linecolor": "white",
           "ticks": "",
           "title": {
            "standoff": 15
           },
           "zerolinecolor": "white",
           "zerolinewidth": 2
          }
         }
        },
        "title": {
         "text": "Number of news mentioning ELSI-keywords, per country (normalised) - digitalxr",
         "x": 0.5,
         "xanchor": "center",
         "y": 0.95,
         "yanchor": "top"
        },
        "xaxis": {
         "anchor": "y",
         "domain": [
          0,
          1
         ],
         "side": "bottom",
         "tickangle": 0,
         "title": {
          "text": "Country"
         }
        },
        "yaxis": {
         "anchor": "x",
         "autorange": "reversed",
         "domain": [
          0,
          1
         ],
         "title": {
          "text": "digitalxr keywords"
         }
        }
       }
      },
      "text/html": [
       "<div>                            <div id=\"dca88fd4-8ff2-4d83-98d6-56f82d8c62f3\" class=\"plotly-graph-div\" style=\"height:525px; width:100%;\"></div>            <script type=\"text/javascript\">                require([\"plotly\"], function(Plotly) {                    window.PLOTLYENV=window.PLOTLYENV || {};                                    if (document.getElementById(\"dca88fd4-8ff2-4d83-98d6-56f82d8c62f3\")) {                    Plotly.newPlot(                        \"dca88fd4-8ff2-4d83-98d6-56f82d8c62f3\",                        [{\"coloraxis\":\"coloraxis\",\"hovertemplate\":\"Country: %{x}<br>digitalxr keywords: %{y}<br>News percentage: %{z}<extra></extra>\",\"name\":\"0\",\"type\":\"heatmap\",\"x\":[\"at\",\"cz\",\"de\",\"es\",\"fr\",\"gb\",\"ie\",\"it\",\"nl\",\"ro\",\"rs\",\"se\",\"us\"],\"xaxis\":\"x\",\"y\":[\"physical integrity\",\"illegal\",\"negative impact\",\"fundamental rights\",\"fairness\",\"accountability\",\"discrimination\",\"insecurity\",\"dignity\",\"integrity\",\"human rights\",\"bias\",\"justice\",\"well-being\",\"ethics\",\"legal\",\"sustainability\",\"responsibility\",\"law\",\"privacy\",\"society\",\"security\"],\"yaxis\":\"y\",\"z\":[[0.0,0.0,0.0,0.0,0.13089005235602094,0.0,0.0,0.0,0.0,0.0,0.0,0.0,0.0],[0.0,0.0,0.0,1.5015015015015014,0.0,0.0,0.0,0.0,0.0,0.0,0.0,0.0,0.0],[0.0,0.0,0.7042253521126761,0.9009009009009009,0.3926701570680628,1.0582010582010581,1.466275659824047,0.2574002574002574,0.0,0.0,0.0,0.0,1.5050167224080269],[0.0,0.0,0.0,0.6006006006006006,0.0,0.0,0.0,0.0,6.382978723404255,0.0,0.0,0.0,0.0],[0.0,0.0,0.7042253521126761,0.3003003003003003,0.13089005235602094,0.5291005291005291,0.8797653958944283,0.0,2.127659574468085,1.25,0.0,0.0,1.6722408026755853],[0.0,0.0,0.0,0.0,0.0,0.5291005291005291,1.1730205278592376,0.0,0.0,5.0,0.0,0.0,1.3377926421404682],[0.0,0.0,0.0,1.2012012012012012,0.6544502617801047,0.5291005291005291,1.466275659824047,0.1287001287001287,2.127659574468085,1.25,0.0,0.0,1.0033444816053512],[9.523809523809524,0.0,1.4084507042253522,0.0,0.0,0.0,0.0,0.0,0.0,0.0,0.0,0.0,0.0],[0.0,0.0,2.112676056338028,1.8018018018018018,0.2617801047120419,0.7054673721340388,0.2932551319648094,0.5148005148005148,2.127659574468085,0.0,0.8620689655172413,6.779661016949152,0.33444816053511706],[0.0,0.0,0.0,0.6006006006006006,0.3926701570680628,2.4691358024691357,2.0527859237536656,0.1287001287001287,0.0,6.25,3.4482758620689653,0.0,3.177257525083612],[0.0,0.0,0.0,0.6006006006006006,0.0,1.9400352733686066,0.5865102639296188,0.2574002574002574,8.51063829787234,2.5,5.172413793103448,3.389830508474576,1.5050167224080269],[0.0,6.666666666666667,0.0,1.2012012012012012,0.9162303664921465,2.821869488536155,3.225806451612903,0.1287001287001287,0.0,0.0,1.7241379310344827,3.389830508474576,5.518394648829431],[0.0,0.0,0.0,3.903903903903904,2.486910994764398,5.291005291005291,2.346041055718475,1.5444015444015444,2.127659574468085,0.0,8.620689655172415,1.694915254237288,7.190635451505016],[4.761904761904762,0.0,4.929577464788732,5.7057057057057055,0.5235602094240838,0.5291005291005291,0.0,4.761904761904762,6.382978723404255,3.75,1.7241379310344827,3.389830508474576,0.16722408026755853],[0.0,0.0,0.0,3.903903903903904,2.486910994764398,2.4691358024691357,4.398826979472141,1.0296010296010296,0.0,0.0,5.172413793103448,16.94915254237288,3.177257525083612],[0.0,20.0,0.0,4.804804804804805,1.7015706806282722,4.761904761904762,5.278592375366569,1.5444015444015444,0.0,7.5,5.172413793103448,1.694915254237288,6.688963210702341],[9.523809523809524,6.666666666666667,8.450704225352112,2.4024024024024024,0.0,5.64373897707231,5.278592375366569,9.00900900900901,4.25531914893617,1.25,1.7241379310344827,5.084745762711865,2.508361204013378],[9.523809523809524,13.333333333333334,10.56338028169014,6.606606606606606,3.664921465968586,6.701940035273369,6.158357771260997,5.662805662805663,10.638297872340425,0.0,7.758620689655173,8.47457627118644,3.8461538461538463],[0.0,0.0,11.267605633802818,10.51051051051051,28.79581151832461,9.171075837742503,9.090909090909092,8.880308880308881,8.51063829787234,5.0,22.413793103448278,0.0,11.705685618729097],[9.523809523809524,0.0,23.943661971830984,9.90990990990991,4.319371727748691,31.922398589065253,28.152492668621704,8.622908622908623,31.914893617021278,7.5,6.0344827586206895,0.0,13.377926421404682],[42.857142857142854,0.0,11.267605633802818,24.024024024024023,38.61256544502618,13.403880070546737,16.422287390029325,37.83783783783784,8.51063829787234,27.500000000000004,8.620689655172415,28.8135593220339,11.538461538461538],[14.285714285714285,53.333333333333336,24.647887323943664,19.51951951951952,14.528795811518325,9.523809523809524,11.730205278592376,19.69111969111969,6.382978723404255,31.25,21.551724137931032,20.33898305084746,23.745819397993312]]}],                        {\"coloraxis\":{\"colorbar\":{\"title\":{\"text\":\"News percentage\"}},\"colorscale\":[[0.0,\"#440154\"],[0.1111111111111111,\"#482878\"],[0.2222222222222222,\"#3e4989\"],[0.3333333333333333,\"#31688e\"],[0.4444444444444444,\"#26828e\"],[0.5555555555555556,\"#1f9e89\"],[0.6666666666666666,\"#35b779\"],[0.7777777777777778,\"#6ece58\"],[0.8888888888888888,\"#b5de2b\"],[1.0,\"#fde725\"]]},\"margin\":{\"t\":60},\"template\":{\"data\":{\"bar\":[{\"error_x\":{\"color\":\"#2a3f5f\"},\"error_y\":{\"color\":\"#2a3f5f\"},\"marker\":{\"line\":{\"color\":\"#E5ECF6\",\"width\":0.5},\"pattern\":{\"fillmode\":\"overlay\",\"size\":10,\"solidity\":0.2}},\"type\":\"bar\"}],\"barpolar\":[{\"marker\":{\"line\":{\"color\":\"#E5ECF6\",\"width\":0.5},\"pattern\":{\"fillmode\":\"overlay\",\"size\":10,\"solidity\":0.2}},\"type\":\"barpolar\"}],\"carpet\":[{\"aaxis\":{\"endlinecolor\":\"#2a3f5f\",\"gridcolor\":\"white\",\"linecolor\":\"white\",\"minorgridcolor\":\"white\",\"startlinecolor\":\"#2a3f5f\"},\"baxis\":{\"endlinecolor\":\"#2a3f5f\",\"gridcolor\":\"white\",\"linecolor\":\"white\",\"minorgridcolor\":\"white\",\"startlinecolor\":\"#2a3f5f\"},\"type\":\"carpet\"}],\"choropleth\":[{\"colorbar\":{\"outlinewidth\":0,\"ticks\":\"\"},\"type\":\"choropleth\"}],\"contour\":[{\"colorbar\":{\"outlinewidth\":0,\"ticks\":\"\"},\"colorscale\":[[0.0,\"#0d0887\"],[0.1111111111111111,\"#46039f\"],[0.2222222222222222,\"#7201a8\"],[0.3333333333333333,\"#9c179e\"],[0.4444444444444444,\"#bd3786\"],[0.5555555555555556,\"#d8576b\"],[0.6666666666666666,\"#ed7953\"],[0.7777777777777778,\"#fb9f3a\"],[0.8888888888888888,\"#fdca26\"],[1.0,\"#f0f921\"]],\"type\":\"contour\"}],\"contourcarpet\":[{\"colorbar\":{\"outlinewidth\":0,\"ticks\":\"\"},\"type\":\"contourcarpet\"}],\"heatmap\":[{\"colorbar\":{\"outlinewidth\":0,\"ticks\":\"\"},\"colorscale\":[[0.0,\"#0d0887\"],[0.1111111111111111,\"#46039f\"],[0.2222222222222222,\"#7201a8\"],[0.3333333333333333,\"#9c179e\"],[0.4444444444444444,\"#bd3786\"],[0.5555555555555556,\"#d8576b\"],[0.6666666666666666,\"#ed7953\"],[0.7777777777777778,\"#fb9f3a\"],[0.8888888888888888,\"#fdca26\"],[1.0,\"#f0f921\"]],\"type\":\"heatmap\"}],\"heatmapgl\":[{\"colorbar\":{\"outlinewidth\":0,\"ticks\":\"\"},\"colorscale\":[[0.0,\"#0d0887\"],[0.1111111111111111,\"#46039f\"],[0.2222222222222222,\"#7201a8\"],[0.3333333333333333,\"#9c179e\"],[0.4444444444444444,\"#bd3786\"],[0.5555555555555556,\"#d8576b\"],[0.6666666666666666,\"#ed7953\"],[0.7777777777777778,\"#fb9f3a\"],[0.8888888888888888,\"#fdca26\"],[1.0,\"#f0f921\"]],\"type\":\"heatmapgl\"}],\"histogram\":[{\"marker\":{\"pattern\":{\"fillmode\":\"overlay\",\"size\":10,\"solidity\":0.2}},\"type\":\"histogram\"}],\"histogram2d\":[{\"colorbar\":{\"outlinewidth\":0,\"ticks\":\"\"},\"colorscale\":[[0.0,\"#0d0887\"],[0.1111111111111111,\"#46039f\"],[0.2222222222222222,\"#7201a8\"],[0.3333333333333333,\"#9c179e\"],[0.4444444444444444,\"#bd3786\"],[0.5555555555555556,\"#d8576b\"],[0.6666666666666666,\"#ed7953\"],[0.7777777777777778,\"#fb9f3a\"],[0.8888888888888888,\"#fdca26\"],[1.0,\"#f0f921\"]],\"type\":\"histogram2d\"}],\"histogram2dcontour\":[{\"colorbar\":{\"outlinewidth\":0,\"ticks\":\"\"},\"colorscale\":[[0.0,\"#0d0887\"],[0.1111111111111111,\"#46039f\"],[0.2222222222222222,\"#7201a8\"],[0.3333333333333333,\"#9c179e\"],[0.4444444444444444,\"#bd3786\"],[0.5555555555555556,\"#d8576b\"],[0.6666666666666666,\"#ed7953\"],[0.7777777777777778,\"#fb9f3a\"],[0.8888888888888888,\"#fdca26\"],[1.0,\"#f0f921\"]],\"type\":\"histogram2dcontour\"}],\"mesh3d\":[{\"colorbar\":{\"outlinewidth\":0,\"ticks\":\"\"},\"type\":\"mesh3d\"}],\"parcoords\":[{\"line\":{\"colorbar\":{\"outlinewidth\":0,\"ticks\":\"\"}},\"type\":\"parcoords\"}],\"pie\":[{\"automargin\":true,\"type\":\"pie\"}],\"scatter\":[{\"marker\":{\"colorbar\":{\"outlinewidth\":0,\"ticks\":\"\"}},\"type\":\"scatter\"}],\"scatter3d\":[{\"line\":{\"colorbar\":{\"outlinewidth\":0,\"ticks\":\"\"}},\"marker\":{\"colorbar\":{\"outlinewidth\":0,\"ticks\":\"\"}},\"type\":\"scatter3d\"}],\"scattercarpet\":[{\"marker\":{\"colorbar\":{\"outlinewidth\":0,\"ticks\":\"\"}},\"type\":\"scattercarpet\"}],\"scattergeo\":[{\"marker\":{\"colorbar\":{\"outlinewidth\":0,\"ticks\":\"\"}},\"type\":\"scattergeo\"}],\"scattergl\":[{\"marker\":{\"colorbar\":{\"outlinewidth\":0,\"ticks\":\"\"}},\"type\":\"scattergl\"}],\"scattermapbox\":[{\"marker\":{\"colorbar\":{\"outlinewidth\":0,\"ticks\":\"\"}},\"type\":\"scattermapbox\"}],\"scatterpolar\":[{\"marker\":{\"colorbar\":{\"outlinewidth\":0,\"ticks\":\"\"}},\"type\":\"scatterpolar\"}],\"scatterpolargl\":[{\"marker\":{\"colorbar\":{\"outlinewidth\":0,\"ticks\":\"\"}},\"type\":\"scatterpolargl\"}],\"scatterternary\":[{\"marker\":{\"colorbar\":{\"outlinewidth\":0,\"ticks\":\"\"}},\"type\":\"scatterternary\"}],\"surface\":[{\"colorbar\":{\"outlinewidth\":0,\"ticks\":\"\"},\"colorscale\":[[0.0,\"#0d0887\"],[0.1111111111111111,\"#46039f\"],[0.2222222222222222,\"#7201a8\"],[0.3333333333333333,\"#9c179e\"],[0.4444444444444444,\"#bd3786\"],[0.5555555555555556,\"#d8576b\"],[0.6666666666666666,\"#ed7953\"],[0.7777777777777778,\"#fb9f3a\"],[0.8888888888888888,\"#fdca26\"],[1.0,\"#f0f921\"]],\"type\":\"surface\"}],\"table\":[{\"cells\":{\"fill\":{\"color\":\"#EBF0F8\"},\"line\":{\"color\":\"white\"}},\"header\":{\"fill\":{\"color\":\"#C8D4E3\"},\"line\":{\"color\":\"white\"}},\"type\":\"table\"}]},\"layout\":{\"annotationdefaults\":{\"arrowcolor\":\"#2a3f5f\",\"arrowhead\":0,\"arrowwidth\":1},\"autotypenumbers\":\"strict\",\"coloraxis\":{\"colorbar\":{\"outlinewidth\":0,\"ticks\":\"\"}},\"colorscale\":{\"diverging\":[[0,\"#8e0152\"],[0.1,\"#c51b7d\"],[0.2,\"#de77ae\"],[0.3,\"#f1b6da\"],[0.4,\"#fde0ef\"],[0.5,\"#f7f7f7\"],[0.6,\"#e6f5d0\"],[0.7,\"#b8e186\"],[0.8,\"#7fbc41\"],[0.9,\"#4d9221\"],[1,\"#276419\"]],\"sequential\":[[0.0,\"#0d0887\"],[0.1111111111111111,\"#46039f\"],[0.2222222222222222,\"#7201a8\"],[0.3333333333333333,\"#9c179e\"],[0.4444444444444444,\"#bd3786\"],[0.5555555555555556,\"#d8576b\"],[0.6666666666666666,\"#ed7953\"],[0.7777777777777778,\"#fb9f3a\"],[0.8888888888888888,\"#fdca26\"],[1.0,\"#f0f921\"]],\"sequentialminus\":[[0.0,\"#0d0887\"],[0.1111111111111111,\"#46039f\"],[0.2222222222222222,\"#7201a8\"],[0.3333333333333333,\"#9c179e\"],[0.4444444444444444,\"#bd3786\"],[0.5555555555555556,\"#d8576b\"],[0.6666666666666666,\"#ed7953\"],[0.7777777777777778,\"#fb9f3a\"],[0.8888888888888888,\"#fdca26\"],[1.0,\"#f0f921\"]]},\"colorway\":[\"#636efa\",\"#EF553B\",\"#00cc96\",\"#ab63fa\",\"#FFA15A\",\"#19d3f3\",\"#FF6692\",\"#B6E880\",\"#FF97FF\",\"#FECB52\"],\"font\":{\"color\":\"#2a3f5f\"},\"geo\":{\"bgcolor\":\"white\",\"lakecolor\":\"white\",\"landcolor\":\"#E5ECF6\",\"showlakes\":true,\"showland\":true,\"subunitcolor\":\"white\"},\"hoverlabel\":{\"align\":\"left\"},\"hovermode\":\"closest\",\"mapbox\":{\"style\":\"light\"},\"paper_bgcolor\":\"white\",\"plot_bgcolor\":\"#E5ECF6\",\"polar\":{\"angularaxis\":{\"gridcolor\":\"white\",\"linecolor\":\"white\",\"ticks\":\"\"},\"bgcolor\":\"#E5ECF6\",\"radialaxis\":{\"gridcolor\":\"white\",\"linecolor\":\"white\",\"ticks\":\"\"}},\"scene\":{\"xaxis\":{\"backgroundcolor\":\"#E5ECF6\",\"gridcolor\":\"white\",\"gridwidth\":2,\"linecolor\":\"white\",\"showbackground\":true,\"ticks\":\"\",\"zerolinecolor\":\"white\"},\"yaxis\":{\"backgroundcolor\":\"#E5ECF6\",\"gridcolor\":\"white\",\"gridwidth\":2,\"linecolor\":\"white\",\"showbackground\":true,\"ticks\":\"\",\"zerolinecolor\":\"white\"},\"zaxis\":{\"backgroundcolor\":\"#E5ECF6\",\"gridcolor\":\"white\",\"gridwidth\":2,\"linecolor\":\"white\",\"showbackground\":true,\"ticks\":\"\",\"zerolinecolor\":\"white\"}},\"shapedefaults\":{\"line\":{\"color\":\"#2a3f5f\"}},\"ternary\":{\"aaxis\":{\"gridcolor\":\"white\",\"linecolor\":\"white\",\"ticks\":\"\"},\"baxis\":{\"gridcolor\":\"white\",\"linecolor\":\"white\",\"ticks\":\"\"},\"bgcolor\":\"#E5ECF6\",\"caxis\":{\"gridcolor\":\"white\",\"linecolor\":\"white\",\"ticks\":\"\"}},\"title\":{\"x\":0.05},\"xaxis\":{\"automargin\":true,\"gridcolor\":\"white\",\"linecolor\":\"white\",\"ticks\":\"\",\"title\":{\"standoff\":15},\"zerolinecolor\":\"white\",\"zerolinewidth\":2},\"yaxis\":{\"automargin\":true,\"gridcolor\":\"white\",\"linecolor\":\"white\",\"ticks\":\"\",\"title\":{\"standoff\":15},\"zerolinecolor\":\"white\",\"zerolinewidth\":2}}},\"title\":{\"text\":\"Number of news mentioning ELSI-keywords, per country (normalised) - digitalxr\",\"x\":0.5,\"xanchor\":\"center\",\"y\":0.95,\"yanchor\":\"top\"},\"xaxis\":{\"anchor\":\"y\",\"domain\":[0.0,1.0],\"side\":\"bottom\",\"tickangle\":0,\"title\":{\"text\":\"Country\"}},\"yaxis\":{\"anchor\":\"x\",\"autorange\":\"reversed\",\"domain\":[0.0,1.0],\"title\":{\"text\":\"digitalxr keywords\"}}},                        {\"responsive\": true}                    ).then(function(){\n",
       "                            \n",
       "var gd = document.getElementById('dca88fd4-8ff2-4d83-98d6-56f82d8c62f3');\n",
       "var x = new MutationObserver(function (mutations, observer) {{\n",
       "        var display = window.getComputedStyle(gd).display;\n",
       "        if (!display || display === 'none') {{\n",
       "            console.log([gd, 'removed!']);\n",
       "            Plotly.purge(gd);\n",
       "            observer.disconnect();\n",
       "        }}\n",
       "}});\n",
       "\n",
       "// Listen for the removal of the full notebook cells\n",
       "var notebookContainer = gd.closest('#notebook-container');\n",
       "if (notebookContainer) {{\n",
       "    x.observe(notebookContainer, {childList: true});\n",
       "}}\n",
       "\n",
       "// Listen for the clearing of the current output cell\n",
       "var outputEl = gd.closest('.output');\n",
       "if (outputEl) {{\n",
       "    x.observe(outputEl, {childList: true});\n",
       "}}\n",
       "\n",
       "                        })                };                });            </script>        </div>"
      ]
     },
     "metadata": {},
     "output_type": "display_data"
    }
   ],
   "source": [
    "fig = px.imshow(hmp_plot[countries],\n",
    "               \n",
    "               labels=dict(x=\"Country\", y=t+ \" keywords\", color=\"News percentage\"),\n",
    "                y= hmp_plot['kw'],\n",
    "                x= list(hmp_plot[countries].columns) , color_continuous_scale='Viridis',\n",
    "                aspect=\"auto\",text_)\n",
    "               \n",
    "fig.update_xaxes(\n",
    "        side ='bottom',\n",
    "        tickangle = 0\n",
    "        #,title_font = {\"size\": 20}e\n",
    "        #,title_standoff = 25\n",
    ")\n",
    "\n",
    "fig.update_layout(\n",
    "            title={\n",
    "            'text': 'Number of news mentioning ELSI-keywords, per country (normalised) - ' + t,\n",
    "            'y':0.95,\n",
    "            'x':0.50,\n",
    "            'xanchor': 'center',\n",
    "            'yanchor': 'top'})\n",
    "  \n",
    "\n",
    "fig.show()"
   ]
  },
  {
   "cell_type": "code",
   "execution_count": 500,
   "id": "a50524be",
   "metadata": {},
   "outputs": [
    {
     "data": {
      "text/html": [
       "<div>\n",
       "<style scoped>\n",
       "    .dataframe tbody tr th:only-of-type {\n",
       "        vertical-align: middle;\n",
       "    }\n",
       "\n",
       "    .dataframe tbody tr th {\n",
       "        vertical-align: top;\n",
       "    }\n",
       "\n",
       "    .dataframe thead th {\n",
       "        text-align: right;\n",
       "    }\n",
       "</style>\n",
       "<table border=\"1\" class=\"dataframe\">\n",
       "  <thead>\n",
       "    <tr style=\"text-align: right;\">\n",
       "      <th></th>\n",
       "      <th>counts_avg</th>\n",
       "      <th>kw</th>\n",
       "    </tr>\n",
       "  </thead>\n",
       "  <tbody>\n",
       "    <tr>\n",
       "      <th>7</th>\n",
       "      <td>0.106838</td>\n",
       "      <td>fairness</td>\n",
       "    </tr>\n",
       "    <tr>\n",
       "      <th>9</th>\n",
       "      <td>0.106838</td>\n",
       "      <td>accountability</td>\n",
       "    </tr>\n",
       "    <tr>\n",
       "      <th>0</th>\n",
       "      <td>0.699301</td>\n",
       "      <td>well-being</td>\n",
       "    </tr>\n",
       "    <tr>\n",
       "      <th>5</th>\n",
       "      <td>0.827991</td>\n",
       "      <td>dignity</td>\n",
       "    </tr>\n",
       "    <tr>\n",
       "      <th>3</th>\n",
       "      <td>0.961538</td>\n",
       "      <td>negative impact</td>\n",
       "    </tr>\n",
       "    <tr>\n",
       "      <th>8</th>\n",
       "      <td>0.961538</td>\n",
       "      <td>illegal</td>\n",
       "    </tr>\n",
       "    <tr>\n",
       "      <th>14</th>\n",
       "      <td>1.442308</td>\n",
       "      <td>safety</td>\n",
       "    </tr>\n",
       "    <tr>\n",
       "      <th>13</th>\n",
       "      <td>1.492042</td>\n",
       "      <td>physical integrity</td>\n",
       "    </tr>\n",
       "    <tr>\n",
       "      <th>11</th>\n",
       "      <td>1.709402</td>\n",
       "      <td>sustainability</td>\n",
       "    </tr>\n",
       "    <tr>\n",
       "      <th>19</th>\n",
       "      <td>2.141235</td>\n",
       "      <td>human rights</td>\n",
       "    </tr>\n",
       "    <tr>\n",
       "      <th>17</th>\n",
       "      <td>2.272727</td>\n",
       "      <td>discrimination</td>\n",
       "    </tr>\n",
       "    <tr>\n",
       "      <th>16</th>\n",
       "      <td>2.539821</td>\n",
       "      <td>bias</td>\n",
       "    </tr>\n",
       "    <tr>\n",
       "      <th>10</th>\n",
       "      <td>4.329351</td>\n",
       "      <td>legal</td>\n",
       "    </tr>\n",
       "    <tr>\n",
       "      <th>2</th>\n",
       "      <td>4.683573</td>\n",
       "      <td>integrity</td>\n",
       "    </tr>\n",
       "    <tr>\n",
       "      <th>18</th>\n",
       "      <td>5.211583</td>\n",
       "      <td>justice</td>\n",
       "    </tr>\n",
       "    <tr>\n",
       "      <th>1</th>\n",
       "      <td>9.792169</td>\n",
       "      <td>ethics</td>\n",
       "    </tr>\n",
       "    <tr>\n",
       "      <th>4</th>\n",
       "      <td>12.918647</td>\n",
       "      <td>responsibility</td>\n",
       "    </tr>\n",
       "    <tr>\n",
       "      <th>15</th>\n",
       "      <td>20.345911</td>\n",
       "      <td>law</td>\n",
       "    </tr>\n",
       "    <tr>\n",
       "      <th>12</th>\n",
       "      <td>21.056413</td>\n",
       "      <td>security</td>\n",
       "    </tr>\n",
       "    <tr>\n",
       "      <th>20</th>\n",
       "      <td>23.512569</td>\n",
       "      <td>privacy</td>\n",
       "    </tr>\n",
       "    <tr>\n",
       "      <th>6</th>\n",
       "      <td>32.925519</td>\n",
       "      <td>society</td>\n",
       "    </tr>\n",
       "  </tbody>\n",
       "</table>\n",
       "</div>"
      ],
      "text/plain": [
       "    counts_avg                  kw\n",
       "7     0.106838            fairness\n",
       "9     0.106838      accountability\n",
       "0     0.699301          well-being\n",
       "5     0.827991             dignity\n",
       "3     0.961538     negative impact\n",
       "8     0.961538             illegal\n",
       "14    1.442308              safety\n",
       "13    1.492042  physical integrity\n",
       "11    1.709402      sustainability\n",
       "19    2.141235        human rights\n",
       "17    2.272727      discrimination\n",
       "16    2.539821                bias\n",
       "10    4.329351               legal\n",
       "2     4.683573           integrity\n",
       "18    5.211583             justice\n",
       "1     9.792169              ethics\n",
       "4    12.918647      responsibility\n",
       "15   20.345911                 law\n",
       "12   21.056413            security\n",
       "20   23.512569             privacy\n",
       "6    32.925519             society"
      ]
     },
     "execution_count": 500,
     "metadata": {},
     "output_type": "execute_result"
    }
   ],
   "source": [
    "hmp_df['counts_avg'] = hmp_df['counts']/13\n",
    "hmp_df[['counts_avg','kw']]"
   ]
  },
  {
   "cell_type": "code",
   "execution_count": 501,
   "id": "fe7c01aa",
   "metadata": {},
   "outputs": [],
   "source": [
    "hmp_df_s = hmp_df.sort_values(by='counts_avg', ascending=False)"
   ]
  },
  {
   "cell_type": "code",
   "execution_count": 502,
   "id": "4be1c23b",
   "metadata": {},
   "outputs": [
    {
     "data": {
      "application/vnd.plotly.v1+json": {
       "config": {
        "plotlyServerURL": "https://plot.ly"
       },
       "data": [
        {
         "alignmentgroup": "True",
         "hovertemplate": "kw=%{x}<br>counts_avg=%{y}<extra></extra>",
         "legendgroup": "",
         "marker": {
          "color": "grey",
          "pattern": {
           "shape": ""
          }
         },
         "name": "",
         "offsetgroup": "",
         "orientation": "v",
         "showlegend": false,
         "textposition": "auto",
         "type": "bar",
         "x": [
          "society",
          "privacy",
          "security",
          "law",
          "responsibility",
          "ethics",
          "justice",
          "integrity",
          "legal",
          "bias",
          "discrimination",
          "human rights",
          "sustainability",
          "physical integrity",
          "safety",
          "illegal",
          "negative impact",
          "dignity",
          "well-being",
          "accountability",
          "fairness"
         ],
         "xaxis": "x",
         "y": [
          32.92551870469642,
          23.512569069598246,
          21.05641319334953,
          20.345910904597908,
          12.918646524415756,
          9.792169037858693,
          5.2115832885063655,
          4.683573131848994,
          4.329351204351204,
          2.53982128982129,
          2.272727272727273,
          2.141234833542526,
          1.7094017094017093,
          1.4920424403183021,
          1.4423076923076923,
          0.9615384615384616,
          0.9615384615384616,
          0.827991452991453,
          0.6993006993006994,
          0.10683760683760683,
          0.10683760683760683
         ],
         "yaxis": "y"
        }
       ],
       "layout": {
        "barmode": "relative",
        "legend": {
         "tracegroupgap": 0
        },
        "margin": {
         "t": 60
        },
        "template": {
         "data": {
          "bar": [
           {
            "error_x": {
             "color": "#2a3f5f"
            },
            "error_y": {
             "color": "#2a3f5f"
            },
            "marker": {
             "line": {
              "color": "#E5ECF6",
              "width": 0.5
             },
             "pattern": {
              "fillmode": "overlay",
              "size": 10,
              "solidity": 0.2
             }
            },
            "type": "bar"
           }
          ],
          "barpolar": [
           {
            "marker": {
             "line": {
              "color": "#E5ECF6",
              "width": 0.5
             },
             "pattern": {
              "fillmode": "overlay",
              "size": 10,
              "solidity": 0.2
             }
            },
            "type": "barpolar"
           }
          ],
          "carpet": [
           {
            "aaxis": {
             "endlinecolor": "#2a3f5f",
             "gridcolor": "white",
             "linecolor": "white",
             "minorgridcolor": "white",
             "startlinecolor": "#2a3f5f"
            },
            "baxis": {
             "endlinecolor": "#2a3f5f",
             "gridcolor": "white",
             "linecolor": "white",
             "minorgridcolor": "white",
             "startlinecolor": "#2a3f5f"
            },
            "type": "carpet"
           }
          ],
          "choropleth": [
           {
            "colorbar": {
             "outlinewidth": 0,
             "ticks": ""
            },
            "type": "choropleth"
           }
          ],
          "contour": [
           {
            "colorbar": {
             "outlinewidth": 0,
             "ticks": ""
            },
            "colorscale": [
             [
              0,
              "#0d0887"
             ],
             [
              0.1111111111111111,
              "#46039f"
             ],
             [
              0.2222222222222222,
              "#7201a8"
             ],
             [
              0.3333333333333333,
              "#9c179e"
             ],
             [
              0.4444444444444444,
              "#bd3786"
             ],
             [
              0.5555555555555556,
              "#d8576b"
             ],
             [
              0.6666666666666666,
              "#ed7953"
             ],
             [
              0.7777777777777778,
              "#fb9f3a"
             ],
             [
              0.8888888888888888,
              "#fdca26"
             ],
             [
              1,
              "#f0f921"
             ]
            ],
            "type": "contour"
           }
          ],
          "contourcarpet": [
           {
            "colorbar": {
             "outlinewidth": 0,
             "ticks": ""
            },
            "type": "contourcarpet"
           }
          ],
          "heatmap": [
           {
            "colorbar": {
             "outlinewidth": 0,
             "ticks": ""
            },
            "colorscale": [
             [
              0,
              "#0d0887"
             ],
             [
              0.1111111111111111,
              "#46039f"
             ],
             [
              0.2222222222222222,
              "#7201a8"
             ],
             [
              0.3333333333333333,
              "#9c179e"
             ],
             [
              0.4444444444444444,
              "#bd3786"
             ],
             [
              0.5555555555555556,
              "#d8576b"
             ],
             [
              0.6666666666666666,
              "#ed7953"
             ],
             [
              0.7777777777777778,
              "#fb9f3a"
             ],
             [
              0.8888888888888888,
              "#fdca26"
             ],
             [
              1,
              "#f0f921"
             ]
            ],
            "type": "heatmap"
           }
          ],
          "heatmapgl": [
           {
            "colorbar": {
             "outlinewidth": 0,
             "ticks": ""
            },
            "colorscale": [
             [
              0,
              "#0d0887"
             ],
             [
              0.1111111111111111,
              "#46039f"
             ],
             [
              0.2222222222222222,
              "#7201a8"
             ],
             [
              0.3333333333333333,
              "#9c179e"
             ],
             [
              0.4444444444444444,
              "#bd3786"
             ],
             [
              0.5555555555555556,
              "#d8576b"
             ],
             [
              0.6666666666666666,
              "#ed7953"
             ],
             [
              0.7777777777777778,
              "#fb9f3a"
             ],
             [
              0.8888888888888888,
              "#fdca26"
             ],
             [
              1,
              "#f0f921"
             ]
            ],
            "type": "heatmapgl"
           }
          ],
          "histogram": [
           {
            "marker": {
             "pattern": {
              "fillmode": "overlay",
              "size": 10,
              "solidity": 0.2
             }
            },
            "type": "histogram"
           }
          ],
          "histogram2d": [
           {
            "colorbar": {
             "outlinewidth": 0,
             "ticks": ""
            },
            "colorscale": [
             [
              0,
              "#0d0887"
             ],
             [
              0.1111111111111111,
              "#46039f"
             ],
             [
              0.2222222222222222,
              "#7201a8"
             ],
             [
              0.3333333333333333,
              "#9c179e"
             ],
             [
              0.4444444444444444,
              "#bd3786"
             ],
             [
              0.5555555555555556,
              "#d8576b"
             ],
             [
              0.6666666666666666,
              "#ed7953"
             ],
             [
              0.7777777777777778,
              "#fb9f3a"
             ],
             [
              0.8888888888888888,
              "#fdca26"
             ],
             [
              1,
              "#f0f921"
             ]
            ],
            "type": "histogram2d"
           }
          ],
          "histogram2dcontour": [
           {
            "colorbar": {
             "outlinewidth": 0,
             "ticks": ""
            },
            "colorscale": [
             [
              0,
              "#0d0887"
             ],
             [
              0.1111111111111111,
              "#46039f"
             ],
             [
              0.2222222222222222,
              "#7201a8"
             ],
             [
              0.3333333333333333,
              "#9c179e"
             ],
             [
              0.4444444444444444,
              "#bd3786"
             ],
             [
              0.5555555555555556,
              "#d8576b"
             ],
             [
              0.6666666666666666,
              "#ed7953"
             ],
             [
              0.7777777777777778,
              "#fb9f3a"
             ],
             [
              0.8888888888888888,
              "#fdca26"
             ],
             [
              1,
              "#f0f921"
             ]
            ],
            "type": "histogram2dcontour"
           }
          ],
          "mesh3d": [
           {
            "colorbar": {
             "outlinewidth": 0,
             "ticks": ""
            },
            "type": "mesh3d"
           }
          ],
          "parcoords": [
           {
            "line": {
             "colorbar": {
              "outlinewidth": 0,
              "ticks": ""
             }
            },
            "type": "parcoords"
           }
          ],
          "pie": [
           {
            "automargin": true,
            "type": "pie"
           }
          ],
          "scatter": [
           {
            "marker": {
             "colorbar": {
              "outlinewidth": 0,
              "ticks": ""
             }
            },
            "type": "scatter"
           }
          ],
          "scatter3d": [
           {
            "line": {
             "colorbar": {
              "outlinewidth": 0,
              "ticks": ""
             }
            },
            "marker": {
             "colorbar": {
              "outlinewidth": 0,
              "ticks": ""
             }
            },
            "type": "scatter3d"
           }
          ],
          "scattercarpet": [
           {
            "marker": {
             "colorbar": {
              "outlinewidth": 0,
              "ticks": ""
             }
            },
            "type": "scattercarpet"
           }
          ],
          "scattergeo": [
           {
            "marker": {
             "colorbar": {
              "outlinewidth": 0,
              "ticks": ""
             }
            },
            "type": "scattergeo"
           }
          ],
          "scattergl": [
           {
            "marker": {
             "colorbar": {
              "outlinewidth": 0,
              "ticks": ""
             }
            },
            "type": "scattergl"
           }
          ],
          "scattermapbox": [
           {
            "marker": {
             "colorbar": {
              "outlinewidth": 0,
              "ticks": ""
             }
            },
            "type": "scattermapbox"
           }
          ],
          "scatterpolar": [
           {
            "marker": {
             "colorbar": {
              "outlinewidth": 0,
              "ticks": ""
             }
            },
            "type": "scatterpolar"
           }
          ],
          "scatterpolargl": [
           {
            "marker": {
             "colorbar": {
              "outlinewidth": 0,
              "ticks": ""
             }
            },
            "type": "scatterpolargl"
           }
          ],
          "scatterternary": [
           {
            "marker": {
             "colorbar": {
              "outlinewidth": 0,
              "ticks": ""
             }
            },
            "type": "scatterternary"
           }
          ],
          "surface": [
           {
            "colorbar": {
             "outlinewidth": 0,
             "ticks": ""
            },
            "colorscale": [
             [
              0,
              "#0d0887"
             ],
             [
              0.1111111111111111,
              "#46039f"
             ],
             [
              0.2222222222222222,
              "#7201a8"
             ],
             [
              0.3333333333333333,
              "#9c179e"
             ],
             [
              0.4444444444444444,
              "#bd3786"
             ],
             [
              0.5555555555555556,
              "#d8576b"
             ],
             [
              0.6666666666666666,
              "#ed7953"
             ],
             [
              0.7777777777777778,
              "#fb9f3a"
             ],
             [
              0.8888888888888888,
              "#fdca26"
             ],
             [
              1,
              "#f0f921"
             ]
            ],
            "type": "surface"
           }
          ],
          "table": [
           {
            "cells": {
             "fill": {
              "color": "#EBF0F8"
             },
             "line": {
              "color": "white"
             }
            },
            "header": {
             "fill": {
              "color": "#C8D4E3"
             },
             "line": {
              "color": "white"
             }
            },
            "type": "table"
           }
          ]
         },
         "layout": {
          "annotationdefaults": {
           "arrowcolor": "#2a3f5f",
           "arrowhead": 0,
           "arrowwidth": 1
          },
          "autotypenumbers": "strict",
          "coloraxis": {
           "colorbar": {
            "outlinewidth": 0,
            "ticks": ""
           }
          },
          "colorscale": {
           "diverging": [
            [
             0,
             "#8e0152"
            ],
            [
             0.1,
             "#c51b7d"
            ],
            [
             0.2,
             "#de77ae"
            ],
            [
             0.3,
             "#f1b6da"
            ],
            [
             0.4,
             "#fde0ef"
            ],
            [
             0.5,
             "#f7f7f7"
            ],
            [
             0.6,
             "#e6f5d0"
            ],
            [
             0.7,
             "#b8e186"
            ],
            [
             0.8,
             "#7fbc41"
            ],
            [
             0.9,
             "#4d9221"
            ],
            [
             1,
             "#276419"
            ]
           ],
           "sequential": [
            [
             0,
             "#0d0887"
            ],
            [
             0.1111111111111111,
             "#46039f"
            ],
            [
             0.2222222222222222,
             "#7201a8"
            ],
            [
             0.3333333333333333,
             "#9c179e"
            ],
            [
             0.4444444444444444,
             "#bd3786"
            ],
            [
             0.5555555555555556,
             "#d8576b"
            ],
            [
             0.6666666666666666,
             "#ed7953"
            ],
            [
             0.7777777777777778,
             "#fb9f3a"
            ],
            [
             0.8888888888888888,
             "#fdca26"
            ],
            [
             1,
             "#f0f921"
            ]
           ],
           "sequentialminus": [
            [
             0,
             "#0d0887"
            ],
            [
             0.1111111111111111,
             "#46039f"
            ],
            [
             0.2222222222222222,
             "#7201a8"
            ],
            [
             0.3333333333333333,
             "#9c179e"
            ],
            [
             0.4444444444444444,
             "#bd3786"
            ],
            [
             0.5555555555555556,
             "#d8576b"
            ],
            [
             0.6666666666666666,
             "#ed7953"
            ],
            [
             0.7777777777777778,
             "#fb9f3a"
            ],
            [
             0.8888888888888888,
             "#fdca26"
            ],
            [
             1,
             "#f0f921"
            ]
           ]
          },
          "colorway": [
           "#636efa",
           "#EF553B",
           "#00cc96",
           "#ab63fa",
           "#FFA15A",
           "#19d3f3",
           "#FF6692",
           "#B6E880",
           "#FF97FF",
           "#FECB52"
          ],
          "font": {
           "color": "#2a3f5f"
          },
          "geo": {
           "bgcolor": "white",
           "lakecolor": "white",
           "landcolor": "#E5ECF6",
           "showlakes": true,
           "showland": true,
           "subunitcolor": "white"
          },
          "hoverlabel": {
           "align": "left"
          },
          "hovermode": "closest",
          "mapbox": {
           "style": "light"
          },
          "paper_bgcolor": "white",
          "plot_bgcolor": "#E5ECF6",
          "polar": {
           "angularaxis": {
            "gridcolor": "white",
            "linecolor": "white",
            "ticks": ""
           },
           "bgcolor": "#E5ECF6",
           "radialaxis": {
            "gridcolor": "white",
            "linecolor": "white",
            "ticks": ""
           }
          },
          "scene": {
           "xaxis": {
            "backgroundcolor": "#E5ECF6",
            "gridcolor": "white",
            "gridwidth": 2,
            "linecolor": "white",
            "showbackground": true,
            "ticks": "",
            "zerolinecolor": "white"
           },
           "yaxis": {
            "backgroundcolor": "#E5ECF6",
            "gridcolor": "white",
            "gridwidth": 2,
            "linecolor": "white",
            "showbackground": true,
            "ticks": "",
            "zerolinecolor": "white"
           },
           "zaxis": {
            "backgroundcolor": "#E5ECF6",
            "gridcolor": "white",
            "gridwidth": 2,
            "linecolor": "white",
            "showbackground": true,
            "ticks": "",
            "zerolinecolor": "white"
           }
          },
          "shapedefaults": {
           "line": {
            "color": "#2a3f5f"
           }
          },
          "ternary": {
           "aaxis": {
            "gridcolor": "white",
            "linecolor": "white",
            "ticks": ""
           },
           "baxis": {
            "gridcolor": "white",
            "linecolor": "white",
            "ticks": ""
           },
           "bgcolor": "#E5ECF6",
           "caxis": {
            "gridcolor": "white",
            "linecolor": "white",
            "ticks": ""
           }
          },
          "title": {
           "x": 0.05
          },
          "xaxis": {
           "automargin": true,
           "gridcolor": "white",
           "linecolor": "white",
           "ticks": "",
           "title": {
            "standoff": 15
           },
           "zerolinecolor": "white",
           "zerolinewidth": 2
          },
          "yaxis": {
           "automargin": true,
           "gridcolor": "white",
           "linecolor": "white",
           "ticks": "",
           "title": {
            "standoff": 15
           },
           "zerolinecolor": "white",
           "zerolinewidth": 2
          }
         }
        },
        "title": {
         "text": "Average percentage of news mentioning ELSI-keywords (neurotech)",
         "x": 0.5,
         "xanchor": "center",
         "y": 0.95,
         "yanchor": "top"
        },
        "xaxis": {
         "anchor": "y",
         "domain": [
          0,
          1
         ],
         "title": {
          "text": "ELSI-keyword"
         }
        },
        "yaxis": {
         "anchor": "x",
         "domain": [
          0,
          1
         ],
         "range": [
          0,
          35
         ],
         "title": {
          "text": "Average percentage of news"
         }
        }
       }
      },
      "text/html": [
       "<div>                            <div id=\"197db436-6d41-4213-b35a-7890097198f5\" class=\"plotly-graph-div\" style=\"height:525px; width:100%;\"></div>            <script type=\"text/javascript\">                require([\"plotly\"], function(Plotly) {                    window.PLOTLYENV=window.PLOTLYENV || {};                                    if (document.getElementById(\"197db436-6d41-4213-b35a-7890097198f5\")) {                    Plotly.newPlot(                        \"197db436-6d41-4213-b35a-7890097198f5\",                        [{\"alignmentgroup\":\"True\",\"hovertemplate\":\"kw=%{x}<br>counts_avg=%{y}<extra></extra>\",\"legendgroup\":\"\",\"marker\":{\"color\":\"grey\",\"pattern\":{\"shape\":\"\"}},\"name\":\"\",\"offsetgroup\":\"\",\"orientation\":\"v\",\"showlegend\":false,\"textposition\":\"auto\",\"type\":\"bar\",\"x\":[\"society\",\"privacy\",\"security\",\"law\",\"responsibility\",\"ethics\",\"justice\",\"integrity\",\"legal\",\"bias\",\"discrimination\",\"human rights\",\"sustainability\",\"physical integrity\",\"safety\",\"illegal\",\"negative impact\",\"dignity\",\"well-being\",\"accountability\",\"fairness\"],\"xaxis\":\"x\",\"y\":[32.92551870469642,23.512569069598246,21.05641319334953,20.345910904597908,12.918646524415756,9.792169037858693,5.2115832885063655,4.683573131848994,4.329351204351204,2.53982128982129,2.272727272727273,2.141234833542526,1.7094017094017093,1.4920424403183021,1.4423076923076923,0.9615384615384616,0.9615384615384616,0.827991452991453,0.6993006993006994,0.10683760683760683,0.10683760683760683],\"yaxis\":\"y\"}],                        {\"barmode\":\"relative\",\"legend\":{\"tracegroupgap\":0},\"margin\":{\"t\":60},\"template\":{\"data\":{\"bar\":[{\"error_x\":{\"color\":\"#2a3f5f\"},\"error_y\":{\"color\":\"#2a3f5f\"},\"marker\":{\"line\":{\"color\":\"#E5ECF6\",\"width\":0.5},\"pattern\":{\"fillmode\":\"overlay\",\"size\":10,\"solidity\":0.2}},\"type\":\"bar\"}],\"barpolar\":[{\"marker\":{\"line\":{\"color\":\"#E5ECF6\",\"width\":0.5},\"pattern\":{\"fillmode\":\"overlay\",\"size\":10,\"solidity\":0.2}},\"type\":\"barpolar\"}],\"carpet\":[{\"aaxis\":{\"endlinecolor\":\"#2a3f5f\",\"gridcolor\":\"white\",\"linecolor\":\"white\",\"minorgridcolor\":\"white\",\"startlinecolor\":\"#2a3f5f\"},\"baxis\":{\"endlinecolor\":\"#2a3f5f\",\"gridcolor\":\"white\",\"linecolor\":\"white\",\"minorgridcolor\":\"white\",\"startlinecolor\":\"#2a3f5f\"},\"type\":\"carpet\"}],\"choropleth\":[{\"colorbar\":{\"outlinewidth\":0,\"ticks\":\"\"},\"type\":\"choropleth\"}],\"contour\":[{\"colorbar\":{\"outlinewidth\":0,\"ticks\":\"\"},\"colorscale\":[[0.0,\"#0d0887\"],[0.1111111111111111,\"#46039f\"],[0.2222222222222222,\"#7201a8\"],[0.3333333333333333,\"#9c179e\"],[0.4444444444444444,\"#bd3786\"],[0.5555555555555556,\"#d8576b\"],[0.6666666666666666,\"#ed7953\"],[0.7777777777777778,\"#fb9f3a\"],[0.8888888888888888,\"#fdca26\"],[1.0,\"#f0f921\"]],\"type\":\"contour\"}],\"contourcarpet\":[{\"colorbar\":{\"outlinewidth\":0,\"ticks\":\"\"},\"type\":\"contourcarpet\"}],\"heatmap\":[{\"colorbar\":{\"outlinewidth\":0,\"ticks\":\"\"},\"colorscale\":[[0.0,\"#0d0887\"],[0.1111111111111111,\"#46039f\"],[0.2222222222222222,\"#7201a8\"],[0.3333333333333333,\"#9c179e\"],[0.4444444444444444,\"#bd3786\"],[0.5555555555555556,\"#d8576b\"],[0.6666666666666666,\"#ed7953\"],[0.7777777777777778,\"#fb9f3a\"],[0.8888888888888888,\"#fdca26\"],[1.0,\"#f0f921\"]],\"type\":\"heatmap\"}],\"heatmapgl\":[{\"colorbar\":{\"outlinewidth\":0,\"ticks\":\"\"},\"colorscale\":[[0.0,\"#0d0887\"],[0.1111111111111111,\"#46039f\"],[0.2222222222222222,\"#7201a8\"],[0.3333333333333333,\"#9c179e\"],[0.4444444444444444,\"#bd3786\"],[0.5555555555555556,\"#d8576b\"],[0.6666666666666666,\"#ed7953\"],[0.7777777777777778,\"#fb9f3a\"],[0.8888888888888888,\"#fdca26\"],[1.0,\"#f0f921\"]],\"type\":\"heatmapgl\"}],\"histogram\":[{\"marker\":{\"pattern\":{\"fillmode\":\"overlay\",\"size\":10,\"solidity\":0.2}},\"type\":\"histogram\"}],\"histogram2d\":[{\"colorbar\":{\"outlinewidth\":0,\"ticks\":\"\"},\"colorscale\":[[0.0,\"#0d0887\"],[0.1111111111111111,\"#46039f\"],[0.2222222222222222,\"#7201a8\"],[0.3333333333333333,\"#9c179e\"],[0.4444444444444444,\"#bd3786\"],[0.5555555555555556,\"#d8576b\"],[0.6666666666666666,\"#ed7953\"],[0.7777777777777778,\"#fb9f3a\"],[0.8888888888888888,\"#fdca26\"],[1.0,\"#f0f921\"]],\"type\":\"histogram2d\"}],\"histogram2dcontour\":[{\"colorbar\":{\"outlinewidth\":0,\"ticks\":\"\"},\"colorscale\":[[0.0,\"#0d0887\"],[0.1111111111111111,\"#46039f\"],[0.2222222222222222,\"#7201a8\"],[0.3333333333333333,\"#9c179e\"],[0.4444444444444444,\"#bd3786\"],[0.5555555555555556,\"#d8576b\"],[0.6666666666666666,\"#ed7953\"],[0.7777777777777778,\"#fb9f3a\"],[0.8888888888888888,\"#fdca26\"],[1.0,\"#f0f921\"]],\"type\":\"histogram2dcontour\"}],\"mesh3d\":[{\"colorbar\":{\"outlinewidth\":0,\"ticks\":\"\"},\"type\":\"mesh3d\"}],\"parcoords\":[{\"line\":{\"colorbar\":{\"outlinewidth\":0,\"ticks\":\"\"}},\"type\":\"parcoords\"}],\"pie\":[{\"automargin\":true,\"type\":\"pie\"}],\"scatter\":[{\"marker\":{\"colorbar\":{\"outlinewidth\":0,\"ticks\":\"\"}},\"type\":\"scatter\"}],\"scatter3d\":[{\"line\":{\"colorbar\":{\"outlinewidth\":0,\"ticks\":\"\"}},\"marker\":{\"colorbar\":{\"outlinewidth\":0,\"ticks\":\"\"}},\"type\":\"scatter3d\"}],\"scattercarpet\":[{\"marker\":{\"colorbar\":{\"outlinewidth\":0,\"ticks\":\"\"}},\"type\":\"scattercarpet\"}],\"scattergeo\":[{\"marker\":{\"colorbar\":{\"outlinewidth\":0,\"ticks\":\"\"}},\"type\":\"scattergeo\"}],\"scattergl\":[{\"marker\":{\"colorbar\":{\"outlinewidth\":0,\"ticks\":\"\"}},\"type\":\"scattergl\"}],\"scattermapbox\":[{\"marker\":{\"colorbar\":{\"outlinewidth\":0,\"ticks\":\"\"}},\"type\":\"scattermapbox\"}],\"scatterpolar\":[{\"marker\":{\"colorbar\":{\"outlinewidth\":0,\"ticks\":\"\"}},\"type\":\"scatterpolar\"}],\"scatterpolargl\":[{\"marker\":{\"colorbar\":{\"outlinewidth\":0,\"ticks\":\"\"}},\"type\":\"scatterpolargl\"}],\"scatterternary\":[{\"marker\":{\"colorbar\":{\"outlinewidth\":0,\"ticks\":\"\"}},\"type\":\"scatterternary\"}],\"surface\":[{\"colorbar\":{\"outlinewidth\":0,\"ticks\":\"\"},\"colorscale\":[[0.0,\"#0d0887\"],[0.1111111111111111,\"#46039f\"],[0.2222222222222222,\"#7201a8\"],[0.3333333333333333,\"#9c179e\"],[0.4444444444444444,\"#bd3786\"],[0.5555555555555556,\"#d8576b\"],[0.6666666666666666,\"#ed7953\"],[0.7777777777777778,\"#fb9f3a\"],[0.8888888888888888,\"#fdca26\"],[1.0,\"#f0f921\"]],\"type\":\"surface\"}],\"table\":[{\"cells\":{\"fill\":{\"color\":\"#EBF0F8\"},\"line\":{\"color\":\"white\"}},\"header\":{\"fill\":{\"color\":\"#C8D4E3\"},\"line\":{\"color\":\"white\"}},\"type\":\"table\"}]},\"layout\":{\"annotationdefaults\":{\"arrowcolor\":\"#2a3f5f\",\"arrowhead\":0,\"arrowwidth\":1},\"autotypenumbers\":\"strict\",\"coloraxis\":{\"colorbar\":{\"outlinewidth\":0,\"ticks\":\"\"}},\"colorscale\":{\"diverging\":[[0,\"#8e0152\"],[0.1,\"#c51b7d\"],[0.2,\"#de77ae\"],[0.3,\"#f1b6da\"],[0.4,\"#fde0ef\"],[0.5,\"#f7f7f7\"],[0.6,\"#e6f5d0\"],[0.7,\"#b8e186\"],[0.8,\"#7fbc41\"],[0.9,\"#4d9221\"],[1,\"#276419\"]],\"sequential\":[[0.0,\"#0d0887\"],[0.1111111111111111,\"#46039f\"],[0.2222222222222222,\"#7201a8\"],[0.3333333333333333,\"#9c179e\"],[0.4444444444444444,\"#bd3786\"],[0.5555555555555556,\"#d8576b\"],[0.6666666666666666,\"#ed7953\"],[0.7777777777777778,\"#fb9f3a\"],[0.8888888888888888,\"#fdca26\"],[1.0,\"#f0f921\"]],\"sequentialminus\":[[0.0,\"#0d0887\"],[0.1111111111111111,\"#46039f\"],[0.2222222222222222,\"#7201a8\"],[0.3333333333333333,\"#9c179e\"],[0.4444444444444444,\"#bd3786\"],[0.5555555555555556,\"#d8576b\"],[0.6666666666666666,\"#ed7953\"],[0.7777777777777778,\"#fb9f3a\"],[0.8888888888888888,\"#fdca26\"],[1.0,\"#f0f921\"]]},\"colorway\":[\"#636efa\",\"#EF553B\",\"#00cc96\",\"#ab63fa\",\"#FFA15A\",\"#19d3f3\",\"#FF6692\",\"#B6E880\",\"#FF97FF\",\"#FECB52\"],\"font\":{\"color\":\"#2a3f5f\"},\"geo\":{\"bgcolor\":\"white\",\"lakecolor\":\"white\",\"landcolor\":\"#E5ECF6\",\"showlakes\":true,\"showland\":true,\"subunitcolor\":\"white\"},\"hoverlabel\":{\"align\":\"left\"},\"hovermode\":\"closest\",\"mapbox\":{\"style\":\"light\"},\"paper_bgcolor\":\"white\",\"plot_bgcolor\":\"#E5ECF6\",\"polar\":{\"angularaxis\":{\"gridcolor\":\"white\",\"linecolor\":\"white\",\"ticks\":\"\"},\"bgcolor\":\"#E5ECF6\",\"radialaxis\":{\"gridcolor\":\"white\",\"linecolor\":\"white\",\"ticks\":\"\"}},\"scene\":{\"xaxis\":{\"backgroundcolor\":\"#E5ECF6\",\"gridcolor\":\"white\",\"gridwidth\":2,\"linecolor\":\"white\",\"showbackground\":true,\"ticks\":\"\",\"zerolinecolor\":\"white\"},\"yaxis\":{\"backgroundcolor\":\"#E5ECF6\",\"gridcolor\":\"white\",\"gridwidth\":2,\"linecolor\":\"white\",\"showbackground\":true,\"ticks\":\"\",\"zerolinecolor\":\"white\"},\"zaxis\":{\"backgroundcolor\":\"#E5ECF6\",\"gridcolor\":\"white\",\"gridwidth\":2,\"linecolor\":\"white\",\"showbackground\":true,\"ticks\":\"\",\"zerolinecolor\":\"white\"}},\"shapedefaults\":{\"line\":{\"color\":\"#2a3f5f\"}},\"ternary\":{\"aaxis\":{\"gridcolor\":\"white\",\"linecolor\":\"white\",\"ticks\":\"\"},\"baxis\":{\"gridcolor\":\"white\",\"linecolor\":\"white\",\"ticks\":\"\"},\"bgcolor\":\"#E5ECF6\",\"caxis\":{\"gridcolor\":\"white\",\"linecolor\":\"white\",\"ticks\":\"\"}},\"title\":{\"x\":0.05},\"xaxis\":{\"automargin\":true,\"gridcolor\":\"white\",\"linecolor\":\"white\",\"ticks\":\"\",\"title\":{\"standoff\":15},\"zerolinecolor\":\"white\",\"zerolinewidth\":2},\"yaxis\":{\"automargin\":true,\"gridcolor\":\"white\",\"linecolor\":\"white\",\"ticks\":\"\",\"title\":{\"standoff\":15},\"zerolinecolor\":\"white\",\"zerolinewidth\":2}}},\"title\":{\"text\":\"Average percentage of news mentioning ELSI-keywords (neurotech)\",\"x\":0.5,\"xanchor\":\"center\",\"y\":0.95,\"yanchor\":\"top\"},\"xaxis\":{\"anchor\":\"y\",\"domain\":[0.0,1.0],\"title\":{\"text\":\"ELSI-keyword\"}},\"yaxis\":{\"anchor\":\"x\",\"domain\":[0.0,1.0],\"range\":[0,35],\"title\":{\"text\":\"Average percentage of news\"}}},                        {\"responsive\": true}                    ).then(function(){\n",
       "                            \n",
       "var gd = document.getElementById('197db436-6d41-4213-b35a-7890097198f5');\n",
       "var x = new MutationObserver(function (mutations, observer) {{\n",
       "        var display = window.getComputedStyle(gd).display;\n",
       "        if (!display || display === 'none') {{\n",
       "            console.log([gd, 'removed!']);\n",
       "            Plotly.purge(gd);\n",
       "            observer.disconnect();\n",
       "        }}\n",
       "}});\n",
       "\n",
       "// Listen for the removal of the full notebook cells\n",
       "var notebookContainer = gd.closest('#notebook-container');\n",
       "if (notebookContainer) {{\n",
       "    x.observe(notebookContainer, {childList: true});\n",
       "}}\n",
       "\n",
       "// Listen for the clearing of the current output cell\n",
       "var outputEl = gd.closest('.output');\n",
       "if (outputEl) {{\n",
       "    x.observe(outputEl, {childList: true});\n",
       "}}\n",
       "\n",
       "                        })                };                });            </script>        </div>"
      ]
     },
     "metadata": {},
     "output_type": "display_data"
    }
   ],
   "source": [
    "fig = px.bar(hmp_df_s, x='kw', y='counts_avg', color_discrete_sequence= ['grey']*len(hmp_df_s))\n",
    "\n",
    "fig.update_layout(\n",
    "            title={\n",
    "            'text': 'Average percentage of news mentioning ELSI-keywords (' +t+ ')',\n",
    "            'y':0.95,\n",
    "            'x':0.50,\n",
    "            'xanchor': 'center',\n",
    "            'yanchor': 'top',\n",
    "            },\n",
    "            xaxis_title=\"ELSI-keyword\",\n",
    "            yaxis_title=\"Average percentage of news\",\n",
    "            yaxis_range = [0,35])\n",
    "\n",
    "fig.show()"
   ]
  },
  {
   "cell_type": "code",
   "execution_count": 496,
   "id": "64937028",
   "metadata": {},
   "outputs": [
    {
     "name": "stdout",
     "output_type": "stream",
     "text": [
      "at\n",
      "0.3\n",
      "cz\n",
      "0.6153846153846154\n",
      "de\n",
      "0.5416666666666666\n",
      "es\n",
      "0.5333333333333333\n",
      "fr\n",
      "0.5\n",
      "gb\n",
      "0.27350427350427353\n",
      "ie\n",
      "0.36\n",
      "it\n",
      "0.4489795918367347\n",
      "nl\n",
      "0.3333333333333333\n",
      "ro\n",
      "0.20454545454545456\n",
      "rs\n",
      "0.32142857142857145\n",
      "se\n",
      "0.7142857142857143\n",
      "us\n",
      "0.2868525896414343\n"
     ]
    }
   ],
   "source": [
    "etlen = []\n",
    "t='neurotech'\n",
    "for c in countries:\n",
    "    print(c)\n",
    "    av = len(df_ethics[(df_ethics.country==c)&(df_ethics.topic==t)])/len(df_all[(df_all.country==c)&(df_all.topic==t)])\n",
    "    print(av)\n",
    "    etlen.append(av)\n",
    "    "
   ]
  },
  {
   "cell_type": "code",
   "execution_count": 497,
   "id": "f7f8e591",
   "metadata": {},
   "outputs": [
    {
     "data": {
      "text/plain": [
       "0.417947241843087"
      ]
     },
     "execution_count": 497,
     "metadata": {},
     "output_type": "execute_result"
    }
   ],
   "source": [
    "np.mean(etlen)"
   ]
  },
  {
   "cell_type": "code",
   "execution_count": 257,
   "id": "34eecb49",
   "metadata": {},
   "outputs": [
    {
     "data": {
      "text/plain": [
       "{'security': 23,\n",
       " 'privacy': 21,\n",
       " 'law': 20,\n",
       " 'society': 18,\n",
       " 'ethic': 10,\n",
       " 'legal': 8,\n",
       " 'responsibility': 8,\n",
       " 'bias': 7,\n",
       " 'integrity': 5,\n",
       " 'human rights': 5,\n",
       " 'justice': 5,\n",
       " 'fairness': 1,\n",
       " 'nagative impact': 1,\n",
       " 'accountability': 1,\n",
       " 'dignity': 1}"
      ]
     },
     "execution_count": 257,
     "metadata": {},
     "output_type": "execute_result"
    }
   ],
   "source": [
    "dict(cc)"
   ]
  },
  {
   "cell_type": "code",
   "execution_count": 315,
   "id": "15e41b66",
   "metadata": {},
   "outputs": [],
   "source": [
    "en_al = { 'negative impact': ['human might', 'negative impact','negatively impact'],\n",
    "         'human rights':['human right'],'responsibility':['irresponsibility'],\n",
    " 'ethics': ['ethnic', 'ethic'], 'privacy':['eprivacy'],\n",
    "         'vulnerable groups':['vulnerable group','vulnerable gop']}"
   ]
  },
  {
   "cell_type": "code",
   "execution_count": 415,
   "id": "1e22118f",
   "metadata": {},
   "outputs": [
    {
     "data": {
      "text/plain": [
       "{'security': 8,\n",
       " 'law': 8,\n",
       " 'society': 6,\n",
       " 'legal': 5,\n",
       " 'responsibility': 4,\n",
       " 'discrimination': 2,\n",
       " 'fairness': 2,\n",
       " 'well-being': 1,\n",
       " 'insecurity': 1,\n",
       " 'justice': 1,\n",
       " 'integrity': 1,\n",
       " 'human rights': 1,\n",
       " 'ethics': 0,\n",
       " 'negative impact': 0,\n",
       " 'dignity': 0,\n",
       " 'illegal': 0,\n",
       " 'accountability': 0,\n",
       " 'sustainability': 0,\n",
       " 'physical integrity': 0,\n",
       " 'bias': 0,\n",
       " 'fundamental right': 0,\n",
       " 'injustice': 0,\n",
       " 'vulnerable groups': 0,\n",
       " 'privacy': 0}"
      ]
     },
     "execution_count": 415,
     "metadata": {},
     "output_type": "execute_result"
    }
   ],
   "source": [
    "ethics_dict_climate['ro']"
   ]
  },
  {
   "cell_type": "code",
   "execution_count": 414,
   "id": "7a86627f",
   "metadata": {},
   "outputs": [
    {
     "data": {
      "application/vnd.plotly.v1+json": {
       "config": {
        "plotlyServerURL": "https://plot.ly"
       },
       "data": [
        {
         "orientation": "v",
         "type": "bar",
         "x": [
          "Securitate",
          "Lege",
          "Societate",
          "Juridic",
          "Responsabilitate",
          "Discriminare",
          "Corectitudine",
          "Bunăstarea",
          "Estică",
          "Insecuritate",
          "Justiție",
          "Integralitate",
          "Drepturilor Omului"
         ],
         "y": [
          8,
          8,
          6,
          5,
          4,
          2,
          2,
          1,
          1,
          1,
          1,
          1,
          1
         ]
        }
       ],
       "layout": {
        "template": {
         "data": {
          "bar": [
           {
            "error_x": {
             "color": "#2a3f5f"
            },
            "error_y": {
             "color": "#2a3f5f"
            },
            "marker": {
             "line": {
              "color": "#E5ECF6",
              "width": 0.5
             },
             "pattern": {
              "fillmode": "overlay",
              "size": 10,
              "solidity": 0.2
             }
            },
            "type": "bar"
           }
          ],
          "barpolar": [
           {
            "marker": {
             "line": {
              "color": "#E5ECF6",
              "width": 0.5
             },
             "pattern": {
              "fillmode": "overlay",
              "size": 10,
              "solidity": 0.2
             }
            },
            "type": "barpolar"
           }
          ],
          "carpet": [
           {
            "aaxis": {
             "endlinecolor": "#2a3f5f",
             "gridcolor": "white",
             "linecolor": "white",
             "minorgridcolor": "white",
             "startlinecolor": "#2a3f5f"
            },
            "baxis": {
             "endlinecolor": "#2a3f5f",
             "gridcolor": "white",
             "linecolor": "white",
             "minorgridcolor": "white",
             "startlinecolor": "#2a3f5f"
            },
            "type": "carpet"
           }
          ],
          "choropleth": [
           {
            "colorbar": {
             "outlinewidth": 0,
             "ticks": ""
            },
            "type": "choropleth"
           }
          ],
          "contour": [
           {
            "colorbar": {
             "outlinewidth": 0,
             "ticks": ""
            },
            "colorscale": [
             [
              0,
              "#0d0887"
             ],
             [
              0.1111111111111111,
              "#46039f"
             ],
             [
              0.2222222222222222,
              "#7201a8"
             ],
             [
              0.3333333333333333,
              "#9c179e"
             ],
             [
              0.4444444444444444,
              "#bd3786"
             ],
             [
              0.5555555555555556,
              "#d8576b"
             ],
             [
              0.6666666666666666,
              "#ed7953"
             ],
             [
              0.7777777777777778,
              "#fb9f3a"
             ],
             [
              0.8888888888888888,
              "#fdca26"
             ],
             [
              1,
              "#f0f921"
             ]
            ],
            "type": "contour"
           }
          ],
          "contourcarpet": [
           {
            "colorbar": {
             "outlinewidth": 0,
             "ticks": ""
            },
            "type": "contourcarpet"
           }
          ],
          "heatmap": [
           {
            "colorbar": {
             "outlinewidth": 0,
             "ticks": ""
            },
            "colorscale": [
             [
              0,
              "#0d0887"
             ],
             [
              0.1111111111111111,
              "#46039f"
             ],
             [
              0.2222222222222222,
              "#7201a8"
             ],
             [
              0.3333333333333333,
              "#9c179e"
             ],
             [
              0.4444444444444444,
              "#bd3786"
             ],
             [
              0.5555555555555556,
              "#d8576b"
             ],
             [
              0.6666666666666666,
              "#ed7953"
             ],
             [
              0.7777777777777778,
              "#fb9f3a"
             ],
             [
              0.8888888888888888,
              "#fdca26"
             ],
             [
              1,
              "#f0f921"
             ]
            ],
            "type": "heatmap"
           }
          ],
          "heatmapgl": [
           {
            "colorbar": {
             "outlinewidth": 0,
             "ticks": ""
            },
            "colorscale": [
             [
              0,
              "#0d0887"
             ],
             [
              0.1111111111111111,
              "#46039f"
             ],
             [
              0.2222222222222222,
              "#7201a8"
             ],
             [
              0.3333333333333333,
              "#9c179e"
             ],
             [
              0.4444444444444444,
              "#bd3786"
             ],
             [
              0.5555555555555556,
              "#d8576b"
             ],
             [
              0.6666666666666666,
              "#ed7953"
             ],
             [
              0.7777777777777778,
              "#fb9f3a"
             ],
             [
              0.8888888888888888,
              "#fdca26"
             ],
             [
              1,
              "#f0f921"
             ]
            ],
            "type": "heatmapgl"
           }
          ],
          "histogram": [
           {
            "marker": {
             "pattern": {
              "fillmode": "overlay",
              "size": 10,
              "solidity": 0.2
             }
            },
            "type": "histogram"
           }
          ],
          "histogram2d": [
           {
            "colorbar": {
             "outlinewidth": 0,
             "ticks": ""
            },
            "colorscale": [
             [
              0,
              "#0d0887"
             ],
             [
              0.1111111111111111,
              "#46039f"
             ],
             [
              0.2222222222222222,
              "#7201a8"
             ],
             [
              0.3333333333333333,
              "#9c179e"
             ],
             [
              0.4444444444444444,
              "#bd3786"
             ],
             [
              0.5555555555555556,
              "#d8576b"
             ],
             [
              0.6666666666666666,
              "#ed7953"
             ],
             [
              0.7777777777777778,
              "#fb9f3a"
             ],
             [
              0.8888888888888888,
              "#fdca26"
             ],
             [
              1,
              "#f0f921"
             ]
            ],
            "type": "histogram2d"
           }
          ],
          "histogram2dcontour": [
           {
            "colorbar": {
             "outlinewidth": 0,
             "ticks": ""
            },
            "colorscale": [
             [
              0,
              "#0d0887"
             ],
             [
              0.1111111111111111,
              "#46039f"
             ],
             [
              0.2222222222222222,
              "#7201a8"
             ],
             [
              0.3333333333333333,
              "#9c179e"
             ],
             [
              0.4444444444444444,
              "#bd3786"
             ],
             [
              0.5555555555555556,
              "#d8576b"
             ],
             [
              0.6666666666666666,
              "#ed7953"
             ],
             [
              0.7777777777777778,
              "#fb9f3a"
             ],
             [
              0.8888888888888888,
              "#fdca26"
             ],
             [
              1,
              "#f0f921"
             ]
            ],
            "type": "histogram2dcontour"
           }
          ],
          "mesh3d": [
           {
            "colorbar": {
             "outlinewidth": 0,
             "ticks": ""
            },
            "type": "mesh3d"
           }
          ],
          "parcoords": [
           {
            "line": {
             "colorbar": {
              "outlinewidth": 0,
              "ticks": ""
             }
            },
            "type": "parcoords"
           }
          ],
          "pie": [
           {
            "automargin": true,
            "type": "pie"
           }
          ],
          "scatter": [
           {
            "marker": {
             "colorbar": {
              "outlinewidth": 0,
              "ticks": ""
             }
            },
            "type": "scatter"
           }
          ],
          "scatter3d": [
           {
            "line": {
             "colorbar": {
              "outlinewidth": 0,
              "ticks": ""
             }
            },
            "marker": {
             "colorbar": {
              "outlinewidth": 0,
              "ticks": ""
             }
            },
            "type": "scatter3d"
           }
          ],
          "scattercarpet": [
           {
            "marker": {
             "colorbar": {
              "outlinewidth": 0,
              "ticks": ""
             }
            },
            "type": "scattercarpet"
           }
          ],
          "scattergeo": [
           {
            "marker": {
             "colorbar": {
              "outlinewidth": 0,
              "ticks": ""
             }
            },
            "type": "scattergeo"
           }
          ],
          "scattergl": [
           {
            "marker": {
             "colorbar": {
              "outlinewidth": 0,
              "ticks": ""
             }
            },
            "type": "scattergl"
           }
          ],
          "scattermapbox": [
           {
            "marker": {
             "colorbar": {
              "outlinewidth": 0,
              "ticks": ""
             }
            },
            "type": "scattermapbox"
           }
          ],
          "scatterpolar": [
           {
            "marker": {
             "colorbar": {
              "outlinewidth": 0,
              "ticks": ""
             }
            },
            "type": "scatterpolar"
           }
          ],
          "scatterpolargl": [
           {
            "marker": {
             "colorbar": {
              "outlinewidth": 0,
              "ticks": ""
             }
            },
            "type": "scatterpolargl"
           }
          ],
          "scatterternary": [
           {
            "marker": {
             "colorbar": {
              "outlinewidth": 0,
              "ticks": ""
             }
            },
            "type": "scatterternary"
           }
          ],
          "surface": [
           {
            "colorbar": {
             "outlinewidth": 0,
             "ticks": ""
            },
            "colorscale": [
             [
              0,
              "#0d0887"
             ],
             [
              0.1111111111111111,
              "#46039f"
             ],
             [
              0.2222222222222222,
              "#7201a8"
             ],
             [
              0.3333333333333333,
              "#9c179e"
             ],
             [
              0.4444444444444444,
              "#bd3786"
             ],
             [
              0.5555555555555556,
              "#d8576b"
             ],
             [
              0.6666666666666666,
              "#ed7953"
             ],
             [
              0.7777777777777778,
              "#fb9f3a"
             ],
             [
              0.8888888888888888,
              "#fdca26"
             ],
             [
              1,
              "#f0f921"
             ]
            ],
            "type": "surface"
           }
          ],
          "table": [
           {
            "cells": {
             "fill": {
              "color": "#EBF0F8"
             },
             "line": {
              "color": "white"
             }
            },
            "header": {
             "fill": {
              "color": "#C8D4E3"
             },
             "line": {
              "color": "white"
             }
            },
            "type": "table"
           }
          ]
         },
         "layout": {
          "annotationdefaults": {
           "arrowcolor": "#2a3f5f",
           "arrowhead": 0,
           "arrowwidth": 1
          },
          "autotypenumbers": "strict",
          "coloraxis": {
           "colorbar": {
            "outlinewidth": 0,
            "ticks": ""
           }
          },
          "colorscale": {
           "diverging": [
            [
             0,
             "#8e0152"
            ],
            [
             0.1,
             "#c51b7d"
            ],
            [
             0.2,
             "#de77ae"
            ],
            [
             0.3,
             "#f1b6da"
            ],
            [
             0.4,
             "#fde0ef"
            ],
            [
             0.5,
             "#f7f7f7"
            ],
            [
             0.6,
             "#e6f5d0"
            ],
            [
             0.7,
             "#b8e186"
            ],
            [
             0.8,
             "#7fbc41"
            ],
            [
             0.9,
             "#4d9221"
            ],
            [
             1,
             "#276419"
            ]
           ],
           "sequential": [
            [
             0,
             "#0d0887"
            ],
            [
             0.1111111111111111,
             "#46039f"
            ],
            [
             0.2222222222222222,
             "#7201a8"
            ],
            [
             0.3333333333333333,
             "#9c179e"
            ],
            [
             0.4444444444444444,
             "#bd3786"
            ],
            [
             0.5555555555555556,
             "#d8576b"
            ],
            [
             0.6666666666666666,
             "#ed7953"
            ],
            [
             0.7777777777777778,
             "#fb9f3a"
            ],
            [
             0.8888888888888888,
             "#fdca26"
            ],
            [
             1,
             "#f0f921"
            ]
           ],
           "sequentialminus": [
            [
             0,
             "#0d0887"
            ],
            [
             0.1111111111111111,
             "#46039f"
            ],
            [
             0.2222222222222222,
             "#7201a8"
            ],
            [
             0.3333333333333333,
             "#9c179e"
            ],
            [
             0.4444444444444444,
             "#bd3786"
            ],
            [
             0.5555555555555556,
             "#d8576b"
            ],
            [
             0.6666666666666666,
             "#ed7953"
            ],
            [
             0.7777777777777778,
             "#fb9f3a"
            ],
            [
             0.8888888888888888,
             "#fdca26"
            ],
            [
             1,
             "#f0f921"
            ]
           ]
          },
          "colorway": [
           "#636efa",
           "#EF553B",
           "#00cc96",
           "#ab63fa",
           "#FFA15A",
           "#19d3f3",
           "#FF6692",
           "#B6E880",
           "#FF97FF",
           "#FECB52"
          ],
          "font": {
           "color": "#2a3f5f"
          },
          "geo": {
           "bgcolor": "white",
           "lakecolor": "white",
           "landcolor": "#E5ECF6",
           "showlakes": true,
           "showland": true,
           "subunitcolor": "white"
          },
          "hoverlabel": {
           "align": "left"
          },
          "hovermode": "closest",
          "mapbox": {
           "style": "light"
          },
          "paper_bgcolor": "white",
          "plot_bgcolor": "#E5ECF6",
          "polar": {
           "angularaxis": {
            "gridcolor": "white",
            "linecolor": "white",
            "ticks": ""
           },
           "bgcolor": "#E5ECF6",
           "radialaxis": {
            "gridcolor": "white",
            "linecolor": "white",
            "ticks": ""
           }
          },
          "scene": {
           "xaxis": {
            "backgroundcolor": "#E5ECF6",
            "gridcolor": "white",
            "gridwidth": 2,
            "linecolor": "white",
            "showbackground": true,
            "ticks": "",
            "zerolinecolor": "white"
           },
           "yaxis": {
            "backgroundcolor": "#E5ECF6",
            "gridcolor": "white",
            "gridwidth": 2,
            "linecolor": "white",
            "showbackground": true,
            "ticks": "",
            "zerolinecolor": "white"
           },
           "zaxis": {
            "backgroundcolor": "#E5ECF6",
            "gridcolor": "white",
            "gridwidth": 2,
            "linecolor": "white",
            "showbackground": true,
            "ticks": "",
            "zerolinecolor": "white"
           }
          },
          "shapedefaults": {
           "line": {
            "color": "#2a3f5f"
           }
          },
          "ternary": {
           "aaxis": {
            "gridcolor": "white",
            "linecolor": "white",
            "ticks": ""
           },
           "baxis": {
            "gridcolor": "white",
            "linecolor": "white",
            "ticks": ""
           },
           "bgcolor": "#E5ECF6",
           "caxis": {
            "gridcolor": "white",
            "linecolor": "white",
            "ticks": ""
           }
          },
          "title": {
           "x": 0.05
          },
          "xaxis": {
           "automargin": true,
           "gridcolor": "white",
           "linecolor": "white",
           "ticks": "",
           "title": {
            "standoff": 15
           },
           "zerolinecolor": "white",
           "zerolinewidth": 2
          },
          "yaxis": {
           "automargin": true,
           "gridcolor": "white",
           "linecolor": "white",
           "ticks": "",
           "title": {
            "standoff": 15
           },
           "zerolinecolor": "white",
           "zerolinewidth": 2
          }
         }
        },
        "title": {
         "text": "Found keywords counts - ethics - climate (Romania)",
         "x": 0.5,
         "xanchor": "center",
         "y": 0.95,
         "yanchor": "top"
        },
        "xaxis": {
         "title": {
          "text": "Keyword"
         },
         "type": "category"
        },
        "yaxis": {
         "tickformat": ",d",
         "title": {
          "text": "N matches"
         }
        }
       }
      },
      "text/html": [
       "<div>                            <div id=\"a1187ca9-04fc-4efa-abc8-cc66e62bfcad\" class=\"plotly-graph-div\" style=\"height:525px; width:100%;\"></div>            <script type=\"text/javascript\">                require([\"plotly\"], function(Plotly) {                    window.PLOTLYENV=window.PLOTLYENV || {};                                    if (document.getElementById(\"a1187ca9-04fc-4efa-abc8-cc66e62bfcad\")) {                    Plotly.newPlot(                        \"a1187ca9-04fc-4efa-abc8-cc66e62bfcad\",                        [{\"orientation\":\"v\",\"type\":\"bar\",\"x\":[\"Securitate\",\"Lege\",\"Societate\",\"Juridic\",\"Responsabilitate\",\"Discriminare\",\"Corectitudine\",\"Bunăstarea\",\"Estică\",\"Insecuritate\",\"Justiție\",\"Integralitate\",\"Drepturilor Omului\"],\"y\":[8,8,6,5,4,2,2,1,1,1,1,1,1]}],                        {\"template\":{\"data\":{\"bar\":[{\"error_x\":{\"color\":\"#2a3f5f\"},\"error_y\":{\"color\":\"#2a3f5f\"},\"marker\":{\"line\":{\"color\":\"#E5ECF6\",\"width\":0.5},\"pattern\":{\"fillmode\":\"overlay\",\"size\":10,\"solidity\":0.2}},\"type\":\"bar\"}],\"barpolar\":[{\"marker\":{\"line\":{\"color\":\"#E5ECF6\",\"width\":0.5},\"pattern\":{\"fillmode\":\"overlay\",\"size\":10,\"solidity\":0.2}},\"type\":\"barpolar\"}],\"carpet\":[{\"aaxis\":{\"endlinecolor\":\"#2a3f5f\",\"gridcolor\":\"white\",\"linecolor\":\"white\",\"minorgridcolor\":\"white\",\"startlinecolor\":\"#2a3f5f\"},\"baxis\":{\"endlinecolor\":\"#2a3f5f\",\"gridcolor\":\"white\",\"linecolor\":\"white\",\"minorgridcolor\":\"white\",\"startlinecolor\":\"#2a3f5f\"},\"type\":\"carpet\"}],\"choropleth\":[{\"colorbar\":{\"outlinewidth\":0,\"ticks\":\"\"},\"type\":\"choropleth\"}],\"contour\":[{\"colorbar\":{\"outlinewidth\":0,\"ticks\":\"\"},\"colorscale\":[[0.0,\"#0d0887\"],[0.1111111111111111,\"#46039f\"],[0.2222222222222222,\"#7201a8\"],[0.3333333333333333,\"#9c179e\"],[0.4444444444444444,\"#bd3786\"],[0.5555555555555556,\"#d8576b\"],[0.6666666666666666,\"#ed7953\"],[0.7777777777777778,\"#fb9f3a\"],[0.8888888888888888,\"#fdca26\"],[1.0,\"#f0f921\"]],\"type\":\"contour\"}],\"contourcarpet\":[{\"colorbar\":{\"outlinewidth\":0,\"ticks\":\"\"},\"type\":\"contourcarpet\"}],\"heatmap\":[{\"colorbar\":{\"outlinewidth\":0,\"ticks\":\"\"},\"colorscale\":[[0.0,\"#0d0887\"],[0.1111111111111111,\"#46039f\"],[0.2222222222222222,\"#7201a8\"],[0.3333333333333333,\"#9c179e\"],[0.4444444444444444,\"#bd3786\"],[0.5555555555555556,\"#d8576b\"],[0.6666666666666666,\"#ed7953\"],[0.7777777777777778,\"#fb9f3a\"],[0.8888888888888888,\"#fdca26\"],[1.0,\"#f0f921\"]],\"type\":\"heatmap\"}],\"heatmapgl\":[{\"colorbar\":{\"outlinewidth\":0,\"ticks\":\"\"},\"colorscale\":[[0.0,\"#0d0887\"],[0.1111111111111111,\"#46039f\"],[0.2222222222222222,\"#7201a8\"],[0.3333333333333333,\"#9c179e\"],[0.4444444444444444,\"#bd3786\"],[0.5555555555555556,\"#d8576b\"],[0.6666666666666666,\"#ed7953\"],[0.7777777777777778,\"#fb9f3a\"],[0.8888888888888888,\"#fdca26\"],[1.0,\"#f0f921\"]],\"type\":\"heatmapgl\"}],\"histogram\":[{\"marker\":{\"pattern\":{\"fillmode\":\"overlay\",\"size\":10,\"solidity\":0.2}},\"type\":\"histogram\"}],\"histogram2d\":[{\"colorbar\":{\"outlinewidth\":0,\"ticks\":\"\"},\"colorscale\":[[0.0,\"#0d0887\"],[0.1111111111111111,\"#46039f\"],[0.2222222222222222,\"#7201a8\"],[0.3333333333333333,\"#9c179e\"],[0.4444444444444444,\"#bd3786\"],[0.5555555555555556,\"#d8576b\"],[0.6666666666666666,\"#ed7953\"],[0.7777777777777778,\"#fb9f3a\"],[0.8888888888888888,\"#fdca26\"],[1.0,\"#f0f921\"]],\"type\":\"histogram2d\"}],\"histogram2dcontour\":[{\"colorbar\":{\"outlinewidth\":0,\"ticks\":\"\"},\"colorscale\":[[0.0,\"#0d0887\"],[0.1111111111111111,\"#46039f\"],[0.2222222222222222,\"#7201a8\"],[0.3333333333333333,\"#9c179e\"],[0.4444444444444444,\"#bd3786\"],[0.5555555555555556,\"#d8576b\"],[0.6666666666666666,\"#ed7953\"],[0.7777777777777778,\"#fb9f3a\"],[0.8888888888888888,\"#fdca26\"],[1.0,\"#f0f921\"]],\"type\":\"histogram2dcontour\"}],\"mesh3d\":[{\"colorbar\":{\"outlinewidth\":0,\"ticks\":\"\"},\"type\":\"mesh3d\"}],\"parcoords\":[{\"line\":{\"colorbar\":{\"outlinewidth\":0,\"ticks\":\"\"}},\"type\":\"parcoords\"}],\"pie\":[{\"automargin\":true,\"type\":\"pie\"}],\"scatter\":[{\"marker\":{\"colorbar\":{\"outlinewidth\":0,\"ticks\":\"\"}},\"type\":\"scatter\"}],\"scatter3d\":[{\"line\":{\"colorbar\":{\"outlinewidth\":0,\"ticks\":\"\"}},\"marker\":{\"colorbar\":{\"outlinewidth\":0,\"ticks\":\"\"}},\"type\":\"scatter3d\"}],\"scattercarpet\":[{\"marker\":{\"colorbar\":{\"outlinewidth\":0,\"ticks\":\"\"}},\"type\":\"scattercarpet\"}],\"scattergeo\":[{\"marker\":{\"colorbar\":{\"outlinewidth\":0,\"ticks\":\"\"}},\"type\":\"scattergeo\"}],\"scattergl\":[{\"marker\":{\"colorbar\":{\"outlinewidth\":0,\"ticks\":\"\"}},\"type\":\"scattergl\"}],\"scattermapbox\":[{\"marker\":{\"colorbar\":{\"outlinewidth\":0,\"ticks\":\"\"}},\"type\":\"scattermapbox\"}],\"scatterpolar\":[{\"marker\":{\"colorbar\":{\"outlinewidth\":0,\"ticks\":\"\"}},\"type\":\"scatterpolar\"}],\"scatterpolargl\":[{\"marker\":{\"colorbar\":{\"outlinewidth\":0,\"ticks\":\"\"}},\"type\":\"scatterpolargl\"}],\"scatterternary\":[{\"marker\":{\"colorbar\":{\"outlinewidth\":0,\"ticks\":\"\"}},\"type\":\"scatterternary\"}],\"surface\":[{\"colorbar\":{\"outlinewidth\":0,\"ticks\":\"\"},\"colorscale\":[[0.0,\"#0d0887\"],[0.1111111111111111,\"#46039f\"],[0.2222222222222222,\"#7201a8\"],[0.3333333333333333,\"#9c179e\"],[0.4444444444444444,\"#bd3786\"],[0.5555555555555556,\"#d8576b\"],[0.6666666666666666,\"#ed7953\"],[0.7777777777777778,\"#fb9f3a\"],[0.8888888888888888,\"#fdca26\"],[1.0,\"#f0f921\"]],\"type\":\"surface\"}],\"table\":[{\"cells\":{\"fill\":{\"color\":\"#EBF0F8\"},\"line\":{\"color\":\"white\"}},\"header\":{\"fill\":{\"color\":\"#C8D4E3\"},\"line\":{\"color\":\"white\"}},\"type\":\"table\"}]},\"layout\":{\"annotationdefaults\":{\"arrowcolor\":\"#2a3f5f\",\"arrowhead\":0,\"arrowwidth\":1},\"autotypenumbers\":\"strict\",\"coloraxis\":{\"colorbar\":{\"outlinewidth\":0,\"ticks\":\"\"}},\"colorscale\":{\"diverging\":[[0,\"#8e0152\"],[0.1,\"#c51b7d\"],[0.2,\"#de77ae\"],[0.3,\"#f1b6da\"],[0.4,\"#fde0ef\"],[0.5,\"#f7f7f7\"],[0.6,\"#e6f5d0\"],[0.7,\"#b8e186\"],[0.8,\"#7fbc41\"],[0.9,\"#4d9221\"],[1,\"#276419\"]],\"sequential\":[[0.0,\"#0d0887\"],[0.1111111111111111,\"#46039f\"],[0.2222222222222222,\"#7201a8\"],[0.3333333333333333,\"#9c179e\"],[0.4444444444444444,\"#bd3786\"],[0.5555555555555556,\"#d8576b\"],[0.6666666666666666,\"#ed7953\"],[0.7777777777777778,\"#fb9f3a\"],[0.8888888888888888,\"#fdca26\"],[1.0,\"#f0f921\"]],\"sequentialminus\":[[0.0,\"#0d0887\"],[0.1111111111111111,\"#46039f\"],[0.2222222222222222,\"#7201a8\"],[0.3333333333333333,\"#9c179e\"],[0.4444444444444444,\"#bd3786\"],[0.5555555555555556,\"#d8576b\"],[0.6666666666666666,\"#ed7953\"],[0.7777777777777778,\"#fb9f3a\"],[0.8888888888888888,\"#fdca26\"],[1.0,\"#f0f921\"]]},\"colorway\":[\"#636efa\",\"#EF553B\",\"#00cc96\",\"#ab63fa\",\"#FFA15A\",\"#19d3f3\",\"#FF6692\",\"#B6E880\",\"#FF97FF\",\"#FECB52\"],\"font\":{\"color\":\"#2a3f5f\"},\"geo\":{\"bgcolor\":\"white\",\"lakecolor\":\"white\",\"landcolor\":\"#E5ECF6\",\"showlakes\":true,\"showland\":true,\"subunitcolor\":\"white\"},\"hoverlabel\":{\"align\":\"left\"},\"hovermode\":\"closest\",\"mapbox\":{\"style\":\"light\"},\"paper_bgcolor\":\"white\",\"plot_bgcolor\":\"#E5ECF6\",\"polar\":{\"angularaxis\":{\"gridcolor\":\"white\",\"linecolor\":\"white\",\"ticks\":\"\"},\"bgcolor\":\"#E5ECF6\",\"radialaxis\":{\"gridcolor\":\"white\",\"linecolor\":\"white\",\"ticks\":\"\"}},\"scene\":{\"xaxis\":{\"backgroundcolor\":\"#E5ECF6\",\"gridcolor\":\"white\",\"gridwidth\":2,\"linecolor\":\"white\",\"showbackground\":true,\"ticks\":\"\",\"zerolinecolor\":\"white\"},\"yaxis\":{\"backgroundcolor\":\"#E5ECF6\",\"gridcolor\":\"white\",\"gridwidth\":2,\"linecolor\":\"white\",\"showbackground\":true,\"ticks\":\"\",\"zerolinecolor\":\"white\"},\"zaxis\":{\"backgroundcolor\":\"#E5ECF6\",\"gridcolor\":\"white\",\"gridwidth\":2,\"linecolor\":\"white\",\"showbackground\":true,\"ticks\":\"\",\"zerolinecolor\":\"white\"}},\"shapedefaults\":{\"line\":{\"color\":\"#2a3f5f\"}},\"ternary\":{\"aaxis\":{\"gridcolor\":\"white\",\"linecolor\":\"white\",\"ticks\":\"\"},\"baxis\":{\"gridcolor\":\"white\",\"linecolor\":\"white\",\"ticks\":\"\"},\"bgcolor\":\"#E5ECF6\",\"caxis\":{\"gridcolor\":\"white\",\"linecolor\":\"white\",\"ticks\":\"\"}},\"title\":{\"x\":0.05},\"xaxis\":{\"automargin\":true,\"gridcolor\":\"white\",\"linecolor\":\"white\",\"ticks\":\"\",\"title\":{\"standoff\":15},\"zerolinecolor\":\"white\",\"zerolinewidth\":2},\"yaxis\":{\"automargin\":true,\"gridcolor\":\"white\",\"linecolor\":\"white\",\"ticks\":\"\",\"title\":{\"standoff\":15},\"zerolinecolor\":\"white\",\"zerolinewidth\":2}}},\"title\":{\"text\":\"Found keywords counts - ethics - climate (Romania)\",\"x\":0.5,\"xanchor\":\"center\",\"y\":0.95,\"yanchor\":\"top\"},\"xaxis\":{\"title\":{\"text\":\"Keyword\"},\"type\":\"category\"},\"yaxis\":{\"tickformat\":\",d\",\"title\":{\"text\":\"N matches\"}}},                        {\"responsive\": true}                    ).then(function(){\n",
       "                            \n",
       "var gd = document.getElementById('a1187ca9-04fc-4efa-abc8-cc66e62bfcad');\n",
       "var x = new MutationObserver(function (mutations, observer) {{\n",
       "        var display = window.getComputedStyle(gd).display;\n",
       "        if (!display || display === 'none') {{\n",
       "            console.log([gd, 'removed!']);\n",
       "            Plotly.purge(gd);\n",
       "            observer.disconnect();\n",
       "        }}\n",
       "}});\n",
       "\n",
       "// Listen for the removal of the full notebook cells\n",
       "var notebookContainer = gd.closest('#notebook-container');\n",
       "if (notebookContainer) {{\n",
       "    x.observe(notebookContainer, {childList: true});\n",
       "}}\n",
       "\n",
       "// Listen for the clearing of the current output cell\n",
       "var outputEl = gd.closest('.output');\n",
       "if (outputEl) {{\n",
       "    x.observe(outputEl, {childList: true});\n",
       "}}\n",
       "\n",
       "                        })                };                });            </script>        </div>"
      ]
     },
     "metadata": {},
     "output_type": "display_data"
    }
   ],
   "source": [
    "c = 'ro'#countries[12]\n",
    "t = 'climate'\n",
    "dftmp = df_ethics[(df_ethics.country==c)&(df_ethics.topic==t)]\n",
    "alias = aliases[c]\n",
    "xx, yy, cc = plot_kw_matches_counts(dftmp, 'ethics_matches', countries_dict[c]['name'], c, t, PATH_MAIN, nw=14,\n",
    "                           orient='v',aliases_dict=ro_al,save=False, ethics =False)"
   ]
  },
  {
   "cell_type": "code",
   "execution_count": 223,
   "id": "584674b8",
   "metadata": {},
   "outputs": [],
   "source": [
    "ro_al = {'securitate':['securitatea'],'societate':['societatea'],'responsabilitate':['responsabilitatea'],\n",
    "         'integritate':['integritatea'],'confidențialitatea':['confidențialitate','confidentialitate'],\n",
    "         'juridic':['juridice','juridică'],'justiție':['justiției'], 'bunăstarea' :['bunăstare']}"
   ]
  },
  {
   "cell_type": "raw",
   "id": "b5de80c2",
   "metadata": {},
   "source": [
    "it_al = {'sostenibilità':['sostenibili','insostenibilità','sostenbilità','sostenibilita','sostenibilià'],\n",
    "         'società':['socità','societài'],'discriminazione':['discriminazioni'],\n",
    "         'responsabilità':['responsabili','responsabilita'],'legale':['legal']}"
   ]
  },
  {
   "cell_type": "code",
   "execution_count": 113,
   "id": "81720cb7",
   "metadata": {},
   "outputs": [],
   "source": [
    "de_al = {'nachhaltigkeit':['nachhaltigkeits'], 'verantwortung':['verantwortungs'],\n",
    "       'gesellschaft':['gesellschafts','gesellschafter'],'recht':['rechte'],\n",
    "       'menschenrechte':['menschenrechten']}"
   ]
  },
  {
   "cell_type": "code",
   "execution_count": 125,
   "id": "3c569d8b",
   "metadata": {},
   "outputs": [],
   "source": [
    "es_al = {'responsabilidad':['corresponsabilidad'],'derechos humanos':['derecho humano']}"
   ]
  },
  {
   "cell_type": "code",
   "execution_count": 154,
   "id": "011d0842",
   "metadata": {},
   "outputs": [],
   "source": [
    "fr_al = {'droit' : ['droite'], 'préjugé':['préjugés'], 'juridique':['juridiquer'],\n",
    "         'bien l être':['bien d être','bien c être'],'éthique':['éthiquer']}"
   ]
  },
  {
   "cell_type": "markdown",
   "id": "f15a146b",
   "metadata": {},
   "source": [
    "# Functions"
   ]
  },
  {
   "cell_type": "code",
   "execution_count": 208,
   "id": "3d15c431",
   "metadata": {},
   "outputs": [],
   "source": [
    "aliases = { 'at': {\"grün wasserstoff\":[\"grüner wasserstoff\",\"grünen wasserstoff\",\"grünem wasserstoff\",\n",
    "                                       \"grünen wasserstoffs\",\n",
    "                                       'in wasserstoff',\"grüne wasserstoff\",\"grüner   wasserstoff\",\"grün   wasserstoff\"],\n",
    "                   \"aufforstung\" : [\"aufforstungen\",'bewaldung','aufforsten'],\n",
    "                   'sonnenblende':['sonnenblenden'],\n",
    "                   \"metaversum\" : [\"metaversums\", \"metaverse\",'virtueller welt'],\n",
    "                   \"virtuelle realität\" : [\"virtual reality\",\"virtualreality\",\n",
    "                                           \"virtueller realität\",\"virtuellen realität\",\n",
    "                                           'virtuelle realitäten','virtuellen realitäten','vr','virtuel reality'],\n",
    "                   \"virtuelle welt\" : ['virtuellen welt','virtueller welt','virtuellen welt','virtuellwelt'],\n",
    "                   \"erweitern realität\" : ['augmented reality','augmented realitiy', 'erweitert realität',\n",
    "                                           'augmentedreality','erweiterten realität','erweiterter realität',\n",
    "                                           'erweiterte realität'],\n",
    "\n",
    "                   \"virtuelle umgebung\" : ['virtueller umgebung','virtuellen umgebung','virtuelle umgebungen','virtueller umgebungen'],\n",
    "                   'digital zwilling':['digitale zwillinge',\n",
    "                                       'digitalen zwillings','digitaler zwilling','digitale zwilling'],\n",
    "                   'digitaler avatar':['digitale avatare','digital avatare'],\n",
    "                   'cyborg':['cyborgs'],\n",
    "                   'gehirnchip':['gehirnchips'],\n",
    "                   'hirncomputerschnittstelle':['hirncomputerschnittstellen'],\n",
    "                   'gehirncomputerschnittstellen':['gehirncomputerschnittstelle'],\n",
    "                   'würde':['würden','würnde'],\n",
    "                   'rechts':['rechte','recht'],\n",
    "                   'gesellschaft':['gesellschafter','gesellschaften'],\n",
    "                   'datenschutz':['datenschutzes'],\n",
    "                   'sicherheit' : ['sicherheits'],\n",
    "                   'cloud seeding' : ['cloudseeding','wolkenbildung'],\n",
    "                   'geoengineering':['geoengineerings','geo engineering'],\n",
    "                   'klimatechnik' :['klimatechniker'],'gedankensteuerung' : ['steuerung'],\n",
    "                   'climate engineering':['engineering','klimaengineering'],\n",
    "                   'co2 abscheidung' : ['von treibhausgasen','co2 abscheiden','co2 abescheidung'],\n",
    "                   'Recht':['rechts'], 'Würde':['würde'] , \n",
    "                   'carbon capture': ['kohlenstoffbindung'],\n",
    "                   \"kohlenstoffspeicherung\": ['kohlenstoffspeicher']},\n",
    "\n",
    "\n",
    "           'cz':{'virtuální realita':['vr','virtual reality'], 'nlp':['zpracování přirozeného jazyka'],\n",
    "                 'metaverse' :['fiktivní vesmír'],'digitální avatar':['virtuální avatar']},\n",
    "\n",
    "\n",
    "           'es': {'almacenamiento de carbono' : ['del carbono'],\n",
    "                  'captura de carbono' : ['del dióxido de carbono'],\n",
    "                  'metaverso' : ['metaverso él','metaver él', 'metaver','metauniverso','metaverso','metaversos','metaverse'],\n",
    "                  'neurotecnología': ['neurotecnologías'],\n",
    "                  'Interfaz Cerebro Máquina' : ['Interfaz Cerebro Máquín'],\n",
    "                  'derechos humanos' : ['derecho humano'], 'siembra de nube' : ['sembrar nube'],\n",
    "                  'uso de carbón' : ['uso del carbón'],\n",
    "                  'realidad virtual' : ['rv'],\n",
    "                  'mundo virtual': ['entorno virtual','submundo virtual','mundo no virtual','mundovirtual','mundo virutal',\n",
    "                                    'entornos virtuales'],\n",
    "                  'realidad aumentada':['realidad aumentenda','realidad aumentado','realidad aumentadar','surrealidad aumentado'],\n",
    "                  'realidad extendida':['realidad extendido','er','realidades extendidas','realidad extensivo','realidad extendido'],\n",
    "                  'realidad mixta':['realidad mixto'],'gemelo digital':['gemelar digital'],\n",
    "                  'interfaz cerebro máquina':['interfaz cerebro máquín']\n",
    "\n",
    "\n",
    "                 },\n",
    "\n",
    "\n",
    "           'fr':{'hydrogèn vert':['hydrogène vert','hydrogène   vert','hydrogéner vert','hydrogène    vert','hydrogèn vert','hydrogèn    vert','hydrogèn   vert'],\n",
    "                 'captage de carbone':['captage de carbone','capture de carbone','captur de carbone','capter le carbone',\n",
    "                                       'capture de dioxyde de carbone','capteur de carbone','capter de carbone','captage de dioxyde de carbone'],\n",
    "\n",
    "                 'puits de carbone' : ['puits de   carbone','puits   de carbone','puit de carbone','puits à carbone','stockage en carbone','stockage de carbone',\n",
    "                                       'stocker de le carbone','stocker le carbone','puits carbone','puits de    carbone','stocker de carbone'],\n",
    "                 'utilisation de carbone': ['utilisation de charbon','réutilisation de carbone'],\n",
    "                 'bouclier solaire':['parasol spatial'],\n",
    "                 'fertilisation de l océan':['fertilisation    de océan'],\n",
    "                 'géo ingénierie': ['géo ingénieri'],\n",
    "\n",
    "                 'métaverse':['métavers','métaver','metaver',],\n",
    "                 'réalité virtuel':['vr','réaliter virtuel','réalité virtuelle','réalite virtuel'],\n",
    "                 'réalité augmentée':['réalité augmenter','réaliter augmenter'],\n",
    "                 'monde virtuel':['monde virtuels'],\n",
    "                 'réalité mixte':['réalité mixée','réalité mix'],\n",
    "                 'environnement virtuel':['environnement virtualiser'],\n",
    "                 'réalité étendu':['xr'],\n",
    "                 'avatar virtuel':['avatar virtuels'],\n",
    "                 'nlp': ['traitement automatique de langage naturel','traitement automatique de langage'],\n",
    "                 'interface cerveau machine':['interfac cerveau machine','interfacer cerveau machine'],\n",
    "  'interface neuronal':['interfacer neuronal']  ,'cyborg':['cyborgs']\n",
    "                 \n",
    "                 \n",
    "                },\n",
    "\n",
    "\n",
    "           'gb' : {'carbon capture': ['can capture','carbon   capture','carbon capturing','carbon be capture'], 'green hydrogen':['green   hydrogen'],\n",
    "                   'carbon storage': ['carbon store','carbon   store'],'cloud seeding':['cloud seed'],\n",
    "                   'negative impact':['human might','negative impact'], 'ethics' : ['ethnic','ethic'],\n",
    "                   'carbon sequestration':['carbon sequestering'], 'carbon usage':['carbon use','carbone usage'],\n",
    "                   'sun shield':['sunshield'],\n",
    "                   'virtual reality':['vr'],\n",
    "                   'nlp':['natural language processing'],\n",
    "                   'virtual world':['virtual 3d world'],\n",
    "                   'extended reality':['xr','extend reality'],\n",
    "                   'smart glasses':['smart ar glass','smartglasse','smart sunglass','smart eyeglass'],\n",
    "                   'metaverse':['metaverses'],\n",
    "                   'mixed reality':['mix reality'],\n",
    "                   'virtual environment':['virtual environments'],'augmented reality':['augment reality'],\n",
    "                   \n",
    "                   'brain computer interface':['brain machine interface','brain computer interfacing'],\n",
    "    'neuroprosthetics':['neural prosthesis'],\n",
    "        'cyborg':['cyborgs'],'neuroprosthetics':['neuroprosthetic','neural prosthesis'],\n",
    "            'brain implant':['brain implants'],\n",
    "                'neuromorphic engineering':['neuromorphic computing'],\n",
    "    'neurotechnology':['neurotech'],'neural control':['neurally control']\n",
    "                  },\n",
    "\n",
    "           'ie' : {'carbon capture': ['can capture','carbon   capture','carbon capturing','carbon be capture','carbon gas capture'], 'green hydrogen':['green   hydrogen'],\n",
    "                   'carbon storage': ['carbon store','carbon   store'],'cloud seeding':['cloud seed'],\n",
    "                   'negative impact':['human might','negative impact'], 'ethics' : ['ethnic','ethic'],\n",
    "                   'carbon sequestration':['carbon sequestering'], 'carbon usage':['carbon use','carbone usage'],\n",
    "                   'sun shield':['sunshield'],\n",
    "\n",
    "                   'virtual reality':['vr'],\n",
    "                   'nlp':['natural language processing'],\n",
    "                   'virtual world':['virtual 3d world'],\n",
    "                   'extended reality':['xr','extend reality'],\n",
    "                   'smart glasses':['smart ar glass','smartglasse','smart sunglass','smart eyeglass','smart glass','smart glass'],\n",
    "                   'metaverse':['metaverses','meataverse'],\n",
    "                   'mixed reality':['mix reality'],\n",
    "                   'virtual environment':['virtual environments'], 'augmented reality':['augment reality'],\n",
    "                   \n",
    "                                      'brain computer interface':['brain machine interface','brain computer interfacing'],\n",
    "    'neuroprosthetics':['neural prosthesis'],\n",
    "        'cyborg':['cyborgs'],'neuroprosthetics':['neuroprosthetic','neural prosthesis'],\n",
    "            'brain implant':['brain implants'],\n",
    "                'neuromorphic engineering':['neuromorphic computing'],\n",
    "    'neurotechnology':['neurotech'],'neural control':['neurally control']\n",
    "                  },\n",
    "\n",
    "           'it' :{ \"stoccaggio del carbonio\":[\"stoccaggio di carbonio\"],\n",
    "                  \"(r)imboschimento\" : [\"imboschimento\",\"imboschimenti\",\"rimboschimento\",\"rimboschimenti\"],\n",
    "                  \"geoingegneria\" : [\"geo ingegneria\", \"geo-ingegneria\"],\n",
    "                  \"idrogeno verde\" : [\"idrogeno verde2\",\"indrogeno verde\"],\n",
    "                  'cattura del carbonio':['cattura carbonio'],\n",
    "                  'realtà virtuale' : ['vr','realtà virtuale e aumentata','realtà virtuale aumentata',\n",
    "                                       'ar vr','vr ar','realtà aumentata virtuale','realta virtuale','realtà aumentata o virtuale',\n",
    "                                       'realtà virtuale10','realtà virtuale9','realtà aumentata e virtuale',\n",
    "                                       'realtà virtuale aumentata','realta aumentata virtuale',\n",
    "                                       'realtà virtuale ed aumentata'],\n",
    "                  'realtà aumentata' :['ar','realtà virtuale e aumentata','realtà virtuale aumentata','realtà virtuali',\n",
    "                                       'realtà aumentate','realtà aumenta','ar vr','vr ar','realta aumentata virtuale',\n",
    "                                       'realtà virtuale ed aumentata','realtà aumentata o virtuale',\n",
    "                                       'realtà aumentata virtuale','realtà aumentata e virtuale','realtà virtuale aumentata','augmented reality','augmentedreality','realta aumentata'],\n",
    "                  'realtà mista':['mixed reality'],\n",
    "                  'smart glasses':['occhiali intelligenti','smart glass','smart glassess'],\n",
    "                  'gemello digitale':['digital twin'],\n",
    "                  'avatar virtuale':['avatar digitali','avatar digitale','avatar virtuali'],\n",
    "                  'metaverso':['metarverso', 'metaverses','metaverse'],\n",
    "                  'nlp' : ['elaborazione del linguaggio naturale'],\n",
    "                  'mondo virtuale':['ambiente virtuale'],\n",
    "                  'realtà estesa':['xr'], \n",
    "                  'neurotecnologia':['neurotecnologie','neurotecnologico'], \n",
    "    'occhio artificiale':['occhi artificiali'],\n",
    "        'ingegnerie neuromorfica':['calcolo neuromorfico']  },\n",
    "\n",
    "           'nl' : {'virtual reality':['vr','virtual realityde','virtual reality-'],\n",
    "                   'augmented reality':['augmented realiy'],\n",
    "                   'virtuele avatar':['virtuele avatarser','virtuele avatarser','virtuele avatars'],\n",
    "                   'virtuele wereld':['virtuele’ wereld'],\n",
    "                   'virtuele omgeving':['virtuele omgevingen'],\n",
    "                  \n",
    "                    'verantwoordelijkheid':['zelfverantwoordelijkheid']},\n",
    "\n",
    "           \n",
    "           'ro':{\n",
    "               'cyborg':['cyborgi'],'uter artificial':['uterul artificial'],\n",
    "               'împădurire': ['împădurire','împădurirea','împăduriri',\n",
    "                                'împădurim', 'împăduririle', 'îmădurire','2.împăduriri'],\n",
    "                 'însămânţare a norilor' :['însămânţarea norilor',\n",
    "                                           'însămânțarea norilor', 'însămânțare a norilor'],\n",
    "                 'reîmpădurire':['reîmpădurirea','reîmpăduriri'],\n",
    "                 'hidrogenul verde': ['hidrogen verde'],\n",
    "                 'captare a carbonului' : ['captarea carbonului'],\n",
    "                 'fotosinteza artificială':['fotosinteză artificială'],\n",
    "                 'realitatea virtuală':['vr','realitate virtuală','realitate virtuala','realitate virtualăo'],\n",
    "                 'realitate augmentată':['realitate augumentată','realitate augmentata','realitatea augmentată',\n",
    "                                         'realitate augmentata','ar(realitate augmentată','realitatea augumentată'],\n",
    "                 'ochelari inteligenți':['ochelarii inteligenți','ochelari inteligenţi','ochelarii inteligenţi',\n",
    "                                         'ochelari smart','ochelarilor inteligenți','ochelari inteligent',\n",
    "                                         'ochelari ar','ochelari inteligenti'],\n",
    "                 'univers virtual':['universul virtual'],\n",
    "                 'procesarea limbajului natural':['prelucrare a limbajului','nlp','prelucrarea limbajului natural'],\n",
    "                 'metaverse':['metaversă','metaversu','metavers'],\n",
    "                 'avatar virtual':['actor virtual','avatare','avatar'],\n",
    "                 'lume virtuală':['lume virtuala','lumea virtuală','lumea virtuală','lume virtuala'],\n",
    "                 'mediu virtual':['mediul virtual','univers virtual']},\n",
    "\n",
    "           'rs':{'pošumljavanje':['pošumljavanja'],\n",
    "                 'realitatea virtuală':['virtuelna realnost','virtual reality','vr','virtuelna stvarnost'],\n",
    "                 'proširena realnost':['proširena stvarnost','ar'],\n",
    "                 'procesarea limbajului natural':['neurolingvističko programiranje','obrada prirodnog jezika','nlp'],\n",
    "                 'pametne naočare':['smart glasses'], 'moždani implant':['implant u mozgu'], \n",
    "               'moždani čip':['cxip u mozg']},\n",
    "\n",
    "           'se':{'koldioxidavskiljning':['avskiljning av koldioxid'],\n",
    "\n",
    "                 'virtual reality':['vr','virtuell verklighet'],\n",
    "                 'metaverse':['metaversum'], 'augmented reality':['förstärkt verklighet']},\n",
    "\n",
    "           'us': {'carbon capture': ['can capture','carbon   capture','carbon air capture',\n",
    "                                     'carbon capturing','carbon be capture','carbon capt',\n",
    "                                     'carboncapture','carbon recapture'], \n",
    "                  'green hydrogen':['green   hydrogen'],\n",
    "                  'carbon storage': ['carbon store','carbon   store'],'cloud seeding':['cloud seed'],\n",
    "                  'negative impact':['human might','negative impact'], 'ethics' : ['ethnic','ethic'],\n",
    "                  'carbon sequestration':['carbon sequestering','carbon sequester in','co2 sequestration'],\n",
    "                  'carbon usage':['carbon use','carbone usage'],\n",
    "                  'sun shield':['sunshield'],\n",
    "                  'solar radiation management':['radiation management'],\n",
    "\n",
    "                  'virtual reality':['vr','virtual realities'],'digital avatar':['virtual avatar'],\n",
    "                  'digital twin':['digital twins'],\n",
    "\n",
    "                  'nlp':['natural language processing','natural language process'],\n",
    "                  'virtual world':['virtual 3d world'],\n",
    "                  'extended reality':['xr','extend reality'],\n",
    "                  'smart glasses':['smart ar glass','smartglasse','smart sunglass','smart eyeglass','smart glass','smart glass'],\n",
    "                  'metaverse':['metaverses','meataverse','metatverse'],\n",
    "                  'mixed reality':['mix reality'],\n",
    "                  'virtual environment':['virtual environments','virtual work environment'], 'augmented reality':['augment reality'],\n",
    "                  \n",
    "  'brain computer interface':['brain machine interface','brain to computer interface','brain computer interfaces','brain computer interfacing'],\n",
    "    'neuroprosthetics':['neural prosthesis'],\n",
    "        'cyborg':['cyborgs'],'neuroprosthetics':['neuroprosthetic','neural prosthesis'],\n",
    "            'brain implant':['brain implants'],\n",
    "                'neuromorphic engineering':['neuromorphic computing','neurmorphic computing'],\n",
    "    'neurotechnology':['neurotech'],'neural control':['neurally control'],\n",
    "                  'cognitive enhancement':['brain enhancement'],\n",
    "            'brain chip':['brain chips']\n",
    "                  \n",
    "                 },\n",
    "\n",
    "\n",
    "           'de' : {'neurotechnologie':['neurotech'],\n",
    "                   'gehirnchip':['hirnchip','gehirnchips'], \n",
    "                   'gehirncomputerschnittstellen':['braincomputer interface','gehirncomputerschnittstelle',\n",
    "                                                   'hirncomputerschnittstelle',\n",
    "                                                   'hirncomputerschnittstelle',\n",
    "                                                  'hirncomputerschnittstellen'],\n",
    "\n",
    "                   \"grüne wasserstoff\":[\"grüner wasserstoff\",\"grünen wasserstoff\",\n",
    "                                        \"grünem wasserstoff\",\"grünen wasserstoffs\"],\n",
    "                   \"aufforstung\" : [\"aufforstungen\",'aufforstungs'],\n",
    "                   \"metaversum\" : [\"metaversums\", \"metaverse\",'virtueller welt'],\n",
    "                   \"virtuelle realität\" : [\"virtual reality\",\"virtualreality\",'vr',\n",
    "                                           \"virtueller realität\",\"virtuellen realität\",'virtuelle realitäten','virtuellen realitäten'],\n",
    "                   \"virtuelle welt\" : ['virtuellen welt','virtuelle welten'],\n",
    "                   \"erweiterte realität\" : ['augmented reality','augmented realitiy','erweitere realität',\n",
    "                                            'erweiterte reality','erweiterten realitäten','augemted reality',\n",
    "                                            'augumented reality',\n",
    "                                            'augmentedreality','erweiterten realität','erweiterter realität'],\n",
    "                   \"virtuelle umgebung\" : ['virtueller umgebung','virtuellen umgebungen','virtuellen umgebung','virtuelle umgebungen'],\n",
    "                   'digitaler zwilling':['digitale zwillinge','digitalen zwillings','digitalen zwillinge',\n",
    "                                         'digitalen zwilling',\n",
    "                                        ],\n",
    "                   'smart glasses' :   ['intelligente brillen','intelligente brille'],\n",
    "                   'extended reality':['xr'],\n",
    "\n",
    "                   'digitaler avatar':['digitale avatare','digitale avatar','digitalen avatar'],\n",
    "                   'cyborg':['cyborgs'],\n",
    "                       'würde':['würden','würnde'],\n",
    "                   'rechts':['rechte','recht'],\n",
    "                   'gesellschaft':['gesellschafter','gesellschaften'],\n",
    "                   'datenschutz':['datenschutzes'],\n",
    "                   'sicherheit' : ['sicherheits'],\n",
    "                   'cloud seeding' : ['cloudseeding','wolkenbildung'],\n",
    "                   'geoengineering':['geoengineerings'],\n",
    "                   'klimatechnik' :['klimatechniker','climate engineering','climateengineerings'],\n",
    "\n",
    "                   'virtual reality':['vr'],\n",
    "                   'nlp':['natural language processing'],\n",
    "                   'virtual world':['virtual 3d world'],\n",
    "                   'extended reality':['xr','extend reality'],\n",
    "                   'smart glasses':['smart ar glass','smartglasse','smart sunglass','smart eyeglass'],\n",
    "                   'metaverse':['metaverses'],\n",
    "                   'mixed reality':['mix reality'],\n",
    "                   'virtual environment':['virtual environments']}\n",
    "          }"
   ]
  },
  {
   "cell_type": "code",
   "execution_count": 9,
   "id": "4c6a1768",
   "metadata": {},
   "outputs": [],
   "source": [
    "def plot_ner_bars(df, remove, kw_col, country, country_code, topic, path, save = True):\n",
    "    \n",
    "    kw_list = get_one_list_kw_matches(df, kw_col, topic)\n",
    "    \n",
    "    counts = Counter(kw_list).most_common()\n",
    "    \n",
    "    xval = [w[0] for w in counts if w[0] not in remove ][0:20]\n",
    "    yval = [w[1] for w in counts if w[0] not in remove][0:20]\n",
    "    #xval = [w[0] for w in counts if any(c.isalpha() for c in w[0])][0:45]\n",
    "    #yval = [w[1] for w in counts if any(c.isalpha() for c in w[0])][0:45]\n",
    "    \n",
    "    \n",
    "    fig = go.Figure(data=[go.Bar(x=yval, y=xval, orientation='h')])\n",
    "    fig.update_layout(\n",
    "            title={\n",
    "            'text': 'Named Entities counts - ' + kw_col + ' - ' + topic + ' ('+ country + ')',\n",
    "            'y':0.95,\n",
    "            'x':0.5,\n",
    "            'xanchor': 'center',\n",
    "            'yanchor': 'top'},\n",
    "            yaxis_title=\"Named Entities\",\n",
    "            xaxis_title=\"N mentions\", \n",
    "             yaxis=dict(tickmode ='linear'))\n",
    "    \n",
    "    fig.update_yaxes(type='category')\n",
    "    if save:\n",
    "        IMG_NAME = kw_col + '_bar_ethics_' + topic + '.png'\n",
    "        PATH_IMG = path + '/plots_raw/' + IMG_NAME\n",
    "        fig.write_image(PATH_IMG)\n",
    "    fig.show()\n",
    "    \n",
    "    return (counts, xval, yval)\n",
    "\n",
    "\n",
    "def get_one_list_kw_matches(df, kw_col, topic,aliases_dict={}):\n",
    "    \n",
    "    kw_all = []\n",
    "    for t in topics:\n",
    "        for r in df[df['topic']==topic][kw_col]:\n",
    "            if isinstance(r,list):\n",
    "                for w in r:\n",
    "                    w_add = str(w).lower().strip()\n",
    "                    if len(w_add)>0:\n",
    "                        kw_all.append(w_add)\n",
    "            if isinstance(r,str):\n",
    "                k = r[1:-1].split(',')\n",
    "                for w in k:\n",
    "                    w_add = w.lower().strip()\n",
    "                    try:\n",
    "                        w_add = eval(w_add)\n",
    "                    except:\n",
    "                        w_add = w_add\n",
    "                    if len(w_add)>0:\n",
    "                        kw_all.append(w_add)\n",
    "    \n",
    "    if len(kw_all)>0:\n",
    "        kw_all = resolve_aliases(kw_all, aliases_dict)\n",
    "    \n",
    "    return kw_all\n",
    "\n",
    "def convert_cell_to_list(cell):\n",
    "    \n",
    "    k = cell\n",
    "    \n",
    "    if isinstance(k, list)==False:\n",
    "        try:\n",
    "            k = eval(cell)\n",
    "        except:\n",
    "            k = cell[1:-1].split(',')\n",
    "    \n",
    "    return k\n",
    "    \n",
    "\n",
    "def get_list_kw_matches(df, kw_col, topic, aliases_dict):\n",
    "    \n",
    "    kw_all = []\n",
    "    for i, r in df[df.topic==topic].iterrows():\n",
    "        k = convert_cell_to_list(r[kw_col])\n",
    "        k = [str(w).lower().strip() for w in k]\n",
    "        k = resolve_aliases(k, aliases_dict)\n",
    "        k = [\" \".join(a.split()) for a in k]\n",
    "        k = list(set(k))\n",
    "        for w in k:\n",
    "            kw_all.append(w)\n",
    "        \n",
    "    return kw_all\n",
    "\n",
    "def plot_kw_matches_counts(df, kw_col, country, country_code, topic, path, nw=14,\n",
    "                           orient='v',aliases_dict={},save=True, ethics =False):\n",
    "    \n",
    "    #kw_list = get_one_list_kw_matches(df, kw_col, topic,aliases_dict)\n",
    "    #kw_list = lemmatize_list(kw_list)\n",
    "    \n",
    "    kw_list = get_list_kw_matches(df, kw_col, topic,aliases_dict)\n",
    "    \n",
    "    counts = Counter(kw_list).most_common()\n",
    "    \n",
    "    xval = [c[0].title() for c in counts][0:nw]\n",
    "    yval = [c[1] for c in counts][0:nw]\n",
    "    \n",
    "    \n",
    "    fig = go.Figure(data=[go.Bar(x=xval, y=yval, orientation=orient)])\n",
    "    fig.update_layout(\n",
    "            title={\n",
    "            'text': 'Found keywords counts - ' + kw_col.split('_')[0] + ' - ' + topic + ' ('+ country + ')',\n",
    "            'y':0.95,\n",
    "            'x':0.5,\n",
    "            'xanchor': 'center',\n",
    "            'yanchor': 'top'},\n",
    "            xaxis_title=\"Keyword\",\n",
    "            yaxis_title=\"N matches\" ,\n",
    "    yaxis={'tickformat': ',d'})\n",
    "    \n",
    "    fig.update_xaxes(type='category')\n",
    "    \n",
    "    if save:\n",
    "        IMG_NAME = kw_col + '_' + topic\n",
    "        if ethics:\n",
    "            IMG_NAME = IMG_NAME + '_ethics'\n",
    "        PATH_IMG = path + '/plots_raw/' + IMG_NAME + '.png'\n",
    "        fig.write_image(PATH_IMG)\n",
    "    \n",
    "    fig.show()\n",
    "    \n",
    "    return xval, yval, counts\n",
    "\n",
    "def resolve_aliases(words_list, aliases_dict):\n",
    "    \n",
    "    for i in range(len(words_list)):\n",
    "        for k,v in aliases_dict.items():\n",
    "            if words_list[i] in v:\n",
    "                words_list[i] = k\n",
    "            if words_list[i] == 'grün    wasserstoff':\n",
    "                words_list[i] = 'grün wasserstoff'\n",
    "    \n",
    "    return words_list\n",
    "\n",
    "def get_fuzzy_matches(text, keywords, lang, ratio_thrs=90):\n",
    "    \n",
    "    nlp = spacy.blank(lang)\n",
    "    doc = nlp(text)\n",
    "    matcher = FuzzyMatcher(nlp.vocab)\n",
    "    for kw in keywords:\n",
    "        matcher.add(\"NOUN\", [nlp(kw)])\n",
    "    matches = matcher(doc)\n",
    "    \n",
    "    matches_list = []\n",
    "    for match_id, start, end, ratio in matches:\n",
    "        if ratio>ratio_thrs:\n",
    "            matches_list.append(doc[start:end])\n",
    "        \n",
    "    #print('dirty matches')\n",
    "    #print(matches_list)\n",
    "    matches_list_clean = lemmatize_words_list(matches_list)\n",
    "    \n",
    "    return matches_list_clean\n",
    "\n",
    "def get_matches_counts(str_list):\n",
    "    \n",
    "    n_words = len(str_list)\n",
    "    unique_words = list(set(str_list))\n",
    "    \n",
    "    return n_words, len(unique_words), unique_words\n",
    "\n",
    "def lemmatize_words_list(str_list):\n",
    "    \n",
    "    articles = ['lo','la','il','uno','una','uni','un']\n",
    "    punct_pattern = re.compile(r\"[^\\w\\s]\")\n",
    "    all_kw = []\n",
    "    for kw in str_list:\n",
    "        string = ''\n",
    "        doc = nlp(str(kw))\n",
    "        for w in doc:\n",
    "            if w.lemma_ not in articles:\n",
    "                string = string + str(w).lower() + ' '\n",
    "        clean_string = punct_pattern.sub(r\" \", string)\n",
    "        clean_string = clean_string.replace('  ',' ')\n",
    "        clean_string = clean_string.strip()\n",
    "        all_kw.append(clean_string)\n",
    "    \n",
    "    return all_kw\n",
    "\n",
    "def create_outlets_theme_df(df,outlets_dict):\n",
    "    \n",
    "    df_outlets = df.groupby(['topic','domain']).size().unstack('topic', fill_value=0).reset_index()\n",
    "    df_outlets['domain_type'] = None\n",
    "    df_outlets['domain_theme'] = None\n",
    "    for o in outlets_dict.keys():\n",
    "        df_outlets['domain_type'].loc[df_outlets['domain']==o] = outlets_dict[o]['type']\n",
    "        df_outlets['domain_theme'].loc[df_outlets['domain']==o] = outlets_dict[o]['topic']\n",
    "    df_outlets = df_outlets[(df_outlets['domain_theme'].notnull())]\n",
    "    df_outlets['domain_theme_binary'] = df_outlets['domain_theme']\n",
    "    df_outlets.loc[df_outlets['domain_theme']!='TECH',\"domain_theme_binary\"] = \"NON_TECH\"\n",
    "    \n",
    "    return df_outlets\n",
    "\n",
    "def plot_outlets_theme_count(df_outlets, country, topic, path):\n",
    "    \n",
    "    xval = []\n",
    "    yval = []\n",
    "    df_tmp = df_outlets[['domain',topic,'domain_theme','domain_theme_binary']]\n",
    "    for r in df_tmp.groupby(\"domain_theme\").sum().iterrows():\n",
    "        yvali = r[1][0]\n",
    "        if yvali>0:\n",
    "            yval.append(yvali)\n",
    "            xval.append(r[0])\n",
    "    \n",
    "    fig = go.Figure(data=[go.Bar(x=xval, y=yval,text=yval)])\n",
    "    fig.update_layout(\n",
    "            title={\n",
    "            'text': 'News outlets theme  - ' + topic + ' ('+ country + ')',\n",
    "            'y':0.95,\n",
    "            'x':0.5,\n",
    "            'xanchor': 'center',\n",
    "            'yanchor': 'top'},\n",
    "            xaxis_title=\"Outlet theme\",\n",
    "            yaxis_title=\"N news stories\" )\n",
    "    \n",
    "    fig.update_xaxes(type='category')\n",
    "    IMG_NAME = 'outlets_theme_' + topic + '.png'\n",
    "    PATH_IMG = path + '/plots_raw/' + IMG_NAME\n",
    "    fig.write_image(PATH_IMG)\n",
    "    fig.show()\n",
    "    \n",
    "def lemmatize_string(string):\n",
    "    \n",
    "    doc = nlp(string)\n",
    "    result = ' '.join([x.lemma_ for x in doc])\n",
    "    \n",
    "    return result\n",
    "\n",
    "def lemmatize_list(str_list):\n",
    "    \n",
    "    #convert to string\n",
    "    text = ','.join([k for k in str_list])\n",
    "    # lemmatize\n",
    "    text_lemm = lemmatize_string(text)\n",
    "    # convert back to list\n",
    "    str_list_lemm = [k.strip() for k in text_lemm.split(',')]\n",
    "    \n",
    "    return str_list_lemm\n",
    "\n",
    "def get_fuzzy_matches_lemm(text, keywords, lang, ratio_thrs = 90):\n",
    "    \n",
    "    nlp = spacy.blank(lang)\n",
    "    \n",
    "    #remove punct\n",
    "    punct_pattern = re.compile(r\"[^\\w\\s]\")\n",
    "    text = punct_pattern.sub(r\" \", text)\n",
    "    \n",
    "    # lemmatise text\n",
    "    text  = lemmatize_string(text)\n",
    "    # do this before as list is fixed\n",
    "    doc = nlp(text)\n",
    "    matcher = FuzzyMatcher(nlp.vocab)\n",
    "    for kw in keywords:\n",
    "        matcher.add(\"NOUN\", [nlp(kw)])\n",
    "    matches = matcher(doc)\n",
    "    \n",
    "    matches_list = []\n",
    "    for match_id, start, end, ratio in matches:\n",
    "        if ratio>ratio_thrs:\n",
    "            matches_list.append(doc[start:end])\n",
    "\n",
    "    return matches_list\n",
    "\n",
    "def plot_bigrams(counts, remove, country, country_code, topic, path, save = True, name_add = ''):\n",
    "    \n",
    "    \n",
    "    xval = [w[0] for w in counts if w[0] not in remove ][0:45]\n",
    "    yval = [w[1] for w in counts if w[0] not in remove][0:45]\n",
    "    \n",
    "    \n",
    "    fig = go.Figure(data=[go.Bar(x=yval, y=xval, orientation='h')])\n",
    "    fig.update_layout(\n",
    "            title={\n",
    "            'text': 'Bigrams counts - ' + topic + ' ('+ country + ')',\n",
    "            'y':0.95,\n",
    "            'x':0.5,\n",
    "            'xanchor': 'center',\n",
    "            'yanchor': 'top'},\n",
    "            yaxis_title=\"Bigrams\",\n",
    "            xaxis_title=\"N mentions\" )\n",
    "    \n",
    "    fig.update_yaxes(type='category')\n",
    "    if save:\n",
    "        IMG_NAME = 'bar_bigrams_' + topic + name_add + '.png'\n",
    "        PATH_IMG = path + '/plots_raw/' + IMG_NAME\n",
    "        fig.write_image(PATH_IMG)\n",
    "    fig.show()\n",
    "    \n",
    "    return (xval, yval)\n",
    "\n",
    "def remove_likely_tech_reviews(df, input_keywords):\n",
    "    '''\n",
    "    Given a dataframe, removes the rows that are likely to be tech products reviews.\n",
    "    More precisely, it removes rows that contained custom tech-words in the title but \n",
    "    do not contain the keywords we are interested in (input_keywords) AND do not contain\n",
    "    in title or in body, any ethical keyword\n",
    "    '''\n",
    "    ids_remove = get_likely_tech_reviews_ids(df, input_keywords)\n",
    "    df_new = df.drop(df.index[ids_remove]).reset_index(drop=True)\n",
    "    \n",
    "    return df_new\n",
    "    \n",
    "\n",
    "def get_likely_tech_reviews_ids(df, input_keywords):\n",
    "    \n",
    "    tech_words = ['iOS', 'Android', 'iPad', 'iPhone', 'Play Store', 'Pixel','Xiaomi', 'Oppo','Samsung']\n",
    "    too_tech_news_id = []\n",
    "    for i, r in df.iterrows():\n",
    "        if len(set(tech_words).intersection(set(r['title'].split())))>0:\n",
    "            if len([w for w in input_keywords if w.lower() in r['title'].lower()])==0:\n",
    "                if (len(r['ethics_matches']) <=1):\n",
    "                    too_tech_news_id.append(i)\n",
    "    \n",
    "    return too_tech_news_id\n",
    "\n",
    "def get_keywords_country_topic_list(keywords_dict, topic, language_key):\n",
    "\n",
    "    kw_list = [s.strip().strip('\"') for s in keywords_dict[topic][language_key] if str(s) != 'nan']\n",
    "    \n",
    "    if language_key not in ['GERMAN_DE','GERMAN_AT']:\n",
    "        kw_list = [s.lower() for s in kw_list]\n",
    "        \n",
    "    \n",
    "    return kw_list"
   ]
  }
 ],
 "metadata": {
  "kernelspec": {
   "display_name": "Python [conda env:.conda-newscrawl] *",
   "language": "python",
   "name": "conda-env-.conda-newscrawl-py"
  },
  "language_info": {
   "codemirror_mode": {
    "name": "ipython",
    "version": 3
   },
   "file_extension": ".py",
   "mimetype": "text/x-python",
   "name": "python",
   "nbconvert_exporter": "python",
   "pygments_lexer": "ipython3",
   "version": "3.8.12"
  }
 },
 "nbformat": 4,
 "nbformat_minor": 5
}
