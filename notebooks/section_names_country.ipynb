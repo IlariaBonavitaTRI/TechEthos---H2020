{
 "cells": [
  {
   "cell_type": "code",
   "execution_count": 8,
   "id": "c2554fe9",
   "metadata": {},
   "outputs": [],
   "source": [
    "#Section names on a per country basis. Data in  'similarity_scores/'\n",
    "    \n",
    "    \n",
    "    \n",
    "    \n",
    "#The function is for getting section names. Same as the one in all_data_processing.ipynb \n",
    "def get_section_names(all_digitalxr):\n",
    "\n",
    "    sections = []\n",
    "\n",
    "    for j in range(len(all_digitalxr)):\n",
    "        all_section = []\n",
    "        if len(all_digitalxr['section'].iloc[j]) > 1:\n",
    "            for ele in all_digitalxr['section'].iloc[j][1].split(\"/\"):\n",
    "                if ele.isdigit():\n",
    "                    pass\n",
    "                else:\n",
    "                    if len(ele.split(\"-\"))>1:\n",
    "                        pass\n",
    "                    else:\n",
    "                        all_section.append(ele)\n",
    "                           \n",
    "        else:\n",
    "            for ele in all_digitalxr['section'].iloc[j][0].split(\"/\"):\n",
    "                if ele.isdigit():\n",
    "                    pass\n",
    "                else:\n",
    "                    if len(ele.split(\"-\"))>1:\n",
    "                        pass\n",
    "                    else:\n",
    "                        all_section.append(ele)\n",
    "\n",
    "        try:\n",
    "            all_section.remove( all_digitalxr['country'].iloc[j] )\n",
    "        except:\n",
    "            pass\n",
    "    \n",
    "    \n",
    "        try:\n",
    "            all_section.remove(\"\")\n",
    "        except:\n",
    "            pass\n",
    "  \n",
    "        \n",
    "        for ele in ['com','net','org','int','edu','gov','mil']:\n",
    "            if ele in all_section:\n",
    "                all_section.remove(ele)\n",
    "                \n",
    "        for ele in ['rs','cz','eu','de']:\n",
    "            if ele in all_section:\n",
    "                all_section.remove(ele)\n",
    "        \n",
    "        \n",
    "        if len(all_section)==0:\n",
    "            all_section.append('main')\n",
    "        \n",
    "        \n",
    "            \n",
    "                                                                           \n",
    "                                                             \n",
    "                                                            \n",
    "            \n",
    "        sections.append(all_section)\n",
    "    return sections"
   ]
  },
  {
   "cell_type": "code",
   "execution_count": 10,
   "id": "13923eb4",
   "metadata": {},
   "outputs": [],
   "source": [
    "import numpy as np\n",
    "import pandas as pd\n",
    "import spacy\n",
    "\n",
    "\n",
    "\n",
    "counter = 0\n",
    "\n",
    "for word in ['climate','digitalxr','neurotech']:\n",
    "    \n",
    "    keyword_wide_scores_list = []\n",
    "    \n",
    "    \n",
    "    for country in ['fr',  'es', 'de', 'it', 'nl', 'gb', 'ie', 'us','ro','at','se','sr','cz']:\n",
    "        \n",
    "        data = pd.read_csv('similarity_scores/'+ word +'_'+ country +'.csv')\n",
    "        \n",
    "        data['section'] = data['url'].str.split(\".\").str[1:]\n",
    "        \n",
    "        data['section']  = get_section_names(data)\n",
    "            \n",
    "        data.to_csv('similarity_scores/'+ word +'_'+country +'.csv')"
   ]
  }
 ],
 "metadata": {
  "kernelspec": {
   "display_name": "Python 3 (ipykernel)",
   "language": "python",
   "name": "python3"
  },
  "language_info": {
   "codemirror_mode": {
    "name": "ipython",
    "version": 3
   },
   "file_extension": ".py",
   "mimetype": "text/x-python",
   "name": "python",
   "nbconvert_exporter": "python",
   "pygments_lexer": "ipython3",
   "version": "3.8.12"
  },
  "toc": {
   "base_numbering": 1,
   "nav_menu": {},
   "number_sections": true,
   "sideBar": true,
   "skip_h1_title": false,
   "title_cell": "Table of Contents",
   "title_sidebar": "Contents",
   "toc_cell": false,
   "toc_position": {},
   "toc_section_display": true,
   "toc_window_display": false
  },
  "varInspector": {
   "cols": {
    "lenName": 16,
    "lenType": 16,
    "lenVar": 40
   },
   "kernels_config": {
    "python": {
     "delete_cmd_postfix": "",
     "delete_cmd_prefix": "del ",
     "library": "var_list.py",
     "varRefreshCmd": "print(var_dic_list())"
    },
    "r": {
     "delete_cmd_postfix": ") ",
     "delete_cmd_prefix": "rm(",
     "library": "var_list.r",
     "varRefreshCmd": "cat(var_dic_list()) "
    }
   },
   "types_to_exclude": [
    "module",
    "function",
    "builtin_function_or_method",
    "instance",
    "_Feature"
   ],
   "window_display": false
  }
 },
 "nbformat": 4,
 "nbformat_minor": 5
}
