{
 "cells": [
  {
   "cell_type": "code",
   "execution_count": 417,
   "id": "e2628d01",
   "metadata": {},
   "outputs": [],
   "source": [
    "#Code for section statistics. Data retrieved from \"processed/\" repository.\n",
    "\n",
    "\n",
    "import re\n",
    "import numpy as np\n",
    "import pandas as pd\n",
    "import matplotlib.pyplot as plt\n",
    "%matplotlib inline\n",
    "import spacy\n",
    "\n",
    "\n",
    "\n",
    "\n",
    "counter = 0;all_sections = []\n",
    "\n",
    "expr = r\"[\\'\\[\\]]|,\" #Regular expression to remove stuffs before analysis.\n",
    "\n",
    "for word in ['climate','digitalxr','neurotech']:#loop through keywords\n",
    "     \n",
    "    data = pd.read_csv('processed/'+ word  +'.csv')#Loads data\n",
    "        \n",
    "    for i, ele in enumerate(data['section']):#Extracts the Section columns and. loop through\n",
    "            \n",
    "        for text in ele.split():\n",
    "            \n",
    "            all_sections.append( re.sub(expr, '', text ) )\n",
    "            \n",
    "\n",
    "            \n",
    "#Dictionary to do counting                    \n",
    "stat_count = {}\n",
    "for ele in all_sections:\n",
    "    stat_count[ele] = stat_count.get(ele,0)+1\n",
    "\n",
    "    \n",
    "    \n",
    "#Save in a DataFrame\n",
    "df = pd.DataFrame()\n",
    "df['Sections'] = list(stat_count.keys())\n",
    "df['Counts'] = list(stat_count.values())\n",
    "df = df.sort_values('Counts')\n",
    "df.to_csv('Section_statistics' +'.csv')"
   ]
  },
  {
   "cell_type": "code",
   "execution_count": null,
   "id": "af1e9843",
   "metadata": {},
   "outputs": [],
   "source": []
  }
 ],
 "metadata": {
  "kernelspec": {
   "display_name": "Python 3 (ipykernel)",
   "language": "python",
   "name": "python3"
  },
  "language_info": {
   "codemirror_mode": {
    "name": "ipython",
    "version": 3
   },
   "file_extension": ".py",
   "mimetype": "text/x-python",
   "name": "python",
   "nbconvert_exporter": "python",
   "pygments_lexer": "ipython3",
   "version": "3.8.12"
  },
  "toc": {
   "base_numbering": 1,
   "nav_menu": {},
   "number_sections": true,
   "sideBar": true,
   "skip_h1_title": false,
   "title_cell": "Table of Contents",
   "title_sidebar": "Contents",
   "toc_cell": false,
   "toc_position": {},
   "toc_section_display": true,
   "toc_window_display": false
  },
  "varInspector": {
   "cols": {
    "lenName": 16,
    "lenType": 16,
    "lenVar": 40
   },
   "kernels_config": {
    "python": {
     "delete_cmd_postfix": "",
     "delete_cmd_prefix": "del ",
     "library": "var_list.py",
     "varRefreshCmd": "print(var_dic_list())"
    },
    "r": {
     "delete_cmd_postfix": ") ",
     "delete_cmd_prefix": "rm(",
     "library": "var_list.r",
     "varRefreshCmd": "cat(var_dic_list()) "
    }
   },
   "types_to_exclude": [
    "module",
    "function",
    "builtin_function_or_method",
    "instance",
    "_Feature"
   ],
   "window_display": false
  }
 },
 "nbformat": 4,
 "nbformat_minor": 5
}
